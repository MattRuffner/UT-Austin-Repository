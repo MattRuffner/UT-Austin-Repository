{
  "nbformat": 4,
  "nbformat_minor": 0,
  "metadata": {
    "colab": {
      "name": "Assignment_2.ipynb",
      "provenance": [],
      "collapsed_sections": [
        "TzABwTfu0eCf",
        "U8MLF_9Hhv7j"
      ]
    },
    "kernelspec": {
      "name": "python3",
      "display_name": "Python 3"
    }
  },
  "cells": [
    {
      "cell_type": "markdown",
      "metadata": {
        "id": "Mlj5kR05jOe0"
      },
      "source": [
        "# **Assignment 2**\n",
        "\n",
        "## Yingjie Chen (yc24966) - 08:30 section\n",
        "## Andrew Han (ah49372) - 10:30 section\n",
        "## Sitong Li (sl43736) - 10:30 section\n",
        "## Matthew Ruffner (mar9632) - 08:30 section\n",
        "## Xinmeng Song (xs3659) - 10:30 section"
      ]
    },
    {
      "cell_type": "markdown",
      "metadata": {
        "id": "5zznciLn031Y"
      },
      "source": [
        "###Preparation"
      ]
    },
    {
      "cell_type": "code",
      "metadata": {
        "id": "y4won3nBzIsL",
        "colab": {
          "base_uri": "https://localhost:8080/"
        },
        "outputId": "8b1d78a2-da5b-496f-c55f-89478dbd86f4"
      },
      "source": [
        "!pip install selenium\n",
        "from selenium import webdriver\n",
        "!apt-get -q update # to update ubuntu to correctly run apt install\n",
        "!apt install -yq chromium-chromedriver\n",
        "!cp /usr/lib/chromium-browser/chromedriver /usr/bin\n",
        "!pip3 install beautifulsoup4 requests"
      ],
      "execution_count": null,
      "outputs": [
        {
          "output_type": "stream",
          "text": [
            "Collecting selenium\n",
            "\u001b[?25l  Downloading https://files.pythonhosted.org/packages/80/d6/4294f0b4bce4de0abf13e17190289f9d0613b0a44e5dd6a7f5ca98459853/selenium-3.141.0-py2.py3-none-any.whl (904kB)\n",
            "\r\u001b[K     |▍                               | 10kB 16.2MB/s eta 0:00:01\r\u001b[K     |▊                               | 20kB 1.7MB/s eta 0:00:01\r\u001b[K     |█                               | 30kB 2.3MB/s eta 0:00:01\r\u001b[K     |█▌                              | 40kB 3.1MB/s eta 0:00:01\r\u001b[K     |█▉                              | 51kB 2.1MB/s eta 0:00:01\r\u001b[K     |██▏                             | 61kB 2.5MB/s eta 0:00:01\r\u001b[K     |██▌                             | 71kB 2.9MB/s eta 0:00:01\r\u001b[K     |███                             | 81kB 3.2MB/s eta 0:00:01\r\u001b[K     |███▎                            | 92kB 3.6MB/s eta 0:00:01\r\u001b[K     |███▋                            | 102kB 2.8MB/s eta 0:00:01\r\u001b[K     |████                            | 112kB 2.8MB/s eta 0:00:01\r\u001b[K     |████▍                           | 122kB 2.8MB/s eta 0:00:01\r\u001b[K     |████▊                           | 133kB 2.8MB/s eta 0:00:01\r\u001b[K     |█████                           | 143kB 2.8MB/s eta 0:00:01\r\u001b[K     |█████▍                          | 153kB 2.8MB/s eta 0:00:01\r\u001b[K     |█████▉                          | 163kB 2.8MB/s eta 0:00:01\r\u001b[K     |██████▏                         | 174kB 2.8MB/s eta 0:00:01\r\u001b[K     |██████▌                         | 184kB 2.8MB/s eta 0:00:01\r\u001b[K     |██████▉                         | 194kB 2.8MB/s eta 0:00:01\r\u001b[K     |███████▎                        | 204kB 2.8MB/s eta 0:00:01\r\u001b[K     |███████▋                        | 215kB 2.8MB/s eta 0:00:01\r\u001b[K     |████████                        | 225kB 2.8MB/s eta 0:00:01\r\u001b[K     |████████▎                       | 235kB 2.8MB/s eta 0:00:01\r\u001b[K     |████████▊                       | 245kB 2.8MB/s eta 0:00:01\r\u001b[K     |█████████                       | 256kB 2.8MB/s eta 0:00:01\r\u001b[K     |█████████▍                      | 266kB 2.8MB/s eta 0:00:01\r\u001b[K     |█████████▉                      | 276kB 2.8MB/s eta 0:00:01\r\u001b[K     |██████████▏                     | 286kB 2.8MB/s eta 0:00:01\r\u001b[K     |██████████▌                     | 296kB 2.8MB/s eta 0:00:01\r\u001b[K     |██████████▉                     | 307kB 2.8MB/s eta 0:00:01\r\u001b[K     |███████████▎                    | 317kB 2.8MB/s eta 0:00:01\r\u001b[K     |███████████▋                    | 327kB 2.8MB/s eta 0:00:01\r\u001b[K     |████████████                    | 337kB 2.8MB/s eta 0:00:01\r\u001b[K     |████████████▎                   | 348kB 2.8MB/s eta 0:00:01\r\u001b[K     |████████████▊                   | 358kB 2.8MB/s eta 0:00:01\r\u001b[K     |█████████████                   | 368kB 2.8MB/s eta 0:00:01\r\u001b[K     |█████████████▍                  | 378kB 2.8MB/s eta 0:00:01\r\u001b[K     |█████████████▊                  | 389kB 2.8MB/s eta 0:00:01\r\u001b[K     |██████████████▏                 | 399kB 2.8MB/s eta 0:00:01\r\u001b[K     |██████████████▌                 | 409kB 2.8MB/s eta 0:00:01\r\u001b[K     |██████████████▉                 | 419kB 2.8MB/s eta 0:00:01\r\u001b[K     |███████████████▏                | 430kB 2.8MB/s eta 0:00:01\r\u001b[K     |███████████████▋                | 440kB 2.8MB/s eta 0:00:01\r\u001b[K     |████████████████                | 450kB 2.8MB/s eta 0:00:01\r\u001b[K     |████████████████▎               | 460kB 2.8MB/s eta 0:00:01\r\u001b[K     |████████████████▋               | 471kB 2.8MB/s eta 0:00:01\r\u001b[K     |█████████████████               | 481kB 2.8MB/s eta 0:00:01\r\u001b[K     |█████████████████▍              | 491kB 2.8MB/s eta 0:00:01\r\u001b[K     |█████████████████▊              | 501kB 2.8MB/s eta 0:00:01\r\u001b[K     |██████████████████▏             | 512kB 2.8MB/s eta 0:00:01\r\u001b[K     |██████████████████▌             | 522kB 2.8MB/s eta 0:00:01\r\u001b[K     |██████████████████▉             | 532kB 2.8MB/s eta 0:00:01\r\u001b[K     |███████████████████▏            | 542kB 2.8MB/s eta 0:00:01\r\u001b[K     |███████████████████▋            | 552kB 2.8MB/s eta 0:00:01\r\u001b[K     |████████████████████            | 563kB 2.8MB/s eta 0:00:01\r\u001b[K     |████████████████████▎           | 573kB 2.8MB/s eta 0:00:01\r\u001b[K     |████████████████████▋           | 583kB 2.8MB/s eta 0:00:01\r\u001b[K     |█████████████████████           | 593kB 2.8MB/s eta 0:00:01\r\u001b[K     |█████████████████████▍          | 604kB 2.8MB/s eta 0:00:01\r\u001b[K     |█████████████████████▊          | 614kB 2.8MB/s eta 0:00:01\r\u001b[K     |██████████████████████          | 624kB 2.8MB/s eta 0:00:01\r\u001b[K     |██████████████████████▌         | 634kB 2.8MB/s eta 0:00:01\r\u001b[K     |██████████████████████▉         | 645kB 2.8MB/s eta 0:00:01\r\u001b[K     |███████████████████████▏        | 655kB 2.8MB/s eta 0:00:01\r\u001b[K     |███████████████████████▌        | 665kB 2.8MB/s eta 0:00:01\r\u001b[K     |████████████████████████        | 675kB 2.8MB/s eta 0:00:01\r\u001b[K     |████████████████████████▎       | 686kB 2.8MB/s eta 0:00:01\r\u001b[K     |████████████████████████▋       | 696kB 2.8MB/s eta 0:00:01\r\u001b[K     |█████████████████████████       | 706kB 2.8MB/s eta 0:00:01\r\u001b[K     |█████████████████████████▍      | 716kB 2.8MB/s eta 0:00:01\r\u001b[K     |█████████████████████████▊      | 727kB 2.8MB/s eta 0:00:01\r\u001b[K     |██████████████████████████      | 737kB 2.8MB/s eta 0:00:01\r\u001b[K     |██████████████████████████▍     | 747kB 2.8MB/s eta 0:00:01\r\u001b[K     |██████████████████████████▉     | 757kB 2.8MB/s eta 0:00:01\r\u001b[K     |███████████████████████████▏    | 768kB 2.8MB/s eta 0:00:01\r\u001b[K     |███████████████████████████▌    | 778kB 2.8MB/s eta 0:00:01\r\u001b[K     |████████████████████████████    | 788kB 2.8MB/s eta 0:00:01\r\u001b[K     |████████████████████████████▎   | 798kB 2.8MB/s eta 0:00:01\r\u001b[K     |████████████████████████████▋   | 808kB 2.8MB/s eta 0:00:01\r\u001b[K     |█████████████████████████████   | 819kB 2.8MB/s eta 0:00:01\r\u001b[K     |█████████████████████████████▍  | 829kB 2.8MB/s eta 0:00:01\r\u001b[K     |█████████████████████████████▊  | 839kB 2.8MB/s eta 0:00:01\r\u001b[K     |██████████████████████████████  | 849kB 2.8MB/s eta 0:00:01\r\u001b[K     |██████████████████████████████▍ | 860kB 2.8MB/s eta 0:00:01\r\u001b[K     |██████████████████████████████▉ | 870kB 2.8MB/s eta 0:00:01\r\u001b[K     |███████████████████████████████▏| 880kB 2.8MB/s eta 0:00:01\r\u001b[K     |███████████████████████████████▌| 890kB 2.8MB/s eta 0:00:01\r\u001b[K     |███████████████████████████████▉| 901kB 2.8MB/s eta 0:00:01\r\u001b[K     |████████████████████████████████| 911kB 2.8MB/s \n",
            "\u001b[?25hRequirement already satisfied: urllib3 in /usr/local/lib/python3.6/dist-packages (from selenium) (1.24.3)\n",
            "Installing collected packages: selenium\n",
            "Successfully installed selenium-3.141.0\n",
            "Ign:1 https://developer.download.nvidia.com/compute/cuda/repos/ubuntu1804/x86_64  InRelease\n",
            "Ign:2 https://developer.download.nvidia.com/compute/machine-learning/repos/ubuntu1804/x86_64  InRelease\n",
            "Hit:3 https://developer.download.nvidia.com/compute/cuda/repos/ubuntu1804/x86_64  Release\n",
            "Get:4 https://cloud.r-project.org/bin/linux/ubuntu bionic-cran40/ InRelease [3,626 B]\n",
            "Hit:5 https://developer.download.nvidia.com/compute/machine-learning/repos/ubuntu1804/x86_64  Release\n",
            "Get:6 http://ppa.launchpad.net/c2d4u.team/c2d4u4.0+/ubuntu bionic InRelease [15.9 kB]\n",
            "Get:7 http://security.ubuntu.com/ubuntu bionic-security InRelease [88.7 kB]\n",
            "Hit:8 http://archive.ubuntu.com/ubuntu bionic InRelease\n",
            "Get:10 http://archive.ubuntu.com/ubuntu bionic-updates InRelease [88.7 kB]\n",
            "Hit:12 http://ppa.launchpad.net/graphics-drivers/ppa/ubuntu bionic InRelease\n",
            "Get:13 http://archive.ubuntu.com/ubuntu bionic-backports InRelease [74.6 kB]\n",
            "Get:14 http://security.ubuntu.com/ubuntu bionic-security/universe amd64 Packages [1,340 kB]\n",
            "Get:15 http://ppa.launchpad.net/c2d4u.team/c2d4u4.0+/ubuntu bionic/main Sources [1,675 kB]\n",
            "Get:16 http://archive.ubuntu.com/ubuntu bionic-updates/universe amd64 Packages [2,103 kB]\n",
            "Get:17 http://security.ubuntu.com/ubuntu bionic-security/main amd64 Packages [1,693 kB]\n",
            "Get:18 http://archive.ubuntu.com/ubuntu bionic-updates/main amd64 Packages [2,110 kB]\n",
            "Get:19 http://ppa.launchpad.net/c2d4u.team/c2d4u4.0+/ubuntu bionic/main amd64 Packages [857 kB]\n",
            "Fetched 10.1 MB in 6s (1,804 kB/s)\n",
            "Reading package lists...\n",
            "Reading package lists...\n",
            "Building dependency tree...\n",
            "Reading state information...\n",
            "The following additional packages will be installed:\n",
            "  chromium-browser chromium-browser-l10n chromium-codecs-ffmpeg-extra\n",
            "Suggested packages:\n",
            "  webaccounts-chromium-extension unity-chromium-extension adobe-flashplugin\n",
            "The following NEW packages will be installed:\n",
            "  chromium-browser chromium-browser-l10n chromium-chromedriver\n",
            "  chromium-codecs-ffmpeg-extra\n",
            "0 upgraded, 4 newly installed, 0 to remove and 8 not upgraded.\n",
            "Need to get 79.2 MB of archives.\n",
            "After this operation, 268 MB of additional disk space will be used.\n",
            "Get:1 http://archive.ubuntu.com/ubuntu bionic-updates/universe amd64 chromium-codecs-ffmpeg-extra amd64 85.0.4183.121-0ubuntu0.18.04.1 [1,117 kB]\n",
            "Get:2 http://archive.ubuntu.com/ubuntu bionic-updates/universe amd64 chromium-browser amd64 85.0.4183.121-0ubuntu0.18.04.1 [70.3 MB]\n",
            "Get:3 http://archive.ubuntu.com/ubuntu bionic-updates/universe amd64 chromium-browser-l10n all 85.0.4183.121-0ubuntu0.18.04.1 [3,432 kB]\n",
            "Get:4 http://archive.ubuntu.com/ubuntu bionic-updates/universe amd64 chromium-chromedriver amd64 85.0.4183.121-0ubuntu0.18.04.1 [4,415 kB]\n",
            "Fetched 79.2 MB in 9s (8,599 kB/s)\n",
            "Selecting previously unselected package chromium-codecs-ffmpeg-extra.\n",
            "(Reading database ... 144617 files and directories currently installed.)\n",
            "Preparing to unpack .../chromium-codecs-ffmpeg-extra_85.0.4183.121-0ubuntu0.18.04.1_amd64.deb ...\n",
            "Unpacking chromium-codecs-ffmpeg-extra (85.0.4183.121-0ubuntu0.18.04.1) ...\n",
            "Selecting previously unselected package chromium-browser.\n",
            "Preparing to unpack .../chromium-browser_85.0.4183.121-0ubuntu0.18.04.1_amd64.deb ...\n",
            "Unpacking chromium-browser (85.0.4183.121-0ubuntu0.18.04.1) ...\n",
            "Selecting previously unselected package chromium-browser-l10n.\n",
            "Preparing to unpack .../chromium-browser-l10n_85.0.4183.121-0ubuntu0.18.04.1_all.deb ...\n",
            "Unpacking chromium-browser-l10n (85.0.4183.121-0ubuntu0.18.04.1) ...\n",
            "Selecting previously unselected package chromium-chromedriver.\n",
            "Preparing to unpack .../chromium-chromedriver_85.0.4183.121-0ubuntu0.18.04.1_amd64.deb ...\n",
            "Unpacking chromium-chromedriver (85.0.4183.121-0ubuntu0.18.04.1) ...\n",
            "Setting up chromium-codecs-ffmpeg-extra (85.0.4183.121-0ubuntu0.18.04.1) ...\n",
            "Setting up chromium-browser (85.0.4183.121-0ubuntu0.18.04.1) ...\n",
            "update-alternatives: using /usr/bin/chromium-browser to provide /usr/bin/x-www-browser (x-www-browser) in auto mode\n",
            "update-alternatives: using /usr/bin/chromium-browser to provide /usr/bin/gnome-www-browser (gnome-www-browser) in auto mode\n",
            "Setting up chromium-chromedriver (85.0.4183.121-0ubuntu0.18.04.1) ...\n",
            "Setting up chromium-browser-l10n (85.0.4183.121-0ubuntu0.18.04.1) ...\n",
            "Processing triggers for hicolor-icon-theme (0.17-2) ...\n",
            "Processing triggers for mime-support (3.60ubuntu1) ...\n",
            "Processing triggers for man-db (2.8.3-2ubuntu0.1) ...\n",
            "cp: '/usr/lib/chromium-browser/chromedriver' and '/usr/bin/chromedriver' are the same file\n",
            "Requirement already satisfied: beautifulsoup4 in /usr/local/lib/python3.6/dist-packages (4.6.3)\n",
            "Requirement already satisfied: requests in /usr/local/lib/python3.6/dist-packages (2.23.0)\n",
            "Requirement already satisfied: idna<3,>=2.5 in /usr/local/lib/python3.6/dist-packages (from requests) (2.10)\n",
            "Requirement already satisfied: urllib3!=1.25.0,!=1.25.1,<1.26,>=1.21.1 in /usr/local/lib/python3.6/dist-packages (from requests) (1.24.3)\n",
            "Requirement already satisfied: chardet<4,>=3.0.2 in /usr/local/lib/python3.6/dist-packages (from requests) (3.0.4)\n",
            "Requirement already satisfied: certifi>=2017.4.17 in /usr/local/lib/python3.6/dist-packages (from requests) (2020.6.20)\n"
          ],
          "name": "stdout"
        }
      ]
    },
    {
      "cell_type": "code",
      "metadata": {
        "id": "aPQ8tNurjcln"
      },
      "source": [
        "from selenium.webdriver.common.by import By\n",
        "from selenium.webdriver.support.ui import WebDriverWait\n",
        "from selenium.webdriver.support import expected_conditions as EC\n",
        "import time\n",
        "import sys\n",
        "from selenium import webdriver\n",
        "from selenium.webdriver.chrome.options import Options\n",
        "import pandas as pd\n",
        "import requests\n",
        "from bs4 import BeautifulSoup\n"
      ],
      "execution_count": null,
      "outputs": []
    },
    {
      "cell_type": "markdown",
      "metadata": {
        "id": "TzABwTfu0eCf"
      },
      "source": [
        "###Task A: Scraping Beer Data"
      ]
    },
    {
      "cell_type": "code",
      "metadata": {
        "id": "jeEvU8rh0DWQ"
      },
      "source": [
        "\n",
        "sys.path.insert(0,'/usr/lib/chromium-browser/chromedriver')\n",
        "chrome_options = webdriver.ChromeOptions()"
      ],
      "execution_count": null,
      "outputs": []
    },
    {
      "cell_type": "code",
      "metadata": {
        "id": "v3PlfagR0Ysm"
      },
      "source": [
        "chrome_options.add_argument('--no-sandbox')\n",
        "chrome_options.add_argument('--headless')\n",
        "chrome_options.add_argument('--disable-dev-shm-usage')\n",
        "# d = webdriver.Chrome('/usr/lib/chromium-browser/chromedriver',chrome_options=chrome_options)\n",
        "# d.get('https://www.google.nl/')"
      ],
      "execution_count": null,
      "outputs": []
    },
    {
      "cell_type": "code",
      "metadata": {
        "id": "8pMHRUq1APxG"
      },
      "source": [
        "wd = webdriver.Chrome('chromedriver', options=chrome_options)\n"
      ],
      "execution_count": null,
      "outputs": []
    },
    {
      "cell_type": "code",
      "metadata": {
        "id": "GVetNZoNj4Vt"
      },
      "source": [
        "headers = {\n",
        "    'Access-Control-Allow-Origin': '*',\n",
        "    'Access-Control-Allow-Methods': 'GET',\n",
        "    'Access-Control-Allow-Headers': 'Content-Type',\n",
        "    'Access-Control-Max-Age': '3600',\n",
        "    'User-Agent': 'Mozilla/5.0 (X11; Ubuntu; Linux x86_64; rv:52.0) Gecko/20100101 Firefox/52.0'\n",
        "    }\n",
        "\n",
        "url = \"https://www.beeradvocate.com/beer/top-rated/\" #main page\n",
        "req = requests.get(url, headers)\n",
        "soup = BeautifulSoup(req.content, 'html.parser')\n"
      ],
      "execution_count": null,
      "outputs": []
    },
    {
      "cell_type": "code",
      "metadata": {
        "id": "pK1-Tdd-i6ip"
      },
      "source": [
        "#Create a url_list\n",
        "\n",
        "import re\n",
        "\n",
        "url_list = []\n",
        "count = 0\n",
        "for link in soup.find_all('a'):\n",
        "    pattern = re.compile(\"/beer/profile/\\d+/\\d+\")\n",
        "\n",
        "    if pattern.match(str(link.get('href'))):\n",
        "      #print(str(link.get('href'))) \n",
        "      count += 1\n",
        "      url_list.append(\"https://www.beeradvocate.com/\"+ str(link.get('href')))\n",
        "\n",
        "count"
      ],
      "execution_count": null,
      "outputs": []
    },
    {
      "cell_type": "code",
      "metadata": {
        "id": "F7gvpVdilYQH",
        "colab": {
          "base_uri": "https://localhost:8080/",
          "height": 34
        },
        "outputId": "099c259d-23f2-410c-8953-5b123b3c0502"
      },
      "source": [
        "#/html/body/div[2]/div/div[2]/div[2]/div[2]/div/div/div[3]/div/div/div[2]/div[7]/b\n",
        "total_number_reviews = wd.find_elements_by_xpath(\"/html/body/div[2]/div/div[2]/div[2]/div[2]/div/div/div[3]/div/div/div[2]/div[7]/b\")[0]\n",
        "total_number_reviews.text\n",
        "total_number = int(re.findall(\"\\d+\", total_number_reviews.text)[0])"
      ],
      "execution_count": null,
      "outputs": [
        {
          "output_type": "execute_result",
          "data": {
            "text/plain": [
              "21"
            ]
          },
          "metadata": {
            "tags": []
          },
          "execution_count": 148
        }
      ]
    },
    {
      "cell_type": "code",
      "metadata": {
        "id": "qYI_jm6Ap5kM",
        "colab": {
          "base_uri": "https://localhost:8080/",
          "height": 34
        },
        "outputId": "38ea722f-b030-434c-cc29-f5d96063c76c"
      },
      "source": [
        "x"
      ],
      "execution_count": null,
      "outputs": [
        {
          "output_type": "execute_result",
          "data": {
            "text/plain": [
              "26"
            ]
          },
          "metadata": {
            "tags": []
          },
          "execution_count": 150
        }
      ]
    },
    {
      "cell_type": "code",
      "metadata": {
        "id": "5zzZRiIrAZlS"
      },
      "source": [
        "total_comments = pd.DataFrame(columns = ['product_name','product_review','user_rating'])\n",
        "for url in url_list:\n",
        "\n",
        "    web_address = url #\"https://www.beeradvocate.com/beer/profile/23222/78820/\"\n",
        "    wd.get(web_address)\n",
        "    #print(web_address)\n",
        "\n",
        "    comments = pd.DataFrame(columns = ['product_name','product_review','user_rating'])\n",
        "    ids = wd.find_elements_by_xpath(\"/html/body/div[2]/div/div[2]/div[2]/div[2]/div/div/div[3]/div/div/div[2]/div[8]/div/div[1]\")  #//*[@id=\"rating_fullview_container\"] /html/body/div[2]/div/div[2]/div[2]/div[2]/div/div/div[3]/div/div/div[2]/div[8]/div/div[1]\n",
        "    comment_ids = []\n",
        "\n",
        "    for i in ids:\n",
        "        comment_ids.append(i.get_attribute('id'))\n",
        "    comment_ids\n",
        "\n",
        "    #put these examples into a for loop for kentucky beer, 0-24 (25 total comments)\n",
        "    product_name = wd.find_elements_by_xpath('/html/body/div[2]/div/div[2]/div[2]/div[2]/div/div/div[3]/div/div/div[1]/h1')[0]\n",
        "    name = product_name.text\n",
        "    #print(name)\n",
        "\n",
        "    total_number_reviews = wd.find_elements_by_xpath(\"/html/body/div[2]/div/div[2]/div[2]/div[2]/div/div/div[3]/div/div/div[2]/div[7]/b\")[0]\n",
        "    total_number_reviews.text\n",
        "    total_number = int(re.findall(\"\\d+\", total_number_reviews.text)[0])\n",
        "    if total_number > 25:\n",
        "        total_number = 25\n",
        "    for x in range(1,total_number+1):\n",
        "        user_rating = wd.find_elements_by_xpath('/html/body/div[2]/div/div[2]/div[2]/div[2]/div/div/div[3]/div/div/div[2]/div[8]/div/div['+ str(x)+']/div[2]/span[2]')[0]\n",
        "        rating = user_rating.text\n",
        "        #rating\n",
        "\n",
        "        product_review = wd.find_elements_by_xpath('/html/body/div[2]/div/div[2]/div[2]/div[2]/div/div/div[3]/div/div/div[2]/div[8]/div/div['+ str(x)+']/div[2]')[0] \n",
        "        review = product_review.text #how to deal with text() object at the end instead of an element???\n",
        "        #review\n",
        "\n",
        "        #add these to a dataframe\n",
        "        comments.loc[len(comments)] = [name,review,rating]\n",
        "\n",
        "    total_comments = total_comments.append(comments, ignore_index=True)\n",
        "    "
      ],
      "execution_count": null,
      "outputs": []
    },
    {
      "cell_type": "code",
      "metadata": {
        "id": "BIAPVBsctacK",
        "colab": {
          "base_uri": "https://localhost:8080/",
          "height": 34
        },
        "outputId": "d276eaa1-024a-4201-85d6-0874290af799"
      },
      "source": [
        "#print(total_comments.tail())\n",
        "type(total_comments)\n",
        "total_comments.groupby(\"product_name\").count()\n",
        "len(total_comments)"
      ],
      "execution_count": null,
      "outputs": [
        {
          "output_type": "execute_result",
          "data": {
            "text/plain": [
              "5743"
            ]
          },
          "metadata": {
            "tags": []
          },
          "execution_count": 160
        }
      ]
    },
    {
      "cell_type": "code",
      "metadata": {
        "id": "OH9LFba0vdoA",
        "colab": {
          "base_uri": "https://localhost:8080/",
          "height": 34
        },
        "outputId": "37ebedf4-50bf-4bfd-ce4f-0783f5c42eac"
      },
      "source": [
        "total_comments.to_csv(\"HW2_results_1.csv\")\n",
        "!ls"
      ],
      "execution_count": null,
      "outputs": [
        {
          "output_type": "stream",
          "text": [
            "HW2_results_1.csv  sample_data\n"
          ],
          "name": "stdout"
        }
      ]
    },
    {
      "cell_type": "markdown",
      "metadata": {
        "id": "a8G9dE7B0rzf"
      },
      "source": [
        "###Task B: Cleaning and Word Frequency:"
      ]
    },
    {
      "cell_type": "code",
      "metadata": {
        "id": "g7RqB_sf1NoN",
        "colab": {
          "resources": {
            "http://localhost:8080/nbextensions/google.colab/files.js": {
              "data": "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",
              "ok": true,
              "headers": [
                [
                  "content-type",
                  "application/javascript"
                ]
              ],
              "status": 200,
              "status_text": ""
            }
          },
          "base_uri": "https://localhost:8080/",
          "height": 72
        },
        "outputId": "cc4a3fee-312c-4557-a169-c5f5c6487d51"
      },
      "source": [
        "#import csv files from above and car-brand one from Canvas\n",
        "from google.colab import files\n",
        "uploaded = files.upload()"
      ],
      "execution_count": null,
      "outputs": [
        {
          "output_type": "display_data",
          "data": {
            "text/html": [
              "\n",
              "     <input type=\"file\" id=\"files-3ebf5d69-3443-4eca-83b2-c9afca21c77a\" name=\"files[]\" multiple disabled\n",
              "        style=\"border:none\" />\n",
              "     <output id=\"result-3ebf5d69-3443-4eca-83b2-c9afca21c77a\">\n",
              "      Upload widget is only available when the cell has been executed in the\n",
              "      current browser session. Please rerun this cell to enable.\n",
              "      </output>\n",
              "      <script src=\"/nbextensions/google.colab/files.js\"></script> "
            ],
            "text/plain": [
              "<IPython.core.display.HTML object>"
            ]
          },
          "metadata": {
            "tags": []
          }
        },
        {
          "output_type": "stream",
          "text": [
            "Saving HW2_results_1.csv to HW2_results_1.csv\n"
          ],
          "name": "stdout"
        }
      ]
    },
    {
      "cell_type": "code",
      "metadata": {
        "id": "LWm-jrsi2bZ6"
      },
      "source": [
        "reviews = pd.read_csv(\"HW2_results_1.csv\").drop(['Unnamed: 0'],axis=1)"
      ],
      "execution_count": null,
      "outputs": []
    },
    {
      "cell_type": "code",
      "metadata": {
        "id": "biC20vBL4Mzx",
        "colab": {
          "base_uri": "https://localhost:8080/",
          "height": 204
        },
        "outputId": "89fd25f9-99cb-4a7a-aa5a-526ea93b223d"
      },
      "source": [
        "reviews.head()"
      ],
      "execution_count": null,
      "outputs": [
        {
          "output_type": "execute_result",
          "data": {
            "text/html": [
              "<div>\n",
              "<style scoped>\n",
              "    .dataframe tbody tr th:only-of-type {\n",
              "        vertical-align: middle;\n",
              "    }\n",
              "\n",
              "    .dataframe tbody tr th {\n",
              "        vertical-align: top;\n",
              "    }\n",
              "\n",
              "    .dataframe thead th {\n",
              "        text-align: right;\n",
              "    }\n",
              "</style>\n",
              "<table border=\"1\" class=\"dataframe\">\n",
              "  <thead>\n",
              "    <tr style=\"text-align: right;\">\n",
              "      <th></th>\n",
              "      <th>product_name</th>\n",
              "      <th>product_review</th>\n",
              "      <th>user_rating</th>\n",
              "    </tr>\n",
              "  </thead>\n",
              "  <tbody>\n",
              "    <tr>\n",
              "      <th>0</th>\n",
              "      <td>Kentucky Brunch Brand Stout\\nToppling Goliath ...</td>\n",
              "      <td>HOPTOMIC_BOMB from California\\n\\n5/5  rDev +2%...</td>\n",
              "      <td>5.00</td>\n",
              "    </tr>\n",
              "    <tr>\n",
              "      <th>1</th>\n",
              "      <td>Kentucky Brunch Brand Stout\\nToppling Goliath ...</td>\n",
              "      <td>Prospero from Colorado\\n\\n4.53/5  rDev -7.6%\\n...</td>\n",
              "      <td>4.53</td>\n",
              "    </tr>\n",
              "    <tr>\n",
              "      <th>2</th>\n",
              "      <td>Kentucky Brunch Brand Stout\\nToppling Goliath ...</td>\n",
              "      <td>BourbonForBeer from Illinois\\n\\n1.49/5  rDev -...</td>\n",
              "      <td>1.49</td>\n",
              "    </tr>\n",
              "    <tr>\n",
              "      <th>3</th>\n",
              "      <td>Kentucky Brunch Brand Stout\\nToppling Goliath ...</td>\n",
              "      <td>JellybonesElmer from Wisconsin\\n\\n4.52/5  rDev...</td>\n",
              "      <td>4.52</td>\n",
              "    </tr>\n",
              "    <tr>\n",
              "      <th>4</th>\n",
              "      <td>Kentucky Brunch Brand Stout\\nToppling Goliath ...</td>\n",
              "      <td>WormGod from New York\\n\\n4.99/5  rDev +1.8%\\nl...</td>\n",
              "      <td>4.99</td>\n",
              "    </tr>\n",
              "  </tbody>\n",
              "</table>\n",
              "</div>"
            ],
            "text/plain": [
              "                                        product_name  ... user_rating\n",
              "0  Kentucky Brunch Brand Stout\\nToppling Goliath ...  ...        5.00\n",
              "1  Kentucky Brunch Brand Stout\\nToppling Goliath ...  ...        4.53\n",
              "2  Kentucky Brunch Brand Stout\\nToppling Goliath ...  ...        1.49\n",
              "3  Kentucky Brunch Brand Stout\\nToppling Goliath ...  ...        4.52\n",
              "4  Kentucky Brunch Brand Stout\\nToppling Goliath ...  ...        4.99\n",
              "\n",
              "[5 rows x 3 columns]"
            ]
          },
          "metadata": {
            "tags": []
          },
          "execution_count": 6
        }
      ]
    },
    {
      "cell_type": "code",
      "metadata": {
        "id": "mTUZcvYi69mj",
        "colab": {
          "base_uri": "https://localhost:8080/"
        },
        "outputId": "11455048-fdf6-45d1-ea48-0e949c59c34d"
      },
      "source": [
        "import nltk\n",
        "import re\n",
        "from nltk.corpus import stopwords\n",
        "nltk.download('stopwords')\n",
        "\n",
        "def lower(string):\n",
        "    return str(string).lower()\n",
        "reviews[\"product_review\"] = reviews[\"product_review\"].apply(lower)"
      ],
      "execution_count": null,
      "outputs": [
        {
          "output_type": "stream",
          "text": [
            "[nltk_data] Downloading package stopwords to /root/nltk_data...\n",
            "[nltk_data]   Unzipping corpora/stopwords.zip.\n"
          ],
          "name": "stdout"
        }
      ]
    },
    {
      "cell_type": "code",
      "metadata": {
        "id": "4a5dApqn7OvC"
      },
      "source": [
        "def findre(string):\n",
        "    return re.findall(\"([a-zA-Z]+)\", string)\n",
        "reviews[\"list_of_words\"] = reviews[\"product_review\"].apply(findre)\n",
        "reviews[\"list_of_words\"]\n",
        "\n",
        "stop_words = set(stopwords.words('english'))\n",
        "\n",
        "def remove_single(s):\n",
        "    return [w for w in s if not w in list(map(chr, range(97, 123)))] \n",
        "\n",
        "def remove_stopwords(s):\n",
        "    return [w for w in s if not w in stop_words] \n",
        "\n",
        "reviews[\"final_version\"] = reviews[\"list_of_words\"].apply(remove_stopwords)\n",
        "reviews[\"final_version\"] = reviews[\"final_version\"].apply(remove_single)"
      ],
      "execution_count": null,
      "outputs": []
    },
    {
      "cell_type": "code",
      "metadata": {
        "id": "E6I0cGdubNve",
        "colab": {
          "base_uri": "https://localhost:8080/"
        },
        "outputId": "bf5e7038-c196-4e05-8e97-b384e6c1dae1"
      },
      "source": [
        "def review_list(lst):\n",
        "    if \"overall\" in lst:\n",
        "        ind = lst.index(\"overall\")\n",
        "        return lst[ind+1:]\n",
        "    return lst\n",
        "\n",
        "reviews[\"final_version\"] = reviews[\"final_version\"].map(review_list)\n",
        "reviews[\"final_version\"]"
      ],
      "execution_count": null,
      "outputs": [
        {
          "output_type": "execute_result",
          "data": {
            "text/plain": [
              "0       [smell, early, morning, pancakes, coffee, work...\n",
              "1       [vintage, pours, dark, brown, color, noticeabl...\n",
              "2       [hyped, lot, breweries, style, beer, right, to...\n",
              "3       [reviewing, vintage, pours, thick, close, blac...\n",
              "4       [version, poured, dark, small, head, smell, ma...\n",
              "                              ...                        \n",
              "5738    [pours, dark, chestnut, brown, two, half, fing...\n",
              "5739    [vintage, heavy, booze, aroma, vanilla, accent...\n",
              "5740    [opaque, near, black, body, frothy, cola, like...\n",
              "5741    [drank, pint, fl, oz, bottle, purchased, craft...\n",
              "5742    [pours, black, eggshell, thin, layer, khaki, f...\n",
              "Name: final_version, Length: 5743, dtype: object"
            ]
          },
          "metadata": {
            "tags": []
          },
          "execution_count": 9
        }
      ]
    },
    {
      "cell_type": "code",
      "metadata": {
        "id": "JGrjzHca9g1i"
      },
      "source": [
        "def word_count(words_list):\n",
        "    dictionary = {}\n",
        "    for words in words_list:\n",
        "        if words not in dictionary.keys():\n",
        "            dictionary[words] = 1\n",
        "    return dictionary\n",
        "\n",
        "reviews[\"dictionary_version\"] = reviews[\"final_version\"].apply(word_count)"
      ],
      "execution_count": null,
      "outputs": []
    },
    {
      "cell_type": "code",
      "metadata": {
        "id": "w-dyu2Vh-kZh",
        "colab": {
          "base_uri": "https://localhost:8080/"
        },
        "outputId": "37d45805-c425-40b1-e3d5-35a27011574f"
      },
      "source": [
        "reviews[\"dictionary_version\"]"
      ],
      "execution_count": null,
      "outputs": [
        {
          "output_type": "execute_result",
          "data": {
            "text/plain": [
              "0       {'smell': 1, 'early': 1, 'morning': 1, 'pancak...\n",
              "1       {'vintage': 1, 'pours': 1, 'dark': 1, 'brown':...\n",
              "2       {'hyped': 1, 'lot': 1, 'breweries': 1, 'style'...\n",
              "3       {'reviewing': 1, 'vintage': 1, 'pours': 1, 'th...\n",
              "4       {'version': 1, 'poured': 1, 'dark': 1, 'small'...\n",
              "                              ...                        \n",
              "5738    {'pours': 1, 'dark': 1, 'chestnut': 1, 'brown'...\n",
              "5739    {'vintage': 1, 'heavy': 1, 'booze': 1, 'aroma'...\n",
              "5740    {'opaque': 1, 'near': 1, 'black': 1, 'body': 1...\n",
              "5741    {'drank': 1, 'pint': 1, 'fl': 1, 'oz': 1, 'bot...\n",
              "5742    {'pours': 1, 'black': 1, 'eggshell': 1, 'thin'...\n",
              "Name: dictionary_version, Length: 5743, dtype: object"
            ]
          },
          "metadata": {
            "tags": []
          },
          "execution_count": 11
        }
      ]
    },
    {
      "cell_type": "code",
      "metadata": {
        "id": "r-iNcS60-uQ1",
        "colab": {
          "base_uri": "https://localhost:8080/"
        },
        "outputId": "4a687abc-ed01-49e6-e55e-a461bd22436d"
      },
      "source": [
        "final_dict = {}\n",
        "\n",
        "def update_dict(dictionary):\n",
        "    for key in dictionary.keys():\n",
        "        if key in final_dict.keys():\n",
        "            final_dict[key] += 1\n",
        "        else:\n",
        "            final_dict[key] = 1\n",
        "        \n",
        "reviews[\"dictionary_version\"].apply(update_dict)"
      ],
      "execution_count": null,
      "outputs": [
        {
          "output_type": "execute_result",
          "data": {
            "text/plain": [
              "0       None\n",
              "1       None\n",
              "2       None\n",
              "3       None\n",
              "4       None\n",
              "        ... \n",
              "5738    None\n",
              "5739    None\n",
              "5740    None\n",
              "5741    None\n",
              "5742    None\n",
              "Name: dictionary_version, Length: 5743, dtype: object"
            ]
          },
          "metadata": {
            "tags": []
          },
          "execution_count": 12
        }
      ]
    },
    {
      "cell_type": "code",
      "metadata": {
        "id": "Y7ncRRdK_YrM",
        "colab": {
          "base_uri": "https://localhost:8080/",
          "height": 204
        },
        "outputId": "ce648fe9-5d8a-481f-fa03-4c382cc5138c"
      },
      "source": [
        "df = pd.DataFrame.from_dict(final_dict, orient='index')\n",
        "df.head()"
      ],
      "execution_count": null,
      "outputs": [
        {
          "output_type": "execute_result",
          "data": {
            "text/html": [
              "<div>\n",
              "<style scoped>\n",
              "    .dataframe tbody tr th:only-of-type {\n",
              "        vertical-align: middle;\n",
              "    }\n",
              "\n",
              "    .dataframe tbody tr th {\n",
              "        vertical-align: top;\n",
              "    }\n",
              "\n",
              "    .dataframe thead th {\n",
              "        text-align: right;\n",
              "    }\n",
              "</style>\n",
              "<table border=\"1\" class=\"dataframe\">\n",
              "  <thead>\n",
              "    <tr style=\"text-align: right;\">\n",
              "      <th></th>\n",
              "      <th>0</th>\n",
              "    </tr>\n",
              "  </thead>\n",
              "  <tbody>\n",
              "    <tr>\n",
              "      <th>smell</th>\n",
              "      <td>987</td>\n",
              "    </tr>\n",
              "    <tr>\n",
              "      <th>early</th>\n",
              "      <td>35</td>\n",
              "    </tr>\n",
              "    <tr>\n",
              "      <th>morning</th>\n",
              "      <td>35</td>\n",
              "    </tr>\n",
              "    <tr>\n",
              "      <th>pancakes</th>\n",
              "      <td>18</td>\n",
              "    </tr>\n",
              "    <tr>\n",
              "      <th>coffee</th>\n",
              "      <td>959</td>\n",
              "    </tr>\n",
              "  </tbody>\n",
              "</table>\n",
              "</div>"
            ],
            "text/plain": [
              "            0\n",
              "smell     987\n",
              "early      35\n",
              "morning    35\n",
              "pancakes   18\n",
              "coffee    959"
            ]
          },
          "metadata": {
            "tags": []
          },
          "execution_count": 13
        }
      ]
    },
    {
      "cell_type": "code",
      "metadata": {
        "id": "qouOAfK7_h6N",
        "colab": {
          "base_uri": "https://localhost:8080/"
        },
        "outputId": "81ae6026-10bd-4892-e70e-80d4a0598f07"
      },
      "source": [
        "# df.rename(columns = \"0\", inplace = True)\n",
        "word_freq_list = df[0].sort_values(ascending=False).index.tolist()\n",
        "word_freq_list[0:20]"
      ],
      "execution_count": null,
      "outputs": [
        {
          "output_type": "execute_result",
          "data": {
            "text/plain": [
              "['head',\n",
              " 'beer',\n",
              " 'taste',\n",
              " 'nose',\n",
              " 'sweet',\n",
              " 'like',\n",
              " 'pours',\n",
              " 'dark',\n",
              " 'one',\n",
              " 'finish',\n",
              " 'carbonation',\n",
              " 'chocolate',\n",
              " 'medium',\n",
              " 'aroma',\n",
              " 'well',\n",
              " 'mouthfeel',\n",
              " 'overall',\n",
              " 'nice',\n",
              " 'body',\n",
              " 'good']"
            ]
          },
          "metadata": {
            "tags": []
          },
          "execution_count": 14
        }
      ]
    },
    {
      "cell_type": "code",
      "metadata": {
        "id": "rbhip4Q4AjwA"
      },
      "source": [
        "beer_attri = [\"aggressive\", \"balanced\", \"complex\", \"crisp\", \"fruity\", \"hoppy\", \"malty\", \"robust\"]"
      ],
      "execution_count": null,
      "outputs": []
    },
    {
      "cell_type": "code",
      "metadata": {
        "id": "_tENR__FAkrR",
        "colab": {
          "base_uri": "https://localhost:8080/"
        },
        "outputId": "c00f0c8e-52a3-444a-fd9f-f37b205e2f93"
      },
      "source": [
        "top_brands = []\n",
        "for name in word_freq_list:\n",
        "    if name in beer_attri:\n",
        "        top_brands.append(name)\n",
        "top_list = top_brands[0:8]\n",
        "top_list"
      ],
      "execution_count": null,
      "outputs": [
        {
          "output_type": "execute_result",
          "data": {
            "text/plain": [
              "['balanced',\n",
              " 'complex',\n",
              " 'fruity',\n",
              " 'crisp',\n",
              " 'hoppy',\n",
              " 'malty',\n",
              " 'robust',\n",
              " 'aggressive']"
            ]
          },
          "metadata": {
            "tags": []
          },
          "execution_count": 16
        }
      ]
    },
    {
      "cell_type": "code",
      "metadata": {
        "id": "-AIgSbtjBhcr",
        "colab": {
          "base_uri": "https://localhost:8080/",
          "height": 142
        },
        "outputId": "6389769f-6346-4584-ec62-3b8da5e4893e"
      },
      "source": [
        "def findcount(string):\n",
        "    return df.loc[string]\n",
        "top_list = pd.DataFrame(top_list)\n",
        "top_list[\"count\"] = top_list[0].apply(findcount)\n",
        "top_list[0:3]\n",
        "#These are the top 3 mentioned beer attributes.\n",
        "#We gonna assume the user select these 3 attributes"
      ],
      "execution_count": null,
      "outputs": [
        {
          "output_type": "execute_result",
          "data": {
            "text/html": [
              "<div>\n",
              "<style scoped>\n",
              "    .dataframe tbody tr th:only-of-type {\n",
              "        vertical-align: middle;\n",
              "    }\n",
              "\n",
              "    .dataframe tbody tr th {\n",
              "        vertical-align: top;\n",
              "    }\n",
              "\n",
              "    .dataframe thead th {\n",
              "        text-align: right;\n",
              "    }\n",
              "</style>\n",
              "<table border=\"1\" class=\"dataframe\">\n",
              "  <thead>\n",
              "    <tr style=\"text-align: right;\">\n",
              "      <th></th>\n",
              "      <th>0</th>\n",
              "      <th>count</th>\n",
              "    </tr>\n",
              "  </thead>\n",
              "  <tbody>\n",
              "    <tr>\n",
              "      <th>0</th>\n",
              "      <td>balanced</td>\n",
              "      <td>693</td>\n",
              "    </tr>\n",
              "    <tr>\n",
              "      <th>1</th>\n",
              "      <td>complex</td>\n",
              "      <td>477</td>\n",
              "    </tr>\n",
              "    <tr>\n",
              "      <th>2</th>\n",
              "      <td>fruity</td>\n",
              "      <td>431</td>\n",
              "    </tr>\n",
              "  </tbody>\n",
              "</table>\n",
              "</div>"
            ],
            "text/plain": [
              "          0  count\n",
              "0  balanced    693\n",
              "1   complex    477\n",
              "2    fruity    431"
            ]
          },
          "metadata": {
            "tags": []
          },
          "execution_count": 17
        }
      ]
    },
    {
      "cell_type": "markdown",
      "metadata": {
        "id": "f4QyD0YH09mG"
      },
      "source": [
        "###Task C: Cosine Similarity:\n",
        "Questions:\n",
        "1. CountVectorizer VS TfidfVectorizer\n",
        "2. Can we pass the list of words into comparison?\n",
        "3. also, what does it really mean the similarity score between a \"3-word-sentence\" and a vectors of say 100 words?\n",
        "4. Also, output should be the average score for each beer, not each review.\n",
        "\n"
      ]
    },
    {
      "cell_type": "code",
      "metadata": {
        "id": "EK4Gat2JMck8"
      },
      "source": [
        "from sklearn.feature_extraction.text import TfidfVectorizer\n",
        "from sklearn.feature_extraction.text import CountVectorizer\n",
        "from sklearn.metrics.pairwise import cosine_similarity\n",
        "\n",
        "tmp = [\"balanced\", \"complex\", \"fruity\"]\n",
        "attribute = \", \".join(tmp)\n",
        "\n",
        "# df = pd.DataFrame({\"review\": [\"I love the taste, and color, smell of this beer\"]})\n",
        "# text2 = \"I love the taste, and color, smell of this beer\"\n",
        "\n",
        "def similarity(list_of_words):\n",
        "    string = \", \".join(list_of_words)\n",
        "    documents = [attribute, string]\n",
        "    count_vectorizer = CountVectorizer()\n",
        "    count_matrix = count_vectorizer.fit_transform(documents)\n",
        "    #print(count_matrix)\n",
        "    return cosine_similarity(count_matrix[0:1], count_matrix)[0][1]\n",
        "\n",
        "reviews[\"similarity\"] = reviews[\"final_version\"].map(similarity)"
      ],
      "execution_count": null,
      "outputs": []
    },
    {
      "cell_type": "code",
      "metadata": {
        "id": "CltUZ705MdNJ",
        "colab": {
          "base_uri": "https://localhost:8080/"
        },
        "outputId": "ffc96ee3-781b-4413-ed74-91c90e0e3301"
      },
      "source": [
        "#checking\n",
        "reviews[\"similarity\"].sort_values(ascending=False)"
      ],
      "execution_count": null,
      "outputs": [
        {
          "output_type": "execute_result",
          "data": {
            "text/plain": [
              "552     0.316228\n",
              "3674    0.316228\n",
              "3420    0.298142\n",
              "2035    0.288675\n",
              "5352    0.280056\n",
              "          ...   \n",
              "3566    0.000000\n",
              "3567    0.000000\n",
              "3568    0.000000\n",
              "3570    0.000000\n",
              "0       0.000000\n",
              "Name: similarity, Length: 5743, dtype: float64"
            ]
          },
          "metadata": {
            "tags": []
          },
          "execution_count": 19
        }
      ]
    },
    {
      "cell_type": "code",
      "metadata": {
        "id": "rnR7AItoUbNc",
        "colab": {
          "base_uri": "https://localhost:8080/",
          "height": 419
        },
        "outputId": "6ce231b0-0c4e-47bd-f86d-69698c67065c"
      },
      "source": [
        "# reviews1 = reviews.drop(['product_review','user_rating','list_of_words','dictionary_version'], axis = 1)\n",
        "# reviews1\n",
        "reviews[[\"product_name\",\"final_version\", \"similarity\"]]"
      ],
      "execution_count": null,
      "outputs": [
        {
          "output_type": "execute_result",
          "data": {
            "text/html": [
              "<div>\n",
              "<style scoped>\n",
              "    .dataframe tbody tr th:only-of-type {\n",
              "        vertical-align: middle;\n",
              "    }\n",
              "\n",
              "    .dataframe tbody tr th {\n",
              "        vertical-align: top;\n",
              "    }\n",
              "\n",
              "    .dataframe thead th {\n",
              "        text-align: right;\n",
              "    }\n",
              "</style>\n",
              "<table border=\"1\" class=\"dataframe\">\n",
              "  <thead>\n",
              "    <tr style=\"text-align: right;\">\n",
              "      <th></th>\n",
              "      <th>product_name</th>\n",
              "      <th>final_version</th>\n",
              "      <th>similarity</th>\n",
              "    </tr>\n",
              "  </thead>\n",
              "  <tbody>\n",
              "    <tr>\n",
              "      <th>0</th>\n",
              "      <td>Kentucky Brunch Brand Stout\\nToppling Goliath ...</td>\n",
              "      <td>[smell, early, morning, pancakes, coffee, work...</td>\n",
              "      <td>0.000000</td>\n",
              "    </tr>\n",
              "    <tr>\n",
              "      <th>1</th>\n",
              "      <td>Kentucky Brunch Brand Stout\\nToppling Goliath ...</td>\n",
              "      <td>[vintage, pours, dark, brown, color, noticeabl...</td>\n",
              "      <td>0.000000</td>\n",
              "    </tr>\n",
              "    <tr>\n",
              "      <th>2</th>\n",
              "      <td>Kentucky Brunch Brand Stout\\nToppling Goliath ...</td>\n",
              "      <td>[hyped, lot, breweries, style, beer, right, to...</td>\n",
              "      <td>0.083333</td>\n",
              "    </tr>\n",
              "    <tr>\n",
              "      <th>3</th>\n",
              "      <td>Kentucky Brunch Brand Stout\\nToppling Goliath ...</td>\n",
              "      <td>[reviewing, vintage, pours, thick, close, blac...</td>\n",
              "      <td>0.000000</td>\n",
              "    </tr>\n",
              "    <tr>\n",
              "      <th>4</th>\n",
              "      <td>Kentucky Brunch Brand Stout\\nToppling Goliath ...</td>\n",
              "      <td>[version, poured, dark, small, head, smell, ma...</td>\n",
              "      <td>0.000000</td>\n",
              "    </tr>\n",
              "    <tr>\n",
              "      <th>...</th>\n",
              "      <td>...</td>\n",
              "      <td>...</td>\n",
              "      <td>...</td>\n",
              "    </tr>\n",
              "    <tr>\n",
              "      <th>5738</th>\n",
              "      <td>Madagascar\\n4 Hands Brewing Co.</td>\n",
              "      <td>[pours, dark, chestnut, brown, two, half, fing...</td>\n",
              "      <td>0.000000</td>\n",
              "    </tr>\n",
              "    <tr>\n",
              "      <th>5739</th>\n",
              "      <td>Madagascar\\n4 Hands Brewing Co.</td>\n",
              "      <td>[vintage, heavy, booze, aroma, vanilla, accent...</td>\n",
              "      <td>0.000000</td>\n",
              "    </tr>\n",
              "    <tr>\n",
              "      <th>5740</th>\n",
              "      <td>Madagascar\\n4 Hands Brewing Co.</td>\n",
              "      <td>[opaque, near, black, body, frothy, cola, like...</td>\n",
              "      <td>0.000000</td>\n",
              "    </tr>\n",
              "    <tr>\n",
              "      <th>5741</th>\n",
              "      <td>Madagascar\\n4 Hands Brewing Co.</td>\n",
              "      <td>[drank, pint, fl, oz, bottle, purchased, craft...</td>\n",
              "      <td>0.025616</td>\n",
              "    </tr>\n",
              "    <tr>\n",
              "      <th>5742</th>\n",
              "      <td>Madagascar\\n4 Hands Brewing Co.</td>\n",
              "      <td>[pours, black, eggshell, thin, layer, khaki, f...</td>\n",
              "      <td>0.041030</td>\n",
              "    </tr>\n",
              "  </tbody>\n",
              "</table>\n",
              "<p>5743 rows × 3 columns</p>\n",
              "</div>"
            ],
            "text/plain": [
              "                                           product_name  ... similarity\n",
              "0     Kentucky Brunch Brand Stout\\nToppling Goliath ...  ...   0.000000\n",
              "1     Kentucky Brunch Brand Stout\\nToppling Goliath ...  ...   0.000000\n",
              "2     Kentucky Brunch Brand Stout\\nToppling Goliath ...  ...   0.083333\n",
              "3     Kentucky Brunch Brand Stout\\nToppling Goliath ...  ...   0.000000\n",
              "4     Kentucky Brunch Brand Stout\\nToppling Goliath ...  ...   0.000000\n",
              "...                                                 ...  ...        ...\n",
              "5738                    Madagascar\\n4 Hands Brewing Co.  ...   0.000000\n",
              "5739                    Madagascar\\n4 Hands Brewing Co.  ...   0.000000\n",
              "5740                    Madagascar\\n4 Hands Brewing Co.  ...   0.000000\n",
              "5741                    Madagascar\\n4 Hands Brewing Co.  ...   0.025616\n",
              "5742                    Madagascar\\n4 Hands Brewing Co.  ...   0.041030\n",
              "\n",
              "[5743 rows x 3 columns]"
            ]
          },
          "metadata": {
            "tags": []
          },
          "execution_count": 20
        }
      ]
    },
    {
      "cell_type": "markdown",
      "metadata": {
        "id": "U8MLF_9Hhv7j"
      },
      "source": [
        "### Task D: Sentiment"
      ]
    },
    {
      "cell_type": "code",
      "metadata": {
        "id": "Fy0G4nl_hy0K",
        "colab": {
          "base_uri": "https://localhost:8080/"
        },
        "outputId": "20bc2471-0624-4ece-8e4e-e225e479c815"
      },
      "source": [
        "from collections import Counter\n",
        "features = tmp\n",
        "import nltk\n",
        "nltk.download('vader_lexicon')\n",
        "from nltk.sentiment.vader import SentimentIntensityAnalyzer\n",
        "sid = SentimentIntensityAnalyzer()\n",
        "import numpy as np\n",
        "\n",
        "def once(review, ori1, ori2):\n",
        "#     print(ori1, ori2)\n",
        "    startpos = ori1-2 if ori1-2 > 0 else 0\n",
        "    endpos = ori2+2 if ori2+2 < len(review)-1 else len(review)-1\n",
        "    sentence = review[startpos: endpos+1]\n",
        "    sentence_s = \" \".join(sentence)\n",
        "#     print(sentence_s)\n",
        "    return sid.polarity_scores(sentence_s)[\"compound\"]\n",
        "\n",
        "for number in range(3):\n",
        "\n",
        "  def sentiment(review):\n",
        "    if features[number] in review:\n",
        "        scores = []\n",
        "        count = [i for i, n in enumerate(review) if n == features[number]]\n",
        "        return once(review, count[0], count[-1])\n",
        "    return 0\n",
        "\n",
        "  reviews[features[number]] = reviews['final_version'].map(sentiment)\n",
        "\n",
        "\n",
        "reviews.replace(0, np.NaN)\n",
        "#df[[\"score\", \"score-1\",\"score-2\"]].mean(axis=1)"
      ],
      "execution_count": null,
      "outputs": [
        {
          "output_type": "stream",
          "text": [
            "[nltk_data] Downloading package vader_lexicon to /root/nltk_data...\n"
          ],
          "name": "stdout"
        },
        {
          "output_type": "stream",
          "text": [
            "/usr/local/lib/python3.6/dist-packages/nltk/twitter/__init__.py:20: UserWarning: The twython library has not been installed. Some functionality from the twitter package will not be available.\n",
            "  warnings.warn(\"The twython library has not been installed. \"\n"
          ],
          "name": "stderr"
        },
        {
          "output_type": "execute_result",
          "data": {
            "text/html": [
              "<div>\n",
              "<style scoped>\n",
              "    .dataframe tbody tr th:only-of-type {\n",
              "        vertical-align: middle;\n",
              "    }\n",
              "\n",
              "    .dataframe tbody tr th {\n",
              "        vertical-align: top;\n",
              "    }\n",
              "\n",
              "    .dataframe thead th {\n",
              "        text-align: right;\n",
              "    }\n",
              "</style>\n",
              "<table border=\"1\" class=\"dataframe\">\n",
              "  <thead>\n",
              "    <tr style=\"text-align: right;\">\n",
              "      <th></th>\n",
              "      <th>product_name</th>\n",
              "      <th>product_review</th>\n",
              "      <th>user_rating</th>\n",
              "      <th>list_of_words</th>\n",
              "      <th>final_version</th>\n",
              "      <th>dictionary_version</th>\n",
              "      <th>similarity</th>\n",
              "      <th>balanced</th>\n",
              "      <th>complex</th>\n",
              "      <th>fruity</th>\n",
              "    </tr>\n",
              "  </thead>\n",
              "  <tbody>\n",
              "    <tr>\n",
              "      <th>0</th>\n",
              "      <td>Kentucky Brunch Brand Stout\\nToppling Goliath ...</td>\n",
              "      <td>hoptomic_bomb from california\\n\\n5/5  rdev +2%...</td>\n",
              "      <td>5.00</td>\n",
              "      <td>[hoptomic, bomb, from, california, rdev, look,...</td>\n",
              "      <td>[smell, early, morning, pancakes, coffee, work...</td>\n",
              "      <td>{'smell': 1, 'early': 1, 'morning': 1, 'pancak...</td>\n",
              "      <td>NaN</td>\n",
              "      <td>NaN</td>\n",
              "      <td>NaN</td>\n",
              "      <td>NaN</td>\n",
              "    </tr>\n",
              "    <tr>\n",
              "      <th>1</th>\n",
              "      <td>Kentucky Brunch Brand Stout\\nToppling Goliath ...</td>\n",
              "      <td>prospero from colorado\\n\\n4.53/5  rdev -7.6%\\n...</td>\n",
              "      <td>4.53</td>\n",
              "      <td>[prospero, from, colorado, rdev, look, smell, ...</td>\n",
              "      <td>[vintage, pours, dark, brown, color, noticeabl...</td>\n",
              "      <td>{'vintage': 1, 'pours': 1, 'dark': 1, 'brown':...</td>\n",
              "      <td>NaN</td>\n",
              "      <td>NaN</td>\n",
              "      <td>NaN</td>\n",
              "      <td>NaN</td>\n",
              "    </tr>\n",
              "    <tr>\n",
              "      <th>2</th>\n",
              "      <td>Kentucky Brunch Brand Stout\\nToppling Goliath ...</td>\n",
              "      <td>bourbonforbeer from illinois\\n\\n1.49/5  rdev -...</td>\n",
              "      <td>1.49</td>\n",
              "      <td>[bourbonforbeer, from, illinois, rdev, look, s...</td>\n",
              "      <td>[hyped, lot, breweries, style, beer, right, to...</td>\n",
              "      <td>{'hyped': 1, 'lot': 1, 'breweries': 1, 'style'...</td>\n",
              "      <td>0.083333</td>\n",
              "      <td>0.7184</td>\n",
              "      <td>NaN</td>\n",
              "      <td>NaN</td>\n",
              "    </tr>\n",
              "    <tr>\n",
              "      <th>3</th>\n",
              "      <td>Kentucky Brunch Brand Stout\\nToppling Goliath ...</td>\n",
              "      <td>jellyboneselmer from wisconsin\\n\\n4.52/5  rdev...</td>\n",
              "      <td>4.52</td>\n",
              "      <td>[jellyboneselmer, from, wisconsin, rdev, look,...</td>\n",
              "      <td>[reviewing, vintage, pours, thick, close, blac...</td>\n",
              "      <td>{'reviewing': 1, 'vintage': 1, 'pours': 1, 'th...</td>\n",
              "      <td>NaN</td>\n",
              "      <td>NaN</td>\n",
              "      <td>NaN</td>\n",
              "      <td>NaN</td>\n",
              "    </tr>\n",
              "    <tr>\n",
              "      <th>4</th>\n",
              "      <td>Kentucky Brunch Brand Stout\\nToppling Goliath ...</td>\n",
              "      <td>wormgod from new york\\n\\n4.99/5  rdev +1.8%\\nl...</td>\n",
              "      <td>4.99</td>\n",
              "      <td>[wormgod, from, new, york, rdev, look, smell, ...</td>\n",
              "      <td>[version, poured, dark, small, head, smell, ma...</td>\n",
              "      <td>{'version': 1, 'poured': 1, 'dark': 1, 'small'...</td>\n",
              "      <td>NaN</td>\n",
              "      <td>NaN</td>\n",
              "      <td>NaN</td>\n",
              "      <td>NaN</td>\n",
              "    </tr>\n",
              "    <tr>\n",
              "      <th>...</th>\n",
              "      <td>...</td>\n",
              "      <td>...</td>\n",
              "      <td>...</td>\n",
              "      <td>...</td>\n",
              "      <td>...</td>\n",
              "      <td>...</td>\n",
              "      <td>...</td>\n",
              "      <td>...</td>\n",
              "      <td>...</td>\n",
              "      <td>...</td>\n",
              "    </tr>\n",
              "    <tr>\n",
              "      <th>5738</th>\n",
              "      <td>Madagascar\\n4 Hands Brewing Co.</td>\n",
              "      <td>thebeers from pennsylvania\\n\\n4.07/5  rdev -8....</td>\n",
              "      <td>4.07</td>\n",
              "      <td>[thebeers, from, pennsylvania, rdev, look, sme...</td>\n",
              "      <td>[pours, dark, chestnut, brown, two, half, fing...</td>\n",
              "      <td>{'pours': 1, 'dark': 1, 'chestnut': 1, 'brown'...</td>\n",
              "      <td>NaN</td>\n",
              "      <td>NaN</td>\n",
              "      <td>NaN</td>\n",
              "      <td>NaN</td>\n",
              "    </tr>\n",
              "    <tr>\n",
              "      <th>5739</th>\n",
              "      <td>Madagascar\\n4 Hands Brewing Co.</td>\n",
              "      <td>furlinator from california\\n\\n4.15/5  rdev -7%...</td>\n",
              "      <td>4.15</td>\n",
              "      <td>[furlinator, from, california, rdev, look, sme...</td>\n",
              "      <td>[vintage, heavy, booze, aroma, vanilla, accent...</td>\n",
              "      <td>{'vintage': 1, 'heavy': 1, 'booze': 1, 'aroma'...</td>\n",
              "      <td>NaN</td>\n",
              "      <td>NaN</td>\n",
              "      <td>NaN</td>\n",
              "      <td>NaN</td>\n",
              "    </tr>\n",
              "    <tr>\n",
              "      <th>5740</th>\n",
              "      <td>Madagascar\\n4 Hands Brewing Co.</td>\n",
              "      <td>huhzubendah from district of columbia\\n\\n4.21/...</td>\n",
              "      <td>4.21</td>\n",
              "      <td>[huhzubendah, from, district, of, columbia, rd...</td>\n",
              "      <td>[opaque, near, black, body, frothy, cola, like...</td>\n",
              "      <td>{'opaque': 1, 'near': 1, 'black': 1, 'body': 1...</td>\n",
              "      <td>NaN</td>\n",
              "      <td>NaN</td>\n",
              "      <td>NaN</td>\n",
              "      <td>NaN</td>\n",
              "    </tr>\n",
              "    <tr>\n",
              "      <th>5741</th>\n",
              "      <td>Madagascar\\n4 Hands Brewing Co.</td>\n",
              "      <td>damian from massachusetts\\n\\n4.61/5  rdev +3.4...</td>\n",
              "      <td>4.61</td>\n",
              "      <td>[damian, from, massachusetts, rdev, look, smel...</td>\n",
              "      <td>[drank, pint, fl, oz, bottle, purchased, craft...</td>\n",
              "      <td>{'drank': 1, 'pint': 1, 'fl': 1, 'oz': 1, 'bot...</td>\n",
              "      <td>0.025616</td>\n",
              "      <td>0.2732</td>\n",
              "      <td>NaN</td>\n",
              "      <td>NaN</td>\n",
              "    </tr>\n",
              "    <tr>\n",
              "      <th>5742</th>\n",
              "      <td>Madagascar\\n4 Hands Brewing Co.</td>\n",
              "      <td>harrison8 from missouri\\n\\n4/5  rdev -10.3%\\nl...</td>\n",
              "      <td>4.00</td>\n",
              "      <td>[harrison, from, missouri, rdev, look, smell, ...</td>\n",
              "      <td>[pours, black, eggshell, thin, layer, khaki, f...</td>\n",
              "      <td>{'pours': 1, 'black': 1, 'eggshell': 1, 'thin'...</td>\n",
              "      <td>0.041030</td>\n",
              "      <td>0.5423</td>\n",
              "      <td>NaN</td>\n",
              "      <td>NaN</td>\n",
              "    </tr>\n",
              "  </tbody>\n",
              "</table>\n",
              "<p>5743 rows × 10 columns</p>\n",
              "</div>"
            ],
            "text/plain": [
              "                                           product_name  ... fruity\n",
              "0     Kentucky Brunch Brand Stout\\nToppling Goliath ...  ...    NaN\n",
              "1     Kentucky Brunch Brand Stout\\nToppling Goliath ...  ...    NaN\n",
              "2     Kentucky Brunch Brand Stout\\nToppling Goliath ...  ...    NaN\n",
              "3     Kentucky Brunch Brand Stout\\nToppling Goliath ...  ...    NaN\n",
              "4     Kentucky Brunch Brand Stout\\nToppling Goliath ...  ...    NaN\n",
              "...                                                 ...  ...    ...\n",
              "5738                    Madagascar\\n4 Hands Brewing Co.  ...    NaN\n",
              "5739                    Madagascar\\n4 Hands Brewing Co.  ...    NaN\n",
              "5740                    Madagascar\\n4 Hands Brewing Co.  ...    NaN\n",
              "5741                    Madagascar\\n4 Hands Brewing Co.  ...    NaN\n",
              "5742                    Madagascar\\n4 Hands Brewing Co.  ...    NaN\n",
              "\n",
              "[5743 rows x 10 columns]"
            ]
          },
          "metadata": {
            "tags": []
          },
          "execution_count": 21
        }
      ]
    },
    {
      "cell_type": "code",
      "metadata": {
        "id": "Ijf5cNpLTRvF",
        "colab": {
          "base_uri": "https://localhost:8080/"
        },
        "outputId": "5c131460-6a78-4eb3-bdb9-ce692fd975e5"
      },
      "source": [
        "#checking\n",
        "reviews[\"fruity\"].sort_values()"
      ],
      "execution_count": null,
      "outputs": [
        {
          "output_type": "execute_result",
          "data": {
            "text/plain": [
              "960    -0.6931\n",
              "5595   -0.6808\n",
              "442    -0.4939\n",
              "5543   -0.4588\n",
              "3793   -0.4404\n",
              "         ...  \n",
              "1337    0.9879\n",
              "1964    0.9882\n",
              "3133    0.9896\n",
              "2924    0.9902\n",
              "3250    0.9931\n",
              "Name: fruity, Length: 5743, dtype: float64"
            ]
          },
          "metadata": {
            "tags": []
          },
          "execution_count": 22
        }
      ]
    },
    {
      "cell_type": "markdown",
      "metadata": {
        "id": "k8MJWoSC1GW5"
      },
      "source": [
        "### Task E: Evaluation Scores\n",
        "\n"
      ]
    },
    {
      "cell_type": "code",
      "metadata": {
        "id": "J3Xc5za0kQ7V"
      },
      "source": [
        "reviews[\"sentiment_score\"]=reviews.apply(lambda x:(x[\"balanced\"]+x[\"complex\"]+x[\"fruity\"])/3,axis=1)"
      ],
      "execution_count": null,
      "outputs": []
    },
    {
      "cell_type": "code",
      "metadata": {
        "id": "h3dwL8A0kMGY"
      },
      "source": [
        "reviews_group_df=reviews.loc[:,[\"product_name\",\"user_rating\",\"sentiment_score\",\"similarity\"]].groupby(\"product_name\").mean().reset_index()"
      ],
      "execution_count": null,
      "outputs": []
    },
    {
      "cell_type": "code",
      "metadata": {
        "id": "lK93uyiZkKMK",
        "colab": {
          "base_uri": "https://localhost:8080/",
          "height": 142
        },
        "outputId": "f896d22a-8324-4982-a9c9-c8a54ac80b3a"
      },
      "source": [
        "reviews_group_df[\"evaluation_score\"]=reviews_group_df.apply(lambda x:x[\"similarity\"]+x[\"sentiment_score\"],axis=1)\n",
        "reviews_group_df.sort_values(by='evaluation_score',ascending=False)[0:3]\n",
        "\n",
        "#Our Top 3 Recommendations:"
      ],
      "execution_count": null,
      "outputs": [
        {
          "output_type": "execute_result",
          "data": {
            "text/html": [
              "<div>\n",
              "<style scoped>\n",
              "    .dataframe tbody tr th:only-of-type {\n",
              "        vertical-align: middle;\n",
              "    }\n",
              "\n",
              "    .dataframe tbody tr th {\n",
              "        vertical-align: top;\n",
              "    }\n",
              "\n",
              "    .dataframe thead th {\n",
              "        text-align: right;\n",
              "    }\n",
              "</style>\n",
              "<table border=\"1\" class=\"dataframe\">\n",
              "  <thead>\n",
              "    <tr style=\"text-align: right;\">\n",
              "      <th></th>\n",
              "      <th>product_name</th>\n",
              "      <th>user_rating</th>\n",
              "      <th>sentiment_score</th>\n",
              "      <th>similarity</th>\n",
              "      <th>evaluation_score</th>\n",
              "    </tr>\n",
              "  </thead>\n",
              "  <tbody>\n",
              "    <tr>\n",
              "      <th>66</th>\n",
              "      <td>Consecration\\nRussian River Brewing Company</td>\n",
              "      <td>4.48</td>\n",
              "      <td>0.286367</td>\n",
              "      <td>0.142134</td>\n",
              "      <td>0.428500</td>\n",
              "    </tr>\n",
              "    <tr>\n",
              "      <th>225</th>\n",
              "      <td>Temptation\\nRussian River Brewing Company</td>\n",
              "      <td>4.20</td>\n",
              "      <td>0.212300</td>\n",
              "      <td>0.067574</td>\n",
              "      <td>0.279874</td>\n",
              "    </tr>\n",
              "    <tr>\n",
              "      <th>40</th>\n",
              "      <td>Bomb!\\nPrairie Artisan Ales</td>\n",
              "      <td>4.75</td>\n",
              "      <td>0.190633</td>\n",
              "      <td>0.072169</td>\n",
              "      <td>0.262802</td>\n",
              "    </tr>\n",
              "  </tbody>\n",
              "</table>\n",
              "</div>"
            ],
            "text/plain": [
              "                                    product_name  ...  evaluation_score\n",
              "66   Consecration\\nRussian River Brewing Company  ...          0.428500\n",
              "225    Temptation\\nRussian River Brewing Company  ...          0.279874\n",
              "40                   Bomb!\\nPrairie Artisan Ales  ...          0.262802\n",
              "\n",
              "[3 rows x 5 columns]"
            ]
          },
          "metadata": {
            "tags": []
          },
          "execution_count": 25
        }
      ]
    },
    {
      "cell_type": "markdown",
      "metadata": {
        "id": "TKtaXZqwV5jI"
      },
      "source": [
        "### Task F: Comparing Bag of Words and Word Vectors\n"
      ]
    },
    {
      "cell_type": "code",
      "metadata": {
        "id": "knB5iKmdWBjh",
        "colab": {
          "base_uri": "https://localhost:8080/"
        },
        "outputId": "d25f1cfe-e3c4-4760-bd9c-d3ba1f6295a4"
      },
      "source": [
        "# Code\n",
        "!python3 -m spacy download en_core_web_md"
      ],
      "execution_count": null,
      "outputs": [
        {
          "output_type": "stream",
          "text": [
            "Collecting en_core_web_md==2.2.5\n",
            "\u001b[?25l  Downloading https://github.com/explosion/spacy-models/releases/download/en_core_web_md-2.2.5/en_core_web_md-2.2.5.tar.gz (96.4MB)\n",
            "\u001b[K     |████████████████████████████████| 96.4MB 1.5MB/s \n",
            "\u001b[?25hRequirement already satisfied: spacy>=2.2.2 in /usr/local/lib/python3.6/dist-packages (from en_core_web_md==2.2.5) (2.2.4)\n",
            "Requirement already satisfied: requests<3.0.0,>=2.13.0 in /usr/local/lib/python3.6/dist-packages (from spacy>=2.2.2->en_core_web_md==2.2.5) (2.23.0)\n",
            "Requirement already satisfied: murmurhash<1.1.0,>=0.28.0 in /usr/local/lib/python3.6/dist-packages (from spacy>=2.2.2->en_core_web_md==2.2.5) (1.0.2)\n",
            "Requirement already satisfied: thinc==7.4.0 in /usr/local/lib/python3.6/dist-packages (from spacy>=2.2.2->en_core_web_md==2.2.5) (7.4.0)\n",
            "Requirement already satisfied: preshed<3.1.0,>=3.0.2 in /usr/local/lib/python3.6/dist-packages (from spacy>=2.2.2->en_core_web_md==2.2.5) (3.0.2)\n",
            "Requirement already satisfied: blis<0.5.0,>=0.4.0 in /usr/local/lib/python3.6/dist-packages (from spacy>=2.2.2->en_core_web_md==2.2.5) (0.4.1)\n",
            "Requirement already satisfied: cymem<2.1.0,>=2.0.2 in /usr/local/lib/python3.6/dist-packages (from spacy>=2.2.2->en_core_web_md==2.2.5) (2.0.3)\n",
            "Requirement already satisfied: wasabi<1.1.0,>=0.4.0 in /usr/local/lib/python3.6/dist-packages (from spacy>=2.2.2->en_core_web_md==2.2.5) (0.8.0)\n",
            "Requirement already satisfied: numpy>=1.15.0 in /usr/local/lib/python3.6/dist-packages (from spacy>=2.2.2->en_core_web_md==2.2.5) (1.18.5)\n",
            "Requirement already satisfied: srsly<1.1.0,>=1.0.2 in /usr/local/lib/python3.6/dist-packages (from spacy>=2.2.2->en_core_web_md==2.2.5) (1.0.2)\n",
            "Requirement already satisfied: catalogue<1.1.0,>=0.0.7 in /usr/local/lib/python3.6/dist-packages (from spacy>=2.2.2->en_core_web_md==2.2.5) (1.0.0)\n",
            "Requirement already satisfied: plac<1.2.0,>=0.9.6 in /usr/local/lib/python3.6/dist-packages (from spacy>=2.2.2->en_core_web_md==2.2.5) (1.1.3)\n",
            "Requirement already satisfied: tqdm<5.0.0,>=4.38.0 in /usr/local/lib/python3.6/dist-packages (from spacy>=2.2.2->en_core_web_md==2.2.5) (4.41.1)\n",
            "Requirement already satisfied: setuptools in /usr/local/lib/python3.6/dist-packages (from spacy>=2.2.2->en_core_web_md==2.2.5) (50.3.0)\n",
            "Requirement already satisfied: certifi>=2017.4.17 in /usr/local/lib/python3.6/dist-packages (from requests<3.0.0,>=2.13.0->spacy>=2.2.2->en_core_web_md==2.2.5) (2020.6.20)\n",
            "Requirement already satisfied: chardet<4,>=3.0.2 in /usr/local/lib/python3.6/dist-packages (from requests<3.0.0,>=2.13.0->spacy>=2.2.2->en_core_web_md==2.2.5) (3.0.4)\n",
            "Requirement already satisfied: idna<3,>=2.5 in /usr/local/lib/python3.6/dist-packages (from requests<3.0.0,>=2.13.0->spacy>=2.2.2->en_core_web_md==2.2.5) (2.10)\n",
            "Requirement already satisfied: urllib3!=1.25.0,!=1.25.1,<1.26,>=1.21.1 in /usr/local/lib/python3.6/dist-packages (from requests<3.0.0,>=2.13.0->spacy>=2.2.2->en_core_web_md==2.2.5) (1.24.3)\n",
            "Requirement already satisfied: importlib-metadata>=0.20; python_version < \"3.8\" in /usr/local/lib/python3.6/dist-packages (from catalogue<1.1.0,>=0.0.7->spacy>=2.2.2->en_core_web_md==2.2.5) (2.0.0)\n",
            "Requirement already satisfied: zipp>=0.5 in /usr/local/lib/python3.6/dist-packages (from importlib-metadata>=0.20; python_version < \"3.8\"->catalogue<1.1.0,>=0.0.7->spacy>=2.2.2->en_core_web_md==2.2.5) (3.2.0)\n",
            "Building wheels for collected packages: en-core-web-md\n",
            "  Building wheel for en-core-web-md (setup.py) ... \u001b[?25l\u001b[?25hdone\n",
            "  Created wheel for en-core-web-md: filename=en_core_web_md-2.2.5-cp36-none-any.whl size=98051305 sha256=e684e62e2b11d32303d1c58e7d26908c4b484f58f3b338333c46d852f79e5abf\n",
            "  Stored in directory: /tmp/pip-ephem-wheel-cache-n_n4wkky/wheels/df/94/ad/f5cf59224cea6b5686ac4fd1ad19c8a07bc026e13c36502d81\n",
            "Successfully built en-core-web-md\n",
            "Installing collected packages: en-core-web-md\n",
            "Successfully installed en-core-web-md-2.2.5\n",
            "\u001b[38;5;2m✔ Download and installation successful\u001b[0m\n",
            "You can now load the model via spacy.load('en_core_web_md')\n"
          ],
          "name": "stdout"
        }
      ]
    },
    {
      "cell_type": "code",
      "metadata": {
        "id": "_uFO_jN7el6U"
      },
      "source": [
        "import en_core_web_md\n",
        "import spacy\n",
        "nlp = en_core_web_md.load()"
      ],
      "execution_count": null,
      "outputs": []
    },
    {
      "cell_type": "code",
      "metadata": {
        "id": "26OjEMfberzx"
      },
      "source": [
        "tmp = [\"balance\", \"complex\", \"fruity\"]\n",
        "attributes = nlp(\", \".join(tmp))\n",
        "\n",
        "def word_embed_sim(doc):\n",
        "    doc_str = nlp(\", \".join(doc))\n",
        "    return doc_str.similarity(attributes)\n",
        "\n",
        "reviews['word embedding similarity'] = reviews[\"final_version\"].map(word_embed_sim)"
      ],
      "execution_count": null,
      "outputs": []
    },
    {
      "cell_type": "code",
      "metadata": {
        "id": "17JS3CHIesOz",
        "colab": {
          "base_uri": "https://localhost:8080/"
        },
        "outputId": "f9b99ee9-81bd-45c6-821e-e40f6458487a"
      },
      "source": [
        "reviews['word embedding similarity']"
      ],
      "execution_count": null,
      "outputs": [
        {
          "output_type": "execute_result",
          "data": {
            "text/plain": [
              "0       0.823762\n",
              "1       0.844765\n",
              "2       0.796737\n",
              "3       0.821957\n",
              "4       0.821838\n",
              "          ...   \n",
              "5738    0.853914\n",
              "5739    0.849099\n",
              "5740    0.838608\n",
              "5741    0.846600\n",
              "5742    0.847185\n",
              "Name: word embedding similarity, Length: 5743, dtype: float64"
            ]
          },
          "metadata": {
            "tags": []
          },
          "execution_count": 29
        }
      ]
    },
    {
      "cell_type": "code",
      "metadata": {
        "id": "U4qQtluhWD09",
        "colab": {
          "base_uri": "https://localhost:8080/",
          "height": 235
        },
        "outputId": "18d1ebbf-c18e-4c85-81fe-42b5409acb21"
      },
      "source": [
        "# Table 1: Top3 recommended beer using Bag of Word Cosine similarity\n",
        "# Column0: top 3 product names\n",
        "# Column1: average similarity score for product (#1,2,3)\n",
        "# Column2: % reviews mentioning \"balanced\" \n",
        "# Column3: % reviews mentioning \"complex\"\n",
        "# Column4: % reviews mentioning \"fruity\"\n",
        "\n",
        "#This should be a 5 X 4 tables, including header and column names\n",
        "top_sim = reviews_group_df.sort_values(by='similarity',ascending=False)[0:6][[\"product_name\",\"user_rating\",\"similarity\"]].copy()\n",
        "top_sim"
      ],
      "execution_count": null,
      "outputs": [
        {
          "output_type": "execute_result",
          "data": {
            "text/html": [
              "<div>\n",
              "<style scoped>\n",
              "    .dataframe tbody tr th:only-of-type {\n",
              "        vertical-align: middle;\n",
              "    }\n",
              "\n",
              "    .dataframe tbody tr th {\n",
              "        vertical-align: top;\n",
              "    }\n",
              "\n",
              "    .dataframe thead th {\n",
              "        text-align: right;\n",
              "    }\n",
              "</style>\n",
              "<table border=\"1\" class=\"dataframe\">\n",
              "  <thead>\n",
              "    <tr style=\"text-align: right;\">\n",
              "      <th></th>\n",
              "      <th>product_name</th>\n",
              "      <th>user_rating</th>\n",
              "      <th>similarity</th>\n",
              "    </tr>\n",
              "  </thead>\n",
              "  <tbody>\n",
              "    <tr>\n",
              "      <th>66</th>\n",
              "      <td>Consecration\\nRussian River Brewing Company</td>\n",
              "      <td>4.4800</td>\n",
              "      <td>0.142134</td>\n",
              "    </tr>\n",
              "    <tr>\n",
              "      <th>40</th>\n",
              "      <td>Bomb!\\nPrairie Artisan Ales</td>\n",
              "      <td>4.7500</td>\n",
              "      <td>0.072169</td>\n",
              "    </tr>\n",
              "    <tr>\n",
              "      <th>185</th>\n",
              "      <td>Oude Geuze Golden Blend\\nBrouwerij 3 Fonteinen</td>\n",
              "      <td>4.5632</td>\n",
              "      <td>0.069557</td>\n",
              "    </tr>\n",
              "    <tr>\n",
              "      <th>225</th>\n",
              "      <td>Temptation\\nRussian River Brewing Company</td>\n",
              "      <td>4.2000</td>\n",
              "      <td>0.067574</td>\n",
              "    </tr>\n",
              "    <tr>\n",
              "      <th>125</th>\n",
              "      <td>Gueuze 100% Lambic\\nBrasserie Cantillon</td>\n",
              "      <td>4.3912</td>\n",
              "      <td>0.064257</td>\n",
              "    </tr>\n",
              "    <tr>\n",
              "      <th>247</th>\n",
              "      <td>Zenne Y Frontera\\nBrouwerij 3 Fonteinen</td>\n",
              "      <td>4.7068</td>\n",
              "      <td>0.063609</td>\n",
              "    </tr>\n",
              "  </tbody>\n",
              "</table>\n",
              "</div>"
            ],
            "text/plain": [
              "                                       product_name  user_rating  similarity\n",
              "66      Consecration\\nRussian River Brewing Company       4.4800    0.142134\n",
              "40                      Bomb!\\nPrairie Artisan Ales       4.7500    0.072169\n",
              "185  Oude Geuze Golden Blend\\nBrouwerij 3 Fonteinen       4.5632    0.069557\n",
              "225       Temptation\\nRussian River Brewing Company       4.2000    0.067574\n",
              "125         Gueuze 100% Lambic\\nBrasserie Cantillon       4.3912    0.064257\n",
              "247         Zenne Y Frontera\\nBrouwerij 3 Fonteinen       4.7068    0.063609"
            ]
          },
          "metadata": {
            "tags": []
          },
          "execution_count": 34
        }
      ]
    },
    {
      "cell_type": "code",
      "metadata": {
        "id": "nqEkYNUVuWVr"
      },
      "source": [
        "def percent_in_reviews(attri, product):\n",
        "    # product = \"Oude Geuze Golden Blend\\nBrouwerij 3 Fonteinen\"\n",
        "    # attri = \"balanced\"\n",
        "    df_temp = reviews[reviews[\"product_name\"] == product]\n",
        "    df_temp\n",
        "\n",
        "    count = 0\n",
        "    for list_words in df_temp[\"final_version\"]: \n",
        "        if attri in list_words:\n",
        "            count += 1\n",
        "    return (count/len(df_temp[\"final_version\"]))\n",
        "\n",
        "for attri in tmp:\n",
        "    top_sim[\"% reviews mentioning \" + attri] = [0,0,0,0,0,0]\n",
        "  \n",
        "count_row = 0\n",
        "count_col = 0\n",
        "\n",
        "for product in top_sim[\"product_name\"]:\n",
        "    count_col = 0\n",
        "    for attri in tmp:\n",
        "        top_sim.iloc[count_row, top_sim.columns.get_loc('% reviews mentioning ' + attri)]= percent_in_reviews(attri, product)\n",
        "        count_col += 1\n",
        "    count_row += 1"
      ],
      "execution_count": null,
      "outputs": []
    },
    {
      "cell_type": "code",
      "metadata": {
        "id": "h729zDkA3261",
        "colab": {
          "base_uri": "https://localhost:8080/",
          "height": 303
        },
        "outputId": "9bb41a83-ffe3-4a8f-a86d-8bdb26ab92c3"
      },
      "source": [
        "top_sim"
      ],
      "execution_count": null,
      "outputs": [
        {
          "output_type": "execute_result",
          "data": {
            "text/html": [
              "<div>\n",
              "<style scoped>\n",
              "    .dataframe tbody tr th:only-of-type {\n",
              "        vertical-align: middle;\n",
              "    }\n",
              "\n",
              "    .dataframe tbody tr th {\n",
              "        vertical-align: top;\n",
              "    }\n",
              "\n",
              "    .dataframe thead th {\n",
              "        text-align: right;\n",
              "    }\n",
              "</style>\n",
              "<table border=\"1\" class=\"dataframe\">\n",
              "  <thead>\n",
              "    <tr style=\"text-align: right;\">\n",
              "      <th></th>\n",
              "      <th>product_name</th>\n",
              "      <th>user_rating</th>\n",
              "      <th>similarity</th>\n",
              "      <th>% reviews mentioning balance</th>\n",
              "      <th>% reviews mentioning complex</th>\n",
              "      <th>% reviews mentioning fruity</th>\n",
              "    </tr>\n",
              "  </thead>\n",
              "  <tbody>\n",
              "    <tr>\n",
              "      <th>66</th>\n",
              "      <td>Consecration\\nRussian River Brewing Company</td>\n",
              "      <td>4.4800</td>\n",
              "      <td>0.142134</td>\n",
              "      <td>1.00</td>\n",
              "      <td>1.00</td>\n",
              "      <td>0.00</td>\n",
              "    </tr>\n",
              "    <tr>\n",
              "      <th>40</th>\n",
              "      <td>Bomb!\\nPrairie Artisan Ales</td>\n",
              "      <td>4.7500</td>\n",
              "      <td>0.072169</td>\n",
              "      <td>0.00</td>\n",
              "      <td>1.00</td>\n",
              "      <td>0.00</td>\n",
              "    </tr>\n",
              "    <tr>\n",
              "      <th>185</th>\n",
              "      <td>Oude Geuze Golden Blend\\nBrouwerij 3 Fonteinen</td>\n",
              "      <td>4.5632</td>\n",
              "      <td>0.069557</td>\n",
              "      <td>0.04</td>\n",
              "      <td>0.28</td>\n",
              "      <td>0.20</td>\n",
              "    </tr>\n",
              "    <tr>\n",
              "      <th>225</th>\n",
              "      <td>Temptation\\nRussian River Brewing Company</td>\n",
              "      <td>4.2000</td>\n",
              "      <td>0.067574</td>\n",
              "      <td>0.00</td>\n",
              "      <td>0.00</td>\n",
              "      <td>1.00</td>\n",
              "    </tr>\n",
              "    <tr>\n",
              "      <th>125</th>\n",
              "      <td>Gueuze 100% Lambic\\nBrasserie Cantillon</td>\n",
              "      <td>4.3912</td>\n",
              "      <td>0.064257</td>\n",
              "      <td>0.16</td>\n",
              "      <td>0.28</td>\n",
              "      <td>0.24</td>\n",
              "    </tr>\n",
              "    <tr>\n",
              "      <th>247</th>\n",
              "      <td>Zenne Y Frontera\\nBrouwerij 3 Fonteinen</td>\n",
              "      <td>4.7068</td>\n",
              "      <td>0.063609</td>\n",
              "      <td>0.00</td>\n",
              "      <td>0.28</td>\n",
              "      <td>0.16</td>\n",
              "    </tr>\n",
              "  </tbody>\n",
              "</table>\n",
              "</div>"
            ],
            "text/plain": [
              "                                       product_name  ...  % reviews mentioning fruity\n",
              "66      Consecration\\nRussian River Brewing Company  ...                         0.00\n",
              "40                      Bomb!\\nPrairie Artisan Ales  ...                         0.00\n",
              "185  Oude Geuze Golden Blend\\nBrouwerij 3 Fonteinen  ...                         0.20\n",
              "225       Temptation\\nRussian River Brewing Company  ...                         1.00\n",
              "125         Gueuze 100% Lambic\\nBrasserie Cantillon  ...                         0.24\n",
              "247         Zenne Y Frontera\\nBrouwerij 3 Fonteinen  ...                         0.16\n",
              "\n",
              "[6 rows x 6 columns]"
            ]
          },
          "metadata": {
            "tags": []
          },
          "execution_count": 39
        }
      ]
    },
    {
      "cell_type": "code",
      "metadata": {
        "id": "7Zhayl1nWywt",
        "colab": {
          "base_uri": "https://localhost:8080/",
          "height": 204
        },
        "outputId": "6beabd28-830f-4db0-9e3f-0970485f4824"
      },
      "source": [
        "# Table 2: Top3 recommended beer using word vectors (spaCy)\n",
        "# Column0: top 3 product names\n",
        "# Column1: average similarity score for product 1\n",
        "# Column2: % reviews mentioning \"balanced\" \n",
        "# Column3: % reviews mentioning \"complex\"\n",
        "# Column4: % reviews mentioning \"fruity\"\n",
        "reviews_group_df2 =reviews.loc[:,[\"product_name\",\"user_rating\",\"sentiment_score\",\"word embedding similarity\"]].groupby(\"product_name\").mean().reset_index()\n",
        "top_sim2 = reviews_group_df2.sort_values(by='word embedding similarity',ascending=False)[0:5][[\"product_name\",\"user_rating\",\"word embedding similarity\"]].copy()\n",
        "top_sim2"
      ],
      "execution_count": null,
      "outputs": [
        {
          "output_type": "execute_result",
          "data": {
            "text/html": [
              "<div>\n",
              "<style scoped>\n",
              "    .dataframe tbody tr th:only-of-type {\n",
              "        vertical-align: middle;\n",
              "    }\n",
              "\n",
              "    .dataframe tbody tr th {\n",
              "        vertical-align: top;\n",
              "    }\n",
              "\n",
              "    .dataframe thead th {\n",
              "        text-align: right;\n",
              "    }\n",
              "</style>\n",
              "<table border=\"1\" class=\"dataframe\">\n",
              "  <thead>\n",
              "    <tr style=\"text-align: right;\">\n",
              "      <th></th>\n",
              "      <th>product_name</th>\n",
              "      <th>user_rating</th>\n",
              "      <th>word embedding similarity</th>\n",
              "    </tr>\n",
              "  </thead>\n",
              "  <tbody>\n",
              "    <tr>\n",
              "      <th>66</th>\n",
              "      <td>Consecration\\nRussian River Brewing Company</td>\n",
              "      <td>4.4800</td>\n",
              "      <td>0.867107</td>\n",
              "    </tr>\n",
              "    <tr>\n",
              "      <th>249</th>\n",
              "      <td>§ucaba\\nFirestone Walker Brewing Co.</td>\n",
              "      <td>4.5000</td>\n",
              "      <td>0.851568</td>\n",
              "    </tr>\n",
              "    <tr>\n",
              "      <th>222</th>\n",
              "      <td>Supplication\\nRussian River Brewing Company</td>\n",
              "      <td>4.4000</td>\n",
              "      <td>0.849155</td>\n",
              "    </tr>\n",
              "    <tr>\n",
              "      <th>248</th>\n",
              "      <td>Zombie Dust\\n3 Floyds Brewing Co.</td>\n",
              "      <td>4.4200</td>\n",
              "      <td>0.847071</td>\n",
              "    </tr>\n",
              "    <tr>\n",
              "      <th>45</th>\n",
              "      <td>Bourbon Barrel Oro Negro\\nJackie O's Pub &amp; Bre...</td>\n",
              "      <td>4.4984</td>\n",
              "      <td>0.847033</td>\n",
              "    </tr>\n",
              "  </tbody>\n",
              "</table>\n",
              "</div>"
            ],
            "text/plain": [
              "                                          product_name  ...  word embedding similarity\n",
              "66         Consecration\\nRussian River Brewing Company  ...                   0.867107\n",
              "249               §ucaba\\nFirestone Walker Brewing Co.  ...                   0.851568\n",
              "222        Supplication\\nRussian River Brewing Company  ...                   0.849155\n",
              "248                  Zombie Dust\\n3 Floyds Brewing Co.  ...                   0.847071\n",
              "45   Bourbon Barrel Oro Negro\\nJackie O's Pub & Bre...  ...                   0.847033\n",
              "\n",
              "[5 rows x 3 columns]"
            ]
          },
          "metadata": {
            "tags": []
          },
          "execution_count": 42
        }
      ]
    },
    {
      "cell_type": "code",
      "metadata": {
        "id": "kHqpz5q34oLL",
        "colab": {
          "base_uri": "https://localhost:8080/",
          "height": 272
        },
        "outputId": "bee9b8c1-4cb6-482e-b14a-12c54f75990c"
      },
      "source": [
        "for attri in tmp:\n",
        "    top_sim2[\"% reviews mentioning \" + attri] = [0,0,0,0,0]\n",
        "  \n",
        "count_row = 0\n",
        "count_col = 0\n",
        "\n",
        "for product in top_sim2[\"product_name\"]:\n",
        "    count_col = 0\n",
        "    for attri in tmp:\n",
        "        top_sim2.iloc[count_row, top_sim2.columns.get_loc('% reviews mentioning ' + attri)]= percent_in_reviews(attri, product)\n",
        "        count_col += 1\n",
        "    count_row += 1\n",
        "\n",
        "top_sim2"
      ],
      "execution_count": null,
      "outputs": [
        {
          "output_type": "execute_result",
          "data": {
            "text/html": [
              "<div>\n",
              "<style scoped>\n",
              "    .dataframe tbody tr th:only-of-type {\n",
              "        vertical-align: middle;\n",
              "    }\n",
              "\n",
              "    .dataframe tbody tr th {\n",
              "        vertical-align: top;\n",
              "    }\n",
              "\n",
              "    .dataframe thead th {\n",
              "        text-align: right;\n",
              "    }\n",
              "</style>\n",
              "<table border=\"1\" class=\"dataframe\">\n",
              "  <thead>\n",
              "    <tr style=\"text-align: right;\">\n",
              "      <th></th>\n",
              "      <th>product_name</th>\n",
              "      <th>user_rating</th>\n",
              "      <th>word embedding similarity</th>\n",
              "      <th>% reviews mentioning balance</th>\n",
              "      <th>% reviews mentioning complex</th>\n",
              "      <th>% reviews mentioning fruity</th>\n",
              "    </tr>\n",
              "  </thead>\n",
              "  <tbody>\n",
              "    <tr>\n",
              "      <th>66</th>\n",
              "      <td>Consecration\\nRussian River Brewing Company</td>\n",
              "      <td>4.4800</td>\n",
              "      <td>0.867107</td>\n",
              "      <td>1.00</td>\n",
              "      <td>1.0</td>\n",
              "      <td>0.0</td>\n",
              "    </tr>\n",
              "    <tr>\n",
              "      <th>249</th>\n",
              "      <td>§ucaba\\nFirestone Walker Brewing Co.</td>\n",
              "      <td>4.5000</td>\n",
              "      <td>0.851568</td>\n",
              "      <td>0.00</td>\n",
              "      <td>0.0</td>\n",
              "      <td>0.0</td>\n",
              "    </tr>\n",
              "    <tr>\n",
              "      <th>222</th>\n",
              "      <td>Supplication\\nRussian River Brewing Company</td>\n",
              "      <td>4.4000</td>\n",
              "      <td>0.849155</td>\n",
              "      <td>0.00</td>\n",
              "      <td>0.0</td>\n",
              "      <td>1.0</td>\n",
              "    </tr>\n",
              "    <tr>\n",
              "      <th>248</th>\n",
              "      <td>Zombie Dust\\n3 Floyds Brewing Co.</td>\n",
              "      <td>4.4200</td>\n",
              "      <td>0.847071</td>\n",
              "      <td>0.00</td>\n",
              "      <td>0.0</td>\n",
              "      <td>0.0</td>\n",
              "    </tr>\n",
              "    <tr>\n",
              "      <th>45</th>\n",
              "      <td>Bourbon Barrel Oro Negro\\nJackie O's Pub &amp; Bre...</td>\n",
              "      <td>4.4984</td>\n",
              "      <td>0.847033</td>\n",
              "      <td>0.28</td>\n",
              "      <td>0.2</td>\n",
              "      <td>0.0</td>\n",
              "    </tr>\n",
              "  </tbody>\n",
              "</table>\n",
              "</div>"
            ],
            "text/plain": [
              "                                          product_name  ...  % reviews mentioning fruity\n",
              "66         Consecration\\nRussian River Brewing Company  ...                          0.0\n",
              "249               §ucaba\\nFirestone Walker Brewing Co.  ...                          0.0\n",
              "222        Supplication\\nRussian River Brewing Company  ...                          1.0\n",
              "248                  Zombie Dust\\n3 Floyds Brewing Co.  ...                          0.0\n",
              "45   Bourbon Barrel Oro Negro\\nJackie O's Pub & Bre...  ...                          0.0\n",
              "\n",
              "[5 rows x 6 columns]"
            ]
          },
          "metadata": {
            "tags": []
          },
          "execution_count": 43
        }
      ]
    },
    {
      "cell_type": "markdown",
      "metadata": {
        "id": "UeD2vXIBjYDF"
      },
      "source": [
        "**Compare the results and talk about why**  \n",
        "For cosine similarity (plain vanilla bag-of-words), the list of top five brands we get is different from that with word vector similarity. The team used top five brands instead of top three for both tables as some brands did not have enough reviews to run the analysis which distorted the average similarity score. \n",
        "\n",
        "On the other hand, when the team ran spaCy and ordered the dataset by \"word-embedding similarity\" (word vectors), the result shows that most reviews does not mention the exact feature words. However, the team was able to observe that they have a higher similarity score because they mention something similar to the three features that was assigned."
      ]
    },
    {
      "cell_type": "markdown",
      "metadata": {
        "id": "SIxZ7lQ5bKaX"
      },
      "source": [
        "### Task G: Comparing User Rating and Our Recommendations"
      ]
    },
    {
      "cell_type": "code",
      "metadata": {
        "id": "wYkOm9WObLEq",
        "colab": {
          "base_uri": "https://localhost:8080/",
          "height": 194
        },
        "outputId": "c09e7c7f-317b-4517-97fe-58d53ebcf7ac"
      },
      "source": [
        "#Just by user rating\n",
        "reviews_group_df.sort_values(by='user_rating',ascending=False)[0:5]"
      ],
      "execution_count": null,
      "outputs": [
        {
          "output_type": "execute_result",
          "data": {
            "text/html": [
              "<div>\n",
              "<style scoped>\n",
              "    .dataframe tbody tr th:only-of-type {\n",
              "        vertical-align: middle;\n",
              "    }\n",
              "\n",
              "    .dataframe tbody tr th {\n",
              "        vertical-align: top;\n",
              "    }\n",
              "\n",
              "    .dataframe thead th {\n",
              "        text-align: right;\n",
              "    }\n",
              "</style>\n",
              "<table border=\"1\" class=\"dataframe\">\n",
              "  <thead>\n",
              "    <tr style=\"text-align: right;\">\n",
              "      <th></th>\n",
              "      <th>product_name</th>\n",
              "      <th>user_rating</th>\n",
              "      <th>sentiment_score</th>\n",
              "      <th>similarity</th>\n",
              "      <th>evaluation_score</th>\n",
              "    </tr>\n",
              "  </thead>\n",
              "  <tbody>\n",
              "    <tr>\n",
              "      <th>232</th>\n",
              "      <td>Trappist Westvleteren 12 (XII)\\nBrouwerij West...</td>\n",
              "      <td>5.000000</td>\n",
              "      <td>0.000000</td>\n",
              "      <td>0.000000</td>\n",
              "      <td>0.000000</td>\n",
              "    </tr>\n",
              "    <tr>\n",
              "      <th>52</th>\n",
              "      <td>CBS (Canadian Breakfast Stout)\\nFounders Brewi...</td>\n",
              "      <td>4.890000</td>\n",
              "      <td>0.000000</td>\n",
              "      <td>0.000000</td>\n",
              "      <td>0.000000</td>\n",
              "    </tr>\n",
              "    <tr>\n",
              "      <th>48</th>\n",
              "      <td>Bourbon County Brand Stout\\nGoose Island Beer Co.</td>\n",
              "      <td>4.880000</td>\n",
              "      <td>0.000000</td>\n",
              "      <td>0.000000</td>\n",
              "      <td>0.000000</td>\n",
              "    </tr>\n",
              "    <tr>\n",
              "      <th>47</th>\n",
              "      <td>Bourbon County Brand Coffee Stout\\nGoose Islan...</td>\n",
              "      <td>4.770000</td>\n",
              "      <td>0.000000</td>\n",
              "      <td>0.000000</td>\n",
              "      <td>0.000000</td>\n",
              "    </tr>\n",
              "    <tr>\n",
              "      <th>56</th>\n",
              "      <td>Chemtrailmix\\n3 Floyds Brewing Co.</td>\n",
              "      <td>4.754286</td>\n",
              "      <td>0.035895</td>\n",
              "      <td>0.024433</td>\n",
              "      <td>0.060328</td>\n",
              "    </tr>\n",
              "  </tbody>\n",
              "</table>\n",
              "</div>"
            ],
            "text/plain": [
              "                                          product_name  ...  evaluation_score\n",
              "232  Trappist Westvleteren 12 (XII)\\nBrouwerij West...  ...          0.000000\n",
              "52   CBS (Canadian Breakfast Stout)\\nFounders Brewi...  ...          0.000000\n",
              "48   Bourbon County Brand Stout\\nGoose Island Beer Co.  ...          0.000000\n",
              "47   Bourbon County Brand Coffee Stout\\nGoose Islan...  ...          0.000000\n",
              "56                  Chemtrailmix\\n3 Floyds Brewing Co.  ...          0.060328\n",
              "\n",
              "[5 rows x 5 columns]"
            ]
          },
          "metadata": {
            "tags": []
          },
          "execution_count": 53
        }
      ]
    },
    {
      "cell_type": "markdown",
      "metadata": {
        "id": "z9OKGN1vbRjs"
      },
      "source": [
        "Discusssion here:\n",
        "Select 3 highest rated products from the entire dataset are:\n",
        "\n",
        "**1.Trappist Westvleteren 12 (XII) --Brouwerij Westvleteren (Sint-Sixtusabdij van Westvleteren)**\n",
        "\n",
        "**2.CBS (Canadian Breakfast Stout) --Founders Brewing Company**\n",
        "\n",
        "**3.Bourbon County Brand Stout --Goose Island Beer Co.**\n",
        "\n",
        "The product with the user rating is Trappist Westvleteren 12 (XII). From the dataset, it can be seen that this product has only one piece of review, and the score is 5 points. It can be seen from the review of the product that the customer highly recommends this product, but the features \"balanced\", \"complex\" and \"fruity\" we selected is not mentioned in the product's review, so the evaluation_score is 0.\n",
        "\n",
        "The second-ranked product is CBS (Canadian Breakfast Stout). This product has only one piece of data in the crawled data set. Customers think Not very good with smells but you can definitely smell maple in there. It has nothing to do with fruity characteristics. The other two features are also not mentioned explicitly.\n",
        "\n",
        "The third product is Bourbon County Brand Stout, which has 3 reviews. Customers think that the taste is sublime and ever-changing. But it does not mention the features we selected.\n",
        "\n",
        "###Conclusion:\n",
        "If we recommend the customer who's using this system the beer with top \"user_rating\" without taking considerations of cosine similarity score/feature sentiment, we would fail to make the best suggestions based on his/her specific tastes (features). Also, the main reason that these \"top beers\" have such high user-rating is because there are not enough reviews that are written for some products (small sample data). Therefore, they ended up being ranked top in the chart but with a evaluation score of 0.\n",
        "\n"
      ]
    }
  ]
}