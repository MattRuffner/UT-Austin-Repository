{
  "nbformat": 4,
  "nbformat_minor": 0,
  "metadata": {
    "colab": {
      "name": "Final_Project.ipynb",
      "provenance": [],
      "collapsed_sections": [],
      "toc_visible": true
    },
    "kernelspec": {
      "name": "python3",
      "display_name": "Python 3"
    }
  },
  "cells": [
    {
      "cell_type": "markdown",
      "metadata": {
        "id": "Vgb7lPhycKH2"
      },
      "source": [
        "# **Final_Project** DUE OCT. 15th TUESDAY\n",
        "\n",
        "## Yingjie Chen (yc24966) - 08:30 section\n",
        "## Andrew Han (ah49372) - 10:30 section\n",
        "## Sitong Li (sl43736) - 10:30 section\n",
        "## Matthew Ruffner (mar9632) - 08:30 section\n",
        "## Xinmeng Song (xs3659) - 08:30 section\n",
        "\n"
      ]
    },
    {
      "cell_type": "markdown",
      "metadata": {
        "id": "LEN3_NIAcbQe"
      },
      "source": [
        "###Task A: Preparation"
      ]
    },
    {
      "cell_type": "code",
      "metadata": {
        "id": "-Bn9jtRIcdCx"
      },
      "source": [
        "#installs and imports\n",
        "import time\n",
        "import sys\n",
        "import pandas as pd\n",
        "import requests\n",
        "from bs4 import BeautifulSoup\n"
      ],
      "execution_count": null,
      "outputs": []
    },
    {
      "cell_type": "code",
      "metadata": {
        "id": "9jjDAO5UcdKn",
        "colab": {
          "resources": {
            "http://localhost:8080/nbextensions/google.colab/files.js": {
              "data": "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",
              "ok": true,
              "headers": [
                [
                  "content-type",
                  "application/javascript"
                ]
              ],
              "status": 200,
              "status_text": ""
            }
          },
          "base_uri": "https://localhost:8080/",
          "height": 73
        },
        "outputId": "9b4f6ec8-6e1d-4623-b65d-365bba066243"
      },
      "source": [
        "#Import dataset .csv file\n",
        "from google.colab import files\n",
        "uploaded = files.upload()"
      ],
      "execution_count": null,
      "outputs": [
        {
          "output_type": "display_data",
          "data": {
            "text/html": [
              "\n",
              "     <input type=\"file\" id=\"files-09a36dac-13ac-426b-8ff4-bd5f4a9927d0\" name=\"files[]\" multiple disabled\n",
              "        style=\"border:none\" />\n",
              "     <output id=\"result-09a36dac-13ac-426b-8ff4-bd5f4a9927d0\">\n",
              "      Upload widget is only available when the cell has been executed in the\n",
              "      current browser session. Please rerun this cell to enable.\n",
              "      </output>\n",
              "      <script src=\"/nbextensions/google.colab/files.js\"></script> "
            ],
            "text/plain": [
              "<IPython.core.display.HTML object>"
            ]
          },
          "metadata": {
            "tags": []
          }
        },
        {
          "output_type": "stream",
          "text": [
            "Saving apple_reviews.csv to apple_reviews.csv\n"
          ],
          "name": "stdout"
        }
      ]
    },
    {
      "cell_type": "code",
      "metadata": {
        "id": "JkueOR1d9Nrc",
        "colab": {
          "base_uri": "https://localhost:8080/",
          "height": 399
        },
        "outputId": "1fb8932e-055d-46a2-ff62-e77b54683514"
      },
      "source": [
        "apple_reviews = pd.read_csv(\"apple_reviews.csv\")\n",
        "apple_reviews"
      ],
      "execution_count": null,
      "outputs": [
        {
          "output_type": "execute_result",
          "data": {
            "text/html": [
              "<div>\n",
              "<style scoped>\n",
              "    .dataframe tbody tr th:only-of-type {\n",
              "        vertical-align: middle;\n",
              "    }\n",
              "\n",
              "    .dataframe tbody tr th {\n",
              "        vertical-align: top;\n",
              "    }\n",
              "\n",
              "    .dataframe thead th {\n",
              "        text-align: right;\n",
              "    }\n",
              "</style>\n",
              "<table border=\"1\" class=\"dataframe\">\n",
              "  <thead>\n",
              "    <tr style=\"text-align: right;\">\n",
              "      <th></th>\n",
              "      <th>date</th>\n",
              "      <th>location</th>\n",
              "      <th>pros</th>\n",
              "      <th>cons</th>\n",
              "    </tr>\n",
              "  </thead>\n",
              "  <tbody>\n",
              "    <tr>\n",
              "      <th>0</th>\n",
              "      <td>Tue Oct 06 2020 17:19:19 GMT-0500 (Central Day...</td>\n",
              "      <td>Cupertino, CA</td>\n",
              "      <td>Lots of people to learn from\\nExposure to new ...</td>\n",
              "      <td>Difficult to onboard\\nVery little documentation</td>\n",
              "    </tr>\n",
              "    <tr>\n",
              "      <th>1</th>\n",
              "      <td>Thu Aug 28 2014 21:07:35 GMT-0500 (Central Day...</td>\n",
              "      <td>NaN</td>\n",
              "      <td>We work with geniuses - in every department, W...</td>\n",
              "      <td>ZERO ZERO ZERO work/life balance. Execs have b...</td>\n",
              "    </tr>\n",
              "    <tr>\n",
              "      <th>2</th>\n",
              "      <td>Fri Oct 02 2020 23:06:48 GMT-0500 (Central Day...</td>\n",
              "      <td>Denver, CO</td>\n",
              "      <td>Flexible, accommodating, never boring, always ...</td>\n",
              "      <td>Hard to stand out sometimes.</td>\n",
              "    </tr>\n",
              "    <tr>\n",
              "      <th>3</th>\n",
              "      <td>Tue Oct 06 2020 07:36:22 GMT-0500 (Central Day...</td>\n",
              "      <td>Cupertino, CA</td>\n",
              "      <td>Perks, team, management and great company outings</td>\n",
              "      <td>poor ladder to c limb</td>\n",
              "    </tr>\n",
              "    <tr>\n",
              "      <th>4</th>\n",
              "      <td>Tue Oct 06 2020 14:01:57 GMT-0500 (Central Day...</td>\n",
              "      <td>Virginia Beach, VA</td>\n",
              "      <td>Learn a lot about working with people and cowo...</td>\n",
              "      <td>Not super flexible on hours.</td>\n",
              "    </tr>\n",
              "    <tr>\n",
              "      <th>...</th>\n",
              "      <td>...</td>\n",
              "      <td>...</td>\n",
              "      <td>...</td>\n",
              "      <td>...</td>\n",
              "    </tr>\n",
              "    <tr>\n",
              "      <th>4995</th>\n",
              "      <td>Wed May 31 2017 15:54:57 GMT-0500 (Central Day...</td>\n",
              "      <td>Nanuet, NY</td>\n",
              "      <td>-Great co-workers -Great benefits -Fast Paced ...</td>\n",
              "      <td>-Disorganized management team -Separating betw...</td>\n",
              "    </tr>\n",
              "    <tr>\n",
              "      <th>4996</th>\n",
              "      <td>Tue May 16 2017 10:55:20 GMT-0500 (Central Day...</td>\n",
              "      <td>NaN</td>\n",
              "      <td>Personal Space Independent worker Insurance st...</td>\n",
              "      <td>Unable to meet people from work</td>\n",
              "    </tr>\n",
              "    <tr>\n",
              "      <th>4997</th>\n",
              "      <td>Mon May 29 2017 23:28:26 GMT-0500 (Central Day...</td>\n",
              "      <td>NaN</td>\n",
              "      <td>Great benefits and job security.</td>\n",
              "      <td>Work and life balance can be a challenge.</td>\n",
              "    </tr>\n",
              "    <tr>\n",
              "      <th>4998</th>\n",
              "      <td>Tue May 30 2017 09:34:07 GMT-0500 (Central Day...</td>\n",
              "      <td>NaN</td>\n",
              "      <td>Good benefits and great diversity in coworkers</td>\n",
              "      <td>Inconsistent schedule and job can be repetitive</td>\n",
              "    </tr>\n",
              "    <tr>\n",
              "      <th>4999</th>\n",
              "      <td>Tue May 30 2017 10:36:32 GMT-0500 (Central Day...</td>\n",
              "      <td>Dallas, TX</td>\n",
              "      <td>Management worked very well with my school sch...</td>\n",
              "      <td>The stores can get kind of busy at times and i...</td>\n",
              "    </tr>\n",
              "  </tbody>\n",
              "</table>\n",
              "<p>5000 rows × 4 columns</p>\n",
              "</div>"
            ],
            "text/plain": [
              "                                                   date  ...                                               cons\n",
              "0     Tue Oct 06 2020 17:19:19 GMT-0500 (Central Day...  ...    Difficult to onboard\\nVery little documentation\n",
              "1     Thu Aug 28 2014 21:07:35 GMT-0500 (Central Day...  ...  ZERO ZERO ZERO work/life balance. Execs have b...\n",
              "2     Fri Oct 02 2020 23:06:48 GMT-0500 (Central Day...  ...                       Hard to stand out sometimes.\n",
              "3     Tue Oct 06 2020 07:36:22 GMT-0500 (Central Day...  ...                              poor ladder to c limb\n",
              "4     Tue Oct 06 2020 14:01:57 GMT-0500 (Central Day...  ...                       Not super flexible on hours.\n",
              "...                                                 ...  ...                                                ...\n",
              "4995  Wed May 31 2017 15:54:57 GMT-0500 (Central Day...  ...  -Disorganized management team -Separating betw...\n",
              "4996  Tue May 16 2017 10:55:20 GMT-0500 (Central Day...  ...                    Unable to meet people from work\n",
              "4997  Mon May 29 2017 23:28:26 GMT-0500 (Central Day...  ...          Work and life balance can be a challenge.\n",
              "4998  Tue May 30 2017 09:34:07 GMT-0500 (Central Day...  ...    Inconsistent schedule and job can be repetitive\n",
              "4999  Tue May 30 2017 10:36:32 GMT-0500 (Central Day...  ...  The stores can get kind of busy at times and i...\n",
              "\n",
              "[5000 rows x 4 columns]"
            ]
          },
          "metadata": {
            "tags": []
          },
          "execution_count": 3
        }
      ]
    },
    {
      "cell_type": "code",
      "metadata": {
        "id": "kh48jmCLvl2p",
        "colab": {
          "base_uri": "https://localhost:8080/",
          "height": 399
        },
        "outputId": "c4fc142e-fc00-4a3d-b8de-833aecba31ad"
      },
      "source": [
        "apple_reviews = pd.read_csv(\"apple_reviews.csv\")\n",
        "apple_reviews"
      ],
      "execution_count": null,
      "outputs": [
        {
          "output_type": "execute_result",
          "data": {
            "text/html": [
              "<div>\n",
              "<style scoped>\n",
              "    .dataframe tbody tr th:only-of-type {\n",
              "        vertical-align: middle;\n",
              "    }\n",
              "\n",
              "    .dataframe tbody tr th {\n",
              "        vertical-align: top;\n",
              "    }\n",
              "\n",
              "    .dataframe thead th {\n",
              "        text-align: right;\n",
              "    }\n",
              "</style>\n",
              "<table border=\"1\" class=\"dataframe\">\n",
              "  <thead>\n",
              "    <tr style=\"text-align: right;\">\n",
              "      <th></th>\n",
              "      <th>date</th>\n",
              "      <th>location</th>\n",
              "      <th>pros</th>\n",
              "      <th>cons</th>\n",
              "    </tr>\n",
              "  </thead>\n",
              "  <tbody>\n",
              "    <tr>\n",
              "      <th>0</th>\n",
              "      <td>Tue Oct 06 2020 17:19:19 GMT-0500 (Central Day...</td>\n",
              "      <td>Cupertino, CA</td>\n",
              "      <td>Lots of people to learn from\\nExposure to new ...</td>\n",
              "      <td>Difficult to onboard\\nVery little documentation</td>\n",
              "    </tr>\n",
              "    <tr>\n",
              "      <th>1</th>\n",
              "      <td>Thu Aug 28 2014 21:07:35 GMT-0500 (Central Day...</td>\n",
              "      <td>NaN</td>\n",
              "      <td>We work with geniuses - in every department, W...</td>\n",
              "      <td>ZERO ZERO ZERO work/life balance. Execs have b...</td>\n",
              "    </tr>\n",
              "    <tr>\n",
              "      <th>2</th>\n",
              "      <td>Fri Oct 02 2020 23:06:48 GMT-0500 (Central Day...</td>\n",
              "      <td>Denver, CO</td>\n",
              "      <td>Flexible, accommodating, never boring, always ...</td>\n",
              "      <td>Hard to stand out sometimes.</td>\n",
              "    </tr>\n",
              "    <tr>\n",
              "      <th>3</th>\n",
              "      <td>Tue Oct 06 2020 07:36:22 GMT-0500 (Central Day...</td>\n",
              "      <td>Cupertino, CA</td>\n",
              "      <td>Perks, team, management and great company outings</td>\n",
              "      <td>poor ladder to c limb</td>\n",
              "    </tr>\n",
              "    <tr>\n",
              "      <th>4</th>\n",
              "      <td>Tue Oct 06 2020 14:01:57 GMT-0500 (Central Day...</td>\n",
              "      <td>Virginia Beach, VA</td>\n",
              "      <td>Learn a lot about working with people and cowo...</td>\n",
              "      <td>Not super flexible on hours.</td>\n",
              "    </tr>\n",
              "    <tr>\n",
              "      <th>...</th>\n",
              "      <td>...</td>\n",
              "      <td>...</td>\n",
              "      <td>...</td>\n",
              "      <td>...</td>\n",
              "    </tr>\n",
              "    <tr>\n",
              "      <th>4995</th>\n",
              "      <td>Wed May 31 2017 15:54:57 GMT-0500 (Central Day...</td>\n",
              "      <td>Nanuet, NY</td>\n",
              "      <td>-Great co-workers -Great benefits -Fast Paced ...</td>\n",
              "      <td>-Disorganized management team -Separating betw...</td>\n",
              "    </tr>\n",
              "    <tr>\n",
              "      <th>4996</th>\n",
              "      <td>Tue May 16 2017 10:55:20 GMT-0500 (Central Day...</td>\n",
              "      <td>NaN</td>\n",
              "      <td>Personal Space Independent worker Insurance st...</td>\n",
              "      <td>Unable to meet people from work</td>\n",
              "    </tr>\n",
              "    <tr>\n",
              "      <th>4997</th>\n",
              "      <td>Mon May 29 2017 23:28:26 GMT-0500 (Central Day...</td>\n",
              "      <td>NaN</td>\n",
              "      <td>Great benefits and job security.</td>\n",
              "      <td>Work and life balance can be a challenge.</td>\n",
              "    </tr>\n",
              "    <tr>\n",
              "      <th>4998</th>\n",
              "      <td>Tue May 30 2017 09:34:07 GMT-0500 (Central Day...</td>\n",
              "      <td>NaN</td>\n",
              "      <td>Good benefits and great diversity in coworkers</td>\n",
              "      <td>Inconsistent schedule and job can be repetitive</td>\n",
              "    </tr>\n",
              "    <tr>\n",
              "      <th>4999</th>\n",
              "      <td>Tue May 30 2017 10:36:32 GMT-0500 (Central Day...</td>\n",
              "      <td>Dallas, TX</td>\n",
              "      <td>Management worked very well with my school sch...</td>\n",
              "      <td>The stores can get kind of busy at times and i...</td>\n",
              "    </tr>\n",
              "  </tbody>\n",
              "</table>\n",
              "<p>5000 rows × 4 columns</p>\n",
              "</div>"
            ],
            "text/plain": [
              "                                                   date  ...                                               cons\n",
              "0     Tue Oct 06 2020 17:19:19 GMT-0500 (Central Day...  ...    Difficult to onboard\\nVery little documentation\n",
              "1     Thu Aug 28 2014 21:07:35 GMT-0500 (Central Day...  ...  ZERO ZERO ZERO work/life balance. Execs have b...\n",
              "2     Fri Oct 02 2020 23:06:48 GMT-0500 (Central Day...  ...                       Hard to stand out sometimes.\n",
              "3     Tue Oct 06 2020 07:36:22 GMT-0500 (Central Day...  ...                              poor ladder to c limb\n",
              "4     Tue Oct 06 2020 14:01:57 GMT-0500 (Central Day...  ...                       Not super flexible on hours.\n",
              "...                                                 ...  ...                                                ...\n",
              "4995  Wed May 31 2017 15:54:57 GMT-0500 (Central Day...  ...  -Disorganized management team -Separating betw...\n",
              "4996  Tue May 16 2017 10:55:20 GMT-0500 (Central Day...  ...                    Unable to meet people from work\n",
              "4997  Mon May 29 2017 23:28:26 GMT-0500 (Central Day...  ...          Work and life balance can be a challenge.\n",
              "4998  Tue May 30 2017 09:34:07 GMT-0500 (Central Day...  ...    Inconsistent schedule and job can be repetitive\n",
              "4999  Tue May 30 2017 10:36:32 GMT-0500 (Central Day...  ...  The stores can get kind of busy at times and i...\n",
              "\n",
              "[5000 rows x 4 columns]"
            ]
          },
          "metadata": {
            "tags": []
          },
          "execution_count": 5
        }
      ]
    },
    {
      "cell_type": "markdown",
      "metadata": {
        "id": "W1XggZ3TccLn"
      },
      "source": [
        "###Task B: Cleaning"
      ]
    },
    {
      "cell_type": "code",
      "metadata": {
        "id": "9KeOQbEpp_bK"
      },
      "source": [
        "#Check dimension and summary of data for presentation\n",
        "\n",
        "\n"
      ],
      "execution_count": null,
      "outputs": []
    },
    {
      "cell_type": "code",
      "metadata": {
        "id": "K-2hAFE92JgB"
      },
      "source": [
        "import pandas as pd\n",
        "df = pd.read_csv(\"apple_reviews.csv\")"
      ],
      "execution_count": null,
      "outputs": []
    },
    {
      "cell_type": "code",
      "metadata": {
        "id": "RsSUgeb8cWcN",
        "colab": {
          "base_uri": "https://localhost:8080/",
          "height": 52
        },
        "outputId": "45a7b9f6-c89a-4943-885b-8e8c40c76eb0"
      },
      "source": [
        "#Code from HW1\n",
        "import nltk\n",
        "import re\n",
        "from nltk.corpus import stopwords\n",
        "nltk.download('stopwords')\n",
        "\n",
        "def lower(string):\n",
        "    return str(string).lower()\n",
        "\n",
        "df[\"pros\"] = df[\"pros\"].apply(lower)\n",
        "df[\"cons\"] = df[\"cons\"].apply(lower)\n",
        "\n",
        "def findre(string):\n",
        "    return re.findall(\"([a-zA-Z]+)\", string)\n",
        "\n",
        "df[\"pros_word_list\"] = df[\"pros\"].apply(findre)\n",
        "df[\"cons_word_list\"] = df[\"cons\"].apply(findre)\n",
        "\n",
        "stop_words = set(stopwords.words('english'))\n",
        "\n",
        "def remove_single(s):\n",
        "    return [w for w in s if not w in list(map(chr, range(97, 123)))] \n",
        "\n",
        "def remove_stopwords(s):\n",
        "    return [w for w in s if not w in stop_words] \n",
        "\n",
        "df[\"pros_word_list\"] = df[\"pros_word_list\"].apply(remove_stopwords)\n",
        "df[\"cons_word_list\"] = df[\"cons_word_list\"].apply(remove_stopwords)\n",
        "df[\"final_version_pro\"]  = df[\"pros_word_list\"] .apply(remove_single)\n",
        "df[\"final_version_con\"]  = df[\"cons_word_list\"] .apply(remove_single)"
      ],
      "execution_count": null,
      "outputs": [
        {
          "output_type": "stream",
          "text": [
            "[nltk_data] Downloading package stopwords to /root/nltk_data...\n",
            "[nltk_data]   Unzipping corpora/stopwords.zip.\n"
          ],
          "name": "stdout"
        }
      ]
    },
    {
      "cell_type": "code",
      "metadata": {
        "id": "wwvy7M-uci_T"
      },
      "source": [
        "from datetime import datetime\n",
        "for i in range (0,len(df)):\n",
        "    df['date'][i] = df['date'][i][4:16]\n",
        "    # df['date'][i] = datetime.strptime(df['date'][i], '%m %d %YYYY')\n",
        "\n",
        "df['date'] = df['date'].astype('datetime64[ns]')\n",
        "df['year']=pd.DatetimeIndex(df['date']).year"
      ],
      "execution_count": null,
      "outputs": []
    },
    {
      "cell_type": "code",
      "metadata": {
        "id": "5s1xO7_F4A24",
        "colab": {
          "base_uri": "https://localhost:8080/",
          "height": 669
        },
        "outputId": "ed841905-d9de-41c8-ad46-425e3f4f6794"
      },
      "source": [
        "df"
      ],
      "execution_count": null,
      "outputs": [
        {
          "output_type": "execute_result",
          "data": {
            "text/html": [
              "<div>\n",
              "<style scoped>\n",
              "    .dataframe tbody tr th:only-of-type {\n",
              "        vertical-align: middle;\n",
              "    }\n",
              "\n",
              "    .dataframe tbody tr th {\n",
              "        vertical-align: top;\n",
              "    }\n",
              "\n",
              "    .dataframe thead th {\n",
              "        text-align: right;\n",
              "    }\n",
              "</style>\n",
              "<table border=\"1\" class=\"dataframe\">\n",
              "  <thead>\n",
              "    <tr style=\"text-align: right;\">\n",
              "      <th></th>\n",
              "      <th>date</th>\n",
              "      <th>location</th>\n",
              "      <th>pros</th>\n",
              "      <th>cons</th>\n",
              "      <th>pros_word_list</th>\n",
              "      <th>cons_word_list</th>\n",
              "      <th>final_version_pro</th>\n",
              "      <th>final_version_con</th>\n",
              "      <th>year</th>\n",
              "    </tr>\n",
              "  </thead>\n",
              "  <tbody>\n",
              "    <tr>\n",
              "      <th>0</th>\n",
              "      <td>2020-10-06</td>\n",
              "      <td>Cupertino, CA</td>\n",
              "      <td>lots of people to learn from\\nexposure to new ...</td>\n",
              "      <td>difficult to onboard\\nvery little documentation</td>\n",
              "      <td>[lots, people, learn, exposure, new, emerging,...</td>\n",
              "      <td>[difficult, onboard, little, documentation]</td>\n",
              "      <td>[lots, people, learn, exposure, new, emerging,...</td>\n",
              "      <td>[difficult, onboard, little, documentation]</td>\n",
              "      <td>2020</td>\n",
              "    </tr>\n",
              "    <tr>\n",
              "      <th>1</th>\n",
              "      <td>2014-08-28</td>\n",
              "      <td>NaN</td>\n",
              "      <td>we work with geniuses - in every department, w...</td>\n",
              "      <td>zero zero zero work/life balance. execs have b...</td>\n",
              "      <td>[work, geniuses, every, department, create, in...</td>\n",
              "      <td>[zero, zero, zero, work, life, balance, execs,...</td>\n",
              "      <td>[work, geniuses, every, department, create, in...</td>\n",
              "      <td>[zero, zero, zero, work, life, balance, execs,...</td>\n",
              "      <td>2014</td>\n",
              "    </tr>\n",
              "    <tr>\n",
              "      <th>2</th>\n",
              "      <td>2020-10-02</td>\n",
              "      <td>Denver, CO</td>\n",
              "      <td>flexible, accommodating, never boring, always ...</td>\n",
              "      <td>hard to stand out sometimes.</td>\n",
              "      <td>[flexible, accommodating, never, boring, alway...</td>\n",
              "      <td>[hard, stand, sometimes]</td>\n",
              "      <td>[flexible, accommodating, never, boring, alway...</td>\n",
              "      <td>[hard, stand, sometimes]</td>\n",
              "      <td>2020</td>\n",
              "    </tr>\n",
              "    <tr>\n",
              "      <th>3</th>\n",
              "      <td>2020-10-06</td>\n",
              "      <td>Cupertino, CA</td>\n",
              "      <td>perks, team, management and great company outings</td>\n",
              "      <td>poor ladder to c limb</td>\n",
              "      <td>[perks, team, management, great, company, outi...</td>\n",
              "      <td>[poor, ladder, c, limb]</td>\n",
              "      <td>[perks, team, management, great, company, outi...</td>\n",
              "      <td>[poor, ladder, limb]</td>\n",
              "      <td>2020</td>\n",
              "    </tr>\n",
              "    <tr>\n",
              "      <th>4</th>\n",
              "      <td>2020-10-06</td>\n",
              "      <td>Virginia Beach, VA</td>\n",
              "      <td>learn a lot about working with people and cowo...</td>\n",
              "      <td>not super flexible on hours.</td>\n",
              "      <td>[learn, lot, working, people, coworkers, handl...</td>\n",
              "      <td>[super, flexible, hours]</td>\n",
              "      <td>[learn, lot, working, people, coworkers, handl...</td>\n",
              "      <td>[super, flexible, hours]</td>\n",
              "      <td>2020</td>\n",
              "    </tr>\n",
              "    <tr>\n",
              "      <th>...</th>\n",
              "      <td>...</td>\n",
              "      <td>...</td>\n",
              "      <td>...</td>\n",
              "      <td>...</td>\n",
              "      <td>...</td>\n",
              "      <td>...</td>\n",
              "      <td>...</td>\n",
              "      <td>...</td>\n",
              "      <td>...</td>\n",
              "    </tr>\n",
              "    <tr>\n",
              "      <th>4995</th>\n",
              "      <td>2017-05-31</td>\n",
              "      <td>Nanuet, NY</td>\n",
              "      <td>-great co-workers -great benefits -fast paced ...</td>\n",
              "      <td>-disorganized management team -separating betw...</td>\n",
              "      <td>[great, co, workers, great, benefits, fast, pa...</td>\n",
              "      <td>[disorganized, management, team, separating, c...</td>\n",
              "      <td>[great, co, workers, great, benefits, fast, pa...</td>\n",
              "      <td>[disorganized, management, team, separating, c...</td>\n",
              "      <td>2017</td>\n",
              "    </tr>\n",
              "    <tr>\n",
              "      <th>4996</th>\n",
              "      <td>2017-05-16</td>\n",
              "      <td>NaN</td>\n",
              "      <td>personal space independent worker insurance st...</td>\n",
              "      <td>unable to meet people from work</td>\n",
              "      <td>[personal, space, independent, worker, insuran...</td>\n",
              "      <td>[unable, meet, people, work]</td>\n",
              "      <td>[personal, space, independent, worker, insuran...</td>\n",
              "      <td>[unable, meet, people, work]</td>\n",
              "      <td>2017</td>\n",
              "    </tr>\n",
              "    <tr>\n",
              "      <th>4997</th>\n",
              "      <td>2017-05-29</td>\n",
              "      <td>NaN</td>\n",
              "      <td>great benefits and job security.</td>\n",
              "      <td>work and life balance can be a challenge.</td>\n",
              "      <td>[great, benefits, job, security]</td>\n",
              "      <td>[work, life, balance, challenge]</td>\n",
              "      <td>[great, benefits, job, security]</td>\n",
              "      <td>[work, life, balance, challenge]</td>\n",
              "      <td>2017</td>\n",
              "    </tr>\n",
              "    <tr>\n",
              "      <th>4998</th>\n",
              "      <td>2017-05-30</td>\n",
              "      <td>NaN</td>\n",
              "      <td>good benefits and great diversity in coworkers</td>\n",
              "      <td>inconsistent schedule and job can be repetitive</td>\n",
              "      <td>[good, benefits, great, diversity, coworkers]</td>\n",
              "      <td>[inconsistent, schedule, job, repetitive]</td>\n",
              "      <td>[good, benefits, great, diversity, coworkers]</td>\n",
              "      <td>[inconsistent, schedule, job, repetitive]</td>\n",
              "      <td>2017</td>\n",
              "    </tr>\n",
              "    <tr>\n",
              "      <th>4999</th>\n",
              "      <td>2017-05-30</td>\n",
              "      <td>Dallas, TX</td>\n",
              "      <td>management worked very well with my school sch...</td>\n",
              "      <td>the stores can get kind of busy at times and i...</td>\n",
              "      <td>[management, worked, well, school, schedule, b...</td>\n",
              "      <td>[stores, get, kind, busy, times, never, seems,...</td>\n",
              "      <td>[management, worked, well, school, schedule, b...</td>\n",
              "      <td>[stores, get, kind, busy, times, never, seems,...</td>\n",
              "      <td>2017</td>\n",
              "    </tr>\n",
              "  </tbody>\n",
              "</table>\n",
              "<p>5000 rows × 9 columns</p>\n",
              "</div>"
            ],
            "text/plain": [
              "           date  ...  year\n",
              "0    2020-10-06  ...  2020\n",
              "1    2014-08-28  ...  2014\n",
              "2    2020-10-02  ...  2020\n",
              "3    2020-10-06  ...  2020\n",
              "4    2020-10-06  ...  2020\n",
              "...         ...  ...   ...\n",
              "4995 2017-05-31  ...  2017\n",
              "4996 2017-05-16  ...  2017\n",
              "4997 2017-05-29  ...  2017\n",
              "4998 2017-05-30  ...  2017\n",
              "4999 2017-05-30  ...  2017\n",
              "\n",
              "[5000 rows x 9 columns]"
            ]
          },
          "metadata": {
            "tags": []
          },
          "execution_count": 10
        }
      ]
    },
    {
      "cell_type": "markdown",
      "metadata": {
        "id": "asGEWsv8cjS0"
      },
      "source": [
        "###Task C: EDA"
      ]
    },
    {
      "cell_type": "code",
      "metadata": {
        "id": "88JgHfjecu8V"
      },
      "source": [
        "#Word Frequency Count\n",
        "def word_count(words_list):\n",
        "    dictionary = {}\n",
        "    for words in words_list:\n",
        "        if words not in dictionary.keys():\n",
        "            dictionary[words] = 1\n",
        "    return dictionary\n",
        "\n",
        "df[\"pros_dictionary\"] = df[\"final_version_pro\"].apply(word_count)\n",
        "df[\"cons_dictionary\"] = df[\"final_version_con\"].apply(word_count)"
      ],
      "execution_count": null,
      "outputs": []
    },
    {
      "cell_type": "code",
      "metadata": {
        "id": "nIPEUsOB57KH",
        "colab": {
          "base_uri": "https://localhost:8080/",
          "height": 230
        },
        "outputId": "364f2990-196c-4080-8fa7-742eb835e9c7"
      },
      "source": [
        "pro_final_dict = {}\n",
        "con_final_dict = {}\n",
        "\n",
        "def pro_update_dict(dictionary):\n",
        "    for key in dictionary.keys():\n",
        "        if key in pro_final_dict.keys():\n",
        "            pro_final_dict[key] += 1\n",
        "        else:\n",
        "            pro_final_dict[key] = 1\n",
        "            \n",
        "def con_update_dict(dictionary):\n",
        "    for key in dictionary.keys():\n",
        "        if key in con_final_dict.keys():\n",
        "            con_final_dict[key] += 1\n",
        "        else:\n",
        "            con_final_dict[key] = 1\n",
        "        \n",
        "df[\"pros_dictionary\"].apply(pro_update_dict)\n",
        "df[\"cons_dictionary\"].apply(con_update_dict)"
      ],
      "execution_count": null,
      "outputs": [
        {
          "output_type": "execute_result",
          "data": {
            "text/plain": [
              "0       None\n",
              "1       None\n",
              "2       None\n",
              "3       None\n",
              "4       None\n",
              "        ... \n",
              "4995    None\n",
              "4996    None\n",
              "4997    None\n",
              "4998    None\n",
              "4999    None\n",
              "Name: cons_dictionary, Length: 5000, dtype: object"
            ]
          },
          "metadata": {
            "tags": []
          },
          "execution_count": 12
        }
      ]
    },
    {
      "cell_type": "markdown",
      "metadata": {
        "id": "7-FpcG7dNHB-"
      },
      "source": [
        "# New Section"
      ]
    },
    {
      "cell_type": "code",
      "metadata": {
        "id": "6vceT6pz59ob"
      },
      "source": [
        "pro_df = pd.DataFrame.from_dict(pro_final_dict, orient='index')\n",
        "con_df = pd.DataFrame.from_dict(con_final_dict, orient='index')\n",
        "# df.head()\n",
        "# df.rename(columns = \"0\", inplace = True)\n",
        "pro_freq_list = pro_df[0].sort_values(ascending=False).index.tolist()\n",
        "con_freq_list = con_df[0].sort_values(ascending=False).index.tolist()"
      ],
      "execution_count": null,
      "outputs": []
    },
    {
      "cell_type": "code",
      "metadata": {
        "id": "jD1rWkIa6UpN",
        "colab": {
          "base_uri": "https://localhost:8080/",
          "height": 1000
        },
        "outputId": "cdfdedab-4d9b-42be-cb08-3264d376041a"
      },
      "source": [
        "pro_freq_list[0:70] "
      ],
      "execution_count": null,
      "outputs": [
        {
          "output_type": "execute_result",
          "data": {
            "text/plain": [
              "['great',\n",
              " 'benefits',\n",
              " 'work',\n",
              " 'good',\n",
              " 'people',\n",
              " 'pay',\n",
              " 'company',\n",
              " 'environment',\n",
              " 'apple',\n",
              " 'culture',\n",
              " 'amazing',\n",
              " 'time',\n",
              " 'discounts',\n",
              " 'team',\n",
              " 'products',\n",
              " 'working',\n",
              " 'job',\n",
              " 'employees',\n",
              " 'best',\n",
              " 'part',\n",
              " 'fun',\n",
              " 'flexible',\n",
              " 'get',\n",
              " 'retail',\n",
              " 'coworkers',\n",
              " 'management',\n",
              " 'place',\n",
              " 'really',\n",
              " 'stock',\n",
              " 'training',\n",
              " 'lot',\n",
              " 'employee',\n",
              " 'awesome',\n",
              " 'workers',\n",
              " 'life',\n",
              " 'learn',\n",
              " 'home',\n",
              " 'opportunities',\n",
              " 'experience',\n",
              " 'co',\n",
              " 'health',\n",
              " 'nice',\n",
              " 'care',\n",
              " 'perks',\n",
              " 'decent',\n",
              " 'lots',\n",
              " 'hours',\n",
              " 'growth',\n",
              " 'excellent',\n",
              " 'always',\n",
              " 'schedule',\n",
              " 'like',\n",
              " 'friendly',\n",
              " 'smart',\n",
              " 'well',\n",
              " 'balance',\n",
              " 'development',\n",
              " 'salary',\n",
              " 'opportunity',\n",
              " 'managers',\n",
              " 'even',\n",
              " 'customers',\n",
              " 'everyone',\n",
              " 'career',\n",
              " 'new',\n",
              " 'full',\n",
              " 'make',\n",
              " 'options',\n",
              " 'competitive',\n",
              " 'discount']"
            ]
          },
          "metadata": {
            "tags": []
          },
          "execution_count": 32
        }
      ]
    },
    {
      "cell_type": "code",
      "metadata": {
        "id": "k89B8E96AKYH"
      },
      "source": [
        "# Top Three features: weekends, culture, politics"
      ],
      "execution_count": null,
      "outputs": []
    },
    {
      "cell_type": "code",
      "metadata": {
        "id": "l67ZB3EHcvE4"
      },
      "source": [
        "###Task D: EDA"
      ],
      "execution_count": null,
      "outputs": []
    },
    {
      "cell_type": "markdown",
      "metadata": {
        "id": "gU7LNQlg0zvx"
      },
      "source": [
        ""
      ]
    },
    {
      "cell_type": "code",
      "metadata": {
        "id": "XWN_dJP_0YFr"
      },
      "source": [
        "#management, balance, people, environment, culture, weekends, leadership, politics, opportunities, experience\n",
        "from sklearn.feature_extraction.text import TfidfVectorizer\n",
        "from sklearn.feature_extraction.text import CountVectorizer\n",
        "from sklearn.metrics.pairwise import cosine_similarity\n",
        "\n",
        "tmp = [\"weekends\", \"culture\", \"management\"]\n",
        "attribute = \", \".join(tmp)\n",
        "\n",
        "# df = pd.DataFrame({\"review\": [\"I love the taste, and color, smell of this beer\"]})\n",
        "# text2 = \"I love the taste, and color, smell of this beer\"\n",
        "\n",
        "def similarity(list_of_words):\n",
        "    string = \", \".join(list_of_words)\n",
        "    documents = [attribute, string]\n",
        "    count_vectorizer = CountVectorizer()\n",
        "    count_matrix = count_vectorizer.fit_transform(documents)\n",
        "    #print(count_matrix)\n",
        "    return cosine_similarity(count_matrix[0:1], count_matrix)[0][1]\n",
        "\n",
        "df[\"sim_pro\"] = df[\"final_version_pro\"].map(similarity)\n",
        "df[\"sim_con\"] = df[\"final_version_con\"].map(similarity)"
      ],
      "execution_count": null,
      "outputs": []
    },
    {
      "cell_type": "code",
      "metadata": {
        "id": "nvM47axG9Ll0",
        "colab": {
          "base_uri": "https://localhost:8080/",
          "height": 230
        },
        "outputId": "d53b8d5c-fea4-4e21-ecce-701d725db9e5"
      },
      "source": [
        "#checking\n",
        "df[\"sim_pro\"].sort_values(ascending=False)"
      ],
      "execution_count": null,
      "outputs": [
        {
          "output_type": "execute_result",
          "data": {
            "text/plain": [
              "3992    0.516398\n",
              "1124    0.471405\n",
              "702     0.471405\n",
              "433     0.471405\n",
              "2076    0.436436\n",
              "          ...   \n",
              "3206    0.000000\n",
              "3207    0.000000\n",
              "3208    0.000000\n",
              "3209    0.000000\n",
              "0       0.000000\n",
              "Name: sim_pro, Length: 5000, dtype: float64"
            ]
          },
          "metadata": {
            "tags": []
          },
          "execution_count": 18
        }
      ]
    },
    {
      "cell_type": "code",
      "metadata": {
        "id": "_ftOAr4HMPP7",
        "colab": {
          "base_uri": "https://localhost:8080/",
          "height": 230
        },
        "outputId": "c6a2ffec-1fcc-461d-97dd-c1490fcf3c33"
      },
      "source": [
        "#checking\n",
        "df[\"sim_con\"].sort_values(ascending=False)"
      ],
      "execution_count": null,
      "outputs": [
        {
          "output_type": "execute_result",
          "data": {
            "text/plain": [
              "3406    0.577350\n",
              "2172    0.577350\n",
              "722     0.516398\n",
              "957     0.433013\n",
              "1866    0.408248\n",
              "          ...   \n",
              "3158    0.000000\n",
              "3157    0.000000\n",
              "3156    0.000000\n",
              "3155    0.000000\n",
              "0       0.000000\n",
              "Name: sim_con, Length: 5000, dtype: float64"
            ]
          },
          "metadata": {
            "tags": []
          },
          "execution_count": 19
        }
      ]
    },
    {
      "cell_type": "code",
      "metadata": {
        "id": "V_2ZhWCrC-mZ",
        "colab": {
          "base_uri": "https://localhost:8080/",
          "height": 266
        },
        "outputId": "4bbb6345-4004-48ff-f8bd-329b2698a995"
      },
      "source": [
        "df.iloc[4905]"
      ],
      "execution_count": null,
      "outputs": [
        {
          "output_type": "execute_result",
          "data": {
            "text/plain": [
              "date                                               2017-06-18 00:00:00\n",
              "location                                             San Francisco, CA\n",
              "pros                 great benefits, exciting work culture, good co...\n",
              "cons                 depending on your position, advancement can be...\n",
              "pros_word_list       [great, benefits, exciting, work, culture, goo...\n",
              "cons_word_list       [depending, position, advancement, limited, re...\n",
              "final_version_pro    [great, benefits, exciting, work, culture, goo...\n",
              "final_version_con    [depending, position, advancement, limited, re...\n",
              "year                                                              2017\n",
              "pros_dictionary      {'great': 1, 'benefits': 1, 'exciting': 1, 'wo...\n",
              "cons_dictionary      {'depending': 1, 'position': 1, 'advancement':...\n",
              "sim_pro                                                       0.365148\n",
              "sim_con                                                              0\n",
              "Name: 4905, dtype: object"
            ]
          },
          "metadata": {
            "tags": []
          },
          "execution_count": 20
        }
      ]
    },
    {
      "cell_type": "code",
      "metadata": {
        "id": "ihq2u-lDDnya",
        "colab": {
          "base_uri": "https://localhost:8080/",
          "height": 1000
        },
        "outputId": "40064186-928b-4c90-f866-2d1a5ea3514b"
      },
      "source": [
        "# Sentiment\n",
        "from collections import Counter\n",
        "features = tmp\n",
        "import nltk\n",
        "nltk.download('vader_lexicon')\n",
        "from nltk.sentiment.vader import SentimentIntensityAnalyzer\n",
        "sid = SentimentIntensityAnalyzer()\n",
        "import numpy as np\n",
        "\n",
        "def once(review, ori1, ori2):\n",
        "#     print(ori1, ori2)\n",
        "    startpos = ori1-2 if ori1-2 > 0 else 0\n",
        "    endpos = ori2+2 if ori2+2 < len(review)-1 else len(review)-1\n",
        "    sentence = review[startpos: endpos+1]\n",
        "    sentence_s = \" \".join(sentence)\n",
        "#     print(sentence_s)\n",
        "    return sid.polarity_scores(sentence_s)[\"compound\"]\n",
        "\n",
        "for number in range(3):\n",
        "\n",
        "  def sentiment(review):\n",
        "    if features[number] in review:\n",
        "        scores = []\n",
        "        count = [i for i, n in enumerate(review) if n == features[number]]\n",
        "        return once(review, count[0], count[-1])\n",
        "    return 0\n",
        "\n",
        "  df[features[number]] = df['final_version_pro'].map(sentiment)\n",
        "\n",
        "\n",
        "df.replace(0, np.NaN)\n",
        "#df[[\"score\", \"score-1\",\"score-2\"]].mean(axis=1)"
      ],
      "execution_count": null,
      "outputs": [
        {
          "output_type": "stream",
          "text": [
            "[nltk_data] Downloading package vader_lexicon to /root/nltk_data...\n"
          ],
          "name": "stdout"
        },
        {
          "output_type": "stream",
          "text": [
            "/usr/local/lib/python3.6/dist-packages/nltk/twitter/__init__.py:20: UserWarning: The twython library has not been installed. Some functionality from the twitter package will not be available.\n",
            "  warnings.warn(\"The twython library has not been installed. \"\n"
          ],
          "name": "stderr"
        },
        {
          "output_type": "execute_result",
          "data": {
            "text/html": [
              "<div>\n",
              "<style scoped>\n",
              "    .dataframe tbody tr th:only-of-type {\n",
              "        vertical-align: middle;\n",
              "    }\n",
              "\n",
              "    .dataframe tbody tr th {\n",
              "        vertical-align: top;\n",
              "    }\n",
              "\n",
              "    .dataframe thead th {\n",
              "        text-align: right;\n",
              "    }\n",
              "</style>\n",
              "<table border=\"1\" class=\"dataframe\">\n",
              "  <thead>\n",
              "    <tr style=\"text-align: right;\">\n",
              "      <th></th>\n",
              "      <th>date</th>\n",
              "      <th>location</th>\n",
              "      <th>pros</th>\n",
              "      <th>cons</th>\n",
              "      <th>pros_word_list</th>\n",
              "      <th>cons_word_list</th>\n",
              "      <th>final_version_pro</th>\n",
              "      <th>final_version_con</th>\n",
              "      <th>year</th>\n",
              "      <th>pros_dictionary</th>\n",
              "      <th>cons_dictionary</th>\n",
              "      <th>sim_pro</th>\n",
              "      <th>sim_con</th>\n",
              "      <th>weekends</th>\n",
              "      <th>culture</th>\n",
              "      <th>management</th>\n",
              "    </tr>\n",
              "  </thead>\n",
              "  <tbody>\n",
              "    <tr>\n",
              "      <th>0</th>\n",
              "      <td>2020-10-06</td>\n",
              "      <td>Cupertino, CA</td>\n",
              "      <td>lots of people to learn from\\nexposure to new ...</td>\n",
              "      <td>difficult to onboard\\nvery little documentation</td>\n",
              "      <td>[lots, people, learn, exposure, new, emerging,...</td>\n",
              "      <td>[difficult, onboard, little, documentation]</td>\n",
              "      <td>[lots, people, learn, exposure, new, emerging,...</td>\n",
              "      <td>[difficult, onboard, little, documentation]</td>\n",
              "      <td>2020</td>\n",
              "      <td>{'lots': 1, 'people': 1, 'learn': 1, 'exposure...</td>\n",
              "      <td>{'difficult': 1, 'onboard': 1, 'little': 1, 'd...</td>\n",
              "      <td>NaN</td>\n",
              "      <td>NaN</td>\n",
              "      <td>NaN</td>\n",
              "      <td>NaN</td>\n",
              "      <td>NaN</td>\n",
              "    </tr>\n",
              "    <tr>\n",
              "      <th>1</th>\n",
              "      <td>2014-08-28</td>\n",
              "      <td>NaN</td>\n",
              "      <td>we work with geniuses - in every department, w...</td>\n",
              "      <td>zero zero zero work/life balance. execs have b...</td>\n",
              "      <td>[work, geniuses, every, department, create, in...</td>\n",
              "      <td>[zero, zero, zero, work, life, balance, execs,...</td>\n",
              "      <td>[work, geniuses, every, department, create, in...</td>\n",
              "      <td>[zero, zero, zero, work, life, balance, execs,...</td>\n",
              "      <td>2014</td>\n",
              "      <td>{'work': 1, 'geniuses': 1, 'every': 1, 'depart...</td>\n",
              "      <td>{'zero': 1, 'work': 1, 'life': 1, 'balance': 1...</td>\n",
              "      <td>NaN</td>\n",
              "      <td>0.069007</td>\n",
              "      <td>NaN</td>\n",
              "      <td>NaN</td>\n",
              "      <td>NaN</td>\n",
              "    </tr>\n",
              "    <tr>\n",
              "      <th>2</th>\n",
              "      <td>2020-10-02</td>\n",
              "      <td>Denver, CO</td>\n",
              "      <td>flexible, accommodating, never boring, always ...</td>\n",
              "      <td>hard to stand out sometimes.</td>\n",
              "      <td>[flexible, accommodating, never, boring, alway...</td>\n",
              "      <td>[hard, stand, sometimes]</td>\n",
              "      <td>[flexible, accommodating, never, boring, alway...</td>\n",
              "      <td>[hard, stand, sometimes]</td>\n",
              "      <td>2020</td>\n",
              "      <td>{'flexible': 1, 'accommodating': 1, 'never': 1...</td>\n",
              "      <td>{'hard': 1, 'stand': 1, 'sometimes': 1}</td>\n",
              "      <td>NaN</td>\n",
              "      <td>NaN</td>\n",
              "      <td>NaN</td>\n",
              "      <td>NaN</td>\n",
              "      <td>NaN</td>\n",
              "    </tr>\n",
              "    <tr>\n",
              "      <th>3</th>\n",
              "      <td>2020-10-06</td>\n",
              "      <td>Cupertino, CA</td>\n",
              "      <td>perks, team, management and great company outings</td>\n",
              "      <td>poor ladder to c limb</td>\n",
              "      <td>[perks, team, management, great, company, outi...</td>\n",
              "      <td>[poor, ladder, c, limb]</td>\n",
              "      <td>[perks, team, management, great, company, outi...</td>\n",
              "      <td>[poor, ladder, limb]</td>\n",
              "      <td>2020</td>\n",
              "      <td>{'perks': 1, 'team': 1, 'management': 1, 'grea...</td>\n",
              "      <td>{'poor': 1, 'ladder': 1, 'limb': 1}</td>\n",
              "      <td>0.235702</td>\n",
              "      <td>NaN</td>\n",
              "      <td>NaN</td>\n",
              "      <td>NaN</td>\n",
              "      <td>0.6249</td>\n",
              "    </tr>\n",
              "    <tr>\n",
              "      <th>4</th>\n",
              "      <td>2020-10-06</td>\n",
              "      <td>Virginia Beach, VA</td>\n",
              "      <td>learn a lot about working with people and cowo...</td>\n",
              "      <td>not super flexible on hours.</td>\n",
              "      <td>[learn, lot, working, people, coworkers, handl...</td>\n",
              "      <td>[super, flexible, hours]</td>\n",
              "      <td>[learn, lot, working, people, coworkers, handl...</td>\n",
              "      <td>[super, flexible, hours]</td>\n",
              "      <td>2020</td>\n",
              "      <td>{'learn': 1, 'lot': 1, 'working': 1, 'people':...</td>\n",
              "      <td>{'super': 1, 'flexible': 1, 'hours': 1}</td>\n",
              "      <td>NaN</td>\n",
              "      <td>NaN</td>\n",
              "      <td>NaN</td>\n",
              "      <td>NaN</td>\n",
              "      <td>NaN</td>\n",
              "    </tr>\n",
              "    <tr>\n",
              "      <th>...</th>\n",
              "      <td>...</td>\n",
              "      <td>...</td>\n",
              "      <td>...</td>\n",
              "      <td>...</td>\n",
              "      <td>...</td>\n",
              "      <td>...</td>\n",
              "      <td>...</td>\n",
              "      <td>...</td>\n",
              "      <td>...</td>\n",
              "      <td>...</td>\n",
              "      <td>...</td>\n",
              "      <td>...</td>\n",
              "      <td>...</td>\n",
              "      <td>...</td>\n",
              "      <td>...</td>\n",
              "      <td>...</td>\n",
              "    </tr>\n",
              "    <tr>\n",
              "      <th>4995</th>\n",
              "      <td>2017-05-31</td>\n",
              "      <td>Nanuet, NY</td>\n",
              "      <td>-great co-workers -great benefits -fast paced ...</td>\n",
              "      <td>-disorganized management team -separating betw...</td>\n",
              "      <td>[great, co, workers, great, benefits, fast, pa...</td>\n",
              "      <td>[disorganized, management, team, separating, c...</td>\n",
              "      <td>[great, co, workers, great, benefits, fast, pa...</td>\n",
              "      <td>[disorganized, management, team, separating, c...</td>\n",
              "      <td>2017</td>\n",
              "      <td>{'great': 1, 'co': 1, 'workers': 1, 'benefits'...</td>\n",
              "      <td>{'disorganized': 1, 'management': 1, 'team': 1...</td>\n",
              "      <td>NaN</td>\n",
              "      <td>0.182574</td>\n",
              "      <td>NaN</td>\n",
              "      <td>NaN</td>\n",
              "      <td>NaN</td>\n",
              "    </tr>\n",
              "    <tr>\n",
              "      <th>4996</th>\n",
              "      <td>2017-05-16</td>\n",
              "      <td>NaN</td>\n",
              "      <td>personal space independent worker insurance st...</td>\n",
              "      <td>unable to meet people from work</td>\n",
              "      <td>[personal, space, independent, worker, insuran...</td>\n",
              "      <td>[unable, meet, people, work]</td>\n",
              "      <td>[personal, space, independent, worker, insuran...</td>\n",
              "      <td>[unable, meet, people, work]</td>\n",
              "      <td>2017</td>\n",
              "      <td>{'personal': 1, 'space': 1, 'independent': 1, ...</td>\n",
              "      <td>{'unable': 1, 'meet': 1, 'people': 1, 'work': 1}</td>\n",
              "      <td>NaN</td>\n",
              "      <td>NaN</td>\n",
              "      <td>NaN</td>\n",
              "      <td>NaN</td>\n",
              "      <td>NaN</td>\n",
              "    </tr>\n",
              "    <tr>\n",
              "      <th>4997</th>\n",
              "      <td>2017-05-29</td>\n",
              "      <td>NaN</td>\n",
              "      <td>great benefits and job security.</td>\n",
              "      <td>work and life balance can be a challenge.</td>\n",
              "      <td>[great, benefits, job, security]</td>\n",
              "      <td>[work, life, balance, challenge]</td>\n",
              "      <td>[great, benefits, job, security]</td>\n",
              "      <td>[work, life, balance, challenge]</td>\n",
              "      <td>2017</td>\n",
              "      <td>{'great': 1, 'benefits': 1, 'job': 1, 'securit...</td>\n",
              "      <td>{'work': 1, 'life': 1, 'balance': 1, 'challeng...</td>\n",
              "      <td>NaN</td>\n",
              "      <td>NaN</td>\n",
              "      <td>NaN</td>\n",
              "      <td>NaN</td>\n",
              "      <td>NaN</td>\n",
              "    </tr>\n",
              "    <tr>\n",
              "      <th>4998</th>\n",
              "      <td>2017-05-30</td>\n",
              "      <td>NaN</td>\n",
              "      <td>good benefits and great diversity in coworkers</td>\n",
              "      <td>inconsistent schedule and job can be repetitive</td>\n",
              "      <td>[good, benefits, great, diversity, coworkers]</td>\n",
              "      <td>[inconsistent, schedule, job, repetitive]</td>\n",
              "      <td>[good, benefits, great, diversity, coworkers]</td>\n",
              "      <td>[inconsistent, schedule, job, repetitive]</td>\n",
              "      <td>2017</td>\n",
              "      <td>{'good': 1, 'benefits': 1, 'great': 1, 'divers...</td>\n",
              "      <td>{'inconsistent': 1, 'schedule': 1, 'job': 1, '...</td>\n",
              "      <td>NaN</td>\n",
              "      <td>NaN</td>\n",
              "      <td>NaN</td>\n",
              "      <td>NaN</td>\n",
              "      <td>NaN</td>\n",
              "    </tr>\n",
              "    <tr>\n",
              "      <th>4999</th>\n",
              "      <td>2017-05-30</td>\n",
              "      <td>Dallas, TX</td>\n",
              "      <td>management worked very well with my school sch...</td>\n",
              "      <td>the stores can get kind of busy at times and i...</td>\n",
              "      <td>[management, worked, well, school, schedule, b...</td>\n",
              "      <td>[stores, get, kind, busy, times, never, seems,...</td>\n",
              "      <td>[management, worked, well, school, schedule, b...</td>\n",
              "      <td>[stores, get, kind, busy, times, never, seems,...</td>\n",
              "      <td>2017</td>\n",
              "      <td>{'management': 1, 'worked': 1, 'well': 1, 'sch...</td>\n",
              "      <td>{'stores': 1, 'get': 1, 'kind': 1, 'busy': 1, ...</td>\n",
              "      <td>0.117851</td>\n",
              "      <td>NaN</td>\n",
              "      <td>NaN</td>\n",
              "      <td>NaN</td>\n",
              "      <td>0.2732</td>\n",
              "    </tr>\n",
              "  </tbody>\n",
              "</table>\n",
              "<p>5000 rows × 16 columns</p>\n",
              "</div>"
            ],
            "text/plain": [
              "           date            location  ... culture management\n",
              "0    2020-10-06       Cupertino, CA  ...     NaN        NaN\n",
              "1    2014-08-28                 NaN  ...     NaN        NaN\n",
              "2    2020-10-02          Denver, CO  ...     NaN        NaN\n",
              "3    2020-10-06       Cupertino, CA  ...     NaN     0.6249\n",
              "4    2020-10-06  Virginia Beach, VA  ...     NaN        NaN\n",
              "...         ...                 ...  ...     ...        ...\n",
              "4995 2017-05-31          Nanuet, NY  ...     NaN        NaN\n",
              "4996 2017-05-16                 NaN  ...     NaN        NaN\n",
              "4997 2017-05-29                 NaN  ...     NaN        NaN\n",
              "4998 2017-05-30                 NaN  ...     NaN        NaN\n",
              "4999 2017-05-30          Dallas, TX  ...     NaN     0.2732\n",
              "\n",
              "[5000 rows x 16 columns]"
            ]
          },
          "metadata": {
            "tags": []
          },
          "execution_count": 21
        }
      ]
    },
    {
      "cell_type": "code",
      "metadata": {
        "id": "AdDCwFfKEXuw",
        "colab": {
          "base_uri": "https://localhost:8080/",
          "height": 230
        },
        "outputId": "8510d086-857e-44b8-9425-5dcf01eca207"
      },
      "source": [
        "#checking\n",
        "df[\"weekends\"].sort_values() #almost all 0 value in weekends because people dont talk about weekend in pros"
      ],
      "execution_count": null,
      "outputs": [
        {
          "output_type": "execute_result",
          "data": {
            "text/plain": [
              "3354   -0.4404\n",
              "417    -0.1280\n",
              "0       0.0000\n",
              "3335    0.0000\n",
              "3334    0.0000\n",
              "         ...  \n",
              "1663    0.0000\n",
              "1662    0.0000\n",
              "1669    0.0000\n",
              "3632    0.0772\n",
              "1012    0.5719\n",
              "Name: weekends, Length: 5000, dtype: float64"
            ]
          },
          "metadata": {
            "tags": []
          },
          "execution_count": 22
        }
      ]
    },
    {
      "cell_type": "code",
      "metadata": {
        "id": "hVXegexJFYhn",
        "colab": {
          "base_uri": "https://localhost:8080/",
          "height": 1000
        },
        "outputId": "7bba175d-8ad3-4ca7-818e-e6c29b1df2c0"
      },
      "source": [
        "# Sentiment\n",
        "from collections import Counter\n",
        "features = tmp\n",
        "import nltk\n",
        "nltk.download('vader_lexicon')\n",
        "from nltk.sentiment.vader import SentimentIntensityAnalyzer\n",
        "sid = SentimentIntensityAnalyzer()\n",
        "import numpy as np\n",
        "\n",
        "def once(review, ori1, ori2):\n",
        "#     print(ori1, ori2)\n",
        "    startpos = ori1-2 if ori1-2 > 0 else 0\n",
        "    endpos = ori2+2 if ori2+2 < len(review)-1 else len(review)-1\n",
        "    sentence = review[startpos: endpos+1]\n",
        "    sentence_s = \" \".join(sentence)\n",
        "#     print(sentence_s)\n",
        "    return sid.polarity_scores(sentence_s)[\"compound\"]\n",
        "\n",
        "for number in range(3):\n",
        "\n",
        "  def sentiment(review):\n",
        "    if features[number] in review:\n",
        "        scores = []\n",
        "        count = [i for i, n in enumerate(review) if n == features[number]]\n",
        "        return once(review, count[0], count[-1])\n",
        "    return 0\n",
        "\n",
        "  df[features[number]+\"_con\"] = df['final_version_con'].map(sentiment)\n",
        "\n",
        "\n",
        "df.replace(0, np.NaN)\n",
        "#df[[\"score\", \"score-1\",\"score-2\"]].mean(axis=1)"
      ],
      "execution_count": null,
      "outputs": [
        {
          "output_type": "stream",
          "text": [
            "[nltk_data] Downloading package vader_lexicon to /root/nltk_data...\n",
            "[nltk_data]   Package vader_lexicon is already up-to-date!\n"
          ],
          "name": "stdout"
        },
        {
          "output_type": "execute_result",
          "data": {
            "text/html": [
              "<div>\n",
              "<style scoped>\n",
              "    .dataframe tbody tr th:only-of-type {\n",
              "        vertical-align: middle;\n",
              "    }\n",
              "\n",
              "    .dataframe tbody tr th {\n",
              "        vertical-align: top;\n",
              "    }\n",
              "\n",
              "    .dataframe thead th {\n",
              "        text-align: right;\n",
              "    }\n",
              "</style>\n",
              "<table border=\"1\" class=\"dataframe\">\n",
              "  <thead>\n",
              "    <tr style=\"text-align: right;\">\n",
              "      <th></th>\n",
              "      <th>date</th>\n",
              "      <th>location</th>\n",
              "      <th>pros</th>\n",
              "      <th>cons</th>\n",
              "      <th>pros_word_list</th>\n",
              "      <th>cons_word_list</th>\n",
              "      <th>final_version_pro</th>\n",
              "      <th>final_version_con</th>\n",
              "      <th>year</th>\n",
              "      <th>pros_dictionary</th>\n",
              "      <th>cons_dictionary</th>\n",
              "      <th>sim_pro</th>\n",
              "      <th>sim_con</th>\n",
              "      <th>weekends</th>\n",
              "      <th>culture</th>\n",
              "      <th>management</th>\n",
              "      <th>weekends_con</th>\n",
              "      <th>culture_con</th>\n",
              "      <th>management_con</th>\n",
              "    </tr>\n",
              "  </thead>\n",
              "  <tbody>\n",
              "    <tr>\n",
              "      <th>0</th>\n",
              "      <td>2020-10-06</td>\n",
              "      <td>Cupertino, CA</td>\n",
              "      <td>lots of people to learn from\\nexposure to new ...</td>\n",
              "      <td>difficult to onboard\\nvery little documentation</td>\n",
              "      <td>[lots, people, learn, exposure, new, emerging,...</td>\n",
              "      <td>[difficult, onboard, little, documentation]</td>\n",
              "      <td>[lots, people, learn, exposure, new, emerging,...</td>\n",
              "      <td>[difficult, onboard, little, documentation]</td>\n",
              "      <td>2020</td>\n",
              "      <td>{'lots': 1, 'people': 1, 'learn': 1, 'exposure...</td>\n",
              "      <td>{'difficult': 1, 'onboard': 1, 'little': 1, 'd...</td>\n",
              "      <td>NaN</td>\n",
              "      <td>NaN</td>\n",
              "      <td>NaN</td>\n",
              "      <td>NaN</td>\n",
              "      <td>NaN</td>\n",
              "      <td>NaN</td>\n",
              "      <td>NaN</td>\n",
              "      <td>NaN</td>\n",
              "    </tr>\n",
              "    <tr>\n",
              "      <th>1</th>\n",
              "      <td>2014-08-28</td>\n",
              "      <td>NaN</td>\n",
              "      <td>we work with geniuses - in every department, w...</td>\n",
              "      <td>zero zero zero work/life balance. execs have b...</td>\n",
              "      <td>[work, geniuses, every, department, create, in...</td>\n",
              "      <td>[zero, zero, zero, work, life, balance, execs,...</td>\n",
              "      <td>[work, geniuses, every, department, create, in...</td>\n",
              "      <td>[zero, zero, zero, work, life, balance, execs,...</td>\n",
              "      <td>2014</td>\n",
              "      <td>{'work': 1, 'geniuses': 1, 'every': 1, 'depart...</td>\n",
              "      <td>{'zero': 1, 'work': 1, 'life': 1, 'balance': 1...</td>\n",
              "      <td>NaN</td>\n",
              "      <td>0.069007</td>\n",
              "      <td>NaN</td>\n",
              "      <td>NaN</td>\n",
              "      <td>NaN</td>\n",
              "      <td>NaN</td>\n",
              "      <td>NaN</td>\n",
              "      <td>0.2023</td>\n",
              "    </tr>\n",
              "    <tr>\n",
              "      <th>2</th>\n",
              "      <td>2020-10-02</td>\n",
              "      <td>Denver, CO</td>\n",
              "      <td>flexible, accommodating, never boring, always ...</td>\n",
              "      <td>hard to stand out sometimes.</td>\n",
              "      <td>[flexible, accommodating, never, boring, alway...</td>\n",
              "      <td>[hard, stand, sometimes]</td>\n",
              "      <td>[flexible, accommodating, never, boring, alway...</td>\n",
              "      <td>[hard, stand, sometimes]</td>\n",
              "      <td>2020</td>\n",
              "      <td>{'flexible': 1, 'accommodating': 1, 'never': 1...</td>\n",
              "      <td>{'hard': 1, 'stand': 1, 'sometimes': 1}</td>\n",
              "      <td>NaN</td>\n",
              "      <td>NaN</td>\n",
              "      <td>NaN</td>\n",
              "      <td>NaN</td>\n",
              "      <td>NaN</td>\n",
              "      <td>NaN</td>\n",
              "      <td>NaN</td>\n",
              "      <td>NaN</td>\n",
              "    </tr>\n",
              "    <tr>\n",
              "      <th>3</th>\n",
              "      <td>2020-10-06</td>\n",
              "      <td>Cupertino, CA</td>\n",
              "      <td>perks, team, management and great company outings</td>\n",
              "      <td>poor ladder to c limb</td>\n",
              "      <td>[perks, team, management, great, company, outi...</td>\n",
              "      <td>[poor, ladder, c, limb]</td>\n",
              "      <td>[perks, team, management, great, company, outi...</td>\n",
              "      <td>[poor, ladder, limb]</td>\n",
              "      <td>2020</td>\n",
              "      <td>{'perks': 1, 'team': 1, 'management': 1, 'grea...</td>\n",
              "      <td>{'poor': 1, 'ladder': 1, 'limb': 1}</td>\n",
              "      <td>0.235702</td>\n",
              "      <td>NaN</td>\n",
              "      <td>NaN</td>\n",
              "      <td>NaN</td>\n",
              "      <td>0.6249</td>\n",
              "      <td>NaN</td>\n",
              "      <td>NaN</td>\n",
              "      <td>NaN</td>\n",
              "    </tr>\n",
              "    <tr>\n",
              "      <th>4</th>\n",
              "      <td>2020-10-06</td>\n",
              "      <td>Virginia Beach, VA</td>\n",
              "      <td>learn a lot about working with people and cowo...</td>\n",
              "      <td>not super flexible on hours.</td>\n",
              "      <td>[learn, lot, working, people, coworkers, handl...</td>\n",
              "      <td>[super, flexible, hours]</td>\n",
              "      <td>[learn, lot, working, people, coworkers, handl...</td>\n",
              "      <td>[super, flexible, hours]</td>\n",
              "      <td>2020</td>\n",
              "      <td>{'learn': 1, 'lot': 1, 'working': 1, 'people':...</td>\n",
              "      <td>{'super': 1, 'flexible': 1, 'hours': 1}</td>\n",
              "      <td>NaN</td>\n",
              "      <td>NaN</td>\n",
              "      <td>NaN</td>\n",
              "      <td>NaN</td>\n",
              "      <td>NaN</td>\n",
              "      <td>NaN</td>\n",
              "      <td>NaN</td>\n",
              "      <td>NaN</td>\n",
              "    </tr>\n",
              "    <tr>\n",
              "      <th>...</th>\n",
              "      <td>...</td>\n",
              "      <td>...</td>\n",
              "      <td>...</td>\n",
              "      <td>...</td>\n",
              "      <td>...</td>\n",
              "      <td>...</td>\n",
              "      <td>...</td>\n",
              "      <td>...</td>\n",
              "      <td>...</td>\n",
              "      <td>...</td>\n",
              "      <td>...</td>\n",
              "      <td>...</td>\n",
              "      <td>...</td>\n",
              "      <td>...</td>\n",
              "      <td>...</td>\n",
              "      <td>...</td>\n",
              "      <td>...</td>\n",
              "      <td>...</td>\n",
              "      <td>...</td>\n",
              "    </tr>\n",
              "    <tr>\n",
              "      <th>4995</th>\n",
              "      <td>2017-05-31</td>\n",
              "      <td>Nanuet, NY</td>\n",
              "      <td>-great co-workers -great benefits -fast paced ...</td>\n",
              "      <td>-disorganized management team -separating betw...</td>\n",
              "      <td>[great, co, workers, great, benefits, fast, pa...</td>\n",
              "      <td>[disorganized, management, team, separating, c...</td>\n",
              "      <td>[great, co, workers, great, benefits, fast, pa...</td>\n",
              "      <td>[disorganized, management, team, separating, c...</td>\n",
              "      <td>2017</td>\n",
              "      <td>{'great': 1, 'co': 1, 'workers': 1, 'benefits'...</td>\n",
              "      <td>{'disorganized': 1, 'management': 1, 'team': 1...</td>\n",
              "      <td>NaN</td>\n",
              "      <td>0.182574</td>\n",
              "      <td>NaN</td>\n",
              "      <td>NaN</td>\n",
              "      <td>NaN</td>\n",
              "      <td>NaN</td>\n",
              "      <td>NaN</td>\n",
              "      <td>-0.2960</td>\n",
              "    </tr>\n",
              "    <tr>\n",
              "      <th>4996</th>\n",
              "      <td>2017-05-16</td>\n",
              "      <td>NaN</td>\n",
              "      <td>personal space independent worker insurance st...</td>\n",
              "      <td>unable to meet people from work</td>\n",
              "      <td>[personal, space, independent, worker, insuran...</td>\n",
              "      <td>[unable, meet, people, work]</td>\n",
              "      <td>[personal, space, independent, worker, insuran...</td>\n",
              "      <td>[unable, meet, people, work]</td>\n",
              "      <td>2017</td>\n",
              "      <td>{'personal': 1, 'space': 1, 'independent': 1, ...</td>\n",
              "      <td>{'unable': 1, 'meet': 1, 'people': 1, 'work': 1}</td>\n",
              "      <td>NaN</td>\n",
              "      <td>NaN</td>\n",
              "      <td>NaN</td>\n",
              "      <td>NaN</td>\n",
              "      <td>NaN</td>\n",
              "      <td>NaN</td>\n",
              "      <td>NaN</td>\n",
              "      <td>NaN</td>\n",
              "    </tr>\n",
              "    <tr>\n",
              "      <th>4997</th>\n",
              "      <td>2017-05-29</td>\n",
              "      <td>NaN</td>\n",
              "      <td>great benefits and job security.</td>\n",
              "      <td>work and life balance can be a challenge.</td>\n",
              "      <td>[great, benefits, job, security]</td>\n",
              "      <td>[work, life, balance, challenge]</td>\n",
              "      <td>[great, benefits, job, security]</td>\n",
              "      <td>[work, life, balance, challenge]</td>\n",
              "      <td>2017</td>\n",
              "      <td>{'great': 1, 'benefits': 1, 'job': 1, 'securit...</td>\n",
              "      <td>{'work': 1, 'life': 1, 'balance': 1, 'challeng...</td>\n",
              "      <td>NaN</td>\n",
              "      <td>NaN</td>\n",
              "      <td>NaN</td>\n",
              "      <td>NaN</td>\n",
              "      <td>NaN</td>\n",
              "      <td>NaN</td>\n",
              "      <td>NaN</td>\n",
              "      <td>NaN</td>\n",
              "    </tr>\n",
              "    <tr>\n",
              "      <th>4998</th>\n",
              "      <td>2017-05-30</td>\n",
              "      <td>NaN</td>\n",
              "      <td>good benefits and great diversity in coworkers</td>\n",
              "      <td>inconsistent schedule and job can be repetitive</td>\n",
              "      <td>[good, benefits, great, diversity, coworkers]</td>\n",
              "      <td>[inconsistent, schedule, job, repetitive]</td>\n",
              "      <td>[good, benefits, great, diversity, coworkers]</td>\n",
              "      <td>[inconsistent, schedule, job, repetitive]</td>\n",
              "      <td>2017</td>\n",
              "      <td>{'good': 1, 'benefits': 1, 'great': 1, 'divers...</td>\n",
              "      <td>{'inconsistent': 1, 'schedule': 1, 'job': 1, '...</td>\n",
              "      <td>NaN</td>\n",
              "      <td>NaN</td>\n",
              "      <td>NaN</td>\n",
              "      <td>NaN</td>\n",
              "      <td>NaN</td>\n",
              "      <td>NaN</td>\n",
              "      <td>NaN</td>\n",
              "      <td>NaN</td>\n",
              "    </tr>\n",
              "    <tr>\n",
              "      <th>4999</th>\n",
              "      <td>2017-05-30</td>\n",
              "      <td>Dallas, TX</td>\n",
              "      <td>management worked very well with my school sch...</td>\n",
              "      <td>the stores can get kind of busy at times and i...</td>\n",
              "      <td>[management, worked, well, school, schedule, b...</td>\n",
              "      <td>[stores, get, kind, busy, times, never, seems,...</td>\n",
              "      <td>[management, worked, well, school, schedule, b...</td>\n",
              "      <td>[stores, get, kind, busy, times, never, seems,...</td>\n",
              "      <td>2017</td>\n",
              "      <td>{'management': 1, 'worked': 1, 'well': 1, 'sch...</td>\n",
              "      <td>{'stores': 1, 'get': 1, 'kind': 1, 'busy': 1, ...</td>\n",
              "      <td>0.117851</td>\n",
              "      <td>NaN</td>\n",
              "      <td>NaN</td>\n",
              "      <td>NaN</td>\n",
              "      <td>0.2732</td>\n",
              "      <td>NaN</td>\n",
              "      <td>NaN</td>\n",
              "      <td>NaN</td>\n",
              "    </tr>\n",
              "  </tbody>\n",
              "</table>\n",
              "<p>5000 rows × 19 columns</p>\n",
              "</div>"
            ],
            "text/plain": [
              "           date            location  ... culture_con management_con\n",
              "0    2020-10-06       Cupertino, CA  ...         NaN            NaN\n",
              "1    2014-08-28                 NaN  ...         NaN         0.2023\n",
              "2    2020-10-02          Denver, CO  ...         NaN            NaN\n",
              "3    2020-10-06       Cupertino, CA  ...         NaN            NaN\n",
              "4    2020-10-06  Virginia Beach, VA  ...         NaN            NaN\n",
              "...         ...                 ...  ...         ...            ...\n",
              "4995 2017-05-31          Nanuet, NY  ...         NaN        -0.2960\n",
              "4996 2017-05-16                 NaN  ...         NaN            NaN\n",
              "4997 2017-05-29                 NaN  ...         NaN            NaN\n",
              "4998 2017-05-30                 NaN  ...         NaN            NaN\n",
              "4999 2017-05-30          Dallas, TX  ...         NaN            NaN\n",
              "\n",
              "[5000 rows x 19 columns]"
            ]
          },
          "metadata": {
            "tags": []
          },
          "execution_count": 23
        }
      ]
    },
    {
      "cell_type": "code",
      "metadata": {
        "id": "8taANAcYF2s-",
        "colab": {
          "base_uri": "https://localhost:8080/",
          "height": 35
        },
        "outputId": "3b5cb23a-11a0-43e1-df59-e0758b84eff7"
      },
      "source": [
        "#checking\n",
        "df[\"weekends\"].isnull().sum()\n",
        "#df['management'][df['management'] == np.NaN]"
      ],
      "execution_count": null,
      "outputs": [
        {
          "output_type": "execute_result",
          "data": {
            "text/plain": [
              "0"
            ]
          },
          "metadata": {
            "tags": []
          },
          "execution_count": 33
        }
      ]
    },
    {
      "cell_type": "code",
      "metadata": {
        "id": "P-K2Yk0wGgWA"
      },
      "source": [
        "#Overall score\n",
        "\n",
        "\n",
        "# example: \n",
        "# --------------------------\n",
        "# apple_reviews #1\n",
        "\n",
        "# pro: aosijahlf\n",
        "\n",
        "# con: management and food    (VADER 0.05  ) it should be -0.5"
      ],
      "execution_count": null,
      "outputs": []
    },
    {
      "cell_type": "code",
      "metadata": {
        "id": "QHQcgB5nHK65",
        "colab": {
          "base_uri": "https://localhost:8080/",
          "height": 36
        },
        "outputId": "c8b827a2-c5ff-4471-ea73-bde035149c2f"
      },
      "source": [
        "df[\"cons\"].iloc[1888]"
      ],
      "execution_count": null,
      "outputs": [
        {
          "output_type": "execute_result",
          "data": {
            "application/vnd.google.colaboratory.intrinsic+json": {
              "type": "string"
            },
            "text/plain": [
              "\"if it wasn't for not being able to pick your own hours and working weekends it would be an amazing job.\""
            ]
          },
          "metadata": {
            "tags": []
          },
          "execution_count": 26
        }
      ]
    },
    {
      "cell_type": "code",
      "metadata": {
        "id": "CXSTau4YLVxb"
      },
      "source": [
        "#Overall\n",
        "\n",
        "#overall = (sim_pro - sim_con) + avg(senti 4 of them) - weekend_penalty\n",
        "\n",
        "df[\"sentiment_score\"]=df.apply(lambda x:(x[\"culture\"]+x[\"management\"]+x[\"weekends\"]+x[\"culture_con\"]+x[\"management_con\"]+x[\"weekends_con\"])/6,axis=1)\n",
        "\n",
        "df[\"similarity_score\"]=df.apply(lambda x:(x[\"sim_pro\"]-x[\"sim_con\"]),axis=1)"
      ],
      "execution_count": null,
      "outputs": []
    },
    {
      "cell_type": "code",
      "metadata": {
        "id": "cOy70k_zMknJ"
      },
      "source": [
        "#weekend penalty\n",
        "#add a flag column\n",
        "\n",
        "\n"
      ],
      "execution_count": null,
      "outputs": []
    },
    {
      "cell_type": "code",
      "metadata": {
        "id": "Vjt7U2jsMrPq"
      },
      "source": [
        "#group by\n",
        "\n",
        "\n",
        "df = df.groupby(['location']).filter(lambda x: len(x) >= 15)\n",
        "\n",
        "reviews_group_df=df.loc[:,[\"location\",\"sentiment_score\",\"similarity_score\"]].groupby(\"location\").mean().reset_index()"
      ],
      "execution_count": null,
      "outputs": []
    },
    {
      "cell_type": "code",
      "metadata": {
        "id": "B2kTQSseM70x",
        "colab": {
          "base_uri": "https://localhost:8080/",
          "height": 751
        },
        "outputId": "9c590694-17ad-40b3-c5ea-0d915ac5557c"
      },
      "source": [
        "reviews_group_df[\"evaluation_score\"]=reviews_group_df.apply(lambda x:x[\"similarity_score\"]+x[\"sentiment_score\"],axis=1)\n",
        "\n",
        "#df = df.groupby(['category']).filter(lambda x: len(x) >= 5)\n",
        "\n",
        "\n",
        "reviews_group_df.sort_values(by='evaluation_score',ascending=False)"
      ],
      "execution_count": null,
      "outputs": [
        {
          "output_type": "execute_result",
          "data": {
            "text/html": [
              "<div>\n",
              "<style scoped>\n",
              "    .dataframe tbody tr th:only-of-type {\n",
              "        vertical-align: middle;\n",
              "    }\n",
              "\n",
              "    .dataframe tbody tr th {\n",
              "        vertical-align: top;\n",
              "    }\n",
              "\n",
              "    .dataframe thead th {\n",
              "        text-align: right;\n",
              "    }\n",
              "</style>\n",
              "<table border=\"1\" class=\"dataframe\">\n",
              "  <thead>\n",
              "    <tr style=\"text-align: right;\">\n",
              "      <th></th>\n",
              "      <th>location</th>\n",
              "      <th>sentiment_score</th>\n",
              "      <th>similarity_score</th>\n",
              "      <th>evaluation_score</th>\n",
              "    </tr>\n",
              "  </thead>\n",
              "  <tbody>\n",
              "    <tr>\n",
              "      <th>21</th>\n",
              "      <td>Seattle, WA</td>\n",
              "      <td>0.013071</td>\n",
              "      <td>0.036478</td>\n",
              "      <td>0.049549</td>\n",
              "    </tr>\n",
              "    <tr>\n",
              "      <th>12</th>\n",
              "      <td>Orlando, FL</td>\n",
              "      <td>0.022856</td>\n",
              "      <td>0.018678</td>\n",
              "      <td>0.041534</td>\n",
              "    </tr>\n",
              "    <tr>\n",
              "      <th>17</th>\n",
              "      <td>San Diego, CA</td>\n",
              "      <td>0.012041</td>\n",
              "      <td>0.028041</td>\n",
              "      <td>0.040082</td>\n",
              "    </tr>\n",
              "    <tr>\n",
              "      <th>4</th>\n",
              "      <td>Columbus, OH</td>\n",
              "      <td>0.026794</td>\n",
              "      <td>0.010035</td>\n",
              "      <td>0.036829</td>\n",
              "    </tr>\n",
              "    <tr>\n",
              "      <th>16</th>\n",
              "      <td>San Antonio, TX</td>\n",
              "      <td>0.016789</td>\n",
              "      <td>0.006367</td>\n",
              "      <td>0.023156</td>\n",
              "    </tr>\n",
              "    <tr>\n",
              "      <th>1</th>\n",
              "      <td>Austin, TX</td>\n",
              "      <td>0.017616</td>\n",
              "      <td>0.000103</td>\n",
              "      <td>0.017718</td>\n",
              "    </tr>\n",
              "    <tr>\n",
              "      <th>18</th>\n",
              "      <td>San Francisco, CA</td>\n",
              "      <td>0.013417</td>\n",
              "      <td>0.003818</td>\n",
              "      <td>0.017235</td>\n",
              "    </tr>\n",
              "    <tr>\n",
              "      <th>23</th>\n",
              "      <td>Washington, DC</td>\n",
              "      <td>0.017405</td>\n",
              "      <td>-0.004724</td>\n",
              "      <td>0.012681</td>\n",
              "    </tr>\n",
              "    <tr>\n",
              "      <th>11</th>\n",
              "      <td>New York, NY</td>\n",
              "      <td>0.015062</td>\n",
              "      <td>-0.005259</td>\n",
              "      <td>0.009803</td>\n",
              "    </tr>\n",
              "    <tr>\n",
              "      <th>22</th>\n",
              "      <td>Sunnyvale, CA</td>\n",
              "      <td>0.006870</td>\n",
              "      <td>-0.001198</td>\n",
              "      <td>0.005672</td>\n",
              "    </tr>\n",
              "    <tr>\n",
              "      <th>0</th>\n",
              "      <td>Atlanta, GA</td>\n",
              "      <td>0.003512</td>\n",
              "      <td>0.000921</td>\n",
              "      <td>0.004433</td>\n",
              "    </tr>\n",
              "    <tr>\n",
              "      <th>19</th>\n",
              "      <td>San Jose, CA</td>\n",
              "      <td>0.007624</td>\n",
              "      <td>-0.005840</td>\n",
              "      <td>0.001784</td>\n",
              "    </tr>\n",
              "    <tr>\n",
              "      <th>9</th>\n",
              "      <td>Los Angeles, CA</td>\n",
              "      <td>0.010659</td>\n",
              "      <td>-0.009963</td>\n",
              "      <td>0.000697</td>\n",
              "    </tr>\n",
              "    <tr>\n",
              "      <th>15</th>\n",
              "      <td>Sacramento, CA</td>\n",
              "      <td>0.006502</td>\n",
              "      <td>-0.010577</td>\n",
              "      <td>-0.004076</td>\n",
              "    </tr>\n",
              "    <tr>\n",
              "      <th>5</th>\n",
              "      <td>Cupertino, CA</td>\n",
              "      <td>0.007010</td>\n",
              "      <td>-0.011136</td>\n",
              "      <td>-0.004126</td>\n",
              "    </tr>\n",
              "    <tr>\n",
              "      <th>6</th>\n",
              "      <td>Dallas, TX</td>\n",
              "      <td>0.008296</td>\n",
              "      <td>-0.013329</td>\n",
              "      <td>-0.005033</td>\n",
              "    </tr>\n",
              "    <tr>\n",
              "      <th>10</th>\n",
              "      <td>Miami, FL</td>\n",
              "      <td>0.014092</td>\n",
              "      <td>-0.019205</td>\n",
              "      <td>-0.005112</td>\n",
              "    </tr>\n",
              "    <tr>\n",
              "      <th>3</th>\n",
              "      <td>Chicago, IL</td>\n",
              "      <td>0.008924</td>\n",
              "      <td>-0.016779</td>\n",
              "      <td>-0.007855</td>\n",
              "    </tr>\n",
              "    <tr>\n",
              "      <th>13</th>\n",
              "      <td>Pittsburgh, PA</td>\n",
              "      <td>0.013561</td>\n",
              "      <td>-0.026079</td>\n",
              "      <td>-0.012518</td>\n",
              "    </tr>\n",
              "    <tr>\n",
              "      <th>8</th>\n",
              "      <td>Houston, TX</td>\n",
              "      <td>0.009081</td>\n",
              "      <td>-0.024666</td>\n",
              "      <td>-0.015586</td>\n",
              "    </tr>\n",
              "    <tr>\n",
              "      <th>20</th>\n",
              "      <td>Santa Clara, CA</td>\n",
              "      <td>-0.005520</td>\n",
              "      <td>-0.014340</td>\n",
              "      <td>-0.019859</td>\n",
              "    </tr>\n",
              "    <tr>\n",
              "      <th>7</th>\n",
              "      <td>Elk Grove, CA</td>\n",
              "      <td>0.010605</td>\n",
              "      <td>-0.031970</td>\n",
              "      <td>-0.021366</td>\n",
              "    </tr>\n",
              "    <tr>\n",
              "      <th>2</th>\n",
              "      <td>Boston, MA</td>\n",
              "      <td>0.022931</td>\n",
              "      <td>-0.065475</td>\n",
              "      <td>-0.042544</td>\n",
              "    </tr>\n",
              "    <tr>\n",
              "      <th>14</th>\n",
              "      <td>Portland, OR</td>\n",
              "      <td>-0.002717</td>\n",
              "      <td>-0.039974</td>\n",
              "      <td>-0.042691</td>\n",
              "    </tr>\n",
              "  </tbody>\n",
              "</table>\n",
              "</div>"
            ],
            "text/plain": [
              "             location  sentiment_score  similarity_score  evaluation_score\n",
              "21        Seattle, WA         0.013071          0.036478          0.049549\n",
              "12        Orlando, FL         0.022856          0.018678          0.041534\n",
              "17      San Diego, CA         0.012041          0.028041          0.040082\n",
              "4        Columbus, OH         0.026794          0.010035          0.036829\n",
              "16    San Antonio, TX         0.016789          0.006367          0.023156\n",
              "1          Austin, TX         0.017616          0.000103          0.017718\n",
              "18  San Francisco, CA         0.013417          0.003818          0.017235\n",
              "23     Washington, DC         0.017405         -0.004724          0.012681\n",
              "11       New York, NY         0.015062         -0.005259          0.009803\n",
              "22      Sunnyvale, CA         0.006870         -0.001198          0.005672\n",
              "0         Atlanta, GA         0.003512          0.000921          0.004433\n",
              "19       San Jose, CA         0.007624         -0.005840          0.001784\n",
              "9     Los Angeles, CA         0.010659         -0.009963          0.000697\n",
              "15     Sacramento, CA         0.006502         -0.010577         -0.004076\n",
              "5       Cupertino, CA         0.007010         -0.011136         -0.004126\n",
              "6          Dallas, TX         0.008296         -0.013329         -0.005033\n",
              "10          Miami, FL         0.014092         -0.019205         -0.005112\n",
              "3         Chicago, IL         0.008924         -0.016779         -0.007855\n",
              "13     Pittsburgh, PA         0.013561         -0.026079         -0.012518\n",
              "8         Houston, TX         0.009081         -0.024666         -0.015586\n",
              "20    Santa Clara, CA        -0.005520         -0.014340         -0.019859\n",
              "7       Elk Grove, CA         0.010605         -0.031970         -0.021366\n",
              "2          Boston, MA         0.022931         -0.065475         -0.042544\n",
              "14       Portland, OR        -0.002717         -0.039974         -0.042691"
            ]
          },
          "metadata": {
            "tags": []
          },
          "execution_count": 30
        }
      ]
    },
    {
      "cell_type": "code",
      "metadata": {
        "id": "eB-_GE-sPdGo",
        "colab": {
          "base_uri": "https://localhost:8080/",
          "height": 479
        },
        "outputId": "81061c83-9a28-4690-c18b-72a932940c3f"
      },
      "source": [
        "df.groupby(\"location\").count()[\"date\"].nlargest(40) # pick locations with more than 15 reviews"
      ],
      "execution_count": null,
      "outputs": [
        {
          "output_type": "execute_result",
          "data": {
            "text/plain": [
              "location\n",
              "Cupertino, CA        481\n",
              "New York, NY         226\n",
              "Austin, TX           195\n",
              "San Francisco, CA    105\n",
              "Los Angeles, CA       88\n",
              "Sunnyvale, CA         68\n",
              "Atlanta, GA           55\n",
              "Houston, TX           54\n",
              "Chicago, IL           48\n",
              "Miami, FL             42\n",
              "Dallas, TX            40\n",
              "Boston, MA            36\n",
              "San Jose, CA          36\n",
              "Orlando, FL           31\n",
              "Elk Grove, CA         25\n",
              "San Diego, CA         23\n",
              "San Antonio, TX       22\n",
              "Seattle, WA           22\n",
              "Washington, DC        22\n",
              "Sacramento, CA        18\n",
              "Pittsburgh, PA        18\n",
              "Santa Clara, CA       16\n",
              "Columbus, OH          16\n",
              "Portland, OR          15\n",
              "Name: date, dtype: int64"
            ]
          },
          "metadata": {
            "tags": []
          },
          "execution_count": 31
        }
      ]
    }
  ]
}