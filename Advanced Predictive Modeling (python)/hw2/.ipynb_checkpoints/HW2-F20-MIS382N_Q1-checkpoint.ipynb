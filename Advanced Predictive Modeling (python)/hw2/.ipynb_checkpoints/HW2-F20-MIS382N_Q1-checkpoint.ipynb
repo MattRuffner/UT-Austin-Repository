{
 "cells": [
  {
   "cell_type": "markdown",
   "metadata": {},
   "source": [
    "\n",
    "# <p style=\"text-align: center;\">MIS 382N: ADVANCED PREDICTIVE MODELING - MSBA</p>\n",
    "# <p style=\"text-align: center;\">Assignment 2</p>\n",
    "## <p style=\"text-align: center;\">Total points: 80 </p>\n",
    "## <p style=\"text-align: center;\">Due: September 30, submitted via Canvas by 11:59 pm</p>\n",
    "\n",
    "Your homework should be written in a **Jupyter notebook**. You may work in groups of two if you wish. Your partner needs to be from the same section. Only one student per team needs to submit the assignment on Canvas.  But be sure to include name and UTEID for both students.  Homework groups will be created and managed through Canvas, so please do not arbitrarily change your homework group. If you do change, let the TA know. \n",
    "\n",
    "Also, please make sure your code runs and the graphics (and anything else) are displayed in your notebook before submitting. (%matplotlib inline)\n",
    "\n",
    "### Name(s)\n",
    "1. \n",
    "2. "
   ]
  },
  {
   "cell_type": "markdown",
   "metadata": {
    "colab_type": "text",
    "id": "W5ZpdgFLzMCK"
   },
   "source": [
    "# Question 1 (Understanding ElasticNet, 30 points)\n",
    "Although lots of past studies have been conducted on factors affecting life expectancy using demographic variables, income composition and mortality rates, it was found that the effect of immunization and human development index was not taken into account. Hence, this motivates us to resolve this factor by formulating a regression model based on mixed effects model and multiple linear regression while considering data from 2014 for all countries. Here, important immunization like Hepatitis B, Polio and Diphtheria will also be considered. \n",
    "\n",
    "This dataset was taken from https://www.kaggle.com/kumarajarshi/life-expectancy-who.\n",
    "\n",
    "**Please use Python 3.6+ for this assignment.**"
   ]
  },
  {
   "cell_type": "markdown",
   "metadata": {
    "colab_type": "text",
    "id": "As8wi1l8zY1f"
   },
   "source": [
    "First, we import packages and clean up the obtained dataset. We consider the `Life Expectancy` variable as the dependant variable whereas others are assumed to be independent variables."
   ]
  },
  {
   "cell_type": "code",
   "execution_count": 1,
   "metadata": {
    "colab": {
     "base_uri": "https://localhost:8080/",
     "height": 51
    },
    "colab_type": "code",
    "id": "FOU1ODXmfNlG",
    "outputId": "3e0dacba-1114-4244-be8f-3183dca50c2c"
   },
   "outputs": [],
   "source": [
    "import pandas as pd\n",
    "import numpy as np\n",
    "import matplotlib.pyplot as plt\n",
    "from tqdm import tqdm\n",
    "import seaborn as sns\n",
    "from sklearn.preprocessing import LabelEncoder\n",
    "from sklearn.model_selection import train_test_split\n",
    "from sklearn.linear_model import LinearRegression\n",
    "import warnings\n",
    "warnings.filterwarnings('ignore')"
   ]
  },
  {
   "cell_type": "code",
   "execution_count": 2,
   "metadata": {
    "colab": {
     "base_uri": "https://localhost:8080/",
     "height": 51
    },
    "colab_type": "code",
    "id": "ctY6Ogo8fX8-",
    "outputId": "a56bdbdb-3a5e-464c-d9b2-0611b4682b6d"
   },
   "outputs": [
    {
     "name": "stdout",
     "output_type": "stream",
     "text": [
      "(2938, 21)\n",
      "(131, 21)\n"
     ]
    }
   ],
   "source": [
    "df = pd.read_csv(\"life.csv\", index_col=0)\n",
    "print(df.shape)\n",
    "df = df.loc[df['Year']==2014, :]\n",
    "df = df.drop('Year', axis=1)\n",
    "df = pd.get_dummies(df, columns=['Status'])\n",
    "df = df.dropna()\n",
    "print(df.shape)"
   ]
  },
  {
   "cell_type": "code",
   "execution_count": 3,
   "metadata": {
    "colab": {
     "base_uri": "https://localhost:8080/",
     "height": 306
    },
    "colab_type": "code",
    "id": "MqH3uOrbf-WO",
    "outputId": "83be1413-c739-460f-e109-b45d039a9844"
   },
   "outputs": [
    {
     "data": {
      "text/html": [
       "<div>\n",
       "<style scoped>\n",
       "    .dataframe tbody tr th:only-of-type {\n",
       "        vertical-align: middle;\n",
       "    }\n",
       "\n",
       "    .dataframe tbody tr th {\n",
       "        vertical-align: top;\n",
       "    }\n",
       "\n",
       "    .dataframe thead th {\n",
       "        text-align: right;\n",
       "    }\n",
       "</style>\n",
       "<table border=\"1\" class=\"dataframe\">\n",
       "  <thead>\n",
       "    <tr style=\"text-align: right;\">\n",
       "      <th></th>\n",
       "      <th>Life expectancy</th>\n",
       "      <th>Adult Mortality</th>\n",
       "      <th>infant deaths</th>\n",
       "      <th>Alcohol</th>\n",
       "      <th>percentage expenditure</th>\n",
       "      <th>Hepatitis B</th>\n",
       "      <th>Measles</th>\n",
       "      <th>BMI</th>\n",
       "      <th>under-five deaths</th>\n",
       "      <th>Polio</th>\n",
       "      <th>...</th>\n",
       "      <th>Diphtheria</th>\n",
       "      <th>HIV/AIDS</th>\n",
       "      <th>GDP</th>\n",
       "      <th>Population</th>\n",
       "      <th>thinness  1-19 years</th>\n",
       "      <th>thinness 5-9 years</th>\n",
       "      <th>Income composition of resources</th>\n",
       "      <th>Schooling</th>\n",
       "      <th>Status_Developed</th>\n",
       "      <th>Status_Developing</th>\n",
       "    </tr>\n",
       "    <tr>\n",
       "      <th>Country</th>\n",
       "      <th></th>\n",
       "      <th></th>\n",
       "      <th></th>\n",
       "      <th></th>\n",
       "      <th></th>\n",
       "      <th></th>\n",
       "      <th></th>\n",
       "      <th></th>\n",
       "      <th></th>\n",
       "      <th></th>\n",
       "      <th></th>\n",
       "      <th></th>\n",
       "      <th></th>\n",
       "      <th></th>\n",
       "      <th></th>\n",
       "      <th></th>\n",
       "      <th></th>\n",
       "      <th></th>\n",
       "      <th></th>\n",
       "      <th></th>\n",
       "      <th></th>\n",
       "    </tr>\n",
       "  </thead>\n",
       "  <tbody>\n",
       "    <tr>\n",
       "      <th>Afghanistan</th>\n",
       "      <td>59.9</td>\n",
       "      <td>271.0</td>\n",
       "      <td>64</td>\n",
       "      <td>0.01</td>\n",
       "      <td>73.523582</td>\n",
       "      <td>62.0</td>\n",
       "      <td>492</td>\n",
       "      <td>18.6</td>\n",
       "      <td>86</td>\n",
       "      <td>58.0</td>\n",
       "      <td>...</td>\n",
       "      <td>62.0</td>\n",
       "      <td>0.1</td>\n",
       "      <td>612.696514</td>\n",
       "      <td>327582.0</td>\n",
       "      <td>17.5</td>\n",
       "      <td>17.5</td>\n",
       "      <td>0.476</td>\n",
       "      <td>10.0</td>\n",
       "      <td>0</td>\n",
       "      <td>1</td>\n",
       "    </tr>\n",
       "    <tr>\n",
       "      <th>Albania</th>\n",
       "      <td>77.5</td>\n",
       "      <td>8.0</td>\n",
       "      <td>0</td>\n",
       "      <td>4.51</td>\n",
       "      <td>428.749067</td>\n",
       "      <td>98.0</td>\n",
       "      <td>0</td>\n",
       "      <td>57.2</td>\n",
       "      <td>1</td>\n",
       "      <td>98.0</td>\n",
       "      <td>...</td>\n",
       "      <td>98.0</td>\n",
       "      <td>0.1</td>\n",
       "      <td>4575.763787</td>\n",
       "      <td>288914.0</td>\n",
       "      <td>1.2</td>\n",
       "      <td>1.3</td>\n",
       "      <td>0.761</td>\n",
       "      <td>14.2</td>\n",
       "      <td>0</td>\n",
       "      <td>1</td>\n",
       "    </tr>\n",
       "    <tr>\n",
       "      <th>Algeria</th>\n",
       "      <td>75.4</td>\n",
       "      <td>11.0</td>\n",
       "      <td>21</td>\n",
       "      <td>0.01</td>\n",
       "      <td>54.237318</td>\n",
       "      <td>95.0</td>\n",
       "      <td>0</td>\n",
       "      <td>58.4</td>\n",
       "      <td>24</td>\n",
       "      <td>95.0</td>\n",
       "      <td>...</td>\n",
       "      <td>95.0</td>\n",
       "      <td>0.1</td>\n",
       "      <td>547.851700</td>\n",
       "      <td>39113313.0</td>\n",
       "      <td>6.0</td>\n",
       "      <td>5.8</td>\n",
       "      <td>0.741</td>\n",
       "      <td>14.4</td>\n",
       "      <td>0</td>\n",
       "      <td>1</td>\n",
       "    </tr>\n",
       "    <tr>\n",
       "      <th>Angola</th>\n",
       "      <td>51.7</td>\n",
       "      <td>348.0</td>\n",
       "      <td>67</td>\n",
       "      <td>8.33</td>\n",
       "      <td>23.965612</td>\n",
       "      <td>64.0</td>\n",
       "      <td>11699</td>\n",
       "      <td>22.7</td>\n",
       "      <td>101</td>\n",
       "      <td>68.0</td>\n",
       "      <td>...</td>\n",
       "      <td>64.0</td>\n",
       "      <td>2.0</td>\n",
       "      <td>479.312240</td>\n",
       "      <td>2692466.0</td>\n",
       "      <td>8.5</td>\n",
       "      <td>8.3</td>\n",
       "      <td>0.527</td>\n",
       "      <td>11.4</td>\n",
       "      <td>0</td>\n",
       "      <td>1</td>\n",
       "    </tr>\n",
       "    <tr>\n",
       "      <th>Argentina</th>\n",
       "      <td>76.2</td>\n",
       "      <td>118.0</td>\n",
       "      <td>8</td>\n",
       "      <td>7.93</td>\n",
       "      <td>847.371746</td>\n",
       "      <td>94.0</td>\n",
       "      <td>1</td>\n",
       "      <td>62.2</td>\n",
       "      <td>9</td>\n",
       "      <td>92.0</td>\n",
       "      <td>...</td>\n",
       "      <td>94.0</td>\n",
       "      <td>0.1</td>\n",
       "      <td>12245.256450</td>\n",
       "      <td>42981515.0</td>\n",
       "      <td>1.0</td>\n",
       "      <td>0.9</td>\n",
       "      <td>0.825</td>\n",
       "      <td>17.3</td>\n",
       "      <td>0</td>\n",
       "      <td>1</td>\n",
       "    </tr>\n",
       "  </tbody>\n",
       "</table>\n",
       "<p>5 rows × 21 columns</p>\n",
       "</div>"
      ],
      "text/plain": [
       "             Life expectancy   Adult Mortality  infant deaths  Alcohol  \\\n",
       "Country                                                                  \n",
       "Afghanistan              59.9            271.0             64     0.01   \n",
       "Albania                  77.5              8.0              0     4.51   \n",
       "Algeria                  75.4             11.0             21     0.01   \n",
       "Angola                   51.7            348.0             67     8.33   \n",
       "Argentina                76.2            118.0              8     7.93   \n",
       "\n",
       "             percentage expenditure  Hepatitis B  Measles    BMI   \\\n",
       "Country                                                             \n",
       "Afghanistan               73.523582         62.0       492   18.6   \n",
       "Albania                  428.749067         98.0         0   57.2   \n",
       "Algeria                   54.237318         95.0         0   58.4   \n",
       "Angola                    23.965612         64.0     11699   22.7   \n",
       "Argentina                847.371746         94.0         1   62.2   \n",
       "\n",
       "             under-five deaths   Polio  ...  Diphtheria    HIV/AIDS  \\\n",
       "Country                                 ...                           \n",
       "Afghanistan                  86   58.0  ...         62.0        0.1   \n",
       "Albania                       1   98.0  ...         98.0        0.1   \n",
       "Algeria                      24   95.0  ...         95.0        0.1   \n",
       "Angola                      101   68.0  ...         64.0        2.0   \n",
       "Argentina                     9   92.0  ...         94.0        0.1   \n",
       "\n",
       "                      GDP  Population   thinness  1-19 years  \\\n",
       "Country                                                        \n",
       "Afghanistan    612.696514    327582.0                   17.5   \n",
       "Albania       4575.763787    288914.0                    1.2   \n",
       "Algeria        547.851700  39113313.0                    6.0   \n",
       "Angola         479.312240   2692466.0                    8.5   \n",
       "Argentina    12245.256450  42981515.0                    1.0   \n",
       "\n",
       "              thinness 5-9 years  Income composition of resources  Schooling  \\\n",
       "Country                                                                        \n",
       "Afghanistan                 17.5                            0.476       10.0   \n",
       "Albania                      1.3                            0.761       14.2   \n",
       "Algeria                      5.8                            0.741       14.4   \n",
       "Angola                       8.3                            0.527       11.4   \n",
       "Argentina                    0.9                            0.825       17.3   \n",
       "\n",
       "             Status_Developed  Status_Developing  \n",
       "Country                                           \n",
       "Afghanistan                 0                  1  \n",
       "Albania                     0                  1  \n",
       "Algeria                     0                  1  \n",
       "Angola                      0                  1  \n",
       "Argentina                   0                  1  \n",
       "\n",
       "[5 rows x 21 columns]"
      ]
     },
     "execution_count": 3,
     "metadata": {},
     "output_type": "execute_result"
    }
   ],
   "source": [
    "df.head()"
   ]
  },
  {
   "cell_type": "code",
   "execution_count": 4,
   "metadata": {},
   "outputs": [],
   "source": [
    "# Creating training and testing dataset\n",
    "y = df.iloc[:, 0]\n",
    "X = df.iloc[:, 1:]\n",
    "\n",
    "X_train, X_test, y_train, y_test = train_test_split(X, y, test_size=0.20, random_state = 42)"
   ]
  },
  {
   "cell_type": "markdown",
   "metadata": {
    "colab_type": "text",
    "id": "w8ngMwYK0uZ4"
   },
   "source": [
    "## Question 1.1 (5 points) \n",
    "Run Linear regression on the train dataset and print the $R^2$ values measured on (a) the training dataset and (b) the test dataset."
   ]
  },
  {
   "cell_type": "markdown",
   "metadata": {
    "colab_type": "text",
    "id": "uNI4UUH7-x00"
   },
   "source": [
    "## Answer 1.1"
   ]
  },
  {
   "cell_type": "code",
   "execution_count": 5,
   "metadata": {},
   "outputs": [
    {
     "name": "stdout",
     "output_type": "stream",
     "text": [
      "Training: 0.8869822224758938\n",
      "Test: 0.83550552336316\n"
     ]
    }
   ],
   "source": [
    "reg = LinearRegression().fit(X_train, y_train)\n",
    "\n",
    "from sklearn.metrics import r2_score\n",
    "\n",
    "print('Training:', r2_score(y_train.values, reg.predict(X_train)))\n",
    "print('Test:', r2_score(y_test.values, reg.predict(X_test)))\n"
   ]
  },
  {
   "cell_type": "markdown",
   "metadata": {
    "colab_type": "text",
    "id": "Ng9V_xUX2AZt"
   },
   "source": [
    "## Question 1.2 (8 points) \n",
    "Run linear regression using Lasso and determine the value of $\\alpha$ that results in best test set performance. Consider `alphas=10**np.linspace(1,-2,100)*0.5`. Display the best value of $\\alpha$ as well as the corresponsing $R^2$ score on test set. Use the following parameters in Lasso model. Finally, store the best model separately. Also, use the co-efficients obtained and select the [columns with non-zero weights](https://stackoverflow.com/questions/62323713/selecting-columns-of-dataframe-where-lasso-coefficient-is-nonzero) and use them to create `X_train_lasso` and `X_test_lasso`. Show how many non-zero columns are present.\n",
    "\n",
    "    copy_X=True\n",
    "    normalize=True # Normalizes data using StandardScaler()\n",
    "    random_state=42"
   ]
  },
  {
   "cell_type": "markdown",
   "metadata": {
    "colab_type": "text",
    "id": "x2ZOelRg-RQ3"
   },
   "source": [
    "## Answer 1.2"
   ]
  },
  {
   "cell_type": "code",
   "execution_count": 6,
   "metadata": {},
   "outputs": [],
   "source": [
    "from sklearn.linear_model import LinearRegression, Lasso, Ridge, RidgeCV, LassoCV\n",
    "from sklearn import preprocessing\n",
    "    \n",
    "X_scaled_train = preprocessing.scale(X_train, axis=0, with_mean=True, with_std=True, copy=True)\n",
    "X_scaled_test = preprocessing.scale(X_test, axis=0, with_mean=True, with_std=True, copy=True)"
   ]
  },
  {
   "cell_type": "code",
   "execution_count": 13,
   "metadata": {},
   "outputs": [
    {
     "name": "stdout",
     "output_type": "stream",
     "text": [
      "{'alpha': 0.3782316637773143}\n",
      "R^2: 0.46494767310490487\n"
     ]
    }
   ],
   "source": [
    "import numpy as np\n",
    "import matplotlib.pyplot as plt\n",
    "\n",
    "from sklearn import datasets\n",
    "from sklearn.linear_model import LassoCV\n",
    "from sklearn.linear_model import Lasso, ElasticNet\n",
    "from sklearn.model_selection import KFold\n",
    "from sklearn.model_selection import GridSearchCV\n",
    "\n",
    "lasso = Lasso(random_state=42, normalize=True, copy_X=True)\n",
    "alphas = 10**np.linspace(1,-2,100)*0.5\n",
    "\n",
    "tuned_parameters = [{'alpha': alphas}]\n",
    "n_folds = 5\n",
    "\n",
    "clf = GridSearchCV(lasso, tuned_parameters, scoring='r2', cv=n_folds, refit=False)\n",
    "clf.fit(X_scaled_test, y_test)\n",
    "\n",
    "print(clf.best_params_)\n",
    "print('R^2:', clf.best_score_)"
   ]
  },
  {
   "cell_type": "code",
   "execution_count": 8,
   "metadata": {},
   "outputs": [
    {
     "data": {
      "text/plain": [
       "array([-0.96798814, -0.        ,  0.        ,  0.        ,  0.        ,\n",
       "       -0.        ,  0.        , -0.        ,  0.        ,  0.        ,\n",
       "        0.01535791, -0.        ,  0.        , -0.        , -0.        ,\n",
       "       -0.        ,  5.66885667,  0.        ,  0.        , -0.        ])"
      ]
     },
     "execution_count": 8,
     "metadata": {},
     "output_type": "execute_result"
    }
   ],
   "source": [
    "alphas_1 = 10**np.linspace(1,-2,100)*0.5\n",
    "lassomodelT = LassoCV(alphas = alphas_1).fit(X_scaled_test, y_test)\n",
    "lassomodelT.coef_"
   ]
  },
  {
   "cell_type": "code",
   "execution_count": 9,
   "metadata": {},
   "outputs": [
    {
     "data": {
      "text/plain": [
       "array([-1.93119285, -0.        ,  0.        ,  0.        ,  0.        ,\n",
       "       -0.        ,  0.        , -0.        ,  0.        ,  0.54905518,\n",
       "        0.06237773, -1.28969304,  0.        ,  0.        , -0.        ,\n",
       "       -0.01397913,  5.10994621,  0.        ,  0.10116477, -0.        ])"
      ]
     },
     "execution_count": 9,
     "metadata": {},
     "output_type": "execute_result"
    }
   ],
   "source": [
    "alphas_1 = 10**np.linspace(1,-2,100)*0.5\n",
    "lassomodelTr = LassoCV(alphas = alphas_1).fit(X_scaled_train, y_train)\n",
    "lassomodelTr.coef_"
   ]
  },
  {
   "cell_type": "code",
   "execution_count": 10,
   "metadata": {},
   "outputs": [],
   "source": [
    "X_scaled_test_lasso = X_scaled_test[:,lassomodelT.coef_!=0]\n",
    "X_scaled_train_lasso = X_scaled_train[:,lassomodelTr.coef_!=0]"
   ]
  },
  {
   "cell_type": "markdown",
   "metadata": {
    "colab_type": "text",
    "id": "yZgK-IsT29fa"
   },
   "source": [
    "## Question 1.3 (6 points) \n",
    "Run linear regression using Ridge and determine the value of $\\alpha$ that results in best test set performance. Consider `alphas=10**np.linspace(1,-2,100)*0.5`. Display the best value of $\\alpha$ as well as the corresponsing $R^2$ score on test set. Use the following parameters in Ridge model.\n",
    "\n",
    "    copy_X=True\n",
    "    normalize=True # Normalizes data using StandardScaler()\n",
    "    random_state=42"
   ]
  },
  {
   "cell_type": "markdown",
   "metadata": {
    "colab_type": "text",
    "id": "syhZfjiI-PB3"
   },
   "source": [
    "## Answer 1.3"
   ]
  },
  {
   "cell_type": "code",
   "execution_count": 12,
   "metadata": {},
   "outputs": [
    {
     "name": "stdout",
     "output_type": "stream",
     "text": [
      "{'alpha': 4.055654153948435}\n",
      "R^2: 0.26741764772402454\n"
     ]
    }
   ],
   "source": [
    "ridge = Ridge(random_state=42, normalize=True, copy_X=True)\n",
    "alphas = 10**np.linspace(1,-2,100)*0.5\n",
    "\n",
    "tuned_parameters = [{'alpha': alphas}]\n",
    "n_folds = 5\n",
    "\n",
    "clf = GridSearchCV(ridge, tuned_parameters, scoring='r2', cv=n_folds, refit=False)\n",
    "clf.fit(X_scaled_test, y_test)\n",
    "\n",
    "print(clf.best_params_)\n",
    "print('R^2:', clf.best_score_)"
   ]
  },
  {
   "cell_type": "markdown",
   "metadata": {
    "colab_type": "text",
    "id": "Y-6cOe7V7DCz"
   },
   "source": [
    "## Question 1.4  (8 points) \n",
    "Run [ElasticNet](https://scikit-learn.org/stable/modules/generated/sklearn.linear_model.ElasticNet.html) [(Video Reference)](https://youtu.be/1dKRdX9bfIo) on the `X_train_lasso` dataset by using all possible values from the below mentioned parameter set:\n",
    "\n",
    "    l1_ratios = np.arange(0, 1.01, 0.01)  # 101 elements\n",
    "    alphas = 10**np.linspace(1, -2, 100)*0.5 # 100 elements\n",
    "    normalize = True\n",
    "    random_state = 42\n",
    "\n",
    "\n",
    "Store the $R^2$ score obtained from `X_test_lasso` set for each combination in an array with 101 rows and 100 columns. e.g.\n",
    "\n",
    "    arr[i][j] = curr_r2_score # obtained using l1_ratios[i] and alphas[j]\n",
    "\n",
    "where `i` is the `ith` element from `l1_ratio` and `j` is the `jth` element from `alphas`. Print the best $R^2$ score obtained using test set and its corresponding `alpha` and `l1 ratio`."
   ]
  },
  {
   "cell_type": "code",
   "execution_count": 29,
   "metadata": {
    "colab": {},
    "colab_type": "code",
    "id": "ZZiKAbk4jGXu"
   },
   "outputs": [
    {
     "name": "stdout",
     "output_type": "stream",
     "text": [
      "{'alpha': 0.03289666123287841, 'l1_ratio': 1.0}\n"
     ]
    }
   ],
   "source": [
    "arr = np.zeros((101, 100)) # Create 101x100 array\n",
    "elnet = ElasticNet(normalize = True, random_state = 42)\n",
    "\n",
    "tuned_parameters = [{'alpha': 10**np.linspace(1, -2, 100)*0.5,\n",
    "                    'l1_ratio': np.arange(0, 1.01, 0.01)}]\n",
    "n_folds = 5\n",
    "\n",
    "clf = GridSearchCV(elnet, tuned_parameters, scoring='r2', cv=n_folds, refit=False)\n",
    "clf.fit(X_scaled_train_lasso, y_train)\n",
    "print(clf.best_params_)\n",
    "print(clf.best_score_)"
   ]
  },
  {
   "cell_type": "code",
   "execution_count": 48,
   "metadata": {},
   "outputs": [
    {
     "data": {
      "text/plain": [
       "array([[0.0244346 , 0.02615652, 0.02799646, ..., 0.83898714, 0.84017361,\n",
       "        0.84125448],\n",
       "       [0.02363894, 0.0253798 , 0.02723991, ..., 0.83916054, 0.8403318 ,\n",
       "        0.84139859],\n",
       "       [0.02282687, 0.02458707, 0.02646779, ..., 0.83933339, 0.84048957,\n",
       "        0.84154229],\n",
       "       ...,\n",
       "       [0.        , 0.        , 0.        , ..., 0.85077622, 0.85078096,\n",
       "        0.85078506],\n",
       "       [0.        , 0.        , 0.        , ..., 0.85078687, 0.8507902 ,\n",
       "        0.8507931 ],\n",
       "       [0.        , 0.        , 0.        , ..., 0.85079324, 0.85079574,\n",
       "        0.85079791]])"
      ]
     },
     "execution_count": 48,
     "metadata": {},
     "output_type": "execute_result"
    }
   ],
   "source": [
    "l1_ratios = list(np.arange(0, 1.01, 0.01))\n",
    "alphas = list(10**np.linspace(1, -2, 100)*0.5)\n",
    "for i in l1_ratios:\n",
    "    for j in alphas:\n",
    "        elnet = ElasticNet(normalize = True, alpha = j, l1_ratio = i, random_state = 42)\n",
    "        elnet.fit(X_scaled_test_lasso, y_test)   \n",
    "        arr[l1_ratios.index(i)][alphas.index(j)] = r2_score(y_test.values, elnet.predict(X_scaled_test_lasso))\n",
    "arr"
   ]
  },
  {
   "cell_type": "code",
   "execution_count": 57,
   "metadata": {},
   "outputs": [
    {
     "name": "stdout",
     "output_type": "stream",
     "text": [
      "Best R^2 value: 0.8507979136357258\n",
      "1.0\n",
      "0.005\n"
     ]
    }
   ],
   "source": [
    "l1_ratios = list(np.arange(0, 1.01, 0.01))\n",
    "alphas = list(10**np.linspace(1, -2, 100)*0.5)\n",
    "max = 0\n",
    "max_i = 0\n",
    "max_j = 0\n",
    "for i in range(len(arr)):\n",
    "    for j in range(len(arr[i])):\n",
    "        if arr[i][j] > max:\n",
    "            max = arr[i][j]\n",
    "            max_i = i\n",
    "            max_j = j\n",
    "            \n",
    "print('Best R^2 value:', max)\n",
    "print(l1_ratios[max_i])\n",
    "print(alphas[max_j])"
   ]
  },
  {
   "cell_type": "code",
   "execution_count": null,
   "metadata": {},
   "outputs": [],
   "source": [
    "arr = np.zeros((101, 100)) # Create 101x100 array\n",
    "elnet = ElasticNet(normalize = True, random_state = 42)\n",
    "\n",
    "tuned_parameters = [{'alpha': 10**np.linspace(1, -2, 100)*0.5,\n",
    "                    'l1_ratio': np.arange(0, 1.01, 0.01)}]\n",
    "n_folds = 5\n",
    "\n",
    "clf = GridSearchCV(elnet, tuned_parameters, scoring='r2', cv=n_folds, refit=False)\n",
    "clf.fit(X_scaled_testy_lasso, y_test)\n",
    "print(clf.best_params_)\n",
    "print(clf.best_score_)"
   ]
  },
  {
   "cell_type": "markdown",
   "metadata": {
    "colab_type": "text",
    "id": "GFwZrCRViynq"
   },
   "source": [
    "Note that by varying the `l1_ratio`, you are controlling the ratio of Lasso and Ridge regularization that is present in the model. When `l1_ratio = 1`, it means that the model uses Lasso regularization only whereas when `l1_ratio = 0`, it means that the model uses Ridge regularization only. You can find the formula for the loss function [here](https://scikit-learn.org/stable/modules/generated/sklearn.linear_model.ElasticNet.html)."
   ]
  },
  {
   "cell_type": "markdown",
   "metadata": {
    "colab_type": "text",
    "id": "r5ksUkeL-MbL"
   },
   "source": [
    "## Answer 1.4"
   ]
  },
  {
   "cell_type": "code",
   "execution_count": null,
   "metadata": {},
   "outputs": [],
   "source": []
  },
  {
   "cell_type": "markdown",
   "metadata": {
    "colab_type": "text",
    "id": "D6eM7mR189cP"
   },
   "source": [
    "## Question 1.5 (3 points) \n",
    "Call `plot_heatmap()` using the 101x100 array (after flipping it horizontally using [np.fliplr()](https://numpy.org/doc/stable/reference/generated/numpy.fliplr.html)) from the previous question. What does this heatmap represent? Interpret the heatmap."
   ]
  },
  {
   "cell_type": "code",
   "execution_count": 59,
   "metadata": {
    "colab": {},
    "colab_type": "code",
    "id": "2SVYnItgCCAR"
   },
   "outputs": [],
   "source": [
    "def rescale(val, in_min, in_max, out_min, out_max):\n",
    "    return out_min + (val - in_min) * ((out_max - out_min) / (in_max - in_min))\n",
    "\n",
    "def format_y(value, tick_number):\n",
    "    return f'{value/100.:0.2f}'\n",
    "\n",
    "def format_x(value, tick_number):\n",
    "    return f'{rescale(value, 0., 100., 0.05, 5.):0.2f}'\n",
    "\n",
    "def plot_heatmap(arr):\n",
    "    ax = sns.heatmap(arr)\n",
    "    ax.set_ylabel(\"L1 Ratio\")\n",
    "    ax.set_xlabel(\"alpha\")\n",
    "    ax.invert_yaxis()\n",
    "    ax.xaxis.set_major_formatter(plt.FuncFormatter(format_x))\n",
    "    ax.yaxis.set_major_formatter(plt.FuncFormatter(format_y))"
   ]
  },
  {
   "cell_type": "markdown",
   "metadata": {
    "colab_type": "text",
    "id": "q5QVYStf9zuA"
   },
   "source": [
    "## Answer 1.5"
   ]
  },
  {
   "cell_type": "code",
   "execution_count": 60,
   "metadata": {},
   "outputs": [
    {
     "data": {
      "image/png": "[encoded data removed]",
      "text/plain": [
       "<Figure size 432x288 with 2 Axes>"
      ]
     },
     "metadata": {
      "needs_background": "light"
     },
     "output_type": "display_data"
    }
   ],
   "source": [
    "plot_heatmap(np.fliplr(arr))"
   ]
  },
  {
   "cell_type": "markdown",
   "metadata": {},
   "source": []
  },
  {
   "cell_type": "markdown",
   "metadata": {
    "colab_type": "text",
    "id": "fXL1_aVfCktf"
   },
   "source": [
    "# Question 2 (5 points)\n",
    "Suppose you learn a ridge regression based on some of the independent variables available to you, and including a few interaction terms as well. Your result is disappointing, and you believe that the model is suffering from either too much bias or too much variance. Describe briefly how you will test which alternative is more likely to be true. (there is no extra data that you can use, so “get more data” is not an option)."
   ]
  },
  {
   "cell_type": "markdown",
   "metadata": {},
   "source": [
    "## Answer 2"
   ]
  },
  {
   "cell_type": "markdown",
   "metadata": {},
   "source": [
    "# Question 3 Bias-Variance (20 pts): \n",
    "\n",
    "We want to build a model that can predict y for unknown inputs x.(15 pts)\n",
    "\n",
    "(a) (5 pts) Fit a linear model to the training data, and report mean squared error on the test data. Plot the train and test points on the same plot, clearly denoting the training and testing points. On the same figure, plot the predictions of the linear model using x_all. All the plots must be in the same figure and be clearly labeled.\n",
    "\n",
    "\n",
    "(b) (10 pts) Fit polynomial models of degrees 2, 3, 4 and 12 to the training data, Report mean squared error (on both train and test sets) for all the models. Plot the data (train and test points) as before.  On the same figure, plot the predictions of the polynomial models using x_all. All the plots must be in the same figure and be clearly labeled.\n",
    "\n",
    "\n",
    "(c) (5 pts) Which model performed the best? Explain.\n"
   ]
  },
  {
   "cell_type": "markdown",
   "metadata": {},
   "source": [
    "* Use the below code to load the data from the file 'ps01.data'. It is organized as a dictionary, of train and test data."
   ]
  },
  {
   "cell_type": "code",
   "execution_count": 74,
   "metadata": {},
   "outputs": [],
   "source": [
    "from sklearn import linear_model as lm\n",
    "from sklearn.metrics import mean_squared_error,mean_absolute_error\n",
    "import matplotlib.pyplot as plt\n",
    "import numpy as np\n",
    "%matplotlib inline\n",
    "\n",
    "x_all = np.linspace(-2,5,101).reshape(-1,1)\n",
    "all_files = np.load(\"q3_data.npz\")\n",
    "x_train, y_train, x_test, y_test = all_files['arr_0'], all_files['arr_1'], all_files['arr_2'], all_files['arr_3']"
   ]
  },
  {
   "cell_type": "markdown",
   "metadata": {},
   "source": [
    "### Answer"
   ]
  },
  {
   "cell_type": "markdown",
   "metadata": {},
   "source": [
    "#### (a)"
   ]
  },
  {
   "cell_type": "code",
   "execution_count": 114,
   "metadata": {},
   "outputs": [
    {
     "data": {
      "text/plain": [
       "4.739110717634691"
      ]
     },
     "execution_count": 114,
     "metadata": {},
     "output_type": "execute_result"
    }
   ],
   "source": [
    "linmod = LinearRegression().fit(x_train, y_train)\n",
    "pred_y = linmod.predict(x_test)\n",
    "mean_squared_error(pred_y,y_test)"
   ]
  },
  {
   "cell_type": "code",
   "execution_count": 87,
   "metadata": {},
   "outputs": [
    {
     "name": "stdout",
     "output_type": "stream",
     "text": [
      "Populating the interactive namespace from numpy and matplotlib\n"
     ]
    },
    {
     "data": {
      "text/plain": [
       "<matplotlib.legend.Legend at 0x7ff5b2398390>"
      ]
     },
     "execution_count": 87,
     "metadata": {},
     "output_type": "execute_result"
    },
    {
     "data": {
      "image/png": "[encoded data removed]",
      "text/plain": [
       "<Figure size 432x288 with 1 Axes>"
      ]
     },
     "metadata": {
      "needs_background": "light"
     },
     "output_type": "display_data"
    }
   ],
   "source": [
    "import matplotlib.pyplot as plt\n",
    "%pylab inline\n",
    "\n",
    "scatter(x=x_train, y=y_train, label='Train Data')\n",
    "scatter(x=x_test, y=y_test, label='Test Data')\n",
    "plot(x_all, linmod.predict(x_all), label='Prediction')\n",
    "\n",
    "xlabel('x')\n",
    "ylabel('y')\n",
    "legend(loc='best')"
   ]
  },
  {
   "cell_type": "markdown",
   "metadata": {},
   "source": [
    "### (b)"
   ]
  },
  {
   "cell_type": "code",
   "execution_count": 120,
   "metadata": {},
   "outputs": [
    {
     "data": {
      "image/png": "[encoded data removed]",
      "text/plain": [
       "<Figure size 432x288 with 1 Axes>"
      ]
     },
     "metadata": {
      "needs_background": "light"
     },
     "output_type": "display_data"
    },
    {
     "name": "stdout",
     "output_type": "stream",
     "text": [
      "Test MSE for polynomial degree 2: 3.1186880128035512\n",
      "Train MSE for polynomial degree 2: 3.241421853814466\n",
      "Test MSE for polynomial degree 3: 1.669870363950939\n",
      "Train MSE for polynomial degree 3: 1.4201223351315242\n",
      "Test MSE for polynomial degree 4: 0.2793974390234882\n",
      "Train MSE for polynomial degree 4: 0.37459501477803064\n",
      "Test MSE for polynomial degree 12: 0.40228761828867277\n",
      "Train MSE for polynomial degree 12: 0.3297484792265298\n"
     ]
    }
   ],
   "source": [
    "from sklearn.preprocessing import PolynomialFeatures \n",
    "\n",
    "# degree 2\n",
    "poly2 = PolynomialFeatures(degree = 2) \n",
    "X_poly2 = poly2.fit_transform(x_train) \n",
    "poly2.fit(X_poly2, y_train) \n",
    "lin2 = LinearRegression() \n",
    "lin2.fit(X_poly2, y_train) \n",
    "\n",
    "# degree 3\n",
    "poly3 = PolynomialFeatures(degree = 3) \n",
    "X_poly3 = poly3.fit_transform(x_train) \n",
    "poly3.fit(X_poly3, y_train) \n",
    "lin3 = LinearRegression() \n",
    "lin3.fit(X_poly3, y_train) \n",
    "\n",
    "# degree 4\n",
    "poly4 = PolynomialFeatures(degree = 4) \n",
    "X_poly4 = poly4.fit_transform(x_train) \n",
    "poly4.fit(X_poly4, y_train) \n",
    "lin4 = LinearRegression() \n",
    "lin4.fit(X_poly4, y_train) \n",
    "\n",
    "# degree 12\n",
    "poly12 = PolynomialFeatures(degree = 12) \n",
    "X_poly12 = poly12.fit_transform(x_train) \n",
    "poly12.fit(X_poly12, y_train) \n",
    "lin12 = LinearRegression() \n",
    "lin12.fit(X_poly12, y_train) \n",
    "\n",
    "scatter(x=x_train, y=y_train, label='Train Data')\n",
    "scatter(x=x_test, y=y_test, label='Test Data')\n",
    "\n",
    "plt.plot(x_all, lin2.predict(poly2.fit_transform(x_all)), color = 'red', label='Deg 2') \n",
    "plt.plot(x_all, lin3.predict(poly3.fit_transform(x_all)), color = 'green', label='Deg 3') \n",
    "plt.plot(x_all, lin4.predict(poly4.fit_transform(x_all)), color = 'yellow', label='Deg 4') \n",
    "plt.plot(x_all, lin12.predict(poly12.fit_transform(x_all)), color = 'black', label='Deg 12') \n",
    "plt.title('Polynomial Regression') \n",
    "plt.xlabel('x') \n",
    "plt.ylabel('y') \n",
    "legend(loc='best')\n",
    "plt.show() \n",
    "\n",
    "# MSE\n",
    "print('Test MSE for polynomial degree 2:', mean_squared_error(lin2.predict(poly2.fit_transform(x_test)),y_test))\n",
    "print('Train MSE for polynomial degree 2:', mean_squared_error(lin2.predict(poly2.fit_transform(x_train)),y_train))\n",
    "print('Test MSE for polynomial degree 3:', mean_squared_error(lin3.predict(poly3.fit_transform(x_test)),y_test))\n",
    "print('Train MSE for polynomial degree 3:', mean_squared_error(lin3.predict(poly3.fit_transform(x_train)),y_train))\n",
    "print('Test MSE for polynomial degree 4:', mean_squared_error(lin4.predict(poly4.fit_transform(x_test)),y_test))\n",
    "print('Train MSE for polynomial degree 4:', mean_squared_error(lin4.predict(poly4.fit_transform(x_train)),y_train))\n",
    "print('Test MSE for polynomial degree 12:', mean_squared_error(lin12.predict(poly12.fit_transform(x_test)),y_test))\n",
    "print('Train MSE for polynomial degree 12:', mean_squared_error(lin12.predict(poly12.fit_transform(x_train)),y_train))"
   ]
  },
  {
   "cell_type": "markdown",
   "metadata": {},
   "source": [
    "### (c)"
   ]
  },
  {
   "cell_type": "markdown",
   "metadata": {},
   "source": [
    "So, model with degree 4 appears to be best because it gives the lowest MSE and fits the data best"
   ]
  },
  {
   "cell_type": "markdown",
   "metadata": {},
   "source": []
  },
  {
   "cell_type": "markdown",
   "metadata": {},
   "source": [
    "# Question 4 - Stochastic Gradient Descent (25 pts)"
   ]
  },
  {
   "cell_type": "markdown",
   "metadata": {},
   "source": [
    "1. (5pts) Using stochastic gradient descent, derive the coefficent updates for all 4 coefficients of the model: $$ y = w_0 + w_1x_1 + w_2x_1x_2 + w_3e^{-x_1} $$ Hint: start from the cost function (Assume sum of squared error). If you write the math by hand, include the image in your notebook and upload the image in the submission.\n",
    "\n",
    "\n",
    "2. (20pts) Write Python code for an SGD solution to the non-linear model$$ y = w_0 + w_1x_1 + w_2x_1x_2 + w_3e^{-x_1} $$  Try to format similarly to scikit-learn's models. The template of the class is given. The init function of the class takes as input the learning_rate, regularization_constant and number of epochs. The fit method must take as input X,y. The _predict_ method takes an X value (optionally, an array of values). Use your new gradient descent regression to predict the data given in 'samples.csv', for 15 epochs, using learning rates: [0, .0001, .001, .01, 0.1, 1, 10, 100] and regularization (ridge regression) constants: [0,10,100] . Plot MSE and the $w$ parameters as a function of epoch (for 15 epochs) for the best 2 combinations of learning_rate and regularization for SGD. (2pts) Report the MSE at the end of 15 epochs for the two best combinations.\n"
   ]
  },
  {
   "cell_type": "code",
   "execution_count": 202,
   "metadata": {},
   "outputs": [],
   "source": [
    "%matplotlib inline\n",
    "import random\n",
    "import numpy as np\n",
    "import matplotlib.pyplot as plt\n",
    "import pandas as pd\n",
    "\n",
    "class Regression:\n",
    "    \n",
    "    def __init__(self, learning_rate, regularization, n_epoch):\n",
    "        self.learning_rate = learning_rate\n",
    "        self.n_epoch = n_epoch\n",
    "        self.regularization = regularization\n",
    "        self.coef = np.array([])\n",
    "        \n",
    "    def sgd(self, gradient):\n",
    "        self.coef = self.coef - self.learning_rate * gradient \n",
    "    #please fill this to update self.coef using SGD\n",
    "        \n",
    "    def fit(self, X, y, update_rule='sgd', plot=False):\n",
    "        gradient = 0\n",
    "        mse = []\n",
    "        coefs = []\n",
    "        self.decay_rate = 0.9\n",
    "        X = self.get_features(X)\n",
    "        for epoch in range(self.n_epoch):\n",
    "            for i in range(X.shape[0]):\n",
    "                # Compute error\n",
    "                preds = np.dot(X[i], self.coef)\n",
    "                error = preds - y[i]\n",
    "                # Compute gradients\n",
    "                gradient = gradient + X[i]*(y[i]-(preds))\n",
    "                # Update weights\n",
    "                self.sgd(gradient)\n",
    "\n",
    "            coefs.append(self.coef)\n",
    "            residuals = y - self.linearPredict(X)         \n",
    "            mse.append(np.mean(residuals**2))\n",
    "        self.lowest_mse = mse[-1]\n",
    "        if plot == True:\n",
    "            plt.figure()\n",
    "            plt.plot(range(self.n_epoch),mse)\n",
    "            plt.xlabel('epoch')\n",
    "            plt.ylabel('MSE')\n",
    "            plt.figure()\n",
    "            coefs = np.array(coefs)\n",
    "            plt.plot(range(self.n_epoch),coefs[:,0],label='w0')\n",
    "            plt.plot(range(self.n_epoch),coefs[:,1],label='w1')\n",
    "            plt.plot(range(self.n_epoch),coefs[:,2],label='w2')\n",
    "            plt.plot(range(self.n_epoch),coefs[:,3],label='w3')\n",
    "            plt.legend()\n",
    "            plt.xlabel('epoch')\n",
    "            plt.ylabel('parameter value')\n",
    "\n",
    "    def get_features(self, X):\n",
    "        '''\n",
    "        this output of this function can be used to compute the gradient in `fit`\n",
    "        '''\n",
    "        x = np.zeros((X.shape[0], 4))\n",
    "        x[:,0] = 1\n",
    "        x[:,1] = X[:,0]\n",
    "        x[:,2] = X[:,0]*X[:,1]\n",
    "        x[:,3] = np.exp(-X[:,0])\n",
    "        \n",
    "        return x\n",
    "    # compute dot product of self.coef and X    \n",
    "    def linearPredict(self, X):  \n",
    "        np.dot(self.coef, X)    "
   ]
  },
  {
   "cell_type": "code",
   "execution_count": 203,
   "metadata": {},
   "outputs": [],
   "source": [
    "data = pd.read_csv('q4_samples.csv')\n",
    "X = np.array([data['x1'].values, data['x2'].values]).T\n",
    "y = data['y'].values\n",
    "n_epochs = 15\n",
    "learning_rate = [0.0001, 0.001, 0.01, 0.1, 1, 10, 100]\n",
    "regularization = [0, 10, 100]"
   ]
  },
  {
   "cell_type": "code",
   "execution_count": 204,
   "metadata": {},
   "outputs": [
    {
     "ename": "ValueError",
     "evalue": "shapes (4,) and (0,) not aligned: 4 (dim 0) != 0 (dim 0)",
     "output_type": "error",
     "traceback": [
      "\u001b[0;31m---------------------------------------------------------------------------\u001b[0m",
      "\u001b[0;31mValueError\u001b[0m                                Traceback (most recent call last)",
      "\u001b[0;32m<ipython-input-204-1d4c2dfcafc4>\u001b[0m in \u001b[0;36m<module>\u001b[0;34m\u001b[0m\n\u001b[1;32m      1\u001b[0m \u001b[0;31m# array2= np.zeros(500,4)\u001b[0m\u001b[0;34m\u001b[0m\u001b[0;34m\u001b[0m\u001b[0;34m\u001b[0m\u001b[0m\n\u001b[0;32m----> 2\u001b[0;31m \u001b[0mRegression\u001b[0m\u001b[0;34m(\u001b[0m\u001b[0mlearning_rate\u001b[0m \u001b[0;34m=\u001b[0m  \u001b[0;36m1\u001b[0m\u001b[0;34m,\u001b[0m \u001b[0mregularization\u001b[0m \u001b[0;34m=\u001b[0m \u001b[0;36m10\u001b[0m\u001b[0;34m,\u001b[0m \u001b[0mn_epoch\u001b[0m \u001b[0;34m=\u001b[0m \u001b[0;36m15\u001b[0m\u001b[0;34m)\u001b[0m\u001b[0;34m.\u001b[0m\u001b[0mfit\u001b[0m\u001b[0;34m(\u001b[0m\u001b[0mX\u001b[0m\u001b[0;34m,\u001b[0m\u001b[0my\u001b[0m\u001b[0;34m)\u001b[0m\u001b[0;34m\u001b[0m\u001b[0;34m\u001b[0m\u001b[0m\n\u001b[0m\u001b[1;32m      3\u001b[0m \u001b[0;34m\u001b[0m\u001b[0m\n\u001b[1;32m      4\u001b[0m \u001b[0;34m\u001b[0m\u001b[0m\n\u001b[1;32m      5\u001b[0m \u001b[0;34m\u001b[0m\u001b[0m\n",
      "\u001b[0;32m<ipython-input-202-c753874209b1>\u001b[0m in \u001b[0;36mfit\u001b[0;34m(self, X, y, update_rule, plot)\u001b[0m\n\u001b[1;32m     26\u001b[0m             \u001b[0;32mfor\u001b[0m \u001b[0mi\u001b[0m \u001b[0;32min\u001b[0m \u001b[0mrange\u001b[0m\u001b[0;34m(\u001b[0m\u001b[0mX\u001b[0m\u001b[0;34m.\u001b[0m\u001b[0mshape\u001b[0m\u001b[0;34m[\u001b[0m\u001b[0;36m0\u001b[0m\u001b[0;34m]\u001b[0m\u001b[0;34m)\u001b[0m\u001b[0;34m:\u001b[0m\u001b[0;34m\u001b[0m\u001b[0;34m\u001b[0m\u001b[0m\n\u001b[1;32m     27\u001b[0m                 \u001b[0;31m# Compute error\u001b[0m\u001b[0;34m\u001b[0m\u001b[0;34m\u001b[0m\u001b[0;34m\u001b[0m\u001b[0m\n\u001b[0;32m---> 28\u001b[0;31m                 \u001b[0mpreds\u001b[0m \u001b[0;34m=\u001b[0m \u001b[0mnp\u001b[0m\u001b[0;34m.\u001b[0m\u001b[0mdot\u001b[0m\u001b[0;34m(\u001b[0m\u001b[0mX\u001b[0m\u001b[0;34m[\u001b[0m\u001b[0mi\u001b[0m\u001b[0;34m]\u001b[0m\u001b[0;34m,\u001b[0m \u001b[0mself\u001b[0m\u001b[0;34m.\u001b[0m\u001b[0mcoef\u001b[0m\u001b[0;34m)\u001b[0m\u001b[0;34m\u001b[0m\u001b[0;34m\u001b[0m\u001b[0m\n\u001b[0m\u001b[1;32m     29\u001b[0m                 \u001b[0merror\u001b[0m \u001b[0;34m=\u001b[0m \u001b[0mpreds\u001b[0m \u001b[0;34m-\u001b[0m \u001b[0my\u001b[0m\u001b[0;34m[\u001b[0m\u001b[0mi\u001b[0m\u001b[0;34m]\u001b[0m\u001b[0;34m\u001b[0m\u001b[0;34m\u001b[0m\u001b[0m\n\u001b[1;32m     30\u001b[0m                 \u001b[0;31m# Compute gradients\u001b[0m\u001b[0;34m\u001b[0m\u001b[0;34m\u001b[0m\u001b[0;34m\u001b[0m\u001b[0m\n",
      "\u001b[0;31mValueError\u001b[0m: shapes (4,) and (0,) not aligned: 4 (dim 0) != 0 (dim 0)"
     ]
    }
   ],
   "source": [
    "# array2= np.zeros(500,4)\n",
    "Regression(learning_rate =  1, regularization = 10, n_epoch = 15).fit(X,y)  \n",
    "\n",
    "\n",
    "\n",
    "\n",
    "\n"
   ]
  },
  {
   "cell_type": "code",
   "execution_count": 129,
   "metadata": {},
   "outputs": [
    {
     "name": "stdout",
     "output_type": "stream",
     "text": [
      "[0.18026969 0.03895048]\n",
      "[0.72493393 0.84040721]\n",
      "[0.01278081 0.97474321]\n",
      "[0.85079509 1.45992894]\n",
      "[0.89390417 1.71430849]\n",
      "[0.63233401 0.04096723]\n",
      "[0.31636731 0.31582461]\n",
      "[0.81827536 0.68924898]\n",
      "[0.11166123 0.16790629]\n",
      "[0.5995434  0.11134736]\n",
      "[0.40167648 1.695958  ]\n",
      "[0.60206405 1.10476764]\n",
      "[0.98667333 0.6761081 ]\n",
      "[0.79643575 0.12737286]\n",
      "[0.0700228  0.63873541]\n",
      "[0.29026367 1.58020225]\n",
      "[0.79262139 1.12363742]\n",
      "[0.36148354 0.3376346 ]\n",
      "[0.73282534 0.12577525]\n",
      "[0.77054807 0.59990402]\n",
      "[0.73466772 1.86580925]\n",
      "[0.35843793 1.61313358]\n",
      "[0.65261474 1.62193315]\n",
      "[0.95744405 0.66774884]\n",
      "[0.94983331 0.66872831]\n",
      "[0.36567017 0.92308058]\n",
      "[0.01934336 1.51929894]\n",
      "[0.62283401 1.47990304]\n",
      "[0.36761763 0.33805762]\n",
      "[0.83303741 1.46842597]\n",
      "[0.64805644 1.39213235]\n",
      "[0.76763223 0.66816579]\n",
      "[0.31887024 1.13657934]\n",
      "[0.57555854 0.63637439]\n",
      "[0.84493853 0.60432938]\n",
      "[0.09141459 0.60195834]\n",
      "[0.34371331 1.41860204]\n",
      "[0.62522484 0.53860708]\n",
      "[0.62699782 1.65130446]\n",
      "[0.91112166 0.83100734]\n",
      "[0.51900774 1.84490048]\n",
      "[0.493913   0.99499271]\n",
      "[0.44777116 1.10127894]\n",
      "[0.93241372 1.68137086]\n",
      "[0.55652111 0.73285442]\n",
      "[0.31367915 1.86153184]\n",
      "[0.42039077 1.91992529]\n",
      "[0.93214862 1.07770058]\n",
      "[0.71296292 1.04314698]\n",
      "[0.13648451 0.28983892]\n",
      "[0.95605826 1.93186179]\n",
      "[0.04587021 1.10785455]\n",
      "[0.64804647 0.1058657 ]\n",
      "[0.70588426 0.11016966]\n",
      "[0.98908116 0.49559928]\n",
      "[0.97969331 1.53443257]\n",
      "[0.47825664 1.83100601]\n",
      "[0.05317983 1.22794066]\n",
      "[0.68155904 1.89590006]\n",
      "[0.24699815 0.10590374]\n",
      "[0.07837981 1.90435096]\n",
      "[0.91153285 1.62888174]\n",
      "[0.17590348 1.92277554]\n",
      "[0.79061353 0.3415803 ]\n",
      "[0.67349014 0.49683936]\n",
      "[0.87925606 0.6407449 ]\n",
      "[0.02773266 0.84531995]\n",
      "[0.57465594 1.37587249]\n",
      "[0.60372655 1.19930021]\n",
      "[0.53102941 1.72278537]\n",
      "[0.14062589 0.44375418]\n",
      "[0.22968372 1.54507549]\n",
      "[0.54438719 0.28644532]\n",
      "[0.37949719 1.81689589]\n",
      "[0.23428851 0.96472219]\n",
      "[0.18776571 0.74867114]\n",
      "[0.47052005 0.11943946]\n",
      "[0.41580956 0.89520955]\n",
      "[0.27399239 1.90082253]\n",
      "[0.94070899 1.51778021]\n",
      "[0.93750418 0.60132215]\n",
      "[0.58743422 0.88150797]\n",
      "[0.33048211 1.28583854]\n",
      "[0.34619571 0.70820526]\n",
      "[0.82853017 1.09157067]\n",
      "[0.74157863 1.00433957]\n",
      "[0.49456364 0.62167551]\n",
      "[0.17334502 0.55655314]\n",
      "[0.85987119 0.23042404]\n",
      "[0.53224018 1.35669912]\n",
      "[0.75528363 1.11384219]\n",
      "[0.38087046 0.62929424]\n",
      "[0.99377647 0.35042973]\n",
      "[0.66703409 1.5291258 ]\n",
      "[0.30244554 0.41820061]\n",
      "[0.37633227 1.12496947]\n",
      "[0.03304442 0.17931063]\n",
      "[0.67132106 0.24826298]\n",
      "[0.02797631 1.29746815]\n",
      "[0.24099295 1.32909799]\n",
      "[0.53641326 0.18184968]\n",
      "[0.66853317 1.58322896]\n",
      "[0.40214606 1.4030976 ]\n",
      "[0.27828288 1.81053482]\n",
      "[0.03839609 0.00612825]\n",
      "[0.45187828 1.52486091]\n",
      "[0.44796639 1.41996193]\n",
      "[0.01571606 0.93224103]\n",
      "[0.78028444 1.30985624]\n",
      "[0.81661236 0.58268492]\n",
      "[0.63065627 1.64191156]\n",
      "[0.16847811 0.54451256]\n",
      "[0.09846298 1.25667102]\n",
      "[0.34219781 1.91275788]\n",
      "[0.53574379 1.95346177]\n",
      "[0.50550928 1.50911603]\n",
      "[0.72157398 0.44469816]\n",
      "[0.59915723 1.04736808]\n",
      "[0.11747743 1.86908793]\n",
      "[0.96746496 0.63623821]\n",
      "[0.93998922 1.92118734]\n",
      "[0.95523504 0.34995614]\n",
      "[0.61819875 0.5911185 ]\n",
      "[0.10929144 1.5839796 ]\n",
      "[0.10704077 0.43931757]\n",
      "[0.47371545 0.4612523 ]\n",
      "[0.55148281 0.29397126]\n",
      "[0.45056836 0.81420315]\n",
      "[0.15768437 1.78305233]\n",
      "[0.5471186  1.92989042]\n",
      "[0.69881031 1.95039122]\n",
      "[0.34773721 1.25152668]\n",
      "[0.6245379  1.74563949]\n",
      "[0.03690066 0.6910556 ]\n",
      "[0.46880056 0.86793986]\n",
      "[0.15973649 1.33774654]\n",
      "[0.88210586 0.08638032]\n",
      "[0.09236932 1.64703625]\n",
      "[0.74017494 0.90177566]\n",
      "[0.94818966 1.28495602]\n",
      "[0.59651425 0.41925903]\n",
      "[0.59522498 1.22053605]\n",
      "[0.19256691 0.91649592]\n",
      "[0.85724428 1.15346395]\n",
      "[0.3697072  0.37545139]\n",
      "[0.02497454 0.72826208]\n",
      "[0.84197219 0.46958669]\n",
      "[0.75243955 1.38243796]\n",
      "[0.57988277 0.8871121 ]\n",
      "[0.00476184 0.01344549]\n",
      "[0.376593   0.26996221]\n",
      "[0.64145466 1.04557055]\n",
      "[0.77004428 0.10670797]\n",
      "[0.67913236 0.83897407]\n",
      "[0.93924292 1.30967761]\n",
      "[0.70209716 1.83136383]\n",
      "[0.27936292 0.04485689]\n",
      "[0.36402669 0.4949089 ]\n",
      "[0.9379877  0.37870781]\n",
      "[0.8330417  0.26212504]\n",
      "[0.55089275 1.53872591]\n",
      "[0.25598012 1.9047005 ]\n",
      "[0.13097068 0.31795738]\n",
      "[0.81183589 0.13796855]\n",
      "[0.80173935 1.64673061]\n",
      "[0.0562281  1.30806647]\n",
      "[0.0497684  1.04521909]\n",
      "[0.60086318 0.22488315]\n",
      "[0.54055032 1.89399088]\n",
      "[0.09940037 0.40391893]\n",
      "[0.24028555 0.54404403]\n",
      "[0.8568076  0.56053584]\n",
      "[0.4749652  0.99917346]\n",
      "[0.80509067 0.3997921 ]\n",
      "[0.13102576 1.74268397]\n",
      "[0.99803678 1.32655977]\n",
      "[0.92484306 0.58719042]\n",
      "[0.76518904 0.20658733]\n",
      "[0.42667866 0.71714759]\n",
      "[0.2702048  0.72112814]\n",
      "[0.458452   0.91574957]\n",
      "[0.18967914 0.51487142]\n",
      "[0.88624141 0.34149652]\n",
      "[0.58043565 1.10697703]\n",
      "[0.06172918 1.59326617]\n",
      "[0.39750598 1.52457702]\n",
      "[0.40834837 1.59861011]\n",
      "[0.47995403 1.76993379]\n",
      "[0.38827101 1.9790516 ]\n",
      "[0.13544588 1.08220356]\n",
      "[0.49550643 1.51136922]\n",
      "[0.60109222 0.47646427]\n",
      "[0.88920514 1.47378591]\n",
      "[0.2782259  1.20598656]\n",
      "[0.98754561 0.59216167]\n",
      "[0.23453399 1.60271622]\n",
      "[0.18891199 0.88767106]\n",
      "[0.41201207 0.21487645]\n",
      "[0.48662855 0.36899208]\n",
      "[0.52068088 0.58461457]\n",
      "[0.15754388 0.03277915]\n",
      "[0.41772503 1.70731988]\n",
      "[0.88088971 1.87668515]\n",
      "[0.27904437 0.36630763]\n",
      "[0.69473102 1.85135014]\n",
      "[0.79178268 1.74831946]\n",
      "[0.60935999 1.63935387]\n",
      "[0.47147248 0.43345059]\n",
      "[0.05542231 0.61882468]\n",
      "[0.80490359 0.0479209 ]\n",
      "[0.30666193 1.32509948]\n",
      "[0.48047428 1.68792596]\n",
      "[0.50239822 0.64219505]\n",
      "[0.8905038  1.20471539]\n",
      "[0.53872894 0.80970043]\n",
      "[0.69675721 1.73583199]\n",
      "[0.14770033 0.83898256]\n",
      "[0.17032784 0.58854587]\n",
      "[0.84301166 1.5872676 ]\n",
      "[0.10785771 0.43797527]\n",
      "[0.0041498  1.28241399]\n",
      "[0.56554281 1.73756358]\n",
      "[0.24460216 1.64261861]\n",
      "[0.92597889 0.6940038 ]\n",
      "[0.21686911 0.16176832]\n",
      "[0.055538   0.10686055]\n",
      "[0.20997239 0.66912689]\n",
      "[0.42540906 1.45876109]\n",
      "[0.13108359 0.13605502]\n",
      "[0.12209845 0.15707558]\n",
      "[0.5215253 1.3767429]\n",
      "[0.62082461 0.99439841]\n",
      "[0.60353498 0.35184509]\n",
      "[0.99329206 0.89732684]\n",
      "[0.17243005 1.35163146]\n",
      "[0.16018791 1.88273553]\n",
      "[0.34613171 1.35587043]\n",
      "[0.83823356 1.12407811]\n",
      "[0.48586806 1.24154251]\n",
      "[0.20216628 0.93142443]\n",
      "[0.68820731 0.09269934]\n",
      "[0.11364738 1.70822317]\n",
      "[0.61264497 1.08212042]\n",
      "[0.38866213 1.84312637]\n",
      "[0.46483267 0.71746925]\n",
      "[0.935778   1.84807989]\n",
      "[0.35675163 1.66778467]\n",
      "[0.91293381 1.47113169]\n",
      "[0.80021656 1.15721941]\n",
      "[0.07561237 0.76927974]\n",
      "[0.09293806 0.66017885]\n",
      "[0.45014229 0.14468232]\n",
      "[0.66605306 1.09609799]\n",
      "[0.90679882 1.8658667 ]\n",
      "[0.88493873 1.0466854 ]\n",
      "[0.10107682 0.80304092]\n",
      "[0.93921405 0.83058986]\n",
      "[0.95994108 1.00306421]\n",
      "[0.03527011 1.18835752]\n",
      "[0.00391171 0.9766957 ]\n",
      "[0.45872172 0.42708319]\n",
      "[0.87572582 1.51949018]\n",
      "[0.77823891 1.55541497]\n",
      "[0.75493165 0.07313348]\n",
      "[0.3874658  1.85423265]\n",
      "[0.6685926  1.64633304]\n",
      "[0.06268341 1.78438705]\n",
      "[0.21555872 1.1896104 ]\n",
      "[0.02903529 1.60424702]\n",
      "[0.62758317 1.64138226]\n",
      "[0.52655398 0.8968744 ]\n",
      "[0.11304873 1.45252574]\n",
      "[0.52707848 0.33267215]\n",
      "[0.21028441 1.54154242]\n",
      "[0.74920061 0.71808413]\n",
      "[0.50268901 0.81229863]\n",
      "[0.30421049 1.34405445]\n",
      "[0.15408874 1.9273973 ]\n",
      "[0.81052862 0.16594646]\n",
      "[0.10547502 0.72091342]\n",
      "[0.61293032 0.00806648]\n",
      "[0.7613944  1.51769026]\n",
      "[0.5768663  1.50850854]\n",
      "[0.31532063 1.62345615]\n",
      "[0.13251962 1.91043359]\n",
      "[0.76685701 0.417508  ]\n",
      "[0.62413572 1.88774171]\n",
      "[0.84215275 0.99159173]\n",
      "[0.40881263 1.85668058]\n",
      "[0.9204331  0.08577493]\n",
      "[0.90169405 0.53564806]\n",
      "[0.41950645 0.01999554]\n",
      "[0.49025317 0.75667583]\n",
      "[0.32722681 0.31556331]\n",
      "[0.41119639 1.96960689]\n",
      "[0.5352425  1.03899106]\n",
      "[0.74313825 0.11213462]\n",
      "[0.87507873 0.93387601]\n",
      "[0.53044222 1.00770971]\n",
      "[0.12479703 1.4509098 ]\n",
      "[0.65000222 0.58065547]\n",
      "[0.18777224 1.87412844]\n",
      "[0.35273747 1.29585547]\n",
      "[0.45118968 0.27520064]\n",
      "[0.81654451 0.55938647]\n",
      "[0.27338467 0.73886075]\n",
      "[0.47840722 1.65823431]\n",
      "[0.17262809 0.474044  ]\n",
      "[0.68039476 1.47129698]\n",
      "[0.21614115 0.44614665]\n",
      "[0.58804187 1.52370172]\n",
      "[0.61893576 0.58785335]\n",
      "[0.44370158 1.71849649]\n",
      "[0.73883769 0.61679562]\n",
      "[0.85624382 0.46664863]\n",
      "[0.97695409 1.65412316]\n",
      "[0.601177   0.74742789]\n",
      "[0.86539498 0.22961333]\n",
      "[0.92921421 1.89892575]\n",
      "[0.66168802 0.77685483]\n",
      "[0.58084999 1.02384752]\n",
      "[0.11905296 1.34891339]\n",
      "[0.70217863 0.86993284]\n",
      "[0.56124359 1.58123695]\n",
      "[0.24797446 0.78311371]\n",
      "[0.48697449 0.47155114]\n",
      "[0.08928525 1.14447145]\n",
      "[0.12427065 1.44061357]\n",
      "[0.32782899 0.6656939 ]\n",
      "[0.10849556 1.17727587]\n",
      "[0.94366765 0.40684121]\n",
      "[0.88623155 0.65005472]\n",
      "[0.11986118 0.45236523]\n",
      "[0.68165861 0.26945134]\n",
      "[0.40172746 0.80264059]\n",
      "[0.99836146 1.68385022]\n",
      "[0.70203067 0.7926517 ]\n",
      "[0.83998902 1.43712457]\n",
      "[0.77799694 1.46378617]\n",
      "[0.79460257 0.66446781]\n",
      "[0.09407149 0.83814609]\n",
      "[0.21661126 1.15361646]\n",
      "[0.23215903 0.71959824]\n",
      "[0.46442092 0.89027262]\n",
      "[0.64233039 1.17001215]\n",
      "[0.01983159 0.7455128 ]\n",
      "[0.65330405 1.71170381]\n",
      "[0.44404882 1.67335768]\n",
      "[0.52126957 1.21046026]\n",
      "[0.02001194 1.8388277 ]\n",
      "[0.50895172 1.15842712]\n",
      "[0.09930521 1.44197035]\n",
      "[0.23765834 1.12829361]\n",
      "[0.94762223 0.82589847]\n",
      "[0.72796278 1.22827105]\n",
      "[0.39124693 0.05605492]\n",
      "[0.38180051 0.09008529]\n",
      "[0.59001275 0.07112418]\n",
      "[0.7425234  0.00972028]\n",
      "[0.30638683 0.58156835]\n",
      "[0.07149242 0.83402607]\n",
      "[0.08662143 1.21483819]\n",
      "[0.22969495 0.67477173]\n",
      "[0.41878071 1.42961378]\n",
      "[0.91283876 1.07166727]\n",
      "[0.63164301 0.18478315]\n",
      "[0.30299123 1.90645838]\n",
      "[0.39203906 0.56506618]\n",
      "[0.53065178 1.7179603 ]\n",
      "[0.97502279 0.10242636]\n",
      "[0.42431823 0.60805042]\n",
      "[0.9972933  0.79571804]\n",
      "[0.53218133 0.78401301]\n",
      "[0.08873766 1.73000322]\n",
      "[0.28877574 0.73961852]\n",
      "[0.20469859 0.44990854]\n",
      "[0.13709202 1.21981063]\n",
      "[0.69255848 0.40264814]\n",
      "[0.45750344 0.79850091]\n",
      "[0.13941555 0.99648917]\n",
      "[0.37905974 1.59099575]\n",
      "[0.19130564 1.9131851 ]\n",
      "[0.06249213 0.46017637]\n",
      "[0.976038   0.61306621]\n",
      "[0.10150227 1.64527316]\n",
      "[0.90042028 0.77688222]\n",
      "[0.52297938 1.25838868]\n",
      "[0.25065057 1.11435232]\n",
      "[0.55817635 0.87504153]\n",
      "[0.98472399 0.04270445]\n",
      "[0.33442892 1.84492689]\n",
      "[0.91178686 1.73570527]\n",
      "[0.56106612 0.75252412]\n",
      "[0.69031957 1.3748707 ]\n",
      "[0.62498682 1.40697667]\n",
      "[0.29411188 0.3302506 ]\n",
      "[0.78379982 1.7129034 ]\n",
      "[0.552762   1.59670855]\n",
      "[0.77492757 1.05003908]\n",
      "[0.13200756 1.0500556 ]\n",
      "[0.45572767 0.21013301]\n",
      "[0.83795966 1.18750225]\n",
      "[0.1282467 1.3892498]\n",
      "[0.70928896 1.54036911]\n",
      "[0.94942947 1.08313958]\n",
      "[0.42549916 1.4458167 ]\n",
      "[0.86255576 0.30956294]\n",
      "[0.8491934 1.4416604]\n",
      "[0.64295143 1.6560968 ]\n",
      "[0.97560535 0.62218893]\n",
      "[0.63592202 0.0486077 ]\n",
      "[0.42885606 1.90252588]\n",
      "[0.48521897 0.04284622]\n",
      "[0.63763949 0.34976324]\n",
      "[0.73807917 0.83835694]\n",
      "[0.14782018 0.03558695]\n",
      "[0.45986387 0.57882455]\n",
      "[0.71602582 1.73734395]\n",
      "[0.42985482 1.91427861]\n",
      "[0.38764199 0.82310059]\n",
      "[0.38625443 1.85657919]\n",
      "[0.27914277 0.16684964]\n",
      "[0.75190123 0.71715833]\n",
      "[0.17832239 0.69414418]\n",
      "[0.55033393 1.24292776]\n",
      "[0.4245964  0.95324304]\n",
      "[0.98726901 0.45017203]\n",
      "[0.31153839 1.03859726]\n",
      "[0.96460298 1.38016156]\n",
      "[0.82382147 1.18273877]\n",
      "[0.44156685 0.87324778]\n",
      "[0.21191419 0.28606106]\n",
      "[0.32712364 0.45878781]\n",
      "[0.08449885 0.81847761]\n",
      "[0.81479017 0.63718478]\n",
      "[0.22041922 0.25015415]\n",
      "[0.03118208 1.49867796]\n",
      "[0.77590231 1.82743038]\n",
      "[0.29374257 0.23966377]\n",
      "[0.86326686 1.75509563]\n",
      "[0.35441226 1.16563492]\n",
      "[0.1125389  0.04562653]\n",
      "[0.91558147 1.14298528]\n",
      "[0.81340674 1.16161743]\n",
      "[0.69892985 0.87653799]\n",
      "[0.96255559 0.1014925 ]\n",
      "[0.18207014 0.20627309]\n",
      "[0.79931341 0.62145593]\n",
      "[0.74562972 1.25583432]\n",
      "[0.75457208 1.88290401]\n",
      "[0.83864336 0.90259817]\n",
      "[0.03963327 1.7710005 ]\n",
      "[0.38914389 0.14170835]\n",
      "[0.35454952 1.27616338]\n",
      "[0.37178352 0.59774374]\n",
      "[0.86617747 0.43333182]\n",
      "[0.70110408 0.69098634]\n",
      "[0.12642909 0.40098709]\n",
      "[0.96944208 1.30807816]\n",
      "[0.78362882 1.22564322]\n",
      "[0.52977966 1.41671988]\n",
      "[0.18817909 0.16785894]\n",
      "[0.51004521 0.260471  ]\n",
      "[0.48625847 0.34298929]\n",
      "[0.08241568 1.11767354]\n",
      "[0.83869024 1.55176218]\n",
      "[0.36135782 1.50605912]\n",
      "[0.4783359  1.34939929]\n",
      "[0.38245944 1.09895691]\n",
      "[0.44309287 0.55001737]\n",
      "[0.81021023 1.25075199]\n",
      "[0.89965876 1.62014528]\n",
      "[0.28360819 1.05870986]\n",
      "[0.95828613 1.92580758]\n",
      "[0.56962752 0.24166744]\n",
      "[0.7765944  0.32968127]\n",
      "[0.33632674 0.36567011]\n",
      "[0.0912444  0.77131511]\n",
      "[0.91976941 0.04262695]\n",
      "[0.26016565 1.74294049]\n",
      "[0.26615454 0.10794122]\n",
      "[0.26534489 1.82734052]\n",
      "[0.47806246 0.36566833]\n",
      "[0.91542073 1.66067199]\n",
      "[0.39070336 0.14999786]\n",
      "[0.53894257 1.60169204]\n",
      "[0.38797213 0.85032763]\n",
      "[0.07337564 0.10319927]\n",
      "[0.53817865 0.8593575 ]\n",
      "[0.52330047 1.77932758]\n"
     ]
    },
    {
     "name": "stdout",
     "output_type": "stream",
     "text": [
      "[0.02096006 1.69762868]\n",
      "[0.09857562 1.14337467]\n",
      "[0.26933206 1.76785862]\n",
      "[0.45576881 0.47269132]\n",
      "[0.90164095 0.80919229]\n",
      "[0.15881495 1.19063158]\n",
      "[0.89611565 0.7887592 ]\n",
      "[0.57900411 1.12662553]\n",
      "[0.08179908 1.42359469]\n",
      "[0.17276752 0.83479786]\n"
     ]
    }
   ],
   "source": [
    "for i in range(y.shape[0]):\n",
    "#     X[i]\n",
    "    print(X[i])"
   ]
  },
  {
   "cell_type": "code",
   "execution_count": 191,
   "metadata": {},
   "outputs": [
    {
     "data": {
      "text/plain": [
       "(500,)"
      ]
     },
     "execution_count": 191,
     "metadata": {},
     "output_type": "execute_result"
    }
   ],
   "source": [
    "y.shape"
   ]
  },
  {
   "cell_type": "markdown",
   "metadata": {},
   "source": [
    "## Answer "
   ]
  },
  {
   "cell_type": "markdown",
   "metadata": {},
   "source": [
    "### 1."
   ]
  },
  {
   "cell_type": "markdown",
   "metadata": {},
   "source": []
  },
  {
   "cell_type": "code",
   "execution_count": null,
   "metadata": {},
   "outputs": [],
   "source": []
  },
  {
   "cell_type": "markdown",
   "metadata": {},
   "source": [
    "### 2."
   ]
  },
  {
   "cell_type": "code",
   "execution_count": 125,
   "metadata": {},
   "outputs": [
    {
     "ename": "NameError",
     "evalue": "name 'self' is not defined",
     "output_type": "error",
     "traceback": [
      "\u001b[0;31m---------------------------------------------------------------------------\u001b[0m",
      "\u001b[0;31mNameError\u001b[0m                                 Traceback (most recent call last)",
      "\u001b[0;32m<ipython-input-125-a61633e33a66>\u001b[0m in \u001b[0;36m<module>\u001b[0;34m\u001b[0m\n\u001b[1;32m     16\u001b[0m         \u001b[0mgrapes\u001b[0m\u001b[0;34m.\u001b[0m\u001b[0mshow\u001b[0m\u001b[0;34m(\u001b[0m\u001b[0;34m)\u001b[0m\u001b[0;34m\u001b[0m\u001b[0;34m\u001b[0m\u001b[0m\n\u001b[1;32m     17\u001b[0m \u001b[0;34m\u001b[0m\u001b[0m\n\u001b[0;32m---> 18\u001b[0;31m \u001b[0mshow\u001b[0m\u001b[0;34m(\u001b[0m\u001b[0mself\u001b[0m\u001b[0;34m)\u001b[0m\u001b[0;34m\u001b[0m\u001b[0;34m\u001b[0m\u001b[0m\n\u001b[0m",
      "\u001b[0;31mNameError\u001b[0m: name 'self' is not defined"
     ]
    }
   ],
   "source": [
    "class food():\n",
    " \n",
    "    #init method or constructor\n",
    "    def __init__(self, fruit, color):\n",
    "        self.fruit = fruit\n",
    "        self.color = color\n",
    " \n",
    "    def show(self):\n",
    "        print(\"fruit is\", self.fruit)\n",
    "        print(\"color is\", self.color )\n",
    " \n",
    "        apple = food(\"apple\", \"red\")\n",
    "        grapes = food(\"grapes\", \"green\")\n",
    " \n",
    "        apple.show()\n",
    "        grapes.show()\n",
    " \n"
   ]
  },
  {
   "cell_type": "code",
   "execution_count": null,
   "metadata": {},
   "outputs": [],
   "source": []
  },
  {
   "cell_type": "markdown",
   "metadata": {},
   "source": [
    "### Using SGD\n"
   ]
  },
  {
   "cell_type": "code",
   "execution_count": null,
   "metadata": {},
   "outputs": [],
   "source": []
  }
 ],
 "metadata": {
  "kernelspec": {
   "display_name": "Python 3",
   "language": "python",
   "name": "python3"
  },
  "language_info": {
   "codemirror_mode": {
    "name": "ipython",
    "version": 3
   },
   "file_extension": ".py",
   "mimetype": "text/x-python",
   "name": "python",
   "nbconvert_exporter": "python",
   "pygments_lexer": "ipython3",
   "version": "3.7.2"
  }
 },
 "nbformat": 4,
 "nbformat_minor": 1
}
