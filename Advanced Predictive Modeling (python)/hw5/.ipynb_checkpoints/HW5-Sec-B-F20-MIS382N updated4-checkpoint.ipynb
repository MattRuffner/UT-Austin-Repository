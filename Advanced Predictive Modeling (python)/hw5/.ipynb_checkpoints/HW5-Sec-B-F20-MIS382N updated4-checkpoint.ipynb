{
 "cells": [
  {
   "cell_type": "markdown",
   "metadata": {},
   "source": [
    "\n",
    "# <p style=\"text-align: center;\">MIS 382N: ADVANCED PREDICTIVE MODELING - MSBA</p>\n",
    "# <p style=\"text-align: center;\">Assignment 5 - BONUS - SECTION-B (5.30pm to 7pm class)</p>\n",
    "## <p style=\"text-align: center;\">Points: 95, Bonus: 40 </p>\n",
    "## <p style=\"text-align: center;\">Due: November 30, submitted via Canvas by 11:59 pm</p>\n",
    "\n",
    "Your homework should be written in a **Jupyter notebook**. You may work in groups of two if you wish. Your partner needs to be from the same section. Only one student per team needs to submit the assignment on Canvas.  But be sure to include name and UTEID for both students.  Homework groups will be created and managed through Canvas, so please do not arbitrarily change your homework group. If you do change, let the TA know. \n",
    "\n",
    "Also, please make sure your code runs and the graphics (and anything else) are displayed in your notebook before submitting. (%matplotlib inline)\n",
    "\n",
    "### Name(s)\n",
    "1. \n",
    "2. "
   ]
  },
  {
   "cell_type": "markdown",
   "metadata": {},
   "source": [
    "# Question 1 : Bayesian Belief Networks (15 pts)"
   ]
  },
  {
   "cell_type": "markdown",
   "metadata": {},
   "source": [
    "![Question 1](https://i.imgur.com/3ayVbFi.jpeg) \n",
    "\n",
    "All nodes are binary and can take 0/1 values\n",
    "\n",
    "The probabilities are given below:\n",
    "\n",
    "P(Bark = 1) = 0.05   \n",
    "P(Rain = 1) = 0.01\n",
    "\n",
    "\n",
    "P(Scared = 1 | Bark = 0, Rain = 0) = 0.001  \n",
    "P(Scared = 1 | Bark = 0, Rain = 1) = 0.1  \n",
    "P(Scared = 1 | Bark = 1, Rain = 0) = 0.8  \n",
    "P(Scared = 1 | Bark = 1, Rain = 1) = 0.9  \n",
    "\n",
    "P(Hides = 1 | Scared = 1) = 0.95  \n",
    "P(Hides = 1 | Scared = 0) = 0.05  \n",
    "\n",
    "For the given Bayesian network, Compute the following probabilities :  \n",
    "\n",
    "\n",
    "**(a) (4 pts)** Find the probability that cat hides = 1.  \n",
    "**(b) (4 pts)** Given that cat got scared (Scared = 1), what is the probability that it rained (Rain = 1)?  \n",
    "**(c) (7 pts)** Given that cat got scared (Scared = 1) and the dog barked (Bark = 1), what is the probability that it rained (Rain = 1)?"
   ]
  },
  {
   "cell_type": "markdown",
   "metadata": {},
   "source": [
    "## a\n",
    "\n",
    "P(Bark = 0) = 0.95, P(Rain = 0) = 0.99, P(Bark = 0 & Rain = 0) = 0.95\\*0.99 = 0.9405\n",
    "\n",
    "P(Bark = 0 & Rain = 1) = 0.0095\n",
    "\n",
    "P(Bark = 1 & Rain = 0) = 0.0495\n",
    "\n",
    "P(Bark = 1 & Rain = 1) = 0.0005\n",
    "\n",
    "P(Scared = 1 & Bark = 0 & Rain = 0) = 0.9405\\*0.001 = 0.0009405\n",
    "\n",
    "P(Scared = 1 & Bark = 0 & Rain = 1) = 0.00095\n",
    "\n",
    "P(Scared = 1 & Bark = 1 & Rain = 0) = 0.0396\n",
    "\n",
    "P(Scared = 1 & Bark = 1 & Rain = 1) = 0.00045\n",
    "\n",
    "P(Scared = 1) = 0.0009405+0.00095+0.0396+0.00045 = 0.0419405\n",
    "\n",
    "P(Scared = 0) = 0.9580595\n",
    "\n",
    "P(Hides = 1 & Scared = 1) = 0.95\\*0.0419405 = 0.95\\*0.0419405 = 0.039843475\n",
    "\n",
    "P(Hides = 1 & Scared = 0) = 0.047902975\n",
    "\n",
    "**P(Hides = 1) = 0.08774645**"
   ]
  },
  {
   "cell_type": "markdown",
   "metadata": {},
   "source": [
    "## b\n",
    "\n",
    "P(Rain = 1 | Scared = 1) = P(Scared = 1 & Rain = 1) / P(Scared = 1) = (P(Scared = 1 & Bark = 0 & Rain = 1) + P(Scared = 1 & Bark = 1 & Rain = 1)) / P(Scared = 1) = (0.00095 + 0.00045) / 0.0419405 = **0.03338062254**"
   ]
  },
  {
   "cell_type": "markdown",
   "metadata": {},
   "source": [
    "## c\n",
    "\n",
    "P(Rain = 1 | Scared = 1 & Bark = 1) = P(Rain = 1 & Scared = 1 & Bark = 1) / P(Scared = 1 & Bark = 1) = P(Rain = 1 & Scared = 1 & Bark = 1) / (P(Scared = 1 & Bark = 1 & Rain = 0)+P(Scared = 1 & Bark = 1 & Rain = 1)) = 0.00045 / (0.0396+0.00045) = **0.01123595505**"
   ]
  },
  {
   "cell_type": "markdown",
   "metadata": {},
   "source": [
    "# Question 2 - **Random Forest (30 pts)**  \n",
    "\n",
    "The goal of this problem is to explore the effect of feature selection using  the following dataset (same as in HW 4) https://www.kaggle.com/wendykan/lending-club-loan-data\n",
    "\n",
    "Since the dataset is really huge, we will use only a certain set of features and samples to build our model. We will also use only two classes instead of all.\n",
    "\n",
    "The modified dataset with reduced number of samples has been prepared for your use. The file can be downloaded using the code below. You can also find it [here](https://drive.google.com/file/d/1Gv_N1rHLqDizxUck6l06BfniR30Pw0Zs/view?usp=sharing) in case you have a different environment and this code does not run.\n",
    "\n"
   ]
  },
  {
   "cell_type": "code",
   "execution_count": 1,
   "metadata": {},
   "outputs": [
    {
     "name": "stdout",
     "output_type": "stream",
     "text": [
      "File already exists\n"
     ]
    }
   ],
   "source": [
    "%%bash\n",
    "ggID='1Gv_N1rHLqDizxUck6l06BfniR30Pw0Zs'  \n",
    "ggURL='https://drive.google.com/uc?export=download'  \n",
    "filename=\"$(curl -sc /tmp/gcokie \"${ggURL}&id=${ggID}\" | grep -o '=\"uc-name.*</span>' | sed 's/.*\">//;s/<.a> .*//')\"  \n",
    "getcode=\"$(awk '/_warning_/ {print $NF}' /tmp/gcokie)\"  \n",
    "\n",
    "if [ -e \"${filename}\" ]; then\n",
    "    echo 'File already exists'\n",
    "else\n",
    "    curl -Lb /tmp/gcokie \"${ggURL}&confirm=${getcode}&id=${ggID}\" -o \"${filename}\"  \n",
    "fi"
   ]
  },
  {
   "cell_type": "code",
   "execution_count": 2,
   "metadata": {},
   "outputs": [
    {
     "name": "stderr",
     "output_type": "stream",
     "text": [
      "/Library/Frameworks/Python.framework/Versions/3.7/lib/python3.7/site-packages/IPython/core/interactiveshell.py:3020: DtypeWarning: Columns (123,124,125,128,129,130,133,139,140,141) have mixed types.Specify dtype option on import or set low_memory=False.\n",
      "  interactivity=interactivity, compiler=compiler, result=result)\n"
     ]
    },
    {
     "data": {
      "text/html": [
       "<div>\n",
       "<style scoped>\n",
       "    .dataframe tbody tr th:only-of-type {\n",
       "        vertical-align: middle;\n",
       "    }\n",
       "\n",
       "    .dataframe tbody tr th {\n",
       "        vertical-align: top;\n",
       "    }\n",
       "\n",
       "    .dataframe thead th {\n",
       "        text-align: right;\n",
       "    }\n",
       "</style>\n",
       "<table border=\"1\" class=\"dataframe\">\n",
       "  <thead>\n",
       "    <tr style=\"text-align: right;\">\n",
       "      <th></th>\n",
       "      <th>loan_amnt</th>\n",
       "      <th>funded_amnt</th>\n",
       "      <th>funded_amnt_inv</th>\n",
       "      <th>int_rate</th>\n",
       "      <th>installment</th>\n",
       "      <th>annual_inc</th>\n",
       "      <th>loan_status</th>\n",
       "      <th>dti</th>\n",
       "      <th>open_acc</th>\n",
       "      <th>pub_rec</th>\n",
       "      <th>...</th>\n",
       "      <th>last_pymnt_d_Feb-2019</th>\n",
       "      <th>last_pymnt_d_Jan-2019</th>\n",
       "      <th>last_pymnt_d_Jul-2018</th>\n",
       "      <th>last_pymnt_d_Nov-2018</th>\n",
       "      <th>last_pymnt_d_Oct-2018</th>\n",
       "      <th>last_pymnt_d_Sep-2018</th>\n",
       "      <th>application_type_Individual</th>\n",
       "      <th>application_type_Joint App</th>\n",
       "      <th>debt_settlement_flag_N</th>\n",
       "      <th>debt_settlement_flag_Y</th>\n",
       "    </tr>\n",
       "  </thead>\n",
       "  <tbody>\n",
       "    <tr>\n",
       "      <th>0</th>\n",
       "      <td>2500</td>\n",
       "      <td>2500</td>\n",
       "      <td>2500.0</td>\n",
       "      <td>13.56</td>\n",
       "      <td>84.92</td>\n",
       "      <td>55000.0</td>\n",
       "      <td>1</td>\n",
       "      <td>18.24</td>\n",
       "      <td>9.0</td>\n",
       "      <td>1.0</td>\n",
       "      <td>...</td>\n",
       "      <td>1</td>\n",
       "      <td>0</td>\n",
       "      <td>0</td>\n",
       "      <td>0</td>\n",
       "      <td>0</td>\n",
       "      <td>0</td>\n",
       "      <td>1</td>\n",
       "      <td>0</td>\n",
       "      <td>1</td>\n",
       "      <td>0</td>\n",
       "    </tr>\n",
       "    <tr>\n",
       "      <th>1</th>\n",
       "      <td>30000</td>\n",
       "      <td>30000</td>\n",
       "      <td>30000.0</td>\n",
       "      <td>18.94</td>\n",
       "      <td>777.23</td>\n",
       "      <td>90000.0</td>\n",
       "      <td>1</td>\n",
       "      <td>26.52</td>\n",
       "      <td>13.0</td>\n",
       "      <td>1.0</td>\n",
       "      <td>...</td>\n",
       "      <td>1</td>\n",
       "      <td>0</td>\n",
       "      <td>0</td>\n",
       "      <td>0</td>\n",
       "      <td>0</td>\n",
       "      <td>0</td>\n",
       "      <td>1</td>\n",
       "      <td>0</td>\n",
       "      <td>1</td>\n",
       "      <td>0</td>\n",
       "    </tr>\n",
       "    <tr>\n",
       "      <th>2</th>\n",
       "      <td>5000</td>\n",
       "      <td>5000</td>\n",
       "      <td>5000.0</td>\n",
       "      <td>17.97</td>\n",
       "      <td>180.69</td>\n",
       "      <td>59280.0</td>\n",
       "      <td>1</td>\n",
       "      <td>10.51</td>\n",
       "      <td>8.0</td>\n",
       "      <td>0.0</td>\n",
       "      <td>...</td>\n",
       "      <td>1</td>\n",
       "      <td>0</td>\n",
       "      <td>0</td>\n",
       "      <td>0</td>\n",
       "      <td>0</td>\n",
       "      <td>0</td>\n",
       "      <td>1</td>\n",
       "      <td>0</td>\n",
       "      <td>1</td>\n",
       "      <td>0</td>\n",
       "    </tr>\n",
       "    <tr>\n",
       "      <th>3</th>\n",
       "      <td>4000</td>\n",
       "      <td>4000</td>\n",
       "      <td>4000.0</td>\n",
       "      <td>18.94</td>\n",
       "      <td>146.51</td>\n",
       "      <td>92000.0</td>\n",
       "      <td>1</td>\n",
       "      <td>16.74</td>\n",
       "      <td>10.0</td>\n",
       "      <td>0.0</td>\n",
       "      <td>...</td>\n",
       "      <td>1</td>\n",
       "      <td>0</td>\n",
       "      <td>0</td>\n",
       "      <td>0</td>\n",
       "      <td>0</td>\n",
       "      <td>0</td>\n",
       "      <td>1</td>\n",
       "      <td>0</td>\n",
       "      <td>1</td>\n",
       "      <td>0</td>\n",
       "    </tr>\n",
       "    <tr>\n",
       "      <th>4</th>\n",
       "      <td>30000</td>\n",
       "      <td>30000</td>\n",
       "      <td>30000.0</td>\n",
       "      <td>16.14</td>\n",
       "      <td>731.78</td>\n",
       "      <td>57250.0</td>\n",
       "      <td>1</td>\n",
       "      <td>26.35</td>\n",
       "      <td>12.0</td>\n",
       "      <td>0.0</td>\n",
       "      <td>...</td>\n",
       "      <td>1</td>\n",
       "      <td>0</td>\n",
       "      <td>0</td>\n",
       "      <td>0</td>\n",
       "      <td>0</td>\n",
       "      <td>0</td>\n",
       "      <td>1</td>\n",
       "      <td>0</td>\n",
       "      <td>1</td>\n",
       "      <td>0</td>\n",
       "    </tr>\n",
       "  </tbody>\n",
       "</table>\n",
       "<p>5 rows × 161 columns</p>\n",
       "</div>"
      ],
      "text/plain": [
       "   loan_amnt  funded_amnt  funded_amnt_inv  int_rate  installment  annual_inc  \\\n",
       "0       2500         2500           2500.0     13.56        84.92     55000.0   \n",
       "1      30000        30000          30000.0     18.94       777.23     90000.0   \n",
       "2       5000         5000           5000.0     17.97       180.69     59280.0   \n",
       "3       4000         4000           4000.0     18.94       146.51     92000.0   \n",
       "4      30000        30000          30000.0     16.14       731.78     57250.0   \n",
       "\n",
       "   loan_status    dti  open_acc  pub_rec  ...  last_pymnt_d_Feb-2019  \\\n",
       "0            1  18.24       9.0      1.0  ...                      1   \n",
       "1            1  26.52      13.0      1.0  ...                      1   \n",
       "2            1  10.51       8.0      0.0  ...                      1   \n",
       "3            1  16.74      10.0      0.0  ...                      1   \n",
       "4            1  26.35      12.0      0.0  ...                      1   \n",
       "\n",
       "   last_pymnt_d_Jan-2019  last_pymnt_d_Jul-2018  last_pymnt_d_Nov-2018  \\\n",
       "0                      0                      0                      0   \n",
       "1                      0                      0                      0   \n",
       "2                      0                      0                      0   \n",
       "3                      0                      0                      0   \n",
       "4                      0                      0                      0   \n",
       "\n",
       "   last_pymnt_d_Oct-2018  last_pymnt_d_Sep-2018  application_type_Individual  \\\n",
       "0                      0                      0                            1   \n",
       "1                      0                      0                            1   \n",
       "2                      0                      0                            1   \n",
       "3                      0                      0                            1   \n",
       "4                      0                      0                            1   \n",
       "\n",
       "   application_type_Joint App  debt_settlement_flag_N  debt_settlement_flag_Y  \n",
       "0                           0                       1                       0  \n",
       "1                           0                       1                       0  \n",
       "2                           0                       1                       0  \n",
       "3                           0                       1                       0  \n",
       "4                           0                       1                       0  \n",
       "\n",
       "[5 rows x 161 columns]"
      ]
     },
     "execution_count": 2,
     "metadata": {},
     "output_type": "execute_result"
    }
   ],
   "source": [
    "import os, sys, re\n",
    "import time\n",
    "import numpy as np\n",
    "import pandas as pd\n",
    "from sklearn.model_selection import train_test_split\n",
    "\n",
    "dataset = pd.read_csv('loan.csv')\n",
    "df = dataset.fillna(0)\n",
    "\n",
    "def LoanResult(status):\n",
    "    if (status == 'Fully Paid') or (status == 'Current'):\n",
    "        return 1\n",
    "    else:\n",
    "        return 0\n",
    "\n",
    "df['loan_status'] = df['loan_status'].apply(LoanResult)\n",
    "\n",
    "df = df[['loan_amnt', 'funded_amnt', 'funded_amnt_inv', 'term', 'int_rate', 'installment', 'grade', 'sub_grade',\n",
    "             'emp_length', 'home_ownership','annual_inc', 'verification_status', 'loan_status',\n",
    "             'purpose','addr_state', 'dti','open_acc', 'pub_rec', 'revol_bal', 'revol_util', \n",
    "             'initial_list_status', 'recoveries','collection_recovery_fee', 'last_pymnt_d', 'last_pymnt_amnt',\n",
    "             'application_type', 'tot_coll_amt', 'tot_cur_bal', 'avg_cur_bal', 'chargeoff_within_12_mths',\n",
    "             'pub_rec_bankruptcies', 'tax_liens', 'debt_settlement_flag']]\n",
    "df_cat = df.select_dtypes(exclude=['int64', 'float64'])\n",
    "df = pd.get_dummies(df, df_cat.columns.values)\n",
    "df.head()\n"
   ]
  },
  {
   "cell_type": "markdown",
   "metadata": {},
   "source": [
    "Select the `loan_status` column as the target column.  \n",
    "\n",
    "\n",
    "**Part 1: (3 pts)** Split the dataset into train and test set with 25% data in test set and random_state = 42. Perform [Min-Max Scaling](https://scikit-learn.org/stable/modules/generated/sklearn.preprocessing.MinMaxScaler.html) on the dataset. Print the total number of features. \n",
    "\n",
    "**Part 2: (5 pts)** Use the dataset to create a `RandomForestClassifier(n_estimators=5, random_state=42)` model and print the [classification_report](https://scikit-learn.org/stable/modules/generated/sklearn.metrics.classification_report.html) to show the precision, recall and F1 score based on the test set.  \n",
    "\n",
    "**Part 3: (6 pts)** Use [$\\chi^2$ test](https://scikit-learn.org/stable/modules/generated/sklearn.feature_selection.chi2.html) to select the top 100, 30 and 10 features using [SelectKBest](https://scikit-learn.org/stable/modules/feature_selection.html#univariate-feature-selection) module. Train a random forest model and print the [classification_report](https://scikit-learn.org/stable/modules/generated/sklearn.metrics.classification_report.html) for each of the trained models.  \n",
    "\n",
    "**Note:** $\\chi^2$ test requires non-negative values only for all features. Since we have performed Min-Max scaling previously (where the default behavior is to scale features between 0 and 1, there should not be any problem performing this test.)   \n",
    "\n",
    "**Part 4: (6 pts)** [Plot the ROC curves](https://github.com/justmarkham/scikit-learn-tips/blob/master/notebooks/21_plot_roc_curve.ipynb) for all of the 4 models.  \n",
    "\n",
    "**Part 5: (8 pts)** Plot the feature importance for each of the 4 random forest models that you have trained to show the top 5 features. ([Get feature names after feature selection](https://stackoverflow.com/a/43765224), [Plot feature importance using Pandas and matplotlib](https://stackoverflow.com/a/51520906))  \n",
    "\n",
    "**Part 6: (2 pts)** What do you observe from the ROC curves?"
   ]
  },
  {
   "cell_type": "markdown",
   "metadata": {},
   "source": [
    "# Solution"
   ]
  },
  {
   "cell_type": "code",
   "execution_count": 3,
   "metadata": {},
   "outputs": [],
   "source": [
    "df = df.fillna(0)\n",
    "X = df.drop(['loan_status'], axis=1)\n",
    "y = df['loan_status']"
   ]
  },
  {
   "cell_type": "markdown",
   "metadata": {},
   "source": [
    "a."
   ]
  },
  {
   "cell_type": "code",
   "execution_count": 4,
   "metadata": {},
   "outputs": [],
   "source": [
    "from sklearn.model_selection import train_test_split\n",
    "\n",
    "X_train, X_test, y_train, y_test = train_test_split(X, y, test_size=0.25, random_state=42)"
   ]
  },
  {
   "cell_type": "code",
   "execution_count": 5,
   "metadata": {},
   "outputs": [],
   "source": [
    "from sklearn import preprocessing\n",
    "\n",
    "min_max_scaler = preprocessing.MinMaxScaler()\n",
    "X_scaled_train = min_max_scaler.fit_transform(X_train)\n",
    "X_scaled_test = min_max_scaler.fit_transform(X_test)\n",
    "\n",
    "# X_scaled = pd.DataFrame(X_scaled)"
   ]
  },
  {
   "cell_type": "code",
   "execution_count": 6,
   "metadata": {},
   "outputs": [
    {
     "name": "stdout",
     "output_type": "stream",
     "text": [
      "Total number of features: 160\n"
     ]
    }
   ],
   "source": [
    "print('Total number of features:', len(df.columns)-1)"
   ]
  },
  {
   "cell_type": "markdown",
   "metadata": {},
   "source": [
    "b."
   ]
  },
  {
   "cell_type": "code",
   "execution_count": 7,
   "metadata": {},
   "outputs": [
    {
     "name": "stdout",
     "output_type": "stream",
     "text": [
      "              precision    recall  f1-score   support\n",
      "\n",
      "           0       0.64      0.38      0.47       850\n",
      "           1       0.99      1.00      0.99     55667\n",
      "\n",
      "    accuracy                           0.99     56517\n",
      "   macro avg       0.81      0.69      0.73     56517\n",
      "weighted avg       0.99      0.99      0.99     56517\n",
      "\n"
     ]
    }
   ],
   "source": [
    "from sklearn.ensemble import RandomForestClassifier\n",
    "from sklearn.metrics import classification_report\n",
    "\n",
    "clf = RandomForestClassifier(n_estimators=5, random_state=42)\n",
    "clf.fit(X_scaled_train, y_train)\n",
    "print(classification_report(y_test, clf.predict(X_scaled_test)))"
   ]
  },
  {
   "cell_type": "markdown",
   "metadata": {},
   "source": [
    "c."
   ]
  },
  {
   "cell_type": "code",
   "execution_count": 8,
   "metadata": {},
   "outputs": [
    {
     "name": "stdout",
     "output_type": "stream",
     "text": [
      "100 features:\n",
      "              precision    recall  f1-score   support\n",
      "\n",
      "           0       0.66      0.44      0.53       850\n",
      "           1       0.99      1.00      0.99     55667\n",
      "\n",
      "    accuracy                           0.99     56517\n",
      "   macro avg       0.82      0.72      0.76     56517\n",
      "weighted avg       0.99      0.99      0.99     56517\n",
      "\n",
      "30 features:\n",
      "              precision    recall  f1-score   support\n",
      "\n",
      "           0       0.49      0.13      0.21       850\n",
      "           1       0.99      1.00      0.99     55667\n",
      "\n",
      "    accuracy                           0.98     56517\n",
      "   macro avg       0.74      0.56      0.60     56517\n",
      "weighted avg       0.98      0.98      0.98     56517\n",
      "\n",
      "10 features:\n",
      "              precision    recall  f1-score   support\n",
      "\n",
      "           0       1.00      0.07      0.14       850\n",
      "           1       0.99      1.00      0.99     55667\n",
      "\n",
      "    accuracy                           0.99     56517\n",
      "   macro avg       0.99      0.54      0.56     56517\n",
      "weighted avg       0.99      0.99      0.98     56517\n",
      "\n"
     ]
    }
   ],
   "source": [
    "from sklearn.feature_selection import SelectKBest\n",
    "from sklearn.feature_selection import chi2\n",
    "\n",
    "KBest_model_100 = SelectKBest(chi2, k=100)\n",
    "KBest_model_30 = SelectKBest(chi2, k=30)\n",
    "KBest_model_10 = SelectKBest(chi2, k=10)\n",
    "\n",
    "X_new_sc_train_100 = KBest_model_100.fit_transform(X_scaled_train, y_train)\n",
    "X_new_sc_train_30 = KBest_model_30.fit_transform(X_scaled_train, y_train)\n",
    "X_new_sc_train_10 = KBest_model_10.fit_transform(X_scaled_train, y_train)\n",
    "\n",
    "X_new_sc_test_100 = KBest_model_100.transform(X_scaled_test)\n",
    "X_new_sc_test_30 = KBest_model_30.transform(X_scaled_test)\n",
    "X_new_sc_test_10 = KBest_model_10.transform(X_scaled_test)\n",
    "\n",
    "clf_100 = RandomForestClassifier(n_estimators=5, random_state=42)\n",
    "clf_100.fit(X_new_sc_train_100, y_train)\n",
    "print('100 features:')\n",
    "print(classification_report(y_test, clf_100.predict(X_new_sc_test_100)))\n",
    "\n",
    "clf_30 = RandomForestClassifier(n_estimators=5, random_state=42)\n",
    "clf_30.fit(X_new_sc_train_30, y_train)\n",
    "print('30 features:')\n",
    "print(classification_report(y_test, clf_30.predict(X_new_sc_test_30)))\n",
    "\n",
    "clf_10 = RandomForestClassifier(n_estimators=5, random_state=42)\n",
    "clf_10.fit(X_new_sc_train_10, y_train)\n",
    "print('10 features:')\n",
    "print(classification_report(y_test, clf_10.predict(X_new_sc_test_10)))\n"
   ]
  },
  {
   "cell_type": "markdown",
   "metadata": {},
   "source": [
    "d."
   ]
  },
  {
   "cell_type": "code",
   "execution_count": 12,
   "metadata": {},
   "outputs": [
    {
     "data": {
      "text/plain": [
       "<Figure size 432x288 with 0 Axes>"
      ]
     },
     "metadata": {},
     "output_type": "display_data"
    },
    {
     "data": {
      "image/png": "[encoded data removed]",
      "text/plain": [
       "<Figure size 432x288 with 1 Axes>"
      ]
     },
     "metadata": {
      "needs_background": "light"
     },
     "output_type": "display_data"
    }
   ],
   "source": [
    "import matplotlib.pyplot as plt\n",
    "from sklearn.metrics import plot_roc_curve\n",
    "\n",
    "plt.figure()\n",
    "disp = plot_roc_curve(clf, X_scaled_test, y_test)\n",
    "plot_roc_curve(clf_100, X_new_sc_test_100, y_test, ax=disp.ax_);\n",
    "plot_roc_curve(clf_30, X_new_sc_test_30, y_test, ax=disp.ax_);\n",
    "plot_roc_curve(clf_10, X_new_sc_test_10, y_test, ax=disp.ax_);\n",
    "plt.show()"
   ]
  },
  {
   "cell_type": "markdown",
   "metadata": {},
   "source": [
    "e."
   ]
  },
  {
   "cell_type": "code",
   "execution_count": 10,
   "metadata": {},
   "outputs": [
    {
     "data": {
      "image/png": "[encoded data removed]",
      "text/plain": [
       "<Figure size 432x288 with 1 Axes>"
      ]
     },
     "metadata": {
      "needs_background": "light"
     },
     "output_type": "display_data"
    },
    {
     "data": {
      "image/png": "[encoded data removed]",
      "text/plain": [
       "<Figure size 432x288 with 1 Axes>"
      ]
     },
     "metadata": {
      "needs_background": "light"
     },
     "output_type": "display_data"
    },
    {
     "data": {
      "image/png": "[encoded data removed]",
      "text/plain": [
       "<Figure size 432x288 with 1 Axes>"
      ]
     },
     "metadata": {
      "needs_background": "light"
     },
     "output_type": "display_data"
    },
    {
     "data": {
      "image/png": "[encoded data removed]",
      "text/plain": [
       "<Figure size 432x288 with 1 Axes>"
      ]
     },
     "metadata": {
      "needs_background": "light"
     },
     "output_type": "display_data"
    }
   ],
   "source": [
    "import matplotlib.pyplot as plt\n",
    "\n",
    "feat_importances = pd.Series(clf.feature_importances_, index=X.columns)\n",
    "feat_importances.nlargest(5).plot(kind='barh')\n",
    "plt.show()\n",
    "\n",
    "# Create and fit selector\n",
    "selector = SelectKBest(chi2, k=100).fit(X_scaled_test, y_test)\n",
    "# Get columns to keep and create new dataframe with those only\n",
    "cols = selector.get_support(indices=True)\n",
    "features_df_new = X.iloc[:,cols]\n",
    "feat_importances = pd.Series(clf_100.feature_importances_, index=features_df_new.columns)\n",
    "feat_importances.nlargest(5).plot(kind='barh')\n",
    "plt.show()\n",
    "\n",
    "# Create and fit selector\n",
    "selector = SelectKBest(chi2, k=30).fit(X_scaled_test, y_test)\n",
    "# Get columns to keep and create new dataframe with those only\n",
    "cols = selector.get_support(indices=True)\n",
    "features_df_new = X.iloc[:,cols]\n",
    "feat_importances = pd.Series(clf_30.feature_importances_, index=features_df_new.columns)\n",
    "feat_importances.nlargest(5).plot(kind='barh')\n",
    "plt.show()\n",
    "\n",
    "# Create and fit selector\n",
    "selector = SelectKBest(chi2, k=10).fit(X_scaled_test, y_test)\n",
    "# Get columns to keep and create new dataframe with those only\n",
    "cols = selector.get_support(indices=True)\n",
    "features_df_new = X.iloc[:,cols]\n",
    "feat_importances = pd.Series(clf_10.feature_importances_, index=features_df_new.columns)\n",
    "feat_importances.nlargest(5).plot(kind='barh')\n",
    "plt.show()"
   ]
  },
  {
   "cell_type": "markdown",
   "metadata": {},
   "source": [
    "f."
   ]
  },
  {
   "cell_type": "markdown",
   "metadata": {},
   "source": [
    "Three models have similar AUC values in the 90's percentages, while the fourth has noticeably lower AUC value. In other words, as an aggregate measure of model performance, there is a roughly 90% chance that a randomly chosen loan_status=1 class will have a higher rank. (In the case of a non-closed-form model such as random forest, \"rank\" can be analogously considered as the proportion of out-of-bag votes for loan_status=1.) The pure random forest model had the lowest AUC value probably because the K-Best selector weeds out irrelevant features, and therefore reduces overfitting caused by the consideration of these irrelevant features."
   ]
  },
  {
   "cell_type": "markdown",
   "metadata": {},
   "source": [
    "# Question 3 : Logistic Regression with Regularization and Decision Tree (25 pts)\n",
    "\n",
    "The goal of this problem is to explore the effect of regularization on logistic regression for binary classification, we will be using the diabetes dataset. \n",
    "This dataset is used to predict if a person is having \n",
    "diabetes based on feature variables including blood pressure, bmi, age etc. The target variable is stored in \"outcome\" column.\n",
    "\n",
    "* Load the \"diabetes.csv\" and partition it into features (X) and the target label (y) for classification task. Then, use [train_test_split](http://scikit-learn.org/stable/modules/generated/sklearn.model_selection.train_test_split.html) to split data into training and testing: test_size=0.33, random_state=42. \n",
    "\n",
    "\n",
    "* We need to use [StandardScaler](https://scikit-learn.org/stable/modules/generated/sklearn.preprocessing.StandardScaler.html). Instead of fitting a model on the original data, we use StandardScaler to center each feature. Also remember that when we have training and testing data, we fit preprocessing parameters on training data and apply them to all testing data. You should scale only the features (independent variables), not the target variable y. \n",
    "\n",
    "   Note: X should have 8 features.\n",
    "\n",
    "\n",
    "**Part 1: (6 pts)** Fit a [logistic regression](https://scikit-learn.org/stable/modules/generated/sklearn.linear_model.LogisticRegression.html) model with penalty $l2$\n",
    "(Ridge Regularization) for the following values of regularization  C = $[0.0001,0.001,0.1,10,100]$ using the training data. Report the accuracy score on the test data averaged over 5 runs of the model for each of the C values. \n",
    "\n",
    "  Note : Smaller values of C indicate stronger regularization\n",
    "\n",
    "    \n",
    "\n",
    "**Part 2: (6 pts)** Fit a [Decision tree](https://scikit-learn.org/stable/modules/generated/sklearn.tree.DecisionTreeClassifier.html) classifier on the training data, and report the accuracy score on the test data averaged over 5 runs. Briefly explain which of the models performed the best Logistic Regression + regularization or Decision Tree Classifier and why. \n",
    "\n",
    "\n",
    "* Now, We will check if the decision boundary from logistic regression is linear by using a 2D plot.\n",
    "\n",
    "\n",
    "**Part 3: (4 pts)** Select the top two most important features ([Feature importance](https://scikit-learn.org/stable/modules/generated/sklearn.tree.DecisionTreeClassifier.html#sklearn.tree.DecisionTreeClassifier.feature_importances_)) using the training data with a Decision Tree Classifier and random_state = 10. Subset the train and test data to have only the selected features. This will be used as the training and test data for part $4$.\n",
    "\n",
    "\n",
    "**Part 4: (8 pts)** Fit a [logistic regression](https://scikit-learn.org/stable/modules/generated/sklearn.linear_model.LogisticRegression.html) model with penalty = $l2$, C = 10 (Ridge Regularization) and random state = 0 for the training data from part $3$ . Plot the decision boundary of the logistic regression model with the two features, as X and Y axis. Here is an [example](https://scikit-learn.org/stable/auto_examples/linear_model/plot_iris_logistic.html) . Plot the scatter points for the test data, on the same graph showing the two classes as two different color. \n",
    "\n",
    "  * Hint : You can use the below limits for plotting the decision boundary, where $X[:,0]$ indicates feature 1 values and $X[:,1]$ indicates feature 2 values of the train dataset. \n",
    "\n",
    "     $ x_\\min, x_\\max = X[:, 0].min() - .5, X[:, 0].max() + .5 $ \n",
    "\n",
    "     $ y_\\min, y_\\max = X[:, 1].min() - .5, X[:, 1].max() + .5 $\n",
    "   "
   ]
  },
  {
   "cell_type": "markdown",
   "metadata": {},
   "source": [
    "# Solution"
   ]
  },
  {
   "cell_type": "markdown",
   "metadata": {},
   "source": [
    "#### Loading dataset and pre-processing (**1 pt**)"
   ]
  },
  {
   "cell_type": "code",
   "execution_count": 11,
   "metadata": {},
   "outputs": [
    {
     "ename": "FileNotFoundError",
     "evalue": "[Errno 2] File diabetes.csv does not exist: 'diabetes.csv'",
     "output_type": "error",
     "traceback": [
      "\u001b[0;31m---------------------------------------------------------------------------\u001b[0m",
      "\u001b[0;31mFileNotFoundError\u001b[0m                         Traceback (most recent call last)",
      "\u001b[0;32m<ipython-input-11-3ab8fd93be98>\u001b[0m in \u001b[0;36m<module>\u001b[0;34m\u001b[0m\n\u001b[1;32m      1\u001b[0m \u001b[0;32mfrom\u001b[0m \u001b[0msklearn\u001b[0m\u001b[0;34m.\u001b[0m\u001b[0mpreprocessing\u001b[0m \u001b[0;32mimport\u001b[0m \u001b[0mStandardScaler\u001b[0m\u001b[0;34m\u001b[0m\u001b[0;34m\u001b[0m\u001b[0m\n\u001b[1;32m      2\u001b[0m \u001b[0;34m\u001b[0m\u001b[0m\n\u001b[0;32m----> 3\u001b[0;31m \u001b[0mdf\u001b[0m \u001b[0;34m=\u001b[0m \u001b[0mpd\u001b[0m\u001b[0;34m.\u001b[0m\u001b[0mread_csv\u001b[0m\u001b[0;34m(\u001b[0m\u001b[0;34m'diabetes.csv'\u001b[0m\u001b[0;34m)\u001b[0m\u001b[0;34m\u001b[0m\u001b[0;34m\u001b[0m\u001b[0m\n\u001b[0m\u001b[1;32m      4\u001b[0m \u001b[0mdf\u001b[0m \u001b[0;34m=\u001b[0m \u001b[0mdf\u001b[0m\u001b[0;34m.\u001b[0m\u001b[0mfillna\u001b[0m\u001b[0;34m(\u001b[0m\u001b[0;36m0\u001b[0m\u001b[0;34m)\u001b[0m\u001b[0;34m\u001b[0m\u001b[0;34m\u001b[0m\u001b[0m\n\u001b[1;32m      5\u001b[0m \u001b[0;34m\u001b[0m\u001b[0m\n",
      "\u001b[0;32m/Library/Frameworks/Python.framework/Versions/3.7/lib/python3.7/site-packages/pandas/io/parsers.py\u001b[0m in \u001b[0;36mparser_f\u001b[0;34m(filepath_or_buffer, sep, delimiter, header, names, index_col, usecols, squeeze, prefix, mangle_dupe_cols, dtype, engine, converters, true_values, false_values, skipinitialspace, skiprows, skipfooter, nrows, na_values, keep_default_na, na_filter, verbose, skip_blank_lines, parse_dates, infer_datetime_format, keep_date_col, date_parser, dayfirst, cache_dates, iterator, chunksize, compression, thousands, decimal, lineterminator, quotechar, quoting, doublequote, escapechar, comment, encoding, dialect, error_bad_lines, warn_bad_lines, delim_whitespace, low_memory, memory_map, float_precision)\u001b[0m\n\u001b[1;32m    674\u001b[0m         )\n\u001b[1;32m    675\u001b[0m \u001b[0;34m\u001b[0m\u001b[0m\n\u001b[0;32m--> 676\u001b[0;31m         \u001b[0;32mreturn\u001b[0m \u001b[0m_read\u001b[0m\u001b[0;34m(\u001b[0m\u001b[0mfilepath_or_buffer\u001b[0m\u001b[0;34m,\u001b[0m \u001b[0mkwds\u001b[0m\u001b[0;34m)\u001b[0m\u001b[0;34m\u001b[0m\u001b[0;34m\u001b[0m\u001b[0m\n\u001b[0m\u001b[1;32m    677\u001b[0m \u001b[0;34m\u001b[0m\u001b[0m\n\u001b[1;32m    678\u001b[0m     \u001b[0mparser_f\u001b[0m\u001b[0;34m.\u001b[0m\u001b[0m__name__\u001b[0m \u001b[0;34m=\u001b[0m \u001b[0mname\u001b[0m\u001b[0;34m\u001b[0m\u001b[0;34m\u001b[0m\u001b[0m\n",
      "\u001b[0;32m/Library/Frameworks/Python.framework/Versions/3.7/lib/python3.7/site-packages/pandas/io/parsers.py\u001b[0m in \u001b[0;36m_read\u001b[0;34m(filepath_or_buffer, kwds)\u001b[0m\n\u001b[1;32m    446\u001b[0m \u001b[0;34m\u001b[0m\u001b[0m\n\u001b[1;32m    447\u001b[0m     \u001b[0;31m# Create the parser.\u001b[0m\u001b[0;34m\u001b[0m\u001b[0;34m\u001b[0m\u001b[0;34m\u001b[0m\u001b[0m\n\u001b[0;32m--> 448\u001b[0;31m     \u001b[0mparser\u001b[0m \u001b[0;34m=\u001b[0m \u001b[0mTextFileReader\u001b[0m\u001b[0;34m(\u001b[0m\u001b[0mfp_or_buf\u001b[0m\u001b[0;34m,\u001b[0m \u001b[0;34m**\u001b[0m\u001b[0mkwds\u001b[0m\u001b[0;34m)\u001b[0m\u001b[0;34m\u001b[0m\u001b[0;34m\u001b[0m\u001b[0m\n\u001b[0m\u001b[1;32m    449\u001b[0m \u001b[0;34m\u001b[0m\u001b[0m\n\u001b[1;32m    450\u001b[0m     \u001b[0;32mif\u001b[0m \u001b[0mchunksize\u001b[0m \u001b[0;32mor\u001b[0m \u001b[0miterator\u001b[0m\u001b[0;34m:\u001b[0m\u001b[0;34m\u001b[0m\u001b[0;34m\u001b[0m\u001b[0m\n",
      "\u001b[0;32m/Library/Frameworks/Python.framework/Versions/3.7/lib/python3.7/site-packages/pandas/io/parsers.py\u001b[0m in \u001b[0;36m__init__\u001b[0;34m(self, f, engine, **kwds)\u001b[0m\n\u001b[1;32m    878\u001b[0m             \u001b[0mself\u001b[0m\u001b[0;34m.\u001b[0m\u001b[0moptions\u001b[0m\u001b[0;34m[\u001b[0m\u001b[0;34m\"has_index_names\"\u001b[0m\u001b[0;34m]\u001b[0m \u001b[0;34m=\u001b[0m \u001b[0mkwds\u001b[0m\u001b[0;34m[\u001b[0m\u001b[0;34m\"has_index_names\"\u001b[0m\u001b[0;34m]\u001b[0m\u001b[0;34m\u001b[0m\u001b[0;34m\u001b[0m\u001b[0m\n\u001b[1;32m    879\u001b[0m \u001b[0;34m\u001b[0m\u001b[0m\n\u001b[0;32m--> 880\u001b[0;31m         \u001b[0mself\u001b[0m\u001b[0;34m.\u001b[0m\u001b[0m_make_engine\u001b[0m\u001b[0;34m(\u001b[0m\u001b[0mself\u001b[0m\u001b[0;34m.\u001b[0m\u001b[0mengine\u001b[0m\u001b[0;34m)\u001b[0m\u001b[0;34m\u001b[0m\u001b[0;34m\u001b[0m\u001b[0m\n\u001b[0m\u001b[1;32m    881\u001b[0m \u001b[0;34m\u001b[0m\u001b[0m\n\u001b[1;32m    882\u001b[0m     \u001b[0;32mdef\u001b[0m \u001b[0mclose\u001b[0m\u001b[0;34m(\u001b[0m\u001b[0mself\u001b[0m\u001b[0;34m)\u001b[0m\u001b[0;34m:\u001b[0m\u001b[0;34m\u001b[0m\u001b[0;34m\u001b[0m\u001b[0m\n",
      "\u001b[0;32m/Library/Frameworks/Python.framework/Versions/3.7/lib/python3.7/site-packages/pandas/io/parsers.py\u001b[0m in \u001b[0;36m_make_engine\u001b[0;34m(self, engine)\u001b[0m\n\u001b[1;32m   1112\u001b[0m     \u001b[0;32mdef\u001b[0m \u001b[0m_make_engine\u001b[0m\u001b[0;34m(\u001b[0m\u001b[0mself\u001b[0m\u001b[0;34m,\u001b[0m \u001b[0mengine\u001b[0m\u001b[0;34m=\u001b[0m\u001b[0;34m\"c\"\u001b[0m\u001b[0;34m)\u001b[0m\u001b[0;34m:\u001b[0m\u001b[0;34m\u001b[0m\u001b[0;34m\u001b[0m\u001b[0m\n\u001b[1;32m   1113\u001b[0m         \u001b[0;32mif\u001b[0m \u001b[0mengine\u001b[0m \u001b[0;34m==\u001b[0m \u001b[0;34m\"c\"\u001b[0m\u001b[0;34m:\u001b[0m\u001b[0;34m\u001b[0m\u001b[0;34m\u001b[0m\u001b[0m\n\u001b[0;32m-> 1114\u001b[0;31m             \u001b[0mself\u001b[0m\u001b[0;34m.\u001b[0m\u001b[0m_engine\u001b[0m \u001b[0;34m=\u001b[0m \u001b[0mCParserWrapper\u001b[0m\u001b[0;34m(\u001b[0m\u001b[0mself\u001b[0m\u001b[0;34m.\u001b[0m\u001b[0mf\u001b[0m\u001b[0;34m,\u001b[0m \u001b[0;34m**\u001b[0m\u001b[0mself\u001b[0m\u001b[0;34m.\u001b[0m\u001b[0moptions\u001b[0m\u001b[0;34m)\u001b[0m\u001b[0;34m\u001b[0m\u001b[0;34m\u001b[0m\u001b[0m\n\u001b[0m\u001b[1;32m   1115\u001b[0m         \u001b[0;32melse\u001b[0m\u001b[0;34m:\u001b[0m\u001b[0;34m\u001b[0m\u001b[0;34m\u001b[0m\u001b[0m\n\u001b[1;32m   1116\u001b[0m             \u001b[0;32mif\u001b[0m \u001b[0mengine\u001b[0m \u001b[0;34m==\u001b[0m \u001b[0;34m\"python\"\u001b[0m\u001b[0;34m:\u001b[0m\u001b[0;34m\u001b[0m\u001b[0;34m\u001b[0m\u001b[0m\n",
      "\u001b[0;32m/Library/Frameworks/Python.framework/Versions/3.7/lib/python3.7/site-packages/pandas/io/parsers.py\u001b[0m in \u001b[0;36m__init__\u001b[0;34m(self, src, **kwds)\u001b[0m\n\u001b[1;32m   1889\u001b[0m         \u001b[0mkwds\u001b[0m\u001b[0;34m[\u001b[0m\u001b[0;34m\"usecols\"\u001b[0m\u001b[0;34m]\u001b[0m \u001b[0;34m=\u001b[0m \u001b[0mself\u001b[0m\u001b[0;34m.\u001b[0m\u001b[0musecols\u001b[0m\u001b[0;34m\u001b[0m\u001b[0;34m\u001b[0m\u001b[0m\n\u001b[1;32m   1890\u001b[0m \u001b[0;34m\u001b[0m\u001b[0m\n\u001b[0;32m-> 1891\u001b[0;31m         \u001b[0mself\u001b[0m\u001b[0;34m.\u001b[0m\u001b[0m_reader\u001b[0m \u001b[0;34m=\u001b[0m \u001b[0mparsers\u001b[0m\u001b[0;34m.\u001b[0m\u001b[0mTextReader\u001b[0m\u001b[0;34m(\u001b[0m\u001b[0msrc\u001b[0m\u001b[0;34m,\u001b[0m \u001b[0;34m**\u001b[0m\u001b[0mkwds\u001b[0m\u001b[0;34m)\u001b[0m\u001b[0;34m\u001b[0m\u001b[0;34m\u001b[0m\u001b[0m\n\u001b[0m\u001b[1;32m   1892\u001b[0m         \u001b[0mself\u001b[0m\u001b[0;34m.\u001b[0m\u001b[0munnamed_cols\u001b[0m \u001b[0;34m=\u001b[0m \u001b[0mself\u001b[0m\u001b[0;34m.\u001b[0m\u001b[0m_reader\u001b[0m\u001b[0;34m.\u001b[0m\u001b[0munnamed_cols\u001b[0m\u001b[0;34m\u001b[0m\u001b[0;34m\u001b[0m\u001b[0m\n\u001b[1;32m   1893\u001b[0m \u001b[0;34m\u001b[0m\u001b[0m\n",
      "\u001b[0;32mpandas/_libs/parsers.pyx\u001b[0m in \u001b[0;36mpandas._libs.parsers.TextReader.__cinit__\u001b[0;34m()\u001b[0m\n",
      "\u001b[0;32mpandas/_libs/parsers.pyx\u001b[0m in \u001b[0;36mpandas._libs.parsers.TextReader._setup_parser_source\u001b[0;34m()\u001b[0m\n",
      "\u001b[0;31mFileNotFoundError\u001b[0m: [Errno 2] File diabetes.csv does not exist: 'diabetes.csv'"
     ]
    }
   ],
   "source": [
    "from sklearn.preprocessing import StandardScaler\n",
    "\n",
    "df = pd.read_csv('diabetes.csv')\n",
    "df = df.fillna(0)\n",
    "\n",
    "X = df.drop(['Outcome'], axis=1)\n",
    "y = df['Outcome']\n",
    "\n",
    "X_train, X_test, y_train, y_test = train_test_split(X, y, test_size=0.33, random_state=42)\n",
    "\n",
    "std_scaler = StandardScaler()\n",
    "\n",
    "X_scaled_train = std_scaler.fit_transform(X_train)\n",
    "X_scaled_test = std_scaler.fit_transform(X_test)"
   ]
  },
  {
   "cell_type": "markdown",
   "metadata": {},
   "source": [
    "#### Part 1 (**6 pts**)"
   ]
  },
  {
   "cell_type": "markdown",
   "metadata": {},
   "source": [
    "### Part 1 logistic regression issues"
   ]
  },
  {
   "cell_type": "code",
   "execution_count": null,
   "metadata": {},
   "outputs": [],
   "source": [
    "from sklearn.linear_model import LogisticRegression\n",
    "\n",
    "C_list = [0.0001,0.001,0.1,10,100] \n",
    "\n",
    "\n",
    "for element in C_list:\n",
    "    counter = 0\n",
    "    value = 0\n",
    "    for i in range(5):\n",
    "        clf = LogisticRegression(C=element).fit(X_scaled_train, y_train)\n",
    "        print(f'For C={element} and run {i+1}:', clf.score(X_scaled_test, y_test))\n",
    "        counter += 1\n",
    "        value += clf.score(X_scaled_test, y_test)\n",
    "    print('Average score:', value / counter)"
   ]
  },
  {
   "cell_type": "markdown",
   "metadata": {},
   "source": [
    "#### Part 2 (**6 pts**)"
   ]
  },
  {
   "cell_type": "code",
   "execution_count": null,
   "metadata": {},
   "outputs": [],
   "source": [
    "from sklearn.tree import DecisionTreeClassifier\n",
    "\n",
    "counter = 0\n",
    "value = 0\n",
    "for i in range(5):\n",
    "    clf = DecisionTreeClassifier().fit(X_scaled_train, y_train)\n",
    "    counter += 1\n",
    "    print(counter, clf.score(X_scaled_test, y_test))\n",
    "    value += clf.score(X_scaled_test, y_test)\n",
    "\n",
    "print('Average score:', value / counter)"
   ]
  },
  {
   "cell_type": "markdown",
   "metadata": {},
   "source": [
    "Logistic regression with C=10 had the best score even though the scores for decision tree were more consistent. This may be because we can account for overfitting with logistic regression but this is not possible with decision tree -- decision tree may be better than the un-regularized logistic regression model but it cannot significantly improve."
   ]
  },
  {
   "cell_type": "markdown",
   "metadata": {},
   "source": [
    "#### Part 3 (**4 pts**)"
   ]
  },
  {
   "cell_type": "code",
   "execution_count": null,
   "metadata": {},
   "outputs": [],
   "source": [
    "importance_values = pd.Series(DecisionTreeClassifier(random_state=10).fit(X_scaled_train, y_train).feature_importances_)\n",
    "\n",
    "importance_names = pd.Series(df.columns)\n",
    "\n",
    "importance_df = pd.concat([importance_names, importance_values], axis=1)\n",
    "\n",
    "importance_df = importance_df.iloc[:8,:]\n",
    "\n",
    "importance_df.sort_values(by=[1],ascending=False)[0][:2]"
   ]
  },
  {
   "cell_type": "code",
   "execution_count": null,
   "metadata": {},
   "outputs": [],
   "source": [
    "two_features = ['Glucose', 'BMI']\n",
    "\n",
    "X_sc_red_train = pd.DataFrame(X_scaled_train)[[1,5]]\n",
    "X_sc_red_test = pd.DataFrame(X_scaled_test)[[1,5]]"
   ]
  },
  {
   "cell_type": "markdown",
   "metadata": {},
   "source": [
    "#### Part 4 (**8 pts**)"
   ]
  },
  {
   "cell_type": "code",
   "execution_count": null,
   "metadata": {},
   "outputs": [],
   "source": [
    "clf = LogisticRegression(random_state=0, C=10)\n",
    "clf.fit(X_sc_red_train, y_train)\n",
    "\n",
    "# Plot the decision boundary. For that, we will assign a color to each\n",
    "# point in the mesh [x_min, x_max]x[y_min, y_max].\n",
    "x_min, x_max = X_sc_red_train.loc[:, 1].min() - .5, X_sc_red_train.loc[:, 1].max() + .5\n",
    "y_min, y_max = X_sc_red_train.loc[:, 5].min() - .5, X_sc_red_train.loc[:, 5].max() + .5\n",
    "h = .02  # step size in the mesh\n",
    "xx, yy = np.meshgrid(np.arange(x_min, x_max, h), np.arange(y_min, y_max, h))\n",
    "Z = clf.predict(np.c_[xx.ravel(), yy.ravel()])\n",
    "\n",
    "# Put the result into a color plot\n",
    "Z = Z.reshape(xx.shape)\n",
    "plt.figure(1, figsize=(4, 3))\n",
    "plt.pcolormesh(xx, yy, Z, cmap=plt.cm.Paired)\n",
    "\n",
    "# Plot also the training points\n",
    "train_scatter = plt.scatter(X_sc_red_train.loc[:, 1], X_sc_red_train.loc[:, 5], c=y_train, edgecolors='k', cmap=plt.cm.Paired)\n",
    "# plt.legend('Train')\n",
    "test_scatter = plt.scatter(X_sc_red_test.loc[:, 1], X_sc_red_test.loc[:, 5], c=y_test, edgecolors='m', cmap=plt.cm.Paired)\n",
    "plt.legend([train_scatter, test_scatter],['train','test'])\n",
    "plt.xlabel('Glucose')\n",
    "plt.ylabel('BMI')\n",
    "\n",
    "plt.xlim(xx.min(), xx.max())\n",
    "plt.ylim(yy.min(), yy.max())\n",
    "plt.xticks(())\n",
    "plt.yticks(())\n",
    "\n",
    "plt.show()"
   ]
  },
  {
   "cell_type": "markdown",
   "metadata": {},
   "source": [
    "# Question 4 - Comparison of different ensembles method for classification (25 pts)\n",
    "\n",
    "In this question, we will compare performance of different ensemble methods for classification problems: [Bagging](https://scikit-learn.org/stable/modules/generated/sklearn.ensemble.BaggingClassifier.html), [AdaBoost](https://scikit-learn.org/stable/modules/generated/sklearn.ensemble.AdaBoostClassifier.html), [GradientBoosting](http://scikit-learn.org/stable/modules/generated/sklearn.ensemble.GradientBoostingClassifier.html), and [Random Forest](https://scikit-learn.org/stable/modules/generated/sklearn.ensemble.RandomForestClassifier.html) Classifiers.\n",
    "\n",
    "[Spam Classification Data](https://archive.ics.uci.edu/ml/datasets/Spambase) of UCI will be used (you can use the data provided: 'spam_uci.csv'). Don't worry about column names. The last column represents target label, 1 if spam and zero otherwise.\n",
    "\n",
    "* Load the data and partition it into features (X) and the target label (y) for classification task. Then, use [train_test_split](http://scikit-learn.org/stable/modules/generated/sklearn.model_selection.train_test_split.html) to split data into training and testing: test_size=0.33, random_state=42. \n",
    "\n",
    "\n",
    "\n",
    "**Part 1: (4 pts)** Use a Decision Tree Classifier with random_state = 10 and Logistic Regression with random_state = 10 and solver =\"lbfgs\" for the spam classification problem. Report the accuracy_score and roc_auc_score on the test data for each classifier.\n",
    "\n",
    "\n",
    "**Part 2: (8 pts)** Create an ensemble of 50 classifiers (i.e n_estimators = 50) with random_state = 10 for [bagging](https://scikit-learn.org/stable/modules/generated/sklearn.ensemble.BaggingClassifier.html) with base classifier as Decision Tree Classifier and Logistic Regression from part $1$ . Report accuracy_score and roc_auc_score on the test data for both the Bagging classifiers. Compare the results and breifly explain the effect of using bagging for the spam classification problem for both the Logistic Regression and Decision Tree base classifier.\n",
    "\n",
    "\n",
    "* Now we will look at the effect of other ensemble methods on this problem.\n",
    "\n",
    "\n",
    "**Part 3: (5 pts)** Use a [Random Forest](http://scikit-learn.org/stable/modules/generated/sklearn.ensemble.RandomForestClassifier.html) to classify whether an email is spam. Report your testing accuracy ([accuracy_score](http://scikit-learn.org/stable/modules/generated/sklearn.metrics.accuracy_score.html)) and [roc_auc_score](http://scikit-learn.org/stable/modules/generated/sklearn.metrics.roc_auc_score.html#sklearn.metrics.roc_auc_score). You will need [predict_proba](http://scikit-learn.org/stable/modules/generated/sklearn.ensemble.RandomForestClassifier.html#sklearn.ensemble.RandomForestClassifier.predict_proba) for roc_auc_score. \n",
    "\n",
    "\n",
    "**Part 4: (5 pts)** Use [Gradient Boosting Decision Tree](http://scikit-learn.org/stable/modules/generated/sklearn.ensemble.GradientBoostingClassifier.html) (GBDT), and [AdaBoost](http://scikit-learn.org/stable/modules/generated/sklearn.ensemble.AdaBoostClassifier.html#sklearn.ensemble.AdaBoostClassifier) for the spam classification problem.  Report  accuracy_score and roc_auc_score on the test data for each algorithm. \n",
    "\n",
    "  Note : For part 3 and 4 find the best values for the hyper parameters of each of the models by using GridSearchCV. \n",
    "\n",
    "\n",
    "**Part 5: (3 pts)** Briefly explain which of the three ensemble method above from Part 3&4 performed the best and why?\n"
   ]
  },
  {
   "cell_type": "markdown",
   "metadata": {},
   "source": [
    "# Solution"
   ]
  },
  {
   "cell_type": "markdown",
   "metadata": {},
   "source": [
    "#### Loading and pre-processing dataset"
   ]
  },
  {
   "cell_type": "code",
   "execution_count": null,
   "metadata": {},
   "outputs": [],
   "source": [
    "df = pd.read_csv('spam_uci.csv')\n",
    "df = df.fillna(0)\n",
    "\n",
    "X = df.drop([list(df.columns)[-1]], axis=1)\n",
    "y = df[list(df.columns)[-1]]\n",
    "\n",
    "X_train, X_test, y_train, y_test = train_test_split(X, y, test_size=0.33, random_state=42)\n",
    "\n",
    "std_scaler = StandardScaler()\n",
    "\n",
    "X_scaled_train = std_scaler.fit_transform(X_train)\n",
    "X_scaled_test = std_scaler.fit_transform(X_test)"
   ]
  },
  {
   "cell_type": "markdown",
   "metadata": {},
   "source": [
    "#### Part 1 (**4 pts**)"
   ]
  },
  {
   "cell_type": "code",
   "execution_count": null,
   "metadata": {},
   "outputs": [],
   "source": [
    "from sklearn.metrics import accuracy_score\n",
    "from sklearn.metrics import roc_auc_score\n",
    "\n",
    "clf = DecisionTreeClassifier(random_state=10).fit(X_scaled_train, y_train)\n",
    "print('Accuracy score for decision tree:', accuracy_score(y_test, clf.predict(X_scaled_test)))\n",
    "print('ROC AUC score for decision tree:', roc_auc_score(y_test, pd.DataFrame(clf.predict_proba(X_scaled_test))[1]))\n",
    "\n",
    "clf = LogisticRegression(random_state = 10, solver =\"lbfgs\").fit(X_scaled_train, y_train)\n",
    "print('Accuracy score for logistic regression:', accuracy_score(y_test, clf.predict(X_scaled_test)))\n",
    "print('ROC AUC score for logistic regression:', roc_auc_score(y_test, pd.DataFrame(clf.predict_proba(X_scaled_test))[1]))"
   ]
  },
  {
   "cell_type": "markdown",
   "metadata": {},
   "source": [
    "#### Part 2 (**8 pts**)"
   ]
  },
  {
   "cell_type": "code",
   "execution_count": null,
   "metadata": {},
   "outputs": [],
   "source": [
    "from sklearn.ensemble import BaggingClassifier\n",
    "\n",
    "clf = BaggingClassifier(base_estimator=DecisionTreeClassifier(random_state=10), n_estimators = 50, random_state=10).fit(X_scaled_train, y_train)\n",
    "print('Accuracy score for decision tree bagging:', accuracy_score(y_test, clf.predict(X_scaled_test)))\n",
    "print('ROC AUC score for decision tree bagging:', roc_auc_score(y_test, pd.DataFrame(clf.predict_proba(X_scaled_test))[1]))\n",
    "\n",
    "clf = BaggingClassifier(base_estimator=LogisticRegression(random_state=10, solver =\"lbfgs\"), n_estimators = 50, random_state=10).fit(X_scaled_train, y_train)\n",
    "print('Accuracy score for logistic regression bagging:', accuracy_score(y_test, clf.predict(X_scaled_test)))\n",
    "print('ROC AUC score for logistic regression bagging:', roc_auc_score(y_test, pd.DataFrame(clf.predict_proba(X_scaled_test))[1]))"
   ]
  },
  {
   "cell_type": "markdown",
   "metadata": {},
   "source": [
    "Bagging helps increase model performance because it incorporates ensemble voting which helps reduce the likelihood of misclassification, reduces variance, and also trains the model on slightly different training (sub)sets. This can help with reducing model correlation, and ensembles are able to take advantage of less correlated models. By decreasing model correlation, it is less likely for models to get the same part of the training data predictions wrong, so ensembles are more likely to confirm correct classifications and present contradictions to misclassifications."
   ]
  },
  {
   "cell_type": "markdown",
   "metadata": {},
   "source": [
    "#### Part 3 (**5 pts**)"
   ]
  },
  {
   "cell_type": "code",
   "execution_count": null,
   "metadata": {},
   "outputs": [],
   "source": [
    "from sklearn.ensemble import RandomForestClassifier\n",
    "\n",
    "clf = RandomForestClassifier().fit(X_scaled_train, y_train)\n",
    "print('Accuracy score for random forest:', accuracy_score(y_test, clf.predict(X_scaled_test)))\n",
    "print('ROC AUC score for random forest:', roc_auc_score(y_test, pd.DataFrame(clf.predict_proba(X_scaled_test))[1]))"
   ]
  },
  {
   "cell_type": "markdown",
   "metadata": {},
   "source": [
    "#### Part 4 (**5 pts**)"
   ]
  },
  {
   "cell_type": "code",
   "execution_count": null,
   "metadata": {},
   "outputs": [],
   "source": [
    "from sklearn.ensemble import GradientBoostingClassifier\n",
    "from sklearn.ensemble import AdaBoostClassifier\n",
    "\n",
    "clf = GradientBoostingClassifier().fit(X_scaled_train, y_train)\n",
    "print('Accuracy score for gradient boosting:', accuracy_score(y_test, clf.predict(X_scaled_test)))\n",
    "print('ROC AUC score for gradient boosting:', roc_auc_score(y_test, pd.DataFrame(clf.predict_proba(X_scaled_test))[1]))\n",
    "\n",
    "clf = AdaBoostClassifier().fit(X_scaled_train, y_train)\n",
    "print('Accuracy score for AdaBoost:', accuracy_score(y_test, clf.predict(X_scaled_test)))\n",
    "print('ROC AUC score for AdaBoost:', roc_auc_score(y_test, pd.DataFrame(clf.predict_proba(X_scaled_test))[1]))"
   ]
  },
  {
   "cell_type": "code",
   "execution_count": null,
   "metadata": {},
   "outputs": [],
   "source": [
    "from sklearn.model_selection import GridSearchCV\n",
    "\n",
    "parameters = {'n_estimators':[20,50,100], 'learning_rate':[.05, .075, .1], 'max_depth': [3,5,7], 'subsample': [.8,.9,1]}\n",
    "GBC = GradientBoostingClassifier()\n",
    "clf = GridSearchCV(GBC, parameters)\n",
    "clf.fit(X_scaled_train, y_train)"
   ]
  },
  {
   "cell_type": "code",
   "execution_count": null,
   "metadata": {},
   "outputs": [],
   "source": [
    "print(clf.best_params_)"
   ]
  },
  {
   "cell_type": "code",
   "execution_count": null,
   "metadata": {},
   "outputs": [],
   "source": [
    "print('Accuracy score for best gradient boosting:', accuracy_score(y_test, clf.predict(X_scaled_test)))\n",
    "print('ROC AUC score for best gradient boosting:', roc_auc_score(y_test, pd.DataFrame(clf.predict_proba(X_scaled_test))[1]))"
   ]
  },
  {
   "cell_type": "code",
   "execution_count": null,
   "metadata": {},
   "outputs": [],
   "source": [
    "parameters = {'n_estimators':[20,50,100,200], 'learning_rate':[.05, .075, .1]}\n",
    "Ada = AdaBoostClassifier()\n",
    "clf = GridSearchCV(Ada, parameters)\n",
    "clf.fit(X_scaled_train, y_train)"
   ]
  },
  {
   "cell_type": "code",
   "execution_count": null,
   "metadata": {},
   "outputs": [],
   "source": [
    "print(clf.best_params_)"
   ]
  },
  {
   "cell_type": "code",
   "execution_count": null,
   "metadata": {},
   "outputs": [],
   "source": [
    "print('Accuracy score for best AdaBoost:', accuracy_score(y_test, clf.predict(X_scaled_test)))\n",
    "print('ROC AUC score for best AdaBoost:', roc_auc_score(y_test, pd.DataFrame(clf.predict_proba(X_scaled_test))[1]))"
   ]
  },
  {
   "cell_type": "code",
   "execution_count": null,
   "metadata": {},
   "outputs": [],
   "source": [
    "parameters = {'n_estimators':[20,50,100,200], 'max_depth':[2,4,6,8,10,12], 'max_features':['auto', 'sqrt', 'log2']}\n",
    "rf = RandomForestClassifier()\n",
    "clf = GridSearchCV(rf, parameters)\n",
    "clf.fit(X_scaled_train, y_train)"
   ]
  },
  {
   "cell_type": "code",
   "execution_count": null,
   "metadata": {},
   "outputs": [],
   "source": [
    "print(clf.best_params_)"
   ]
  },
  {
   "cell_type": "code",
   "execution_count": null,
   "metadata": {},
   "outputs": [],
   "source": [
    "print('Accuracy score for best random forest:', accuracy_score(y_test, clf.predict(X_scaled_test)))\n",
    "print('ROC AUC score for best random forest:', roc_auc_score(y_test, pd.DataFrame(clf.predict_proba(X_scaled_test))[1]))"
   ]
  },
  {
   "cell_type": "markdown",
   "metadata": {},
   "source": [
    "#### Part 5 (**3 pts**)"
   ]
  },
  {
   "cell_type": "markdown",
   "metadata": {},
   "source": [
    "Random forest, once we optimize the hyperparameters, had the best performance. It is also a bagging ensemble method as opposed to the two boosting methods. Perhaps in this case boosting resulted in more overfitting and therefore worse test-set performance than bagging did."
   ]
  },
  {
   "cell_type": "markdown",
   "metadata": {},
   "source": [
    "\n",
    "# Question 5 (Bonus): Segmenting Customers for Predicting Credit Card Fraud (40 points)\n",
    "\n",
    "In this question, we will look at a technique to segment customers using SHAP (SHapley Additive exPlanations). Please read this article to learn about SHAP - https://christophm.github.io/interpretable-ml-book/shap.html.\n",
    "\n",
    "SHAP values provide an explanation for each observation in terms of feature attribution (which features were most influential in determining the predicted value for that observation).\n",
    "\n",
    "For some applications, that may be too fine a resolution, and one would rather identify subsets of observations (called segments or clusters) for which the “explanations are similar”, Moreover, it helps if subsets are also “understandable”, i.e. easy to describe in terms of the feature values. Then the subsets become “actionable”, as one can design specific interventions (e.g. targeted marketing messages) for each subset.\n",
    "\n",
    "The goal of this problem is to identify such segments, and see if the variation of SHAP values within each segment is indeed lower than the variation in the total population. We will proceed as follows:\n",
    "\n",
    "1. First, we will fit an XGBoost model to perform the classification task.\n",
    "2. We will then use the shap.TreeExplainer which uses Tree SHAP algorithms and estimate the SHAP values for each observation.\n",
    "3. Our objective is to segment customers into groups which have low variance in the SHAP values - these represent segments of similar customers in the “feature attribution based explanation” space. We will do this as follows:  \n",
    "\n",
    "    a. Cluster the SHAP values using KMeans clustering. You pick K, perhaps somewhere between 10 and 20.  \n",
    "    b. Build a decision tree with the Cluster numbers as the labels. Specify the number of leaves to be in the range of [K, 2K].  Due to the choice of the surrogate class labels provided by the clustering, the   leaves of the decision tree will be encouraged to have similar SHAP values. Moreover, since you are learning a decision tree, these leaves are also simple to describe as rules. A good solution will be indicated if  for each of these leaves,  the variance of SHAP values of observations mapped to that leaf will be lower than the  overall variance.  \n"
   ]
  },
  {
   "cell_type": "code",
   "execution_count": 19,
   "metadata": {},
   "outputs": [],
   "source": [
    "#LOADING DATA -  DO NOT CHANGE\n",
    "\n",
    "import re\n",
    "import pandas as pd\n",
    "import numpy as np\n",
    "import shap\n",
    "import time\n",
    "import xgboost\n",
    "import sklearn\n",
    "from sklearn.tree import DecisionTreeClassifier\n",
    "from sklearn.model_selection import train_test_split\n",
    "from sklearn.metrics import roc_auc_score\n",
    "import os, sys, re\n",
    "import time\n",
    "import numpy as np\n",
    "import pandas as pd\n",
    "from sklearn.model_selection import train_test_split\n",
    "\n",
    "df = pd.read_csv('credit.csv')\n",
    "\n",
    "X = df\n",
    "regex = re.compile(r\"\\[|\\]|<\", re.IGNORECASE)\n",
    "df.columns = [regex.sub(\"_\", col) if any(x in str(col) for x in set(('[', ']', '<'))) else col for col in df.columns.values]\n",
    "\n",
    "X = X.drop(['Class'], axis=1)\n",
    "Y = df['Class']\n",
    "\n",
    "X_train_val, X_test, y_train_val, y_test = train_test_split(X, Y, test_size=0.25, shuffle=True, random_state=42)\n",
    "X_train, X_val, y_train, y_val = train_test_split(X_train_val, y_train_val, test_size=0.25, shuffle=True, random_state=42)"
   ]
  },
  {
   "cell_type": "markdown",
   "metadata": {},
   "source": [
    "### 5.1. Fit an XGBoost model on the train data and report the ROCAUC on the test set. (5pts)\n",
    "### 5.2. Compute the SHAP values using the [TreeExplainer](https://shap.readthedocs.io/en/latest/generated/shap.TreeExplainer.html) and plot the [summary plot](https://shap.readthedocs.io/en/latest/generated/shap.summary_plot.html). Explain what the summary plot represents. (5 pts)\n",
    "### 5.3. Perform KMeans clustering on the SHAP values inot $k$ clusters. Then, train a decision tree (with maximum depth $d$) to predict the cluster number obtained through KMeans -  the cluster numbers as the target. Visualize the decison tree (5 pts). Plot the variance of the SHAP values of the samples in each of the leaves - show that all these varinces is less than the overall variance of the SHAP values. The main parameters to tune here are the number of cluster $k$ and the maximum depth $d$. **(30 pts)**"
   ]
  },
  {
   "cell_type": "markdown",
   "metadata": {},
   "source": [
    "## 5.1:"
   ]
  },
  {
   "cell_type": "code",
   "execution_count": 20,
   "metadata": {},
   "outputs": [
    {
     "name": "stdout",
     "output_type": "stream",
     "text": [
      "ROC AUC score:  0.9999147034238046\n"
     ]
    }
   ],
   "source": [
    "# 5.1\n",
    "import xgboost as xgb\n",
    "from xgboost import XGBClassifier\n",
    "\n",
    "# data_dmatrix = xgb.DMatrix(data=X_train,label=y_train)\n",
    "xgb_class = xgb.XGBClassifier()\n",
    "xgb_class.fit(X_train,y_train)\n",
    "xgb_preds = pd.DataFrame(xgb_class.predict_proba(X_val))[1]\n",
    "\n",
    "print('ROC AUC score: ', roc_auc_score(y_val, xgb_preds))"
   ]
  },
  {
   "cell_type": "markdown",
   "metadata": {},
   "source": [
    "# 5.2:"
   ]
  },
  {
   "cell_type": "code",
   "execution_count": 21,
   "metadata": {},
   "outputs": [],
   "source": [
    "explainer = shap.TreeExplainer(xgb_class)\n",
    "shap_values = explainer.shap_values(X_train)"
   ]
  },
  {
   "cell_type": "code",
   "execution_count": 22,
   "metadata": {},
   "outputs": [
    {
     "data": {
      "image/png": "[encoded data removed]",
      "text/plain": [
       "<Figure size 576x684 with 1 Axes>"
      ]
     },
     "metadata": {
      "needs_background": "light"
     },
     "output_type": "display_data"
    }
   ],
   "source": [
    "shap.summary_plot(shap_values)"
   ]
  },
  {
   "cell_type": "markdown",
   "metadata": {},
   "source": [
    "The shap summary plot shows the importances of each individual feature on our segmented gradient boosted model. For example, Feature #15 seems to have a large effect on classifying observations with that feature as class zero."
   ]
  },
  {
   "cell_type": "markdown",
   "metadata": {},
   "source": [
    "# 5.3"
   ]
  },
  {
   "cell_type": "code",
   "execution_count": 23,
   "metadata": {},
   "outputs": [],
   "source": [
    "from sklearn.cluster import KMeans\n",
    "kmeans = KMeans(n_clusters=10, random_state=0).fit(shap_values)"
   ]
  },
  {
   "cell_type": "code",
   "execution_count": 24,
   "metadata": {},
   "outputs": [],
   "source": [
    "clustered_labels = pd.Series(kmeans.labels_)"
   ]
  },
  {
   "cell_type": "code",
   "execution_count": 25,
   "metadata": {},
   "outputs": [
    {
     "data": {
      "text/plain": [
       "DecisionTreeClassifier(max_depth=12, max_leaf_nodes=10, random_state=0)"
      ]
     },
     "execution_count": 25,
     "metadata": {},
     "output_type": "execute_result"
    }
   ],
   "source": [
    "clf = DecisionTreeClassifier(max_depth = 12, random_state=0, max_leaf_nodes = 10)\n",
    "clf.fit(X_train,clustered_labels)"
   ]
  },
  {
   "cell_type": "code",
   "execution_count": 26,
   "metadata": {},
   "outputs": [
    {
     "data": {
      "text/plain": [
       "0.05746332884905314"
      ]
     },
     "execution_count": 26,
     "metadata": {},
     "output_type": "execute_result"
    }
   ],
   "source": [
    "shap_vals_df = pd.DataFrame(shap_values)\n",
    "overall_var = (shap_vals_df.stack().std())**2\n",
    "overall_var"
   ]
  },
  {
   "cell_type": "code",
   "execution_count": 27,
   "metadata": {
    "scrolled": false
   },
   "outputs": [
    {
     "data": {
      "text/plain": [
       "[Text(714.9375, 996.6, 'node #0\\nX[27] <= 0.193\\ngini = 0.842\\nsamples = 16020\\nvalue = [2339, 3371, 1194, 763, 269, 1533, 33, 3077, 333\\n3108]'),\n",
       " Text(453.375, 815.4000000000001, 'node #1\\nX[23] <= 0.562\\ngini = 0.779\\nsamples = 11467\\nvalue = [2339, 3371, 1099, 0, 183, 1120, 19, 0, 228, 3108]'),\n",
       " Text(279.0, 634.2, 'node #3\\nX[21] <= -0.089\\ngini = 0.692\\nsamples = 8598\\nvalue = [0, 3371, 1040, 0, 159, 769, 13, 0, 138, 3108]'),\n",
       " Text(139.5, 453.0, 'node #5\\nX[13] <= -0.93\\ngini = 0.395\\nsamples = 4084\\nvalue = [0, 4, 595, 0, 50, 272, 2, 0, 53, 3108]'),\n",
       " Text(69.75, 271.79999999999995, 'node #9\\ngini = 0.137\\nsamples = 641\\nvalue = [0, 0, 595, 0, 15, 20, 2, 0, 5, 4]'),\n",
       " Text(209.25, 271.79999999999995, 'node #10\\ngini = 0.182\\nsamples = 3443\\nvalue = [0, 4, 0, 0, 35, 252, 0, 0, 48, 3104]'),\n",
       " Text(418.5, 453.0, 'node #6\\nX[15] <= -0.895\\ngini = 0.421\\nsamples = 4514\\nvalue = [0, 3367, 445, 0, 109, 497, 11, 0, 85, 0]'),\n",
       " Text(348.75, 271.79999999999995, 'node #11\\ngini = 0.383\\nsamples = 649\\nvalue = [0, 0, 0, 0, 109, 497, 11, 0, 32, 0]'),\n",
       " Text(488.25, 271.79999999999995, 'node #12\\nX[13] <= -0.931\\ngini = 0.228\\nsamples = 3865\\nvalue = [0, 3367, 445, 0, 0, 0, 0, 0, 53, 0]'),\n",
       " Text(418.5, 90.59999999999991, 'node #13\\ngini = 0.055\\nsamples = 458\\nvalue = [0, 1, 445, 0, 0, 0, 0, 0, 12, 0]'),\n",
       " Text(558.0, 90.59999999999991, 'node #14\\ngini = 0.024\\nsamples = 3407\\nvalue = [0, 3366, 0, 0, 0, 0, 0, 0, 41, 0]'),\n",
       " Text(627.75, 634.2, 'node #4\\nX[15] <= -0.895\\ngini = 0.319\\nsamples = 2869\\nvalue = [2339, 0, 59, 0, 24, 351, 6, 0, 90, 0]'),\n",
       " Text(558.0, 453.0, 'node #15\\ngini = 0.193\\nsamples = 392\\nvalue = [0, 0, 0, 0, 24, 351, 6, 0, 11, 0]'),\n",
       " Text(697.5, 453.0, 'node #16\\ngini = 0.107\\nsamples = 2477\\nvalue = [2339, 0, 59, 0, 0, 0, 0, 0, 79, 0]'),\n",
       " Text(976.5, 815.4000000000001, 'node #2\\nX[23] <= 0.558\\ngini = 0.506\\nsamples = 4553\\nvalue = [0, 0, 95, 763, 86, 413, 14, 3077, 105, 0]'),\n",
       " Text(906.75, 634.2, 'node #7\\nX[15] <= -0.895\\ngini = 0.265\\nsamples = 3609\\nvalue = [0, 0, 76, 0, 78, 291, 11, 3077, 76, 0]'),\n",
       " Text(837.0, 453.0, 'node #17\\ngini = 0.419\\nsamples = 396\\nvalue = [0, 0, 0, 0, 78, 291, 11, 0, 16, 0]'),\n",
       " Text(976.5, 453.0, 'node #18\\ngini = 0.082\\nsamples = 3213\\nvalue = [0, 0, 76, 0, 0, 0, 0, 3077, 60, 0]'),\n",
       " Text(1046.25, 634.2, 'node #8\\ngini = 0.329\\nsamples = 944\\nvalue = [0, 0, 19, 763, 8, 122, 3, 0, 29, 0]')]"
      ]
     },
     "execution_count": 27,
     "metadata": {},
     "output_type": "execute_result"
    },
    {
     "data": {
      "image/png": "[encoded data removed]",
      "text/plain": [
       "<Figure size 1440x1440 with 1 Axes>"
      ]
     },
     "metadata": {
      "needs_background": "light"
     },
     "output_type": "display_data"
    }
   ],
   "source": [
    "import matplotlib.pyplot as plt\n",
    "from sklearn import tree\n",
    "\n",
    "plt.figure(figsize=(20,20))\n",
    "\n",
    "tree.plot_tree(clf,fontsize=10, node_ids=True)  "
   ]
  },
  {
   "cell_type": "code",
   "execution_count": 28,
   "metadata": {},
   "outputs": [],
   "source": [
    "def RevTraverseTree(tree, node, rules):\n",
    "    '''\n",
    "    Traverase an skl decision tree from a node (presumably a leaf node)\n",
    "    up to the top, building the decision rules. The rules should be\n",
    "    input as an empty list, which will be modified in place. The result\n",
    "    is a nested list of tuples: (feature, direction (left=-1), threshold).  \n",
    "    The \"tree\" is a nested list of simplified tree attributes:\n",
    "    [split feature, split threshold, left node, right node]\n",
    "    '''\n",
    "    # now find the node as either a left or right child of something\n",
    "    # first try to find it as a left node\n",
    "    try:\n",
    "        prevnode = tree[2].index(node)\n",
    "        leftright = -1\n",
    "    except ValueError:\n",
    "        # failed, so find it as a right node - if this also causes an exception, something's really f'd up\n",
    "        prevnode = tree[3].index(node)\n",
    "        leftright = 1\n",
    "    # now let's get the rule that caused prevnode to -> node\n",
    "    rules.append((tree[0][prevnode],leftright,tree[1][prevnode]))\n",
    "    # if we've not yet reached the top, go up the tree one more step\n",
    "    if prevnode != 0:\n",
    "        RevTraverseTree(tree, prevnode, rules)"
   ]
  },
  {
   "cell_type": "code",
   "execution_count": 29,
   "metadata": {},
   "outputs": [],
   "source": [
    "n = len(X_train)\n",
    "\n",
    "# get the nodes which are leaves\n",
    "leaves = clf.tree_.children_left == -1\n",
    "leaves = np.arange(0,clf.tree_.node_count)[leaves]\n",
    "\n",
    "# loop through each leaf and figure out the data in it\n",
    "leaf_observations = np.zeros((n,len(leaves)),dtype=bool)\n",
    "# build a simpler tree as a nested list: [split feature, split threshold, left node, right node]\n",
    "thistree = [clf.tree_.feature.tolist()]\n",
    "thistree.append(clf.tree_.threshold.tolist())\n",
    "thistree.append(clf.tree_.children_left.tolist())\n",
    "thistree.append(clf.tree_.children_right.tolist())\n",
    "# get the decision rules for each leaf node & apply them\n",
    "for (ind,nod) in enumerate(leaves):\n",
    "    # get the decision rules in numeric list form\n",
    "    rules = []\n",
    "    RevTraverseTree(thistree, nod, rules)\n",
    "    # convert & apply to the data by sequentially &ing the rules\n",
    "    thisnode = np.ones(n,dtype=bool)\n",
    "    for rule in rules:\n",
    "        if rule[1] == 1:\n",
    "            thisnode = np.logical_and(thisnode,shap_values[:,rule[0]] > rule[2])\n",
    "        else:\n",
    "            thisnode = np.logical_and(thisnode,shap_values[:,rule[0]] <= rule[2])\n",
    "    # get the observations that obey all the rules - they are the ones in this leaf node\n",
    "    leaf_observations[:,ind] = thisnode"
   ]
  },
  {
   "cell_type": "code",
   "execution_count": 30,
   "metadata": {},
   "outputs": [
    {
     "data": {
      "text/html": [
       "<div>\n",
       "<style scoped>\n",
       "    .dataframe tbody tr th:only-of-type {\n",
       "        vertical-align: middle;\n",
       "    }\n",
       "\n",
       "    .dataframe tbody tr th {\n",
       "        vertical-align: top;\n",
       "    }\n",
       "\n",
       "    .dataframe thead th {\n",
       "        text-align: right;\n",
       "    }\n",
       "</style>\n",
       "<table border=\"1\" class=\"dataframe\">\n",
       "  <thead>\n",
       "    <tr style=\"text-align: right;\">\n",
       "      <th></th>\n",
       "      <th>8</th>\n",
       "      <th>9</th>\n",
       "      <th>10</th>\n",
       "      <th>11</th>\n",
       "      <th>13</th>\n",
       "      <th>14</th>\n",
       "      <th>15</th>\n",
       "      <th>16</th>\n",
       "      <th>17</th>\n",
       "      <th>18</th>\n",
       "    </tr>\n",
       "  </thead>\n",
       "  <tbody>\n",
       "    <tr>\n",
       "      <td>0</td>\n",
       "      <td>False</td>\n",
       "      <td>False</td>\n",
       "      <td>False</td>\n",
       "      <td>False</td>\n",
       "      <td>False</td>\n",
       "      <td>False</td>\n",
       "      <td>False</td>\n",
       "      <td>False</td>\n",
       "      <td>False</td>\n",
       "      <td>True</td>\n",
       "    </tr>\n",
       "    <tr>\n",
       "      <td>1</td>\n",
       "      <td>False</td>\n",
       "      <td>False</td>\n",
       "      <td>False</td>\n",
       "      <td>False</td>\n",
       "      <td>False</td>\n",
       "      <td>False</td>\n",
       "      <td>False</td>\n",
       "      <td>True</td>\n",
       "      <td>False</td>\n",
       "      <td>False</td>\n",
       "    </tr>\n",
       "    <tr>\n",
       "      <td>2</td>\n",
       "      <td>False</td>\n",
       "      <td>False</td>\n",
       "      <td>True</td>\n",
       "      <td>False</td>\n",
       "      <td>False</td>\n",
       "      <td>False</td>\n",
       "      <td>False</td>\n",
       "      <td>False</td>\n",
       "      <td>False</td>\n",
       "      <td>False</td>\n",
       "    </tr>\n",
       "    <tr>\n",
       "      <td>3</td>\n",
       "      <td>False</td>\n",
       "      <td>False</td>\n",
       "      <td>False</td>\n",
       "      <td>False</td>\n",
       "      <td>False</td>\n",
       "      <td>True</td>\n",
       "      <td>False</td>\n",
       "      <td>False</td>\n",
       "      <td>False</td>\n",
       "      <td>False</td>\n",
       "    </tr>\n",
       "    <tr>\n",
       "      <td>4</td>\n",
       "      <td>False</td>\n",
       "      <td>False</td>\n",
       "      <td>True</td>\n",
       "      <td>False</td>\n",
       "      <td>False</td>\n",
       "      <td>False</td>\n",
       "      <td>False</td>\n",
       "      <td>False</td>\n",
       "      <td>False</td>\n",
       "      <td>False</td>\n",
       "    </tr>\n",
       "    <tr>\n",
       "      <td>...</td>\n",
       "      <td>...</td>\n",
       "      <td>...</td>\n",
       "      <td>...</td>\n",
       "      <td>...</td>\n",
       "      <td>...</td>\n",
       "      <td>...</td>\n",
       "      <td>...</td>\n",
       "      <td>...</td>\n",
       "      <td>...</td>\n",
       "      <td>...</td>\n",
       "    </tr>\n",
       "    <tr>\n",
       "      <td>16015</td>\n",
       "      <td>False</td>\n",
       "      <td>False</td>\n",
       "      <td>True</td>\n",
       "      <td>False</td>\n",
       "      <td>False</td>\n",
       "      <td>False</td>\n",
       "      <td>False</td>\n",
       "      <td>False</td>\n",
       "      <td>False</td>\n",
       "      <td>False</td>\n",
       "    </tr>\n",
       "    <tr>\n",
       "      <td>16016</td>\n",
       "      <td>False</td>\n",
       "      <td>False</td>\n",
       "      <td>False</td>\n",
       "      <td>False</td>\n",
       "      <td>False</td>\n",
       "      <td>False</td>\n",
       "      <td>False</td>\n",
       "      <td>True</td>\n",
       "      <td>False</td>\n",
       "      <td>False</td>\n",
       "    </tr>\n",
       "    <tr>\n",
       "      <td>16017</td>\n",
       "      <td>False</td>\n",
       "      <td>False</td>\n",
       "      <td>False</td>\n",
       "      <td>False</td>\n",
       "      <td>False</td>\n",
       "      <td>True</td>\n",
       "      <td>False</td>\n",
       "      <td>False</td>\n",
       "      <td>False</td>\n",
       "      <td>False</td>\n",
       "    </tr>\n",
       "    <tr>\n",
       "      <td>16018</td>\n",
       "      <td>False</td>\n",
       "      <td>False</td>\n",
       "      <td>True</td>\n",
       "      <td>False</td>\n",
       "      <td>False</td>\n",
       "      <td>False</td>\n",
       "      <td>False</td>\n",
       "      <td>False</td>\n",
       "      <td>False</td>\n",
       "      <td>False</td>\n",
       "    </tr>\n",
       "    <tr>\n",
       "      <td>16019</td>\n",
       "      <td>False</td>\n",
       "      <td>False</td>\n",
       "      <td>False</td>\n",
       "      <td>False</td>\n",
       "      <td>False</td>\n",
       "      <td>False</td>\n",
       "      <td>False</td>\n",
       "      <td>False</td>\n",
       "      <td>False</td>\n",
       "      <td>True</td>\n",
       "    </tr>\n",
       "  </tbody>\n",
       "</table>\n",
       "<p>16020 rows × 10 columns</p>\n",
       "</div>"
      ],
      "text/plain": [
       "          8      9      10     11     13     14     15     16     17     18\n",
       "0      False  False  False  False  False  False  False  False  False   True\n",
       "1      False  False  False  False  False  False  False   True  False  False\n",
       "2      False  False   True  False  False  False  False  False  False  False\n",
       "3      False  False  False  False  False   True  False  False  False  False\n",
       "4      False  False   True  False  False  False  False  False  False  False\n",
       "...      ...    ...    ...    ...    ...    ...    ...    ...    ...    ...\n",
       "16015  False  False   True  False  False  False  False  False  False  False\n",
       "16016  False  False  False  False  False  False  False   True  False  False\n",
       "16017  False  False  False  False  False   True  False  False  False  False\n",
       "16018  False  False   True  False  False  False  False  False  False  False\n",
       "16019  False  False  False  False  False  False  False  False  False   True\n",
       "\n",
       "[16020 rows x 10 columns]"
      ]
     },
     "execution_count": 30,
     "metadata": {},
     "output_type": "execute_result"
    }
   ],
   "source": [
    "leaf_df = pd.DataFrame(leaf_observations, columns = leaves)\n",
    "leaf_df"
   ]
  },
  {
   "cell_type": "code",
   "execution_count": 31,
   "metadata": {},
   "outputs": [
    {
     "data": {
      "text/html": [
       "<div>\n",
       "<style scoped>\n",
       "    .dataframe tbody tr th:only-of-type {\n",
       "        vertical-align: middle;\n",
       "    }\n",
       "\n",
       "    .dataframe tbody tr th {\n",
       "        vertical-align: top;\n",
       "    }\n",
       "\n",
       "    .dataframe thead th {\n",
       "        text-align: right;\n",
       "    }\n",
       "</style>\n",
       "<table border=\"1\" class=\"dataframe\">\n",
       "  <thead>\n",
       "    <tr style=\"text-align: right;\">\n",
       "      <th></th>\n",
       "      <th>8</th>\n",
       "      <th>9</th>\n",
       "      <th>10</th>\n",
       "      <th>11</th>\n",
       "      <th>13</th>\n",
       "      <th>14</th>\n",
       "      <th>15</th>\n",
       "      <th>16</th>\n",
       "      <th>17</th>\n",
       "      <th>18</th>\n",
       "      <th>leaf node ID</th>\n",
       "    </tr>\n",
       "  </thead>\n",
       "  <tbody>\n",
       "    <tr>\n",
       "      <td>0</td>\n",
       "      <td>False</td>\n",
       "      <td>False</td>\n",
       "      <td>False</td>\n",
       "      <td>False</td>\n",
       "      <td>False</td>\n",
       "      <td>False</td>\n",
       "      <td>False</td>\n",
       "      <td>False</td>\n",
       "      <td>False</td>\n",
       "      <td>True</td>\n",
       "      <td>18</td>\n",
       "    </tr>\n",
       "    <tr>\n",
       "      <td>1</td>\n",
       "      <td>False</td>\n",
       "      <td>False</td>\n",
       "      <td>False</td>\n",
       "      <td>False</td>\n",
       "      <td>False</td>\n",
       "      <td>False</td>\n",
       "      <td>False</td>\n",
       "      <td>True</td>\n",
       "      <td>False</td>\n",
       "      <td>False</td>\n",
       "      <td>16</td>\n",
       "    </tr>\n",
       "    <tr>\n",
       "      <td>2</td>\n",
       "      <td>False</td>\n",
       "      <td>False</td>\n",
       "      <td>True</td>\n",
       "      <td>False</td>\n",
       "      <td>False</td>\n",
       "      <td>False</td>\n",
       "      <td>False</td>\n",
       "      <td>False</td>\n",
       "      <td>False</td>\n",
       "      <td>False</td>\n",
       "      <td>10</td>\n",
       "    </tr>\n",
       "    <tr>\n",
       "      <td>3</td>\n",
       "      <td>False</td>\n",
       "      <td>False</td>\n",
       "      <td>False</td>\n",
       "      <td>False</td>\n",
       "      <td>False</td>\n",
       "      <td>True</td>\n",
       "      <td>False</td>\n",
       "      <td>False</td>\n",
       "      <td>False</td>\n",
       "      <td>False</td>\n",
       "      <td>14</td>\n",
       "    </tr>\n",
       "    <tr>\n",
       "      <td>4</td>\n",
       "      <td>False</td>\n",
       "      <td>False</td>\n",
       "      <td>True</td>\n",
       "      <td>False</td>\n",
       "      <td>False</td>\n",
       "      <td>False</td>\n",
       "      <td>False</td>\n",
       "      <td>False</td>\n",
       "      <td>False</td>\n",
       "      <td>False</td>\n",
       "      <td>10</td>\n",
       "    </tr>\n",
       "    <tr>\n",
       "      <td>...</td>\n",
       "      <td>...</td>\n",
       "      <td>...</td>\n",
       "      <td>...</td>\n",
       "      <td>...</td>\n",
       "      <td>...</td>\n",
       "      <td>...</td>\n",
       "      <td>...</td>\n",
       "      <td>...</td>\n",
       "      <td>...</td>\n",
       "      <td>...</td>\n",
       "      <td>...</td>\n",
       "    </tr>\n",
       "    <tr>\n",
       "      <td>16015</td>\n",
       "      <td>False</td>\n",
       "      <td>False</td>\n",
       "      <td>True</td>\n",
       "      <td>False</td>\n",
       "      <td>False</td>\n",
       "      <td>False</td>\n",
       "      <td>False</td>\n",
       "      <td>False</td>\n",
       "      <td>False</td>\n",
       "      <td>False</td>\n",
       "      <td>10</td>\n",
       "    </tr>\n",
       "    <tr>\n",
       "      <td>16016</td>\n",
       "      <td>False</td>\n",
       "      <td>False</td>\n",
       "      <td>False</td>\n",
       "      <td>False</td>\n",
       "      <td>False</td>\n",
       "      <td>False</td>\n",
       "      <td>False</td>\n",
       "      <td>True</td>\n",
       "      <td>False</td>\n",
       "      <td>False</td>\n",
       "      <td>16</td>\n",
       "    </tr>\n",
       "    <tr>\n",
       "      <td>16017</td>\n",
       "      <td>False</td>\n",
       "      <td>False</td>\n",
       "      <td>False</td>\n",
       "      <td>False</td>\n",
       "      <td>False</td>\n",
       "      <td>True</td>\n",
       "      <td>False</td>\n",
       "      <td>False</td>\n",
       "      <td>False</td>\n",
       "      <td>False</td>\n",
       "      <td>14</td>\n",
       "    </tr>\n",
       "    <tr>\n",
       "      <td>16018</td>\n",
       "      <td>False</td>\n",
       "      <td>False</td>\n",
       "      <td>True</td>\n",
       "      <td>False</td>\n",
       "      <td>False</td>\n",
       "      <td>False</td>\n",
       "      <td>False</td>\n",
       "      <td>False</td>\n",
       "      <td>False</td>\n",
       "      <td>False</td>\n",
       "      <td>10</td>\n",
       "    </tr>\n",
       "    <tr>\n",
       "      <td>16019</td>\n",
       "      <td>False</td>\n",
       "      <td>False</td>\n",
       "      <td>False</td>\n",
       "      <td>False</td>\n",
       "      <td>False</td>\n",
       "      <td>False</td>\n",
       "      <td>False</td>\n",
       "      <td>False</td>\n",
       "      <td>False</td>\n",
       "      <td>True</td>\n",
       "      <td>18</td>\n",
       "    </tr>\n",
       "  </tbody>\n",
       "</table>\n",
       "<p>16020 rows × 11 columns</p>\n",
       "</div>"
      ],
      "text/plain": [
       "           8      9     10     11     13     14     15     16     17     18  \\\n",
       "0      False  False  False  False  False  False  False  False  False   True   \n",
       "1      False  False  False  False  False  False  False   True  False  False   \n",
       "2      False  False   True  False  False  False  False  False  False  False   \n",
       "3      False  False  False  False  False   True  False  False  False  False   \n",
       "4      False  False   True  False  False  False  False  False  False  False   \n",
       "...      ...    ...    ...    ...    ...    ...    ...    ...    ...    ...   \n",
       "16015  False  False   True  False  False  False  False  False  False  False   \n",
       "16016  False  False  False  False  False  False  False   True  False  False   \n",
       "16017  False  False  False  False  False   True  False  False  False  False   \n",
       "16018  False  False   True  False  False  False  False  False  False  False   \n",
       "16019  False  False  False  False  False  False  False  False  False   True   \n",
       "\n",
       "       leaf node ID  \n",
       "0                18  \n",
       "1                16  \n",
       "2                10  \n",
       "3                14  \n",
       "4                10  \n",
       "...             ...  \n",
       "16015            10  \n",
       "16016            16  \n",
       "16017            14  \n",
       "16018            10  \n",
       "16019            18  \n",
       "\n",
       "[16020 rows x 11 columns]"
      ]
     },
     "execution_count": 31,
     "metadata": {},
     "output_type": "execute_result"
    }
   ],
   "source": [
    "# set up a new column\n",
    "leaf_df['leaf node ID'] = leaf_df[18]\n",
    "\n",
    "# for loop\n",
    "for row in range(16020):\n",
    "    for column in list(leaves):\n",
    "        if leaf_df.loc[row, column] == True:\n",
    "            leaf_df.loc[row, 'leaf node ID'] = column\n",
    "\n",
    "leaf_df"
   ]
  },
  {
   "cell_type": "code",
   "execution_count": 42,
   "metadata": {},
   "outputs": [
    {
     "data": {
      "text/html": [
       "<div>\n",
       "<style scoped>\n",
       "    .dataframe tbody tr th:only-of-type {\n",
       "        vertical-align: middle;\n",
       "    }\n",
       "\n",
       "    .dataframe tbody tr th {\n",
       "        vertical-align: top;\n",
       "    }\n",
       "\n",
       "    .dataframe thead th {\n",
       "        text-align: right;\n",
       "    }\n",
       "</style>\n",
       "<table border=\"1\" class=\"dataframe\">\n",
       "  <thead>\n",
       "    <tr style=\"text-align: right;\">\n",
       "      <th></th>\n",
       "      <th>0</th>\n",
       "      <th>1</th>\n",
       "      <th>2</th>\n",
       "      <th>3</th>\n",
       "      <th>4</th>\n",
       "      <th>5</th>\n",
       "      <th>6</th>\n",
       "      <th>7</th>\n",
       "      <th>8</th>\n",
       "      <th>9</th>\n",
       "      <th>...</th>\n",
       "      <th>22</th>\n",
       "      <th>23</th>\n",
       "      <th>24</th>\n",
       "      <th>25</th>\n",
       "      <th>26</th>\n",
       "      <th>27</th>\n",
       "      <th>28</th>\n",
       "      <th>29</th>\n",
       "      <th>30</th>\n",
       "      <th>leaf node ID</th>\n",
       "    </tr>\n",
       "  </thead>\n",
       "  <tbody>\n",
       "    <tr>\n",
       "      <td>0</td>\n",
       "      <td>0.109743</td>\n",
       "      <td>0.0</td>\n",
       "      <td>0.119277</td>\n",
       "      <td>0.0</td>\n",
       "      <td>0.015268</td>\n",
       "      <td>-0.227118</td>\n",
       "      <td>0.314286</td>\n",
       "      <td>0.000645</td>\n",
       "      <td>-0.108452</td>\n",
       "      <td>-0.204735</td>\n",
       "      <td>...</td>\n",
       "      <td>-0.200802</td>\n",
       "      <td>-0.403449</td>\n",
       "      <td>0.001331</td>\n",
       "      <td>-0.019044</td>\n",
       "      <td>-0.000164</td>\n",
       "      <td>0.594357</td>\n",
       "      <td>-0.340373</td>\n",
       "      <td>-0.099331</td>\n",
       "      <td>0.031831</td>\n",
       "      <td>18</td>\n",
       "    </tr>\n",
       "    <tr>\n",
       "      <td>1</td>\n",
       "      <td>-0.032982</td>\n",
       "      <td>0.0</td>\n",
       "      <td>0.119277</td>\n",
       "      <td>0.0</td>\n",
       "      <td>0.012930</td>\n",
       "      <td>-0.230697</td>\n",
       "      <td>-0.166676</td>\n",
       "      <td>-0.000145</td>\n",
       "      <td>-0.103599</td>\n",
       "      <td>-0.166903</td>\n",
       "      <td>...</td>\n",
       "      <td>0.135903</td>\n",
       "      <td>0.658548</td>\n",
       "      <td>0.000767</td>\n",
       "      <td>0.021004</td>\n",
       "      <td>-0.000081</td>\n",
       "      <td>-0.111786</td>\n",
       "      <td>-0.221052</td>\n",
       "      <td>0.147991</td>\n",
       "      <td>-0.031486</td>\n",
       "      <td>16</td>\n",
       "    </tr>\n",
       "    <tr>\n",
       "      <td>2</td>\n",
       "      <td>-0.034849</td>\n",
       "      <td>0.0</td>\n",
       "      <td>0.119277</td>\n",
       "      <td>0.0</td>\n",
       "      <td>0.012930</td>\n",
       "      <td>-0.156274</td>\n",
       "      <td>-0.166676</td>\n",
       "      <td>0.000645</td>\n",
       "      <td>-0.103371</td>\n",
       "      <td>-0.168461</td>\n",
       "      <td>...</td>\n",
       "      <td>-0.167085</td>\n",
       "      <td>-0.383638</td>\n",
       "      <td>0.000767</td>\n",
       "      <td>0.021004</td>\n",
       "      <td>-0.000081</td>\n",
       "      <td>-0.118997</td>\n",
       "      <td>-0.318990</td>\n",
       "      <td>-0.099331</td>\n",
       "      <td>0.031857</td>\n",
       "      <td>10</td>\n",
       "    </tr>\n",
       "    <tr>\n",
       "      <td>3</td>\n",
       "      <td>-0.034849</td>\n",
       "      <td>0.0</td>\n",
       "      <td>0.119277</td>\n",
       "      <td>0.0</td>\n",
       "      <td>0.012930</td>\n",
       "      <td>-0.231005</td>\n",
       "      <td>-0.089587</td>\n",
       "      <td>-0.000145</td>\n",
       "      <td>-0.100189</td>\n",
       "      <td>-0.167928</td>\n",
       "      <td>...</td>\n",
       "      <td>-0.148575</td>\n",
       "      <td>-0.383640</td>\n",
       "      <td>-0.000773</td>\n",
       "      <td>0.021004</td>\n",
       "      <td>0.000194</td>\n",
       "      <td>-0.419267</td>\n",
       "      <td>-0.307577</td>\n",
       "      <td>-0.099331</td>\n",
       "      <td>0.032040</td>\n",
       "      <td>14</td>\n",
       "    </tr>\n",
       "    <tr>\n",
       "      <td>4</td>\n",
       "      <td>-0.034849</td>\n",
       "      <td>0.0</td>\n",
       "      <td>0.119277</td>\n",
       "      <td>0.0</td>\n",
       "      <td>0.012930</td>\n",
       "      <td>0.025445</td>\n",
       "      <td>-0.087333</td>\n",
       "      <td>0.000645</td>\n",
       "      <td>-0.108452</td>\n",
       "      <td>-0.168596</td>\n",
       "      <td>...</td>\n",
       "      <td>-0.159694</td>\n",
       "      <td>-0.383639</td>\n",
       "      <td>-0.000773</td>\n",
       "      <td>-0.019044</td>\n",
       "      <td>-0.000164</td>\n",
       "      <td>-0.372861</td>\n",
       "      <td>-0.307577</td>\n",
       "      <td>-0.099331</td>\n",
       "      <td>-0.029416</td>\n",
       "      <td>10</td>\n",
       "    </tr>\n",
       "    <tr>\n",
       "      <td>...</td>\n",
       "      <td>...</td>\n",
       "      <td>...</td>\n",
       "      <td>...</td>\n",
       "      <td>...</td>\n",
       "      <td>...</td>\n",
       "      <td>...</td>\n",
       "      <td>...</td>\n",
       "      <td>...</td>\n",
       "      <td>...</td>\n",
       "      <td>...</td>\n",
       "      <td>...</td>\n",
       "      <td>...</td>\n",
       "      <td>...</td>\n",
       "      <td>...</td>\n",
       "      <td>...</td>\n",
       "      <td>...</td>\n",
       "      <td>...</td>\n",
       "      <td>...</td>\n",
       "      <td>...</td>\n",
       "      <td>...</td>\n",
       "      <td>...</td>\n",
       "    </tr>\n",
       "    <tr>\n",
       "      <td>16015</td>\n",
       "      <td>-0.034849</td>\n",
       "      <td>0.0</td>\n",
       "      <td>0.119277</td>\n",
       "      <td>0.0</td>\n",
       "      <td>0.012930</td>\n",
       "      <td>0.025445</td>\n",
       "      <td>-0.166676</td>\n",
       "      <td>0.000645</td>\n",
       "      <td>-0.103957</td>\n",
       "      <td>-0.167928</td>\n",
       "      <td>...</td>\n",
       "      <td>-0.148622</td>\n",
       "      <td>-0.383639</td>\n",
       "      <td>0.000767</td>\n",
       "      <td>-0.019044</td>\n",
       "      <td>-0.000081</td>\n",
       "      <td>-0.419267</td>\n",
       "      <td>-0.307577</td>\n",
       "      <td>-0.099331</td>\n",
       "      <td>-0.029207</td>\n",
       "      <td>10</td>\n",
       "    </tr>\n",
       "    <tr>\n",
       "      <td>16016</td>\n",
       "      <td>-0.032982</td>\n",
       "      <td>0.0</td>\n",
       "      <td>0.119277</td>\n",
       "      <td>0.0</td>\n",
       "      <td>0.012930</td>\n",
       "      <td>-0.156772</td>\n",
       "      <td>-0.166676</td>\n",
       "      <td>0.000645</td>\n",
       "      <td>0.090052</td>\n",
       "      <td>-0.166903</td>\n",
       "      <td>...</td>\n",
       "      <td>0.122594</td>\n",
       "      <td>0.658550</td>\n",
       "      <td>0.000767</td>\n",
       "      <td>-0.019044</td>\n",
       "      <td>-0.000081</td>\n",
       "      <td>-0.434076</td>\n",
       "      <td>-0.262087</td>\n",
       "      <td>-0.099331</td>\n",
       "      <td>-0.031486</td>\n",
       "      <td>16</td>\n",
       "    </tr>\n",
       "    <tr>\n",
       "      <td>16017</td>\n",
       "      <td>-0.034403</td>\n",
       "      <td>0.0</td>\n",
       "      <td>0.119277</td>\n",
       "      <td>0.0</td>\n",
       "      <td>0.012930</td>\n",
       "      <td>0.069784</td>\n",
       "      <td>-0.166676</td>\n",
       "      <td>-0.000145</td>\n",
       "      <td>-0.099623</td>\n",
       "      <td>-0.167928</td>\n",
       "      <td>...</td>\n",
       "      <td>-0.158126</td>\n",
       "      <td>-0.330721</td>\n",
       "      <td>0.000767</td>\n",
       "      <td>-0.019044</td>\n",
       "      <td>-0.000081</td>\n",
       "      <td>-0.113646</td>\n",
       "      <td>-0.307467</td>\n",
       "      <td>-0.099331</td>\n",
       "      <td>0.032040</td>\n",
       "      <td>14</td>\n",
       "    </tr>\n",
       "    <tr>\n",
       "      <td>16018</td>\n",
       "      <td>-0.034814</td>\n",
       "      <td>0.0</td>\n",
       "      <td>0.119277</td>\n",
       "      <td>0.0</td>\n",
       "      <td>0.012930</td>\n",
       "      <td>0.025445</td>\n",
       "      <td>-0.166676</td>\n",
       "      <td>0.000645</td>\n",
       "      <td>-0.100279</td>\n",
       "      <td>-0.167928</td>\n",
       "      <td>...</td>\n",
       "      <td>0.123415</td>\n",
       "      <td>-0.330721</td>\n",
       "      <td>0.000767</td>\n",
       "      <td>-0.019044</td>\n",
       "      <td>-0.000081</td>\n",
       "      <td>-0.434076</td>\n",
       "      <td>-0.318990</td>\n",
       "      <td>-0.099331</td>\n",
       "      <td>-0.031486</td>\n",
       "      <td>10</td>\n",
       "    </tr>\n",
       "    <tr>\n",
       "      <td>16019</td>\n",
       "      <td>0.109743</td>\n",
       "      <td>0.0</td>\n",
       "      <td>0.119277</td>\n",
       "      <td>0.0</td>\n",
       "      <td>0.012930</td>\n",
       "      <td>-0.230697</td>\n",
       "      <td>0.231934</td>\n",
       "      <td>-0.000685</td>\n",
       "      <td>-0.108452</td>\n",
       "      <td>-0.172296</td>\n",
       "      <td>...</td>\n",
       "      <td>-0.158900</td>\n",
       "      <td>-0.330721</td>\n",
       "      <td>0.000767</td>\n",
       "      <td>-0.019044</td>\n",
       "      <td>-0.000164</td>\n",
       "      <td>0.419268</td>\n",
       "      <td>-0.318942</td>\n",
       "      <td>-0.062329</td>\n",
       "      <td>0.031831</td>\n",
       "      <td>18</td>\n",
       "    </tr>\n",
       "  </tbody>\n",
       "</table>\n",
       "<p>16020 rows × 32 columns</p>\n",
       "</div>"
      ],
      "text/plain": [
       "              0    1         2    3         4         5         6         7  \\\n",
       "0      0.109743  0.0  0.119277  0.0  0.015268 -0.227118  0.314286  0.000645   \n",
       "1     -0.032982  0.0  0.119277  0.0  0.012930 -0.230697 -0.166676 -0.000145   \n",
       "2     -0.034849  0.0  0.119277  0.0  0.012930 -0.156274 -0.166676  0.000645   \n",
       "3     -0.034849  0.0  0.119277  0.0  0.012930 -0.231005 -0.089587 -0.000145   \n",
       "4     -0.034849  0.0  0.119277  0.0  0.012930  0.025445 -0.087333  0.000645   \n",
       "...         ...  ...       ...  ...       ...       ...       ...       ...   \n",
       "16015 -0.034849  0.0  0.119277  0.0  0.012930  0.025445 -0.166676  0.000645   \n",
       "16016 -0.032982  0.0  0.119277  0.0  0.012930 -0.156772 -0.166676  0.000645   \n",
       "16017 -0.034403  0.0  0.119277  0.0  0.012930  0.069784 -0.166676 -0.000145   \n",
       "16018 -0.034814  0.0  0.119277  0.0  0.012930  0.025445 -0.166676  0.000645   \n",
       "16019  0.109743  0.0  0.119277  0.0  0.012930 -0.230697  0.231934 -0.000685   \n",
       "\n",
       "              8         9  ...        22        23        24        25  \\\n",
       "0     -0.108452 -0.204735  ... -0.200802 -0.403449  0.001331 -0.019044   \n",
       "1     -0.103599 -0.166903  ...  0.135903  0.658548  0.000767  0.021004   \n",
       "2     -0.103371 -0.168461  ... -0.167085 -0.383638  0.000767  0.021004   \n",
       "3     -0.100189 -0.167928  ... -0.148575 -0.383640 -0.000773  0.021004   \n",
       "4     -0.108452 -0.168596  ... -0.159694 -0.383639 -0.000773 -0.019044   \n",
       "...         ...       ...  ...       ...       ...       ...       ...   \n",
       "16015 -0.103957 -0.167928  ... -0.148622 -0.383639  0.000767 -0.019044   \n",
       "16016  0.090052 -0.166903  ...  0.122594  0.658550  0.000767 -0.019044   \n",
       "16017 -0.099623 -0.167928  ... -0.158126 -0.330721  0.000767 -0.019044   \n",
       "16018 -0.100279 -0.167928  ...  0.123415 -0.330721  0.000767 -0.019044   \n",
       "16019 -0.108452 -0.172296  ... -0.158900 -0.330721  0.000767 -0.019044   \n",
       "\n",
       "             26        27        28        29        30  leaf node ID  \n",
       "0     -0.000164  0.594357 -0.340373 -0.099331  0.031831            18  \n",
       "1     -0.000081 -0.111786 -0.221052  0.147991 -0.031486            16  \n",
       "2     -0.000081 -0.118997 -0.318990 -0.099331  0.031857            10  \n",
       "3      0.000194 -0.419267 -0.307577 -0.099331  0.032040            14  \n",
       "4     -0.000164 -0.372861 -0.307577 -0.099331 -0.029416            10  \n",
       "...         ...       ...       ...       ...       ...           ...  \n",
       "16015 -0.000081 -0.419267 -0.307577 -0.099331 -0.029207            10  \n",
       "16016 -0.000081 -0.434076 -0.262087 -0.099331 -0.031486            16  \n",
       "16017 -0.000081 -0.113646 -0.307467 -0.099331  0.032040            14  \n",
       "16018 -0.000081 -0.434076 -0.318990 -0.099331 -0.031486            10  \n",
       "16019 -0.000164  0.419268 -0.318942 -0.062329  0.031831            18  \n",
       "\n",
       "[16020 rows x 32 columns]"
      ]
     },
     "execution_count": 42,
     "metadata": {},
     "output_type": "execute_result"
    }
   ],
   "source": [
    "shap_vals_leaf = pd.concat([shap_vals_df,leaf_df[['leaf node ID']]],axis=1)\n",
    "\n",
    "shap_vals_leaf"
   ]
  },
  {
   "cell_type": "code",
   "execution_count": 52,
   "metadata": {},
   "outputs": [
    {
     "name": "stdout",
     "output_type": "stream",
     "text": [
      "Leaf node ID: 8\n",
      "Variance: 0.08566549761390391\n",
      "Leaf node ID: 9\n",
      "Variance: 0.20057300456969057\n",
      "Leaf node ID: 10\n",
      "Variance: 0.05039242885601282\n",
      "Leaf node ID: 11\n",
      "Variance: 0.14829848503259646\n",
      "Leaf node ID: 13\n",
      "Variance: 0.1813123587502011\n",
      "Leaf node ID: 14\n",
      "Variance: 0.0483348503687512\n",
      "Leaf node ID: 15\n",
      "Variance: 0.18841707229829827\n",
      "Leaf node ID: 16\n",
      "Variance: 0.0675430572558208\n",
      "Leaf node ID: 17\n",
      "Variance: 0.13470750474104254\n",
      "Leaf node ID: 18\n",
      "Variance: 0.06122782927902522\n"
     ]
    }
   ],
   "source": [
    "grps = shap_vals_leaf.groupby('leaf node ID')\n",
    "\n",
    "for key, group in grps:\n",
    "    print('Leaf node ID:', key)\n",
    "    print('Variance:', (group.T[:-1].stack().std())**2)"
   ]
  },
  {
   "cell_type": "code",
   "execution_count": null,
   "metadata": {},
   "outputs": [],
   "source": []
  }
 ],
 "metadata": {
  "kernelspec": {
   "display_name": "Python 3",
   "language": "python",
   "name": "python3"
  },
  "language_info": {
   "codemirror_mode": {
    "name": "ipython",
    "version": 3
   },
   "file_extension": ".py",
   "mimetype": "text/x-python",
   "name": "python",
   "nbconvert_exporter": "python",
   "pygments_lexer": "ipython3",
   "version": "3.7.9"
  }
 },
 "nbformat": 4,
 "nbformat_minor": 4
}
