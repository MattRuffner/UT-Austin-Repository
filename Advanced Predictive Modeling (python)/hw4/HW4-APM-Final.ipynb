{
 "cells": [
  {
   "cell_type": "markdown",
   "metadata": {},
   "source": [
    "\n",
    "# <p style=\"text-align: center;\">MIS 382N: ADVANCED PREDICTIVE MODELING - MSBA</p>\n",
    "# <p style=\"text-align: center;\">Assignment 4</p>\n",
    "## <p style=\"text-align: center;\">Total points: 80 </p>\n",
    "## <p style=\"text-align: center;\">Due: November 9, submitted via Canvas by 11:59 pm</p>\n",
    "\n",
    "Your homework should be written in a **Jupyter notebook**. You may work in groups of two if you wish. Your partner needs to be from the same section. Only one student per team needs to submit the assignment on Canvas.  But be sure to include name and UTEID for both students.  Homework groups will be created and managed through Canvas, so please do not arbitrarily change your homework group. If you do change, let the TA know. \n",
    "\n",
    "Also, please make sure your code runs and the graphics (and anything else) are displayed in your notebook before submitting. (%matplotlib inline)\n",
    "\n",
    "### Name(s)\n",
    "1. Kaiwen Zhang -- kz4493\n",
    "2. Matthew Ruffner -- mar9632"
   ]
  },
  {
   "cell_type": "markdown",
   "metadata": {
    "id": "iPnCWgHS9gZa"
   },
   "source": [
    "# Question 1 (20 pts) - Principal Component Analysis\n",
    "\n",
    "Download dataset from [this link](https://drive.google.com/file/d/1U6FDSQQSUzvw3Ygtgp8I5ea0-dL-orSE/view?usp=sharing).\n"
   ]
  },
  {
   "cell_type": "markdown",
   "metadata": {
    "id": "cVj2mFUkLb10"
   },
   "source": [
    "In this problem we will be applying PCA on the Lending Club loan dataset. A simplified version of the dataset with reduced number of samples. Please use the dataset in the above link. We will use reduced number of features and only two classes as shown below."
   ]
  },
  {
   "cell_type": "code",
   "execution_count": 1,
   "metadata": {
    "colab": {
     "base_uri": "https://localhost:8080/",
     "height": 71
    },
    "id": "1p3-E8GF9e9U",
    "outputId": "6f3b1cdb-d9d0-4c15-8f0d-d58b298f33e1"
   },
   "outputs": [
    {
     "name": "stderr",
     "output_type": "stream",
     "text": [
      "/Library/Frameworks/Python.framework/Versions/3.7/lib/python3.7/site-packages/IPython/core/interactiveshell.py:3020: DtypeWarning: Columns (123,124,125,128,129,130,133,139,140,141) have mixed types.Specify dtype option on import or set low_memory=False.\n",
      "  interactivity=interactivity, compiler=compiler, result=result)\n"
     ]
    },
    {
     "data": {
      "text/plain": [
       "(226067, 161)"
      ]
     },
     "execution_count": 1,
     "metadata": {},
     "output_type": "execute_result"
    }
   ],
   "source": [
    "import os, sys, re\n",
    "import time\n",
    "import numpy as np\n",
    "import pandas as pd\n",
    "import matplotlib.pyplot as plt\n",
    "from sklearn.model_selection import train_test_split\n",
    "\n",
    "# Load the csv file and fill Nan/empty values as 0\n",
    "dataset = pd.read_csv('loan.csv')\n",
    "df = dataset.fillna(0)\n",
    "\n",
    "# We will be using only two classes and group them as below\n",
    "def LoanResult(status):\n",
    "    if (status == 'Fully Paid') or (status == 'Current'):\n",
    "        return 1\n",
    "    else:\n",
    "        return 0\n",
    "\n",
    "df['loan_status'] = df['loan_status'].apply(LoanResult)\n",
    "\n",
    "# Set of features which indicate the dimensionality of the data\n",
    "df = df[['loan_amnt', 'funded_amnt', 'funded_amnt_inv', 'term', 'int_rate', 'installment', 'grade', 'sub_grade',\n",
    "             'emp_length', 'home_ownership','annual_inc', 'verification_status', 'loan_status',\n",
    "             'purpose','addr_state', 'dti','open_acc', 'pub_rec', 'revol_bal', 'revol_util', \n",
    "             'initial_list_status', 'recoveries','collection_recovery_fee', 'last_pymnt_d', 'last_pymnt_amnt',\n",
    "             'application_type', 'tot_coll_amt', 'tot_cur_bal', 'avg_cur_bal', 'chargeoff_within_12_mths',\n",
    "             'pub_rec_bankruptcies', 'tax_liens', 'debt_settlement_flag']]\n",
    "\n",
    "#For simplicity, in this question, we select all columns that do not contain integer of float type of data. Then, one hot encoding is performed.\n",
    "df_cat = df.select_dtypes(exclude=['int64', 'float64'])\n",
    "df = pd.get_dummies(df, df_cat.columns.values)\n",
    "\n",
    "df.shape\n",
    "\n",
    "# We select the `loan_status` column as the target column.  "
   ]
  },
  {
   "cell_type": "code",
   "execution_count": 2,
   "metadata": {},
   "outputs": [
    {
     "data": {
      "text/html": [
       "<div>\n",
       "<style scoped>\n",
       "    .dataframe tbody tr th:only-of-type {\n",
       "        vertical-align: middle;\n",
       "    }\n",
       "\n",
       "    .dataframe tbody tr th {\n",
       "        vertical-align: top;\n",
       "    }\n",
       "\n",
       "    .dataframe thead th {\n",
       "        text-align: right;\n",
       "    }\n",
       "</style>\n",
       "<table border=\"1\" class=\"dataframe\">\n",
       "  <thead>\n",
       "    <tr style=\"text-align: right;\">\n",
       "      <th></th>\n",
       "      <th>loan_amnt</th>\n",
       "      <th>funded_amnt</th>\n",
       "      <th>funded_amnt_inv</th>\n",
       "      <th>int_rate</th>\n",
       "      <th>installment</th>\n",
       "      <th>annual_inc</th>\n",
       "      <th>loan_status</th>\n",
       "      <th>dti</th>\n",
       "      <th>open_acc</th>\n",
       "      <th>pub_rec</th>\n",
       "      <th>...</th>\n",
       "      <th>last_pymnt_d_Feb-2019</th>\n",
       "      <th>last_pymnt_d_Jan-2019</th>\n",
       "      <th>last_pymnt_d_Jul-2018</th>\n",
       "      <th>last_pymnt_d_Nov-2018</th>\n",
       "      <th>last_pymnt_d_Oct-2018</th>\n",
       "      <th>last_pymnt_d_Sep-2018</th>\n",
       "      <th>application_type_Individual</th>\n",
       "      <th>application_type_Joint App</th>\n",
       "      <th>debt_settlement_flag_N</th>\n",
       "      <th>debt_settlement_flag_Y</th>\n",
       "    </tr>\n",
       "  </thead>\n",
       "  <tbody>\n",
       "    <tr>\n",
       "      <th>0</th>\n",
       "      <td>2500</td>\n",
       "      <td>2500</td>\n",
       "      <td>2500.0</td>\n",
       "      <td>13.56</td>\n",
       "      <td>84.92</td>\n",
       "      <td>55000.0</td>\n",
       "      <td>1</td>\n",
       "      <td>18.24</td>\n",
       "      <td>9.0</td>\n",
       "      <td>1.0</td>\n",
       "      <td>...</td>\n",
       "      <td>1</td>\n",
       "      <td>0</td>\n",
       "      <td>0</td>\n",
       "      <td>0</td>\n",
       "      <td>0</td>\n",
       "      <td>0</td>\n",
       "      <td>1</td>\n",
       "      <td>0</td>\n",
       "      <td>1</td>\n",
       "      <td>0</td>\n",
       "    </tr>\n",
       "    <tr>\n",
       "      <th>1</th>\n",
       "      <td>30000</td>\n",
       "      <td>30000</td>\n",
       "      <td>30000.0</td>\n",
       "      <td>18.94</td>\n",
       "      <td>777.23</td>\n",
       "      <td>90000.0</td>\n",
       "      <td>1</td>\n",
       "      <td>26.52</td>\n",
       "      <td>13.0</td>\n",
       "      <td>1.0</td>\n",
       "      <td>...</td>\n",
       "      <td>1</td>\n",
       "      <td>0</td>\n",
       "      <td>0</td>\n",
       "      <td>0</td>\n",
       "      <td>0</td>\n",
       "      <td>0</td>\n",
       "      <td>1</td>\n",
       "      <td>0</td>\n",
       "      <td>1</td>\n",
       "      <td>0</td>\n",
       "    </tr>\n",
       "    <tr>\n",
       "      <th>2</th>\n",
       "      <td>5000</td>\n",
       "      <td>5000</td>\n",
       "      <td>5000.0</td>\n",
       "      <td>17.97</td>\n",
       "      <td>180.69</td>\n",
       "      <td>59280.0</td>\n",
       "      <td>1</td>\n",
       "      <td>10.51</td>\n",
       "      <td>8.0</td>\n",
       "      <td>0.0</td>\n",
       "      <td>...</td>\n",
       "      <td>1</td>\n",
       "      <td>0</td>\n",
       "      <td>0</td>\n",
       "      <td>0</td>\n",
       "      <td>0</td>\n",
       "      <td>0</td>\n",
       "      <td>1</td>\n",
       "      <td>0</td>\n",
       "      <td>1</td>\n",
       "      <td>0</td>\n",
       "    </tr>\n",
       "    <tr>\n",
       "      <th>3</th>\n",
       "      <td>4000</td>\n",
       "      <td>4000</td>\n",
       "      <td>4000.0</td>\n",
       "      <td>18.94</td>\n",
       "      <td>146.51</td>\n",
       "      <td>92000.0</td>\n",
       "      <td>1</td>\n",
       "      <td>16.74</td>\n",
       "      <td>10.0</td>\n",
       "      <td>0.0</td>\n",
       "      <td>...</td>\n",
       "      <td>1</td>\n",
       "      <td>0</td>\n",
       "      <td>0</td>\n",
       "      <td>0</td>\n",
       "      <td>0</td>\n",
       "      <td>0</td>\n",
       "      <td>1</td>\n",
       "      <td>0</td>\n",
       "      <td>1</td>\n",
       "      <td>0</td>\n",
       "    </tr>\n",
       "    <tr>\n",
       "      <th>4</th>\n",
       "      <td>30000</td>\n",
       "      <td>30000</td>\n",
       "      <td>30000.0</td>\n",
       "      <td>16.14</td>\n",
       "      <td>731.78</td>\n",
       "      <td>57250.0</td>\n",
       "      <td>1</td>\n",
       "      <td>26.35</td>\n",
       "      <td>12.0</td>\n",
       "      <td>0.0</td>\n",
       "      <td>...</td>\n",
       "      <td>1</td>\n",
       "      <td>0</td>\n",
       "      <td>0</td>\n",
       "      <td>0</td>\n",
       "      <td>0</td>\n",
       "      <td>0</td>\n",
       "      <td>1</td>\n",
       "      <td>0</td>\n",
       "      <td>1</td>\n",
       "      <td>0</td>\n",
       "    </tr>\n",
       "    <tr>\n",
       "      <th>...</th>\n",
       "      <td>...</td>\n",
       "      <td>...</td>\n",
       "      <td>...</td>\n",
       "      <td>...</td>\n",
       "      <td>...</td>\n",
       "      <td>...</td>\n",
       "      <td>...</td>\n",
       "      <td>...</td>\n",
       "      <td>...</td>\n",
       "      <td>...</td>\n",
       "      <td>...</td>\n",
       "      <td>...</td>\n",
       "      <td>...</td>\n",
       "      <td>...</td>\n",
       "      <td>...</td>\n",
       "      <td>...</td>\n",
       "      <td>...</td>\n",
       "      <td>...</td>\n",
       "      <td>...</td>\n",
       "      <td>...</td>\n",
       "      <td>...</td>\n",
       "    </tr>\n",
       "    <tr>\n",
       "      <th>226062</th>\n",
       "      <td>20000</td>\n",
       "      <td>20000</td>\n",
       "      <td>20000.0</td>\n",
       "      <td>22.35</td>\n",
       "      <td>767.44</td>\n",
       "      <td>55000.0</td>\n",
       "      <td>1</td>\n",
       "      <td>20.49</td>\n",
       "      <td>8.0</td>\n",
       "      <td>0.0</td>\n",
       "      <td>...</td>\n",
       "      <td>0</td>\n",
       "      <td>0</td>\n",
       "      <td>0</td>\n",
       "      <td>0</td>\n",
       "      <td>0</td>\n",
       "      <td>0</td>\n",
       "      <td>1</td>\n",
       "      <td>0</td>\n",
       "      <td>1</td>\n",
       "      <td>0</td>\n",
       "    </tr>\n",
       "    <tr>\n",
       "      <th>226063</th>\n",
       "      <td>10000</td>\n",
       "      <td>10000</td>\n",
       "      <td>10000.0</td>\n",
       "      <td>6.67</td>\n",
       "      <td>307.27</td>\n",
       "      <td>52000.0</td>\n",
       "      <td>1</td>\n",
       "      <td>24.65</td>\n",
       "      <td>27.0</td>\n",
       "      <td>0.0</td>\n",
       "      <td>...</td>\n",
       "      <td>1</td>\n",
       "      <td>0</td>\n",
       "      <td>0</td>\n",
       "      <td>0</td>\n",
       "      <td>0</td>\n",
       "      <td>0</td>\n",
       "      <td>1</td>\n",
       "      <td>0</td>\n",
       "      <td>1</td>\n",
       "      <td>0</td>\n",
       "    </tr>\n",
       "    <tr>\n",
       "      <th>226064</th>\n",
       "      <td>13000</td>\n",
       "      <td>13000</td>\n",
       "      <td>13000.0</td>\n",
       "      <td>7.21</td>\n",
       "      <td>402.66</td>\n",
       "      <td>90000.0</td>\n",
       "      <td>1</td>\n",
       "      <td>4.08</td>\n",
       "      <td>15.0</td>\n",
       "      <td>0.0</td>\n",
       "      <td>...</td>\n",
       "      <td>1</td>\n",
       "      <td>0</td>\n",
       "      <td>0</td>\n",
       "      <td>0</td>\n",
       "      <td>0</td>\n",
       "      <td>0</td>\n",
       "      <td>1</td>\n",
       "      <td>0</td>\n",
       "      <td>1</td>\n",
       "      <td>0</td>\n",
       "    </tr>\n",
       "    <tr>\n",
       "      <th>226065</th>\n",
       "      <td>10000</td>\n",
       "      <td>10000</td>\n",
       "      <td>10000.0</td>\n",
       "      <td>18.94</td>\n",
       "      <td>366.26</td>\n",
       "      <td>33280.0</td>\n",
       "      <td>1</td>\n",
       "      <td>31.61</td>\n",
       "      <td>13.0</td>\n",
       "      <td>0.0</td>\n",
       "      <td>...</td>\n",
       "      <td>1</td>\n",
       "      <td>0</td>\n",
       "      <td>0</td>\n",
       "      <td>0</td>\n",
       "      <td>0</td>\n",
       "      <td>0</td>\n",
       "      <td>1</td>\n",
       "      <td>0</td>\n",
       "      <td>1</td>\n",
       "      <td>0</td>\n",
       "    </tr>\n",
       "    <tr>\n",
       "      <th>226066</th>\n",
       "      <td>15000</td>\n",
       "      <td>15000</td>\n",
       "      <td>15000.0</td>\n",
       "      <td>10.08</td>\n",
       "      <td>319.30</td>\n",
       "      <td>90000.0</td>\n",
       "      <td>1</td>\n",
       "      <td>9.56</td>\n",
       "      <td>16.0</td>\n",
       "      <td>0.0</td>\n",
       "      <td>...</td>\n",
       "      <td>1</td>\n",
       "      <td>0</td>\n",
       "      <td>0</td>\n",
       "      <td>0</td>\n",
       "      <td>0</td>\n",
       "      <td>0</td>\n",
       "      <td>1</td>\n",
       "      <td>0</td>\n",
       "      <td>1</td>\n",
       "      <td>0</td>\n",
       "    </tr>\n",
       "  </tbody>\n",
       "</table>\n",
       "<p>226067 rows × 161 columns</p>\n",
       "</div>"
      ],
      "text/plain": [
       "        loan_amnt  funded_amnt  funded_amnt_inv  int_rate  installment  \\\n",
       "0            2500         2500           2500.0     13.56        84.92   \n",
       "1           30000        30000          30000.0     18.94       777.23   \n",
       "2            5000         5000           5000.0     17.97       180.69   \n",
       "3            4000         4000           4000.0     18.94       146.51   \n",
       "4           30000        30000          30000.0     16.14       731.78   \n",
       "...           ...          ...              ...       ...          ...   \n",
       "226062      20000        20000          20000.0     22.35       767.44   \n",
       "226063      10000        10000          10000.0      6.67       307.27   \n",
       "226064      13000        13000          13000.0      7.21       402.66   \n",
       "226065      10000        10000          10000.0     18.94       366.26   \n",
       "226066      15000        15000          15000.0     10.08       319.30   \n",
       "\n",
       "        annual_inc  loan_status    dti  open_acc  pub_rec  ...  \\\n",
       "0          55000.0            1  18.24       9.0      1.0  ...   \n",
       "1          90000.0            1  26.52      13.0      1.0  ...   \n",
       "2          59280.0            1  10.51       8.0      0.0  ...   \n",
       "3          92000.0            1  16.74      10.0      0.0  ...   \n",
       "4          57250.0            1  26.35      12.0      0.0  ...   \n",
       "...            ...          ...    ...       ...      ...  ...   \n",
       "226062     55000.0            1  20.49       8.0      0.0  ...   \n",
       "226063     52000.0            1  24.65      27.0      0.0  ...   \n",
       "226064     90000.0            1   4.08      15.0      0.0  ...   \n",
       "226065     33280.0            1  31.61      13.0      0.0  ...   \n",
       "226066     90000.0            1   9.56      16.0      0.0  ...   \n",
       "\n",
       "        last_pymnt_d_Feb-2019  last_pymnt_d_Jan-2019  last_pymnt_d_Jul-2018  \\\n",
       "0                           1                      0                      0   \n",
       "1                           1                      0                      0   \n",
       "2                           1                      0                      0   \n",
       "3                           1                      0                      0   \n",
       "4                           1                      0                      0   \n",
       "...                       ...                    ...                    ...   \n",
       "226062                      0                      0                      0   \n",
       "226063                      1                      0                      0   \n",
       "226064                      1                      0                      0   \n",
       "226065                      1                      0                      0   \n",
       "226066                      1                      0                      0   \n",
       "\n",
       "        last_pymnt_d_Nov-2018  last_pymnt_d_Oct-2018  last_pymnt_d_Sep-2018  \\\n",
       "0                           0                      0                      0   \n",
       "1                           0                      0                      0   \n",
       "2                           0                      0                      0   \n",
       "3                           0                      0                      0   \n",
       "4                           0                      0                      0   \n",
       "...                       ...                    ...                    ...   \n",
       "226062                      0                      0                      0   \n",
       "226063                      0                      0                      0   \n",
       "226064                      0                      0                      0   \n",
       "226065                      0                      0                      0   \n",
       "226066                      0                      0                      0   \n",
       "\n",
       "        application_type_Individual  application_type_Joint App  \\\n",
       "0                                 1                           0   \n",
       "1                                 1                           0   \n",
       "2                                 1                           0   \n",
       "3                                 1                           0   \n",
       "4                                 1                           0   \n",
       "...                             ...                         ...   \n",
       "226062                            1                           0   \n",
       "226063                            1                           0   \n",
       "226064                            1                           0   \n",
       "226065                            1                           0   \n",
       "226066                            1                           0   \n",
       "\n",
       "        debt_settlement_flag_N  debt_settlement_flag_Y  \n",
       "0                            1                       0  \n",
       "1                            1                       0  \n",
       "2                            1                       0  \n",
       "3                            1                       0  \n",
       "4                            1                       0  \n",
       "...                        ...                     ...  \n",
       "226062                       1                       0  \n",
       "226063                       1                       0  \n",
       "226064                       1                       0  \n",
       "226065                       1                       0  \n",
       "226066                       1                       0  \n",
       "\n",
       "[226067 rows x 161 columns]"
      ]
     },
     "execution_count": 2,
     "metadata": {},
     "output_type": "execute_result"
    }
   ],
   "source": [
    "df"
   ]
  },
  {
   "cell_type": "markdown",
   "metadata": {
    "id": "DBa59pnAp-PH"
   },
   "source": [
    "Use Principal Component Analysis (PCA) to solve this problem.  \n",
    "\n",
    "* **1.1 (1 pt)** Perform the following steps to prepare the dataset:\n",
    "\n",
    "    * Select the 'loan_status' column as the target column and the rest of the columns from the dataframe df as X. \n",
    "\n",
    "    * Split the dataset into train and test set with 25% data in test set and random_state = 42\n",
    "\n",
    "    * Perform [Min-Max Scaling](https://scikit-learn.org/stable/modules/generated/sklearn.preprocessing.MinMaxScaler.html) on the dataset. Remember that when we have training and testing data, we fit preprocessing parameters on training data and apply them to all testing data. You should scale only the features (independent variables), not the target variable y.\n",
    "    \n",
    "    Note: X should have 160 features.\n",
    "    \n",
    "\n",
    "* **1.2 (8 pts)** Use [PCA](https://scikit-learn.org/stable/modules/generated/sklearn.decomposition.PCA.html) and reduce the dimension of X to the following components: 100, 30, 10. For each of the three models, print the percentage(%) of variance captured by each of the compnonets and plot the scree plot the [scree plot]\n",
    "(https://www.kindsonthegenius.com/principal-components-analysispca-in-python-step-by-step/).  (PCA should be fit only on X_train).\n",
    "\n",
    "\n",
    "* **1.3 (5 pts)** Train LogisticRegression(random_state=4,max_iter=10000) with the full dimension X and each of the redued dimension X from PCA in the previous step (100, 30 and 10 dimensions). Print the classification reports for all the models -  this will print the class-wise Precision, Recall and F1 score. More details on classification report can be found [here](https://scikit-learn.org/stable/modules/generated/sklearn.metrics.classification_report.html) (Note: you will be training logistic regression 4 times (160, 100, 30 and 10 dimensional X) and will print 4 classification reports)\n",
    "\n",
    "\n",
    "* **1.4 (4 pts)** [Plot](https://scikit-learn.org/stable/auto_examples/miscellaneous/plot_roc_curve_visualization_api.html#sphx-glr-auto-examples-miscellaneous-plot-roc-curve-visualization-api-py) the ROC curves for all models (trained using dataset containing all dimensions and dataset containing reduced dimensions, total 4 models). ROC curve is used to study the classifier's output. Details on ROC can be found [here](https://scikit-learn.org/stable/auto_examples/model_selection/plot_roc.html).\n",
    "\n",
    "\n",
    "* **1.5 (2 pts)** What do you observe from the ROC curves? "
   ]
  },
  {
   "cell_type": "markdown",
   "metadata": {
    "id": "D6psjvriqhUL"
   },
   "source": [
    "# ANSWER"
   ]
  },
  {
   "cell_type": "markdown",
   "metadata": {},
   "source": [
    "### 1.1"
   ]
  },
  {
   "cell_type": "code",
   "execution_count": 3,
   "metadata": {
    "id": "vr5usZHY-GoZ"
   },
   "outputs": [],
   "source": [
    "df = df.fillna(0)\n",
    "X = df.drop(['loan_status'], axis=1)\n",
    "y = df['loan_status']\n",
    "\n",
    "from sklearn.model_selection import train_test_split\n",
    "\n",
    "X_train, X_test, y_train, y_test = train_test_split(X, y, test_size=0.25, random_state=42)\n",
    "\n",
    "from sklearn.preprocessing import MinMaxScaler\n",
    "\n",
    "scaler = MinMaxScaler()\n",
    "\n",
    "X_scaled_train = scaler.fit_transform(X_train)\n",
    "X_scaled_test = scaler.fit_transform(X_test)"
   ]
  },
  {
   "cell_type": "code",
   "execution_count": 4,
   "metadata": {},
   "outputs": [],
   "source": [
    "X_scaled_train_df = pd.DataFrame(X_scaled_train)\n",
    "X_scaled_test_df = pd.DataFrame(X_scaled_test)"
   ]
  },
  {
   "cell_type": "markdown",
   "metadata": {},
   "source": [
    "### 1.2"
   ]
  },
  {
   "cell_type": "code",
   "execution_count": 5,
   "metadata": {
    "id": "py-IIHQ4-LKH"
   },
   "outputs": [
    {
     "name": "stdout",
     "output_type": "stream",
     "text": [
      "100 components: [9.19852974 7.06662645 5.99759447 5.46079153 4.94166502 4.50417606\n",
      " 3.83455355 3.37146098 3.17591649 2.88143671 2.79697185 2.30587312\n",
      " 2.21320222 1.82985506 1.56025663 1.50031239 1.27202937 1.23966273\n",
      " 1.19698302 1.16268295 1.14875341 1.08674239 1.04304239 1.02820011\n",
      " 0.97775676 0.96967049 0.94100056 0.9328885  0.91094699 0.84519908\n",
      " 0.82553427 0.80617189 0.78641237 0.78005548 0.74179856 0.71199787\n",
      " 0.70559413 0.69584879 0.67433078 0.66957671 0.58960932 0.5466006\n",
      " 0.54096545 0.50194904 0.49464536 0.49109442 0.47692411 0.45268219\n",
      " 0.44440046 0.39707271 0.39059803 0.38441104 0.37897565 0.37647077\n",
      " 0.36915903 0.35970342 0.34729955 0.33352184 0.31842341 0.31415763\n",
      " 0.29358532 0.27894865 0.26203021 0.25110264 0.24800068 0.24155484\n",
      " 0.23552644 0.23227503 0.21543186 0.20563543 0.19421939 0.18669965\n",
      " 0.17137258 0.16433766 0.15738263 0.14906762 0.14723678 0.14632197\n",
      " 0.13735544 0.13503613 0.12879968 0.12045611 0.11770016 0.11573511\n",
      " 0.11109453 0.11044256 0.10572367 0.10284993 0.10024165 0.09805773\n",
      " 0.09044302 0.08934722 0.08762457 0.08283376 0.07997502 0.07535238\n",
      " 0.07079556 0.06830256 0.06603164 0.06398678]\n",
      "30 components: [9.19852974 7.06662645 5.99759446 5.46079152 4.94166498 4.50417603\n",
      " 3.83455346 3.37146009 3.17591601 2.88143536 2.79696725 2.30586966\n",
      " 2.21316767 1.82982255 1.56018849 1.49927826 1.27178033 1.23929818\n",
      " 1.19498297 1.16119403 1.14803201 1.08541435 1.0358514  1.02428549\n",
      " 0.97433203 0.95800027 0.93326701 0.92451646 0.89578718 0.82752423]\n",
      "10 components: [9.19852974 7.06662645 5.99759447 5.46079153 4.94166502 4.50417605\n",
      " 3.83455353 3.37146091 3.17591585 2.88143513]\n"
     ]
    }
   ],
   "source": [
    "from sklearn.decomposition import PCA\n",
    "\n",
    "pca_100 = PCA(n_components=100)\n",
    "principalComponents_100 = pca_100.fit_transform(X_scaled_train)\n",
    "principalComponents_100_test = pca_100.fit_transform(X_scaled_test)\n",
    "print('100 components:', 100* pca_100.explained_variance_ratio_)\n",
    "\n",
    "pca_30 = PCA(n_components=30)\n",
    "principalComponents_30 = pca_30.fit_transform(X_scaled_train)\n",
    "principalComponents_30_test = pca_30.fit_transform(X_scaled_test)\n",
    "print('30 components:', 100 * pca_30.explained_variance_ratio_)\n",
    "\n",
    "pca_10 = PCA(n_components=10)\n",
    "principalComponents_10 = pca_10.fit_transform(X_scaled_train)\n",
    "principalComponents_10_test = pca_10.fit_transform(X_scaled_test)\n",
    "print('10 components:', 100 * pca_10.explained_variance_ratio_)\n",
    "\n",
    "pc_100_df = pd.DataFrame(principalComponents_100)\n",
    "pc_30_df = pd.DataFrame(principalComponents_30)\n",
    "pc_10_df = pd.DataFrame(principalComponents_10)\n",
    "pc_100_df_test = pd.DataFrame(principalComponents_100_test)\n",
    "pc_30_df_test = pd.DataFrame(principalComponents_30_test)\n",
    "pc_10_df_test = pd.DataFrame(principalComponents_10_test)"
   ]
  },
  {
   "cell_type": "code",
   "execution_count": 6,
   "metadata": {},
   "outputs": [
    {
     "data": {
      "image/png": "[encoded data removed]",
      "text/plain": [
       "<Figure size 432x288 with 1 Axes>"
      ]
     },
     "metadata": {
      "needs_background": "light"
     },
     "output_type": "display_data"
    },
    {
     "name": "stdout",
     "output_type": "stream",
     "text": [
      "total variance explained:  0.9923968047511762\n"
     ]
    }
   ],
   "source": [
    "# import matplotlib as plt\n",
    "plt.figure()\n",
    "plt.scatter(range(100), pca_100.explained_variance_ratio_[:100])\n",
    "plt.title('Variance Explained for 100 Components')\n",
    "plt.show()\n",
    "print('total variance explained: ', np.sum(pca_100.explained_variance_ratio_[:100]))"
   ]
  },
  {
   "cell_type": "code",
   "execution_count": 7,
   "metadata": {},
   "outputs": [
    {
     "data": {
      "image/png": "[encoded data removed]",
      "text/plain": [
       "<Figure size 432x288 with 1 Axes>"
      ]
     },
     "metadata": {
      "needs_background": "light"
     },
     "output_type": "display_data"
    },
    {
     "name": "stdout",
     "output_type": "stream",
     "text": [
      "total variance explained:  0.773947810232366\n"
     ]
    }
   ],
   "source": [
    "plt.figure()\n",
    "plt.scatter(range(30), pca_100.explained_variance_ratio_[:30])\n",
    "plt.title('Variance Explained for 30 Components')\n",
    "plt.show()\n",
    "print('total variance explained: ', np.sum(pca_100.explained_variance_ratio_[:30]))"
   ]
  },
  {
   "cell_type": "code",
   "execution_count": 8,
   "metadata": {},
   "outputs": [
    {
     "data": {
      "image/png": "[encoded data removed]",
      "text/plain": [
       "<Figure size 432x288 with 1 Axes>"
      ]
     },
     "metadata": {
      "needs_background": "light"
     },
     "output_type": "display_data"
    },
    {
     "name": "stdout",
     "output_type": "stream",
     "text": [
      "total variance explained:  0.5043275099097689\n"
     ]
    }
   ],
   "source": [
    "plt.figure()\n",
    "plt.scatter(range(10), pca_100.explained_variance_ratio_[:10])\n",
    "plt.title('Variance Explained for 10 Components')\n",
    "plt.show()\n",
    "print('total variance explained: ', np.sum(pca_100.explained_variance_ratio_[:10]))"
   ]
  },
  {
   "cell_type": "markdown",
   "metadata": {},
   "source": [
    "### 1.3"
   ]
  },
  {
   "cell_type": "code",
   "execution_count": 9,
   "metadata": {},
   "outputs": [],
   "source": [
    "from sklearn.linear_model import LogisticRegression\n",
    "from sklearn.metrics import classification_report\n",
    "\n",
    "# We assume that the training process will occur for X_train\n",
    "target_names = ['Class 1', 'Class 2']"
   ]
  },
  {
   "cell_type": "code",
   "execution_count": 10,
   "metadata": {},
   "outputs": [
    {
     "name": "stdout",
     "output_type": "stream",
     "text": [
      "Full dimensions:               precision    recall  f1-score   support\n",
      "\n",
      "     Class 1       0.80      0.49      0.60      2488\n",
      "     Class 2       0.99      1.00      1.00    167062\n",
      "\n",
      "    accuracy                           0.99    169550\n",
      "   macro avg       0.90      0.74      0.80    169550\n",
      "weighted avg       0.99      0.99      0.99    169550\n",
      "\n"
     ]
    }
   ],
   "source": [
    "logreg1 = LogisticRegression(random_state=4,max_iter=10000)\n",
    "logreg_X_scaled_train = logreg1.fit(X_scaled_train_df, y_train)\n",
    "print('Full dimensions:', classification_report(y_train, logreg_X_scaled_train.predict(X_scaled_train_df), target_names=target_names))"
   ]
  },
  {
   "cell_type": "code",
   "execution_count": 11,
   "metadata": {},
   "outputs": [
    {
     "name": "stdout",
     "output_type": "stream",
     "text": [
      "100 dimensions:               precision    recall  f1-score   support\n",
      "\n",
      "     Class 1       0.74      0.22      0.34      2488\n",
      "     Class 2       0.99      1.00      0.99    167062\n",
      "\n",
      "    accuracy                           0.99    169550\n",
      "   macro avg       0.86      0.61      0.67    169550\n",
      "weighted avg       0.98      0.99      0.98    169550\n",
      "\n"
     ]
    }
   ],
   "source": [
    "logreg2 = LogisticRegression(random_state=4,max_iter=10000)\n",
    "logreg_X_scaled_train_pca_100 = logreg2.fit(pc_100_df, y_train)\n",
    "print('100 dimensions:', classification_report(y_train, logreg_X_scaled_train_pca_100.predict(pc_100_df), target_names=target_names))"
   ]
  },
  {
   "cell_type": "code",
   "execution_count": 12,
   "metadata": {},
   "outputs": [
    {
     "name": "stdout",
     "output_type": "stream",
     "text": [
      "30 dimensions:               precision    recall  f1-score   support\n",
      "\n",
      "     Class 1       0.30      0.04      0.07      2488\n",
      "     Class 2       0.99      1.00      0.99    167062\n",
      "\n",
      "    accuracy                           0.98    169550\n",
      "   macro avg       0.64      0.52      0.53    169550\n",
      "weighted avg       0.98      0.98      0.98    169550\n",
      "\n"
     ]
    }
   ],
   "source": [
    "logreg3 = LogisticRegression(random_state=4,max_iter=10000)\n",
    "logreg_X_scaled_train_pca_30 = logreg3.fit(pc_30_df, y_train)\n",
    "print('30 dimensions:', classification_report(y_train, logreg_X_scaled_train_pca_30.predict(pc_30_df), target_names=target_names))"
   ]
  },
  {
   "cell_type": "code",
   "execution_count": 13,
   "metadata": {},
   "outputs": [
    {
     "name": "stdout",
     "output_type": "stream",
     "text": [
      "10 dimensions:               precision    recall  f1-score   support\n",
      "\n",
      "     Class 1       0.00      0.00      0.00      2488\n",
      "     Class 2       0.99      1.00      0.99    167062\n",
      "\n",
      "    accuracy                           0.99    169550\n",
      "   macro avg       0.49      0.50      0.50    169550\n",
      "weighted avg       0.97      0.99      0.98    169550\n",
      "\n"
     ]
    },
    {
     "name": "stderr",
     "output_type": "stream",
     "text": [
      "/Library/Frameworks/Python.framework/Versions/3.7/lib/python3.7/site-packages/sklearn/metrics/_classification.py:1221: UndefinedMetricWarning: Precision and F-score are ill-defined and being set to 0.0 in labels with no predicted samples. Use `zero_division` parameter to control this behavior.\n",
      "  _warn_prf(average, modifier, msg_start, len(result))\n"
     ]
    }
   ],
   "source": [
    "logreg4 = LogisticRegression(random_state=4,max_iter=10000)\n",
    "logreg_X_scaled_train_pca_10 = logreg4.fit(pc_10_df, y_train)\n",
    "print('10 dimensions:', classification_report(y_train, logreg_X_scaled_train_pca_10.predict(pc_10_df), target_names=target_names))"
   ]
  },
  {
   "cell_type": "markdown",
   "metadata": {},
   "source": [
    "### 1.4"
   ]
  },
  {
   "cell_type": "code",
   "execution_count": 14,
   "metadata": {
    "scrolled": true
   },
   "outputs": [
    {
     "data": {
      "image/png": "[encoded data removed]",
      "text/plain": [
       "<Figure size 432x288 with 1 Axes>"
      ]
     },
     "metadata": {
      "needs_background": "light"
     },
     "output_type": "display_data"
    }
   ],
   "source": [
    "import matplotlib.pyplot as plt\n",
    "from sklearn.metrics import plot_roc_curve\n",
    "from sklearn.model_selection import train_test_split\n",
    "\n",
    "logreg5 = LogisticRegression(random_state=4,max_iter=10000)\n",
    "logreg_X_scaled_train = logreg5.fit(X_scaled_train_df, y_train)\n",
    "\n",
    "logreg_disp = plot_roc_curve(logreg_X_scaled_train, X_scaled_test_df, y_test)\n",
    "plt.show()"
   ]
  },
  {
   "cell_type": "code",
   "execution_count": 15,
   "metadata": {},
   "outputs": [
    {
     "data": {
      "image/png": "[encoded data removed]",
      "text/plain": [
       "<Figure size 432x288 with 1 Axes>"
      ]
     },
     "metadata": {
      "needs_background": "light"
     },
     "output_type": "display_data"
    }
   ],
   "source": [
    "logreg6 = LogisticRegression(random_state=4,max_iter=10000)\n",
    "\n",
    "logreg_X_scaled_train_pca_100 = logreg6.fit(pc_100_df, y_train)\n",
    "logreg_disp2 = plot_roc_curve(logreg_X_scaled_train_pca_100, pc_100_df_test, y_test)\n",
    "plt.show()"
   ]
  },
  {
   "cell_type": "code",
   "execution_count": 16,
   "metadata": {},
   "outputs": [
    {
     "data": {
      "image/png": "[encoded data removed]",
      "text/plain": [
       "<Figure size 432x288 with 1 Axes>"
      ]
     },
     "metadata": {
      "needs_background": "light"
     },
     "output_type": "display_data"
    }
   ],
   "source": [
    "logreg7 = LogisticRegression(random_state=4,max_iter=10000)\n",
    "\n",
    "logreg_X_scaled_train_pca_30 = logreg7.fit(pc_30_df, y_train)\n",
    "logreg_disp3 = plot_roc_curve(logreg_X_scaled_train_pca_30, pc_30_df_test, y_test)\n",
    "plt.show()"
   ]
  },
  {
   "cell_type": "code",
   "execution_count": 17,
   "metadata": {},
   "outputs": [
    {
     "data": {
      "image/png": "[encoded data removed]",
      "text/plain": [
       "<Figure size 432x288 with 1 Axes>"
      ]
     },
     "metadata": {
      "needs_background": "light"
     },
     "output_type": "display_data"
    }
   ],
   "source": [
    "logreg8 = LogisticRegression(random_state=4,max_iter=10000)\n",
    "\n",
    "logreg_X_scaled_train_pca_10 = logreg8.fit(pc_10_df, y_train)\n",
    "logreg_disp4 = plot_roc_curve(logreg_X_scaled_train_pca_10, pc_10_df_test, y_test)\n",
    "plt.show()"
   ]
  },
  {
   "cell_type": "markdown",
   "metadata": {},
   "source": [
    "### 1.5\n"
   ]
  },
  {
   "cell_type": "markdown",
   "metadata": {},
   "source": [
    "Looking at the resulting ROC curves, it seems like that somewhere between 10 and 30 components we drop off too much on explained variance and lose classification separation power of our logistic regression. Prior to this threshold, we actually perform just as accurate on our principal components training sets as the overall dataset. This indicates we can sacrifice a decent amount of complexity and retain a vast amount of the class separation ability of our model."
   ]
  },
  {
   "cell_type": "markdown",
   "metadata": {
    "id": "TIUXYtLjp42P"
   },
   "source": [
    "# Question 2 (20 pts)- Decision Tree Classifier\n",
    "Download dataset from [this link](https://drive.google.com/file/d/1iWh0gF2bXOYSnuq843qLxnFphT1HN-lq/view?usp=sharing).\n",
    "\n",
    "**Customer Eligibility for Deposits**\n",
    "\n",
    "We will build a Decision Tree classification model to predict if a customer will subscribe or no (yes/no)."
   ]
  },
  {
   "cell_type": "code",
   "execution_count": 18,
   "metadata": {
    "id": "TTVfoexN2c-m"
   },
   "outputs": [],
   "source": [
    "import pandas as pd\n",
    "import numpy as np\n",
    "import matplotlib.pyplot as plt\n",
    "import seaborn as sns\n",
    "from sklearn.cluster import KMeans\n",
    "from sklearn import datasets\n",
    "from io import StringIO\n",
    "from sklearn.tree import export_graphviz\n",
    "from sklearn.model_selection import train_test_split\n",
    "from sklearn import tree\n",
    "from sklearn import metrics\n",
    "%matplotlib inline"
   ]
  },
  {
   "cell_type": "code",
   "execution_count": 19,
   "metadata": {
    "colab": {
     "base_uri": "https://localhost:8080/",
     "height": 224
    },
    "id": "rRdgrEqyp7LY",
    "outputId": "ff116e9c-8989-4df0-fc9d-c1ee8fb687fe"
   },
   "outputs": [
    {
     "data": {
      "text/html": [
       "<div>\n",
       "<style scoped>\n",
       "    .dataframe tbody tr th:only-of-type {\n",
       "        vertical-align: middle;\n",
       "    }\n",
       "\n",
       "    .dataframe tbody tr th {\n",
       "        vertical-align: top;\n",
       "    }\n",
       "\n",
       "    .dataframe thead th {\n",
       "        text-align: right;\n",
       "    }\n",
       "</style>\n",
       "<table border=\"1\" class=\"dataframe\">\n",
       "  <thead>\n",
       "    <tr style=\"text-align: right;\">\n",
       "      <th></th>\n",
       "      <th>age</th>\n",
       "      <th>job</th>\n",
       "      <th>marital</th>\n",
       "      <th>education</th>\n",
       "      <th>default</th>\n",
       "      <th>balance</th>\n",
       "      <th>housing</th>\n",
       "      <th>loan</th>\n",
       "      <th>contact</th>\n",
       "      <th>day</th>\n",
       "      <th>month</th>\n",
       "      <th>duration</th>\n",
       "      <th>campaign</th>\n",
       "      <th>pdays</th>\n",
       "      <th>previous</th>\n",
       "      <th>poutcome</th>\n",
       "      <th>deposit</th>\n",
       "    </tr>\n",
       "  </thead>\n",
       "  <tbody>\n",
       "    <tr>\n",
       "      <th>0</th>\n",
       "      <td>59</td>\n",
       "      <td>admin.</td>\n",
       "      <td>married</td>\n",
       "      <td>secondary</td>\n",
       "      <td>no</td>\n",
       "      <td>2343</td>\n",
       "      <td>yes</td>\n",
       "      <td>no</td>\n",
       "      <td>unknown</td>\n",
       "      <td>5</td>\n",
       "      <td>may</td>\n",
       "      <td>1042</td>\n",
       "      <td>1</td>\n",
       "      <td>-1</td>\n",
       "      <td>0</td>\n",
       "      <td>unknown</td>\n",
       "      <td>yes</td>\n",
       "    </tr>\n",
       "    <tr>\n",
       "      <th>1</th>\n",
       "      <td>56</td>\n",
       "      <td>admin.</td>\n",
       "      <td>married</td>\n",
       "      <td>secondary</td>\n",
       "      <td>no</td>\n",
       "      <td>45</td>\n",
       "      <td>no</td>\n",
       "      <td>no</td>\n",
       "      <td>unknown</td>\n",
       "      <td>5</td>\n",
       "      <td>may</td>\n",
       "      <td>1467</td>\n",
       "      <td>1</td>\n",
       "      <td>-1</td>\n",
       "      <td>0</td>\n",
       "      <td>unknown</td>\n",
       "      <td>yes</td>\n",
       "    </tr>\n",
       "    <tr>\n",
       "      <th>2</th>\n",
       "      <td>41</td>\n",
       "      <td>technician</td>\n",
       "      <td>married</td>\n",
       "      <td>secondary</td>\n",
       "      <td>no</td>\n",
       "      <td>1270</td>\n",
       "      <td>yes</td>\n",
       "      <td>no</td>\n",
       "      <td>unknown</td>\n",
       "      <td>5</td>\n",
       "      <td>may</td>\n",
       "      <td>1389</td>\n",
       "      <td>1</td>\n",
       "      <td>-1</td>\n",
       "      <td>0</td>\n",
       "      <td>unknown</td>\n",
       "      <td>yes</td>\n",
       "    </tr>\n",
       "    <tr>\n",
       "      <th>3</th>\n",
       "      <td>55</td>\n",
       "      <td>services</td>\n",
       "      <td>married</td>\n",
       "      <td>secondary</td>\n",
       "      <td>no</td>\n",
       "      <td>2476</td>\n",
       "      <td>yes</td>\n",
       "      <td>no</td>\n",
       "      <td>unknown</td>\n",
       "      <td>5</td>\n",
       "      <td>may</td>\n",
       "      <td>579</td>\n",
       "      <td>1</td>\n",
       "      <td>-1</td>\n",
       "      <td>0</td>\n",
       "      <td>unknown</td>\n",
       "      <td>yes</td>\n",
       "    </tr>\n",
       "    <tr>\n",
       "      <th>4</th>\n",
       "      <td>54</td>\n",
       "      <td>admin.</td>\n",
       "      <td>married</td>\n",
       "      <td>tertiary</td>\n",
       "      <td>no</td>\n",
       "      <td>184</td>\n",
       "      <td>no</td>\n",
       "      <td>no</td>\n",
       "      <td>unknown</td>\n",
       "      <td>5</td>\n",
       "      <td>may</td>\n",
       "      <td>673</td>\n",
       "      <td>2</td>\n",
       "      <td>-1</td>\n",
       "      <td>0</td>\n",
       "      <td>unknown</td>\n",
       "      <td>yes</td>\n",
       "    </tr>\n",
       "  </tbody>\n",
       "</table>\n",
       "</div>"
      ],
      "text/plain": [
       "   age         job  marital  education default  balance housing loan  contact  \\\n",
       "0   59      admin.  married  secondary      no     2343     yes   no  unknown   \n",
       "1   56      admin.  married  secondary      no       45      no   no  unknown   \n",
       "2   41  technician  married  secondary      no     1270     yes   no  unknown   \n",
       "3   55    services  married  secondary      no     2476     yes   no  unknown   \n",
       "4   54      admin.  married   tertiary      no      184      no   no  unknown   \n",
       "\n",
       "   day month  duration  campaign  pdays  previous poutcome deposit  \n",
       "0    5   may      1042         1     -1         0  unknown     yes  \n",
       "1    5   may      1467         1     -1         0  unknown     yes  \n",
       "2    5   may      1389         1     -1         0  unknown     yes  \n",
       "3    5   may       579         1     -1         0  unknown     yes  \n",
       "4    5   may       673         2     -1         0  unknown     yes  "
      ]
     },
     "execution_count": 19,
     "metadata": {},
     "output_type": "execute_result"
    }
   ],
   "source": [
    "# Loading the data file\n",
    "bank=pd.read_csv('bank.csv')\n",
    "bank.head()"
   ]
  },
  {
   "cell_type": "markdown",
   "metadata": {
    "id": "peL352UDp9vt"
   },
   "source": [
    "Input variables:\n",
    "# bank client data:\n",
    "1 - `age` (numeric)\n",
    "\n",
    "2 - `job` : type of job (categorical: 'admin', 'blue-collar', 'entrepreneur', 'housemaid', 'management', 'retired', 'self-employed', 'services', 'student', 'technician', 'unemployed', 'unknown')\n",
    "\n",
    "3 - `marital` : marital status (categorical: 'divorced','married','single'; note: 'divorced' means divorced or widowed)\n",
    "\n",
    "4 - `education` (categorical: 'primary', 'secondary','tertiary')\n",
    "\n",
    "5 - `default`: has credit in default? (categorical: 'no','yes','unknown')\n",
    "\n",
    "6 - `balance`: account balance\n",
    "\n",
    "7 - `housing`: has housing loan? (categorical: 'no','yes','unknown')\n",
    "\n",
    "8 - `loan`: has personal loan? (categorical: 'no','yes','unknown')\n",
    "\n",
    "# related with the last contact of the current campaign:\n",
    "9 - `contact`: contact communication type (categorical: 'cellular','telephone')\n",
    "\n",
    "10 - `day_of_month` : 1,2....31\n",
    "\n",
    "11 - `month`: last contact month of year (categorical: 'jan', 'feb', 'mar', ..., 'nov', 'dec')\n",
    "\n",
    "12 - `duration`: last contact duration, in seconds (numeric). Important note: this attribute highly affects the output target (e.g., if duration=0 then y='no'). Yet, the duration is not known before a call is performed. Also, after the end of the call y is obviously known. Thus, this input should only be included for benchmark purposes and should be discarded if the intention is to have a realistic predictive model.\n",
    "# other attributes:\n",
    "13 - `campaign`: number of contacts performed during this campaign and for this client (numeric, includes last contact)\n",
    "\n",
    "14 - `pdays`: number of days that passed by after the client was last contacted from a previous campaign (numeric; 10000 means client was not previously contacted)\n",
    "\n",
    "15 - `previous`: number of contacts performed before this campaign and for this client (numeric)\n",
    "\n",
    "16 - `poutcome`: outcome of the previous marketing campaign (categorical: 'failure','other','success','unknown')\n",
    "\n",
    "# Output variable (desired target):\n",
    "17 - `y` - has the client subscribed a term deposit? (binary: 'yes','no')\n",
    "\n",
    "**All pre-processing is done where categorical variables are converted to numeric values and unnecessary columns are dropped.**"
   ]
  },
  {
   "cell_type": "code",
   "execution_count": 20,
   "metadata": {
    "id": "D_tH6Tj7p-Qt"
   },
   "outputs": [],
   "source": [
    "# Make a copy for parsing\n",
    "bank_data = bank.copy()\n",
    "\n",
    "# Drop 'contact', as every participant has been contacted. \n",
    "bank_data.drop('contact', axis=1, inplace=True)\n",
    "# Drop 'month' and 'day' as they don't have any intrinsic meaning\n",
    "bank_data.drop('month', axis=1, inplace=True)\n",
    "bank_data.drop('day', axis=1, inplace=True)\n",
    "\n",
    "#Convert categorical values to numeric values\n",
    "# values for \"default\" : yes/no\n",
    "bank_data[\"default\"]\n",
    "bank_data['default_cat'] = bank_data['default'].map( {'yes':1, 'no':0} )\n",
    "bank_data.drop('default', axis=1,inplace = True)\n",
    "# values for \"housing\" : yes/no\n",
    "bank_data[\"housing_cat\"]=bank_data['housing'].map({'yes':1, 'no':0})\n",
    "bank_data.drop('housing', axis=1,inplace = True)\n",
    "# values for \"loan\" : yes/no\n",
    "bank_data[\"loan_cat\"] = bank_data['loan'].map({'yes':1, 'no':0})\n",
    "bank_data.drop('loan', axis=1, inplace=True)\n",
    "# values for \"deposit\" : yes/no\n",
    "bank_data[\"deposit_cat\"] = bank_data['deposit'].map({'yes':1, 'no':0})\n",
    "bank_data.drop('deposit', axis=1, inplace=True)\n",
    "\n",
    "# Convert categorical variables to dummies\n",
    "bank_data = pd.get_dummies(data=bank_data, columns = ['job', 'marital', 'education', 'poutcome'], \\\n",
    "                                   prefix = ['job', 'marital', 'education', 'poutcome'])\n",
    "\n",
    "# Convert p_days to a probability value\n",
    "bank_data['recent_pdays'] = np.where(bank_data['pdays'], 1/bank_data.pdays, 1/bank_data.pdays)\n",
    "# Drop 'pdays'\n",
    "bank_data.drop('pdays', axis=1, inplace = True)"
   ]
  },
  {
   "cell_type": "code",
   "execution_count": 21,
   "metadata": {
    "colab": {
     "base_uri": "https://localhost:8080/",
     "height": 241
    },
    "id": "mFdtXno1qplD",
    "outputId": "9381df70-6a59-4f46-afbf-a8f2fb8f83e3"
   },
   "outputs": [
    {
     "data": {
      "text/html": [
       "<div>\n",
       "<style scoped>\n",
       "    .dataframe tbody tr th:only-of-type {\n",
       "        vertical-align: middle;\n",
       "    }\n",
       "\n",
       "    .dataframe tbody tr th {\n",
       "        vertical-align: top;\n",
       "    }\n",
       "\n",
       "    .dataframe thead th {\n",
       "        text-align: right;\n",
       "    }\n",
       "</style>\n",
       "<table border=\"1\" class=\"dataframe\">\n",
       "  <thead>\n",
       "    <tr style=\"text-align: right;\">\n",
       "      <th></th>\n",
       "      <th>age</th>\n",
       "      <th>balance</th>\n",
       "      <th>duration</th>\n",
       "      <th>campaign</th>\n",
       "      <th>previous</th>\n",
       "      <th>default_cat</th>\n",
       "      <th>housing_cat</th>\n",
       "      <th>loan_cat</th>\n",
       "      <th>deposit_cat</th>\n",
       "      <th>job_admin.</th>\n",
       "      <th>...</th>\n",
       "      <th>marital_single</th>\n",
       "      <th>education_primary</th>\n",
       "      <th>education_secondary</th>\n",
       "      <th>education_tertiary</th>\n",
       "      <th>education_unknown</th>\n",
       "      <th>poutcome_failure</th>\n",
       "      <th>poutcome_other</th>\n",
       "      <th>poutcome_success</th>\n",
       "      <th>poutcome_unknown</th>\n",
       "      <th>recent_pdays</th>\n",
       "    </tr>\n",
       "  </thead>\n",
       "  <tbody>\n",
       "    <tr>\n",
       "      <th>0</th>\n",
       "      <td>59</td>\n",
       "      <td>2343</td>\n",
       "      <td>1042</td>\n",
       "      <td>1</td>\n",
       "      <td>0</td>\n",
       "      <td>0</td>\n",
       "      <td>1</td>\n",
       "      <td>0</td>\n",
       "      <td>1</td>\n",
       "      <td>1</td>\n",
       "      <td>...</td>\n",
       "      <td>0</td>\n",
       "      <td>0</td>\n",
       "      <td>1</td>\n",
       "      <td>0</td>\n",
       "      <td>0</td>\n",
       "      <td>0</td>\n",
       "      <td>0</td>\n",
       "      <td>0</td>\n",
       "      <td>1</td>\n",
       "      <td>-1.0</td>\n",
       "    </tr>\n",
       "    <tr>\n",
       "      <th>1</th>\n",
       "      <td>56</td>\n",
       "      <td>45</td>\n",
       "      <td>1467</td>\n",
       "      <td>1</td>\n",
       "      <td>0</td>\n",
       "      <td>0</td>\n",
       "      <td>0</td>\n",
       "      <td>0</td>\n",
       "      <td>1</td>\n",
       "      <td>1</td>\n",
       "      <td>...</td>\n",
       "      <td>0</td>\n",
       "      <td>0</td>\n",
       "      <td>1</td>\n",
       "      <td>0</td>\n",
       "      <td>0</td>\n",
       "      <td>0</td>\n",
       "      <td>0</td>\n",
       "      <td>0</td>\n",
       "      <td>1</td>\n",
       "      <td>-1.0</td>\n",
       "    </tr>\n",
       "    <tr>\n",
       "      <th>2</th>\n",
       "      <td>41</td>\n",
       "      <td>1270</td>\n",
       "      <td>1389</td>\n",
       "      <td>1</td>\n",
       "      <td>0</td>\n",
       "      <td>0</td>\n",
       "      <td>1</td>\n",
       "      <td>0</td>\n",
       "      <td>1</td>\n",
       "      <td>0</td>\n",
       "      <td>...</td>\n",
       "      <td>0</td>\n",
       "      <td>0</td>\n",
       "      <td>1</td>\n",
       "      <td>0</td>\n",
       "      <td>0</td>\n",
       "      <td>0</td>\n",
       "      <td>0</td>\n",
       "      <td>0</td>\n",
       "      <td>1</td>\n",
       "      <td>-1.0</td>\n",
       "    </tr>\n",
       "    <tr>\n",
       "      <th>3</th>\n",
       "      <td>55</td>\n",
       "      <td>2476</td>\n",
       "      <td>579</td>\n",
       "      <td>1</td>\n",
       "      <td>0</td>\n",
       "      <td>0</td>\n",
       "      <td>1</td>\n",
       "      <td>0</td>\n",
       "      <td>1</td>\n",
       "      <td>0</td>\n",
       "      <td>...</td>\n",
       "      <td>0</td>\n",
       "      <td>0</td>\n",
       "      <td>1</td>\n",
       "      <td>0</td>\n",
       "      <td>0</td>\n",
       "      <td>0</td>\n",
       "      <td>0</td>\n",
       "      <td>0</td>\n",
       "      <td>1</td>\n",
       "      <td>-1.0</td>\n",
       "    </tr>\n",
       "    <tr>\n",
       "      <th>4</th>\n",
       "      <td>54</td>\n",
       "      <td>184</td>\n",
       "      <td>673</td>\n",
       "      <td>2</td>\n",
       "      <td>0</td>\n",
       "      <td>0</td>\n",
       "      <td>0</td>\n",
       "      <td>0</td>\n",
       "      <td>1</td>\n",
       "      <td>1</td>\n",
       "      <td>...</td>\n",
       "      <td>0</td>\n",
       "      <td>0</td>\n",
       "      <td>0</td>\n",
       "      <td>1</td>\n",
       "      <td>0</td>\n",
       "      <td>0</td>\n",
       "      <td>0</td>\n",
       "      <td>0</td>\n",
       "      <td>1</td>\n",
       "      <td>-1.0</td>\n",
       "    </tr>\n",
       "  </tbody>\n",
       "</table>\n",
       "<p>5 rows × 33 columns</p>\n",
       "</div>"
      ],
      "text/plain": [
       "   age  balance  duration  campaign  previous  default_cat  housing_cat  \\\n",
       "0   59     2343      1042         1         0            0            1   \n",
       "1   56       45      1467         1         0            0            0   \n",
       "2   41     1270      1389         1         0            0            1   \n",
       "3   55     2476       579         1         0            0            1   \n",
       "4   54      184       673         2         0            0            0   \n",
       "\n",
       "   loan_cat  deposit_cat  job_admin.  ...  marital_single  education_primary  \\\n",
       "0         0            1           1  ...               0                  0   \n",
       "1         0            1           1  ...               0                  0   \n",
       "2         0            1           0  ...               0                  0   \n",
       "3         0            1           0  ...               0                  0   \n",
       "4         0            1           1  ...               0                  0   \n",
       "\n",
       "   education_secondary  education_tertiary  education_unknown  \\\n",
       "0                    1                   0                  0   \n",
       "1                    1                   0                  0   \n",
       "2                    1                   0                  0   \n",
       "3                    1                   0                  0   \n",
       "4                    0                   1                  0   \n",
       "\n",
       "   poutcome_failure  poutcome_other  poutcome_success  poutcome_unknown  \\\n",
       "0                 0               0                 0                 1   \n",
       "1                 0               0                 0                 1   \n",
       "2                 0               0                 0                 1   \n",
       "3                 0               0                 0                 1   \n",
       "4                 0               0                 0                 1   \n",
       "\n",
       "   recent_pdays  \n",
       "0          -1.0  \n",
       "1          -1.0  \n",
       "2          -1.0  \n",
       "3          -1.0  \n",
       "4          -1.0  \n",
       "\n",
       "[5 rows x 33 columns]"
      ]
     },
     "execution_count": 21,
     "metadata": {},
     "output_type": "execute_result"
    }
   ],
   "source": [
    "bank_data.head()"
   ]
  },
  {
   "cell_type": "code",
   "execution_count": 22,
   "metadata": {
    "id": "F999tG3JqrR1"
   },
   "outputs": [],
   "source": [
    "# Splitting the data into training and test data with 80:20 ratio with random_state=50.\n",
    "# Building the data model\n",
    "# Train-Test split: 20% test data\n",
    "X = bank_data.drop('deposit_cat', 1)\n",
    "Y = bank_data.deposit_cat\n",
    "X_train, X_test, Y_train, Y_test = train_test_split(X, Y, test_size = 0.2, random_state = 50)"
   ]
  },
  {
   "cell_type": "markdown",
   "metadata": {
    "id": "Rd1sdLNLqtdY"
   },
   "source": [
    "a. **(8 pts)** Build a decision tree with depths 2,5,10,20 and max depth using gini and entropy criterion; report the train and test error. Refer [Decisison Tree](https://scikit-learn.org/stable/modules/generated/sklearn.tree.DecisionTreeClassifier.html#sklearn.tree.DecisionTreeClassifier) for more information on how to implement using sklearn.\n",
    "\n",
    "b. **(2 pts)** Explain how the train and test accuracy varies as we increase the depth of the tree.\n",
    "\n",
    "c. **(4 pts)** List the most important features for the tree with depth=2 and criterion=gini and plot the tree. Name this tree model as `dt2`.\n",
    "\n",
    "d. **(6 pts)** Report the accuracy and AUC for the test data and plot the ROC curve using `dt2`.\n"
   ]
  },
  {
   "cell_type": "markdown",
   "metadata": {
    "id": "kRaUnqlTrB1d"
   },
   "source": [
    "# Answer 2\n",
    "## (a)"
   ]
  },
  {
   "cell_type": "code",
   "execution_count": 23,
   "metadata": {},
   "outputs": [],
   "source": [
    "proportion_yes = len(bank_data[bank_data['deposit_cat'] == 1]) / len(bank_data)\n",
    "proportion_no = len(bank_data[bank_data['deposit_cat'] == 0]) / len(bank_data)"
   ]
  },
  {
   "cell_type": "code",
   "execution_count": 24,
   "metadata": {},
   "outputs": [
    {
     "data": {
      "text/plain": [
       "0    5873\n",
       "1    5289\n",
       "Name: deposit_cat, dtype: int64"
      ]
     },
     "execution_count": 24,
     "metadata": {},
     "output_type": "execute_result"
    }
   ],
   "source": [
    "bank_data['deposit_cat'].value_counts()"
   ]
  },
  {
   "cell_type": "code",
   "execution_count": 25,
   "metadata": {
    "colab": {
     "base_uri": "https://localhost:8080/",
     "height": 119
    },
    "id": "b8eHYZKvqwYL",
    "outputId": "84aebfc7-a621-4e12-ff00-9247a251ff45"
   },
   "outputs": [
    {
     "name": "stdout",
     "output_type": "stream",
     "text": [
      "Training MSE depth 2, criterion: gini 0.27147496920147834\n",
      "Test MSE depth 2, criterion: gini 0.27317510076130763\n",
      "Training MSE depth 2, criterion: entropy 0.2880501735916676\n",
      "Test MSE depth 2, criterion: entropy 0.29108822212270485\n",
      "Training MSE depth 5, criterion: gini 0.20237428603427035\n",
      "Test MSE depth 5, criterion: gini 0.2239140170174653\n",
      "Training MSE depth 5, criterion: entropy 0.20013439354910964\n",
      "Test MSE depth 5, criterion: entropy 0.22167487684729065\n",
      "Training MSE depth 10, criterion: gini 0.13663344159480345\n",
      "Test MSE depth 10, criterion: gini 0.2109270040304523\n",
      "Training MSE depth 10, criterion: entropy 0.14984880725725166\n",
      "Test MSE depth 10, criterion: entropy 0.20824003582624273\n",
      "Training MSE depth 20, criterion: gini 0.015791242020383022\n",
      "Test MSE depth 20, criterion: gini 0.2561576354679803\n",
      "Training MSE depth 20, criterion: entropy 0.03494232276850711\n",
      "Test MSE depth 20, criterion: entropy 0.26153157187639947\n"
     ]
    }
   ],
   "source": [
    "from sklearn.tree import DecisionTreeClassifier\n",
    "from sklearn.metrics import mean_squared_error\n",
    "\n",
    "# depth 2\n",
    "decisiontree2g = DecisionTreeClassifier(random_state=50, max_depth = 2, criterion='gini').fit(X_train,Y_train)\n",
    "train_pred_2g = decisiontree2g.predict(X_train)\n",
    "test_pred_2g = decisiontree2g.predict(X_test)\n",
    "print('Training MSE depth 2, criterion: gini', mean_squared_error(Y_train, train_pred_2g))\n",
    "print('Test MSE depth 2, criterion: gini', mean_squared_error(Y_test, test_pred_2g))\n",
    "decisiontree2e = DecisionTreeClassifier(random_state=50, max_depth = 2, criterion='entropy').fit(X_train,Y_train)\n",
    "train_pred_2e = decisiontree2e.predict(X_train)\n",
    "test_pred_2e = decisiontree2e.predict(X_test)\n",
    "print('Training MSE depth 2, criterion: entropy', mean_squared_error(Y_train, train_pred_2e))\n",
    "print('Test MSE depth 2, criterion: entropy', mean_squared_error(Y_test, test_pred_2e))\n",
    "\n",
    "# depth 5\n",
    "decisiontree5g = DecisionTreeClassifier(random_state=50, max_depth = 5, criterion='gini').fit(X_train,Y_train)\n",
    "train_pred_5g = decisiontree5g.predict(X_train)\n",
    "test_pred_5g = decisiontree5g.predict(X_test)\n",
    "print('Training MSE depth 5, criterion: gini', mean_squared_error(Y_train, train_pred_5g))\n",
    "print('Test MSE depth 5, criterion: gini', mean_squared_error(Y_test, test_pred_5g))\n",
    "decisiontree5e = DecisionTreeClassifier(random_state=50, max_depth = 5, criterion='entropy').fit(X_train,Y_train)\n",
    "train_pred_5e = decisiontree5e.predict(X_train)\n",
    "test_pred_5e = decisiontree5e.predict(X_test)\n",
    "print('Training MSE depth 5, criterion: entropy', mean_squared_error(Y_train, train_pred_5e))\n",
    "print('Test MSE depth 5, criterion: entropy', mean_squared_error(Y_test, test_pred_5e))\n",
    "\n",
    "# depth 10\n",
    "decisiontree10g = DecisionTreeClassifier(random_state=50, max_depth = 10, criterion='gini').fit(X_train,Y_train)\n",
    "train_pred_10g = decisiontree10g.predict(X_train)\n",
    "test_pred_10g = decisiontree10g.predict(X_test)\n",
    "print('Training MSE depth 10, criterion: gini', mean_squared_error(Y_train, train_pred_10g))\n",
    "print('Test MSE depth 10, criterion: gini', mean_squared_error(Y_test, test_pred_10g))\n",
    "decisiontree10e = DecisionTreeClassifier(random_state=50, max_depth = 10, criterion='entropy').fit(X_train,Y_train)\n",
    "train_pred_10e = decisiontree10e.predict(X_train)\n",
    "test_pred_10e = decisiontree10e.predict(X_test)\n",
    "print('Training MSE depth 10, criterion: entropy', mean_squared_error(Y_train, train_pred_10e))\n",
    "print('Test MSE depth 10, criterion: entropy', mean_squared_error(Y_test, test_pred_10e))\n",
    "\n",
    "# depth 20\n",
    "decisiontree20g = DecisionTreeClassifier(random_state=50, max_depth = 20, criterion='gini').fit(X_train,Y_train)\n",
    "train_pred_20g = decisiontree20g.predict(X_train)\n",
    "test_pred_20g = decisiontree20g.predict(X_test)\n",
    "print('Training MSE depth 20, criterion: gini', mean_squared_error(Y_train, train_pred_20g))\n",
    "print('Test MSE depth 20, criterion: gini', mean_squared_error(Y_test, test_pred_20g))\n",
    "decisiontree20e = DecisionTreeClassifier(random_state=50, max_depth = 20, criterion='entropy').fit(X_train,Y_train)\n",
    "train_pred_20e = decisiontree20e.predict(X_train)\n",
    "test_pred_20e = decisiontree20e.predict(X_test)\n",
    "print('Training MSE depth 20, criterion: entropy', mean_squared_error(Y_train, train_pred_20e))\n",
    "print('Test MSE depth 20, criterion: entropy', mean_squared_error(Y_test, test_pred_20e))"
   ]
  },
  {
   "cell_type": "markdown",
   "metadata": {
    "id": "E_XC9kjdrI_e"
   },
   "source": [
    "## (b)\n",
    "\n"
   ]
  },
  {
   "cell_type": "markdown",
   "metadata": {},
   "source": [
    "While the training accuracy can only increase as we allow the max increase, at some point allowing the tree depth to go beyond a certain point will start overfitting on the training data resulting in a decreased performance on the test set. In our case, the test error starts to increase after we allow the tree depth to go beyond 10."
   ]
  },
  {
   "cell_type": "markdown",
   "metadata": {
    "id": "aKcO1wk1rPc0"
   },
   "source": [
    "# (c)"
   ]
  },
  {
   "cell_type": "code",
   "execution_count": 26,
   "metadata": {
    "colab": {
     "base_uri": "https://localhost:8080/",
     "height": 561
    },
    "id": "U69Qk6SkrQzY",
    "outputId": "700ed7d3-a5d9-4760-a358-677b2f2b2d7e"
   },
   "outputs": [
    {
     "data": {
      "text/plain": [
       "duration            0.849306\n",
       "poutcome_success    0.150694\n",
       "Name: 0, dtype: float64"
      ]
     },
     "execution_count": 26,
     "metadata": {},
     "output_type": "execute_result"
    }
   ],
   "source": [
    "column_names = X_train.columns\n",
    "\n",
    "dt2 = decisiontree2g\n",
    "\n",
    "# isolating the most important features to our model\n",
    "importances = pd.DataFrame(decisiontree2g.feature_importances_).set_index(column_names)\n",
    "importances[0][importances[0] != 0].sort_values(ascending=False)"
   ]
  },
  {
   "cell_type": "code",
   "execution_count": 27,
   "metadata": {},
   "outputs": [
    {
     "data": {
      "text/plain": [
       "array([0.        , 0.        , 0.84930612, 0.        , 0.        ,\n",
       "       0.        , 0.        , 0.        , 0.        , 0.        ,\n",
       "       0.        , 0.        , 0.        , 0.        , 0.        ,\n",
       "       0.        , 0.        , 0.        , 0.        , 0.        ,\n",
       "       0.        , 0.        , 0.        , 0.        , 0.        ,\n",
       "       0.        , 0.        , 0.        , 0.        , 0.15069388,\n",
       "       0.        , 0.        ])"
      ]
     },
     "execution_count": 27,
     "metadata": {},
     "output_type": "execute_result"
    }
   ],
   "source": [
    "decisiontree2g.feature_importances_"
   ]
  },
  {
   "cell_type": "code",
   "execution_count": 28,
   "metadata": {},
   "outputs": [
    {
     "data": {
      "text/plain": [
       "[Text(167.4, 181.2, 'X[2] <= 206.5\\ngini = 0.499\\nsamples = 8929\\nvalue = [4700, 4229]'),\n",
       " Text(83.7, 108.72, 'X[29] <= 0.5\\ngini = 0.327\\nsamples = 3612\\nvalue = [2867, 745]'),\n",
       " Text(41.85, 36.23999999999998, 'gini = 0.273\\nsamples = 3380\\nvalue = [2828, 552]'),\n",
       " Text(125.55000000000001, 36.23999999999998, 'gini = 0.28\\nsamples = 232\\nvalue = [39, 193]'),\n",
       " Text(251.10000000000002, 108.72, 'X[2] <= 441.5\\ngini = 0.452\\nsamples = 5317\\nvalue = [1833, 3484]'),\n",
       " Text(209.25, 36.23999999999998, 'gini = 0.5\\nsamples = 2762\\nvalue = [1340, 1422]'),\n",
       " Text(292.95, 36.23999999999998, 'gini = 0.311\\nsamples = 2555\\nvalue = [493, 2062]')]"
      ]
     },
     "execution_count": 28,
     "metadata": {},
     "output_type": "execute_result"
    },
    {
     "data": {
      "image/png": "[encoded data removed]",
      "text/plain": [
       "<Figure size 432x288 with 1 Axes>"
      ]
     },
     "metadata": {
      "needs_background": "light"
     },
     "output_type": "display_data"
    }
   ],
   "source": [
    "tree.plot_tree(dt2)"
   ]
  },
  {
   "cell_type": "markdown",
   "metadata": {},
   "source": [
    "The most important features for our decision tree of depth 2 using the Gini criterion are the **duration** variable with a relative importance of 84.9% and the **poutcome_success** variable with a relative importance of 15.1%. "
   ]
  },
  {
   "cell_type": "markdown",
   "metadata": {
    "id": "EVzuH5vArViM"
   },
   "source": [
    "## (d)"
   ]
  },
  {
   "cell_type": "code",
   "execution_count": 29,
   "metadata": {
    "colab": {
     "base_uri": "https://localhost:8080/",
     "height": 119
    },
    "id": "wQjRAA_prXJE",
    "outputId": "057fcaf2-0618-4224-febe-646721128717"
   },
   "outputs": [
    {
     "data": {
      "image/png": "[encoded data removed]",
      "text/plain": [
       "<Figure size 432x288 with 1 Axes>"
      ]
     },
     "metadata": {
      "needs_background": "light"
     },
     "output_type": "display_data"
    }
   ],
   "source": [
    "logreg_disp_dt = plot_roc_curve(dt2, X_test, Y_test)\n",
    "plt.show()"
   ]
  },
  {
   "cell_type": "code",
   "execution_count": 30,
   "metadata": {},
   "outputs": [
    {
     "data": {
      "text/plain": [
       "0.733621258183339"
      ]
     },
     "execution_count": 30,
     "metadata": {},
     "output_type": "execute_result"
    }
   ],
   "source": [
    "#getting the AUC score\n",
    "from sklearn.metrics import roc_auc_score\n",
    "\n",
    "roc_auc_score(Y_test, dt2.predict(X_test))"
   ]
  },
  {
   "cell_type": "code",
   "execution_count": 31,
   "metadata": {},
   "outputs": [
    {
     "name": "stdout",
     "output_type": "stream",
     "text": [
      "              precision    recall  f1-score   support\n",
      "\n",
      "           0       0.83      0.60      0.70      1173\n",
      "           1       0.66      0.87      0.75      1060\n",
      "\n",
      "    accuracy                           0.73      2233\n",
      "   macro avg       0.75      0.73      0.72      2233\n",
      "weighted avg       0.75      0.73      0.72      2233\n",
      "\n"
     ]
    }
   ],
   "source": [
    "# getting accuracy\n",
    "\n",
    "print(classification_report(Y_test, dt2.predict(X_test)))"
   ]
  },
  {
   "cell_type": "markdown",
   "metadata": {},
   "source": [
    "We get a model accuracy of 73% and an AUC score of 73.3% for the test data"
   ]
  },
  {
   "cell_type": "markdown",
   "metadata": {
    "id": "9cAvWwWwfESs"
   },
   "source": [
    "# Question 3 (15 pts) - Pipeline Implementation from Sklearn \n",
    "\n",
    "In this question we will build a pipeline to streamline the ML Workflow. Instead of writing code for each logic, pipelines allow to make modeling easy by removing repeated operations. Generally we define the structure of the pipeline, to include the following steps, data pre-processing, feature selection, model building. \n",
    "\n",
    "**Part A (5 pts)**\n",
    "\n",
    " * Load the dataset from \"vehicle.csv\". The target variable is denoted by column_name = 'class'. Print the label class,and perform [LabelEncoding](https://scikit-learn.org/stable/modules/generated/sklearn.preprocessing.LabelEncoder.html) on them using sklearn.preprocessing.LabelEncoder.\n",
    "\n",
    " * Seperate the dataset into features,labels. Split the dataset into train and test set with 20% data in test set and random_state = 50\n",
    "\n",
    "**Part B (5 pts)**\n",
    "\n",
    "Now, we will build [Pipeline](https://scikit-learn.org/stable/modules/generated/sklearn.pipeline.Pipeline.html) with the following steps. Remeber to fit the pipeline on training set and predict on test set. Finally report the classification accuracy on the test set.\n",
    "\n",
    " * Data Pre-processing : Using SimpleImputer with strategy = 'mean'\n",
    " * Standardization : Standardize features by removing the mean and scaling to unit variance using StandardScaler()\n",
    " * Model : Use DecisionTreeClassifier with default values\n",
    "  \n",
    "\n",
    "**Part C (5 pts)**\n",
    "  \n",
    "In part C, we will build on top of the previous part B. In addition to the three steps we will add PCA to the pipeline and use [GridSearchCV](https://scikit-learn.org/stable/modules/generated/sklearn.model_selection.GridSearchCV.html) to find the best parameters for PCA(number of components) and DecisionTree(max_depth).\n",
    "  \n",
    " * Data Pre-processing : Using SimpleImputer with strategy = 'mean'\n",
    " * Standardization : Standardize features by removing the mean and scaling to unit variance using StandardScaler()\n",
    " * PCA : Use PCA()\n",
    " * Model : Use DecisionTreeClassifier with default values\n",
    "  \n",
    "We will now use [GridSearchCV] with default values(https://scikit-learn.org/stable/modules/generated/sklearn.model_selection.GridSearchCV.html) to estimate best parameters for pca(n_components = [5,8,10]) and Decision Tree (max_depth = [3,5,15]) using the pipeline designed. \n",
    "\n",
    "* **Hint:** The `param_grid` argument to gridsearch will be given as `{param_grid={'clf__max_depth': [3, 5, 15], 'pca__n_components': [5, 8, 10]}}`. \n",
    "\n",
    "Print the best parameters found by gridsearch. Finally, update the best parameters to the pipeline using pipe_pca.set_params(\"best params from gridsearchCV\"), and report the classification accuracy on test set.\n",
    "\n",
    "              "
   ]
  },
  {
   "cell_type": "code",
   "execution_count": 32,
   "metadata": {},
   "outputs": [
    {
     "data": {
      "text/html": [
       "<div>\n",
       "<style scoped>\n",
       "    .dataframe tbody tr th:only-of-type {\n",
       "        vertical-align: middle;\n",
       "    }\n",
       "\n",
       "    .dataframe tbody tr th {\n",
       "        vertical-align: top;\n",
       "    }\n",
       "\n",
       "    .dataframe thead th {\n",
       "        text-align: right;\n",
       "    }\n",
       "</style>\n",
       "<table border=\"1\" class=\"dataframe\">\n",
       "  <thead>\n",
       "    <tr style=\"text-align: right;\">\n",
       "      <th></th>\n",
       "      <th>compactness</th>\n",
       "      <th>circularity</th>\n",
       "      <th>distance_circularity</th>\n",
       "      <th>radius_ratio</th>\n",
       "      <th>pr.axis_aspect_ratio</th>\n",
       "      <th>max.length_aspect_ratio</th>\n",
       "      <th>scatter_ratio</th>\n",
       "      <th>elongatedness</th>\n",
       "      <th>pr.axis_rectangularity</th>\n",
       "      <th>max.length_rectangularity</th>\n",
       "      <th>scaled_variance</th>\n",
       "      <th>scaled_variance.1</th>\n",
       "      <th>scaled_radius_of_gyration</th>\n",
       "      <th>scaled_radius_of_gyration.1</th>\n",
       "      <th>skewness_about</th>\n",
       "      <th>skewness_about.1</th>\n",
       "      <th>skewness_about.2</th>\n",
       "      <th>hollows_ratio</th>\n",
       "      <th>class</th>\n",
       "    </tr>\n",
       "  </thead>\n",
       "  <tbody>\n",
       "    <tr>\n",
       "      <th>0</th>\n",
       "      <td>95</td>\n",
       "      <td>48.0</td>\n",
       "      <td>83.0</td>\n",
       "      <td>178.0</td>\n",
       "      <td>72.0</td>\n",
       "      <td>10</td>\n",
       "      <td>162.0</td>\n",
       "      <td>42.0</td>\n",
       "      <td>20.0</td>\n",
       "      <td>159</td>\n",
       "      <td>176.0</td>\n",
       "      <td>379.0</td>\n",
       "      <td>184.0</td>\n",
       "      <td>70.0</td>\n",
       "      <td>6.0</td>\n",
       "      <td>16.0</td>\n",
       "      <td>187.0</td>\n",
       "      <td>197</td>\n",
       "      <td>van</td>\n",
       "    </tr>\n",
       "    <tr>\n",
       "      <th>1</th>\n",
       "      <td>91</td>\n",
       "      <td>41.0</td>\n",
       "      <td>84.0</td>\n",
       "      <td>141.0</td>\n",
       "      <td>57.0</td>\n",
       "      <td>9</td>\n",
       "      <td>149.0</td>\n",
       "      <td>45.0</td>\n",
       "      <td>19.0</td>\n",
       "      <td>143</td>\n",
       "      <td>170.0</td>\n",
       "      <td>330.0</td>\n",
       "      <td>158.0</td>\n",
       "      <td>72.0</td>\n",
       "      <td>9.0</td>\n",
       "      <td>14.0</td>\n",
       "      <td>189.0</td>\n",
       "      <td>199</td>\n",
       "      <td>van</td>\n",
       "    </tr>\n",
       "    <tr>\n",
       "      <th>2</th>\n",
       "      <td>104</td>\n",
       "      <td>50.0</td>\n",
       "      <td>106.0</td>\n",
       "      <td>209.0</td>\n",
       "      <td>66.0</td>\n",
       "      <td>10</td>\n",
       "      <td>207.0</td>\n",
       "      <td>32.0</td>\n",
       "      <td>23.0</td>\n",
       "      <td>158</td>\n",
       "      <td>223.0</td>\n",
       "      <td>635.0</td>\n",
       "      <td>220.0</td>\n",
       "      <td>73.0</td>\n",
       "      <td>14.0</td>\n",
       "      <td>9.0</td>\n",
       "      <td>188.0</td>\n",
       "      <td>196</td>\n",
       "      <td>car</td>\n",
       "    </tr>\n",
       "    <tr>\n",
       "      <th>3</th>\n",
       "      <td>93</td>\n",
       "      <td>41.0</td>\n",
       "      <td>82.0</td>\n",
       "      <td>159.0</td>\n",
       "      <td>63.0</td>\n",
       "      <td>9</td>\n",
       "      <td>144.0</td>\n",
       "      <td>46.0</td>\n",
       "      <td>19.0</td>\n",
       "      <td>143</td>\n",
       "      <td>160.0</td>\n",
       "      <td>309.0</td>\n",
       "      <td>127.0</td>\n",
       "      <td>63.0</td>\n",
       "      <td>6.0</td>\n",
       "      <td>10.0</td>\n",
       "      <td>199.0</td>\n",
       "      <td>207</td>\n",
       "      <td>van</td>\n",
       "    </tr>\n",
       "    <tr>\n",
       "      <th>4</th>\n",
       "      <td>85</td>\n",
       "      <td>44.0</td>\n",
       "      <td>70.0</td>\n",
       "      <td>205.0</td>\n",
       "      <td>103.0</td>\n",
       "      <td>52</td>\n",
       "      <td>149.0</td>\n",
       "      <td>45.0</td>\n",
       "      <td>19.0</td>\n",
       "      <td>144</td>\n",
       "      <td>241.0</td>\n",
       "      <td>325.0</td>\n",
       "      <td>188.0</td>\n",
       "      <td>127.0</td>\n",
       "      <td>9.0</td>\n",
       "      <td>11.0</td>\n",
       "      <td>180.0</td>\n",
       "      <td>183</td>\n",
       "      <td>bus</td>\n",
       "    </tr>\n",
       "    <tr>\n",
       "      <th>5</th>\n",
       "      <td>107</td>\n",
       "      <td>NaN</td>\n",
       "      <td>106.0</td>\n",
       "      <td>172.0</td>\n",
       "      <td>50.0</td>\n",
       "      <td>6</td>\n",
       "      <td>255.0</td>\n",
       "      <td>26.0</td>\n",
       "      <td>28.0</td>\n",
       "      <td>169</td>\n",
       "      <td>280.0</td>\n",
       "      <td>957.0</td>\n",
       "      <td>264.0</td>\n",
       "      <td>85.0</td>\n",
       "      <td>5.0</td>\n",
       "      <td>9.0</td>\n",
       "      <td>181.0</td>\n",
       "      <td>183</td>\n",
       "      <td>bus</td>\n",
       "    </tr>\n",
       "    <tr>\n",
       "      <th>6</th>\n",
       "      <td>97</td>\n",
       "      <td>43.0</td>\n",
       "      <td>73.0</td>\n",
       "      <td>173.0</td>\n",
       "      <td>65.0</td>\n",
       "      <td>6</td>\n",
       "      <td>153.0</td>\n",
       "      <td>42.0</td>\n",
       "      <td>19.0</td>\n",
       "      <td>143</td>\n",
       "      <td>176.0</td>\n",
       "      <td>361.0</td>\n",
       "      <td>172.0</td>\n",
       "      <td>66.0</td>\n",
       "      <td>13.0</td>\n",
       "      <td>1.0</td>\n",
       "      <td>200.0</td>\n",
       "      <td>204</td>\n",
       "      <td>bus</td>\n",
       "    </tr>\n",
       "    <tr>\n",
       "      <th>7</th>\n",
       "      <td>90</td>\n",
       "      <td>43.0</td>\n",
       "      <td>66.0</td>\n",
       "      <td>157.0</td>\n",
       "      <td>65.0</td>\n",
       "      <td>9</td>\n",
       "      <td>137.0</td>\n",
       "      <td>48.0</td>\n",
       "      <td>18.0</td>\n",
       "      <td>146</td>\n",
       "      <td>162.0</td>\n",
       "      <td>281.0</td>\n",
       "      <td>164.0</td>\n",
       "      <td>67.0</td>\n",
       "      <td>3.0</td>\n",
       "      <td>3.0</td>\n",
       "      <td>193.0</td>\n",
       "      <td>202</td>\n",
       "      <td>van</td>\n",
       "    </tr>\n",
       "    <tr>\n",
       "      <th>8</th>\n",
       "      <td>86</td>\n",
       "      <td>34.0</td>\n",
       "      <td>62.0</td>\n",
       "      <td>140.0</td>\n",
       "      <td>61.0</td>\n",
       "      <td>7</td>\n",
       "      <td>122.0</td>\n",
       "      <td>54.0</td>\n",
       "      <td>17.0</td>\n",
       "      <td>127</td>\n",
       "      <td>141.0</td>\n",
       "      <td>223.0</td>\n",
       "      <td>112.0</td>\n",
       "      <td>64.0</td>\n",
       "      <td>2.0</td>\n",
       "      <td>14.0</td>\n",
       "      <td>200.0</td>\n",
       "      <td>208</td>\n",
       "      <td>van</td>\n",
       "    </tr>\n",
       "    <tr>\n",
       "      <th>9</th>\n",
       "      <td>93</td>\n",
       "      <td>44.0</td>\n",
       "      <td>98.0</td>\n",
       "      <td>NaN</td>\n",
       "      <td>62.0</td>\n",
       "      <td>11</td>\n",
       "      <td>183.0</td>\n",
       "      <td>36.0</td>\n",
       "      <td>22.0</td>\n",
       "      <td>146</td>\n",
       "      <td>202.0</td>\n",
       "      <td>505.0</td>\n",
       "      <td>152.0</td>\n",
       "      <td>64.0</td>\n",
       "      <td>4.0</td>\n",
       "      <td>14.0</td>\n",
       "      <td>195.0</td>\n",
       "      <td>204</td>\n",
       "      <td>car</td>\n",
       "    </tr>\n",
       "  </tbody>\n",
       "</table>\n",
       "</div>"
      ],
      "text/plain": [
       "   compactness  circularity  distance_circularity  radius_ratio  \\\n",
       "0           95         48.0                  83.0         178.0   \n",
       "1           91         41.0                  84.0         141.0   \n",
       "2          104         50.0                 106.0         209.0   \n",
       "3           93         41.0                  82.0         159.0   \n",
       "4           85         44.0                  70.0         205.0   \n",
       "5          107          NaN                 106.0         172.0   \n",
       "6           97         43.0                  73.0         173.0   \n",
       "7           90         43.0                  66.0         157.0   \n",
       "8           86         34.0                  62.0         140.0   \n",
       "9           93         44.0                  98.0           NaN   \n",
       "\n",
       "   pr.axis_aspect_ratio  max.length_aspect_ratio  scatter_ratio  \\\n",
       "0                  72.0                       10          162.0   \n",
       "1                  57.0                        9          149.0   \n",
       "2                  66.0                       10          207.0   \n",
       "3                  63.0                        9          144.0   \n",
       "4                 103.0                       52          149.0   \n",
       "5                  50.0                        6          255.0   \n",
       "6                  65.0                        6          153.0   \n",
       "7                  65.0                        9          137.0   \n",
       "8                  61.0                        7          122.0   \n",
       "9                  62.0                       11          183.0   \n",
       "\n",
       "   elongatedness  pr.axis_rectangularity  max.length_rectangularity  \\\n",
       "0           42.0                    20.0                        159   \n",
       "1           45.0                    19.0                        143   \n",
       "2           32.0                    23.0                        158   \n",
       "3           46.0                    19.0                        143   \n",
       "4           45.0                    19.0                        144   \n",
       "5           26.0                    28.0                        169   \n",
       "6           42.0                    19.0                        143   \n",
       "7           48.0                    18.0                        146   \n",
       "8           54.0                    17.0                        127   \n",
       "9           36.0                    22.0                        146   \n",
       "\n",
       "   scaled_variance  scaled_variance.1  scaled_radius_of_gyration  \\\n",
       "0            176.0              379.0                      184.0   \n",
       "1            170.0              330.0                      158.0   \n",
       "2            223.0              635.0                      220.0   \n",
       "3            160.0              309.0                      127.0   \n",
       "4            241.0              325.0                      188.0   \n",
       "5            280.0              957.0                      264.0   \n",
       "6            176.0              361.0                      172.0   \n",
       "7            162.0              281.0                      164.0   \n",
       "8            141.0              223.0                      112.0   \n",
       "9            202.0              505.0                      152.0   \n",
       "\n",
       "   scaled_radius_of_gyration.1  skewness_about  skewness_about.1  \\\n",
       "0                         70.0             6.0              16.0   \n",
       "1                         72.0             9.0              14.0   \n",
       "2                         73.0            14.0               9.0   \n",
       "3                         63.0             6.0              10.0   \n",
       "4                        127.0             9.0              11.0   \n",
       "5                         85.0             5.0               9.0   \n",
       "6                         66.0            13.0               1.0   \n",
       "7                         67.0             3.0               3.0   \n",
       "8                         64.0             2.0              14.0   \n",
       "9                         64.0             4.0              14.0   \n",
       "\n",
       "   skewness_about.2  hollows_ratio class  \n",
       "0             187.0            197   van  \n",
       "1             189.0            199   van  \n",
       "2             188.0            196   car  \n",
       "3             199.0            207   van  \n",
       "4             180.0            183   bus  \n",
       "5             181.0            183   bus  \n",
       "6             200.0            204   bus  \n",
       "7             193.0            202   van  \n",
       "8             200.0            208   van  \n",
       "9             195.0            204   car  "
      ]
     },
     "execution_count": 32,
     "metadata": {},
     "output_type": "execute_result"
    }
   ],
   "source": [
    "vehicles = pd.read_csv('vehicle.csv')\n",
    "vehicles[:10]"
   ]
  },
  {
   "cell_type": "markdown",
   "metadata": {},
   "source": [
    "# Part A"
   ]
  },
  {
   "cell_type": "code",
   "execution_count": 33,
   "metadata": {},
   "outputs": [
    {
     "name": "stdout",
     "output_type": "stream",
     "text": [
      "0      van\n",
      "1      van\n",
      "2      car\n",
      "3      van\n",
      "4      bus\n",
      "      ... \n",
      "841    car\n",
      "842    van\n",
      "843    car\n",
      "844    car\n",
      "845    van\n",
      "Name: class, Length: 846, dtype: object\n"
     ]
    }
   ],
   "source": [
    "from sklearn import preprocessing\n",
    "X = vehicles.drop('class', 1)\n",
    "y = vehicles['class']\n",
    "print(y)\n",
    "\n",
    "le = preprocessing.LabelEncoder()\n",
    "fitted_y = le.fit(y)\n",
    "transformed_y = fitted_y.transform(y)\n",
    "\n",
    "X_train, X_test, y_train, y_test = train_test_split(X, transformed_y, test_size=0.2, random_state=50)"
   ]
  },
  {
   "cell_type": "markdown",
   "metadata": {},
   "source": [
    "# Part B\n"
   ]
  },
  {
   "cell_type": "code",
   "execution_count": 34,
   "metadata": {},
   "outputs": [
    {
     "name": "stdout",
     "output_type": "stream",
     "text": [
      "              precision    recall  f1-score   support\n",
      "\n",
      "           0       0.89      0.85      0.87        40\n",
      "           1       0.92      0.89      0.91        91\n",
      "           2       0.82      0.92      0.87        39\n",
      "\n",
      "    accuracy                           0.89       170\n",
      "   macro avg       0.88      0.89      0.88       170\n",
      "weighted avg       0.89      0.89      0.89       170\n",
      "\n"
     ]
    }
   ],
   "source": [
    "from sklearn.pipeline import Pipeline\n",
    "from sklearn.impute import SimpleImputer\n",
    "from sklearn.tree import DecisionTreeClassifier\n",
    "from sklearn.preprocessing import StandardScaler\n",
    "from sklearn.model_selection import GridSearchCV\n",
    "\n",
    "pipe = Pipeline([('scaler', StandardScaler()), \\\n",
    "                 ('imputer', SimpleImputer(missing_values=np.nan, strategy='mean')), \\\n",
    "                 ('decision tree', DecisionTreeClassifier())]).fit(X_train, y_train)\n",
    "\n",
    "predictions = pipe.predict(X_test)\n",
    "print(classification_report(y_test, predictions))"
   ]
  },
  {
   "cell_type": "markdown",
   "metadata": {},
   "source": [
    "As can be seen, we end up with a test set classification accuracy of 91%"
   ]
  },
  {
   "cell_type": "markdown",
   "metadata": {},
   "source": [
    "# Part C"
   ]
  },
  {
   "cell_type": "code",
   "execution_count": 35,
   "metadata": {},
   "outputs": [
    {
     "name": "stdout",
     "output_type": "stream",
     "text": [
      "best parameters:  {'clf__max_depth': 15, 'pca__n_components': 10}\n",
      "              precision    recall  f1-score   support\n",
      "\n",
      "           0       0.84      0.78      0.81        40\n",
      "           1       0.93      0.92      0.93        91\n",
      "           2       0.77      0.85      0.80        39\n",
      "\n",
      "    accuracy                           0.87       170\n",
      "   macro avg       0.85      0.85      0.85       170\n",
      "weighted avg       0.87      0.87      0.87       170\n",
      "\n"
     ]
    }
   ],
   "source": [
    "pca = PCA()\n",
    "\n",
    "pipe_pca = Pipeline([('scaler', StandardScaler()), \\\n",
    "                 ('imputer', SimpleImputer(missing_values=np.nan, strategy='mean')), \\\n",
    "                 ('pca', pca), \\\n",
    "                 ('clf', DecisionTreeClassifier())])\n",
    "                 \n",
    "param_grid = {'clf__max_depth': [3, 5, 15], 'pca__n_components': [5, 8, 10]}\n",
    "search = GridSearchCV(pipe_pca, param_grid, n_jobs=-1)\n",
    "search.fit(X_train, y_train)\n",
    "print('best parameters: ',search.best_params_)\n",
    "\n",
    "pca_res = pipe_pca.set_params(clf__max_depth = 15, pca__n_components = 8).fit(X_train, y_train)\n",
    "predictions_pca = pipe_pca.predict(X_test)\n",
    "print(classification_report(y_test, predictions_pca))"
   ]
  },
  {
   "cell_type": "markdown",
   "metadata": {},
   "source": [
    "The best parameters from the GridSearchCV were -> 'clf__max_depth': 15, 'pca__n_components': 8\n",
    "\n",
    "The resulting test set classification accuracy was 84%"
   ]
  },
  {
   "cell_type": "markdown",
   "metadata": {},
   "source": [
    "# Question 4 (15pts) - Reject option\n",
    "\n",
    "Consider a binary classification problem with the following loss matrix - where the cost of rejection is a constant. \n",
    "\n",
    "$$\n",
    "   {\\begin{array}{ccccc}\n",
    "   & & \\text{Predicted class} & \\text{           } &\\\\\n",
    "   & & C1 & C2 & Reject\\\\\n",
    "   \\text{True class} & C1 & 0 & 3 & c  \\\\\n",
    "   & C2 & 2 & 0 & c \\\\\n",
    "  \\end{array} } \n",
    "$$\n",
    "\n",
    "Determine the prediction that minimizes the expected loss in different ranges of $P(C1|x)$ where c = 1"
   ]
  },
  {
   "attachments": {
    "classification_reject.png": {
     "image/png": "[encoded data removed]"
    }
   },
   "cell_type": "markdown",
   "metadata": {},
   "source": [
    "![classification_reject.png](attachment:classification_reject.png)"
   ]
  },
  {
   "cell_type": "markdown",
   "metadata": {},
   "source": [
    "Let p = $P(C1|x)$. The three curves are the expected losses given the three different predictions/decisions. From the range of p=0 to p=1/3, we see that $C2$ is the prediction with least expected loss. From p=1/3 to p=1/2, it is reject. From p=1/2 to p=1, it is $C1$."
   ]
  },
  {
   "cell_type": "markdown",
   "metadata": {},
   "source": [
    "# Question 5: Supplementary Notes (10 points)\n",
    "Visit the [Supplementary Notes website](https://ideal-ut.github.io/APM-2020/). Read the notes written by your peers from both sections (7th topic onwards, i.e. \"stochastic gradient descent\" onwards). Select the note that you liked the most and write the following:\n",
    "- Identify the note. (e.g., If you liked the note from Section A for topic 7, write 7A).\n",
    "- Write one-two paragraphs on why you liked your selection the most and what you learnt from it.\n",
    "- Also write a short paragraph on how you think this note can be further improved."
   ]
  },
  {
   "cell_type": "markdown",
   "metadata": {},
   "source": [
    "The note that was most interesting was topic 8B. We really enjoyed the way in which it started with relaying the structure and premise of a neural network with how actual neurons work. Particularly important is the idea of the activation function, which works both on the level of our model in a binary sense and on the level of neurons firing or not firing. (We don't know whether there is a biological equivalent of \"self-correcting weights\", but that is very important as well.)\n",
    "\n",
    "Beyond the high-level concepts, we also learned from this note that activation functions are \"universal approximators\" that map a function from D-dimensional space (D being the number of input layers) to K-dimensional space (K being the number of output layers). It was also interesting to see the group give a connection to and introductory math explanation for vectors in the role of linear transformation that occurs in linear activation functions.\n",
    "\n",
    "However, since this idea of linear transformation is rather abstract, it would have been a good idea to go deeper into the math -- recap the linear algebra concepts -- and really demonstrate how linear activation functions work. Additionally, the connection between stochastic gradient descent and neural networks could have been better fleshed out. We know how S.G.D. works for linear regression, but how does it look when applied to our multiple-layered neural networks?"
   ]
  }
 ],
 "metadata": {
  "colab": {
   "collapsed_sections": [],
   "name": "HW4.ipynb",
   "provenance": []
  },
  "kernelspec": {
   "display_name": "Python 3",
   "language": "python",
   "name": "python3"
  },
  "language_info": {
   "codemirror_mode": {
    "name": "ipython",
    "version": 3
   },
   "file_extension": ".py",
   "mimetype": "text/x-python",
   "name": "python",
   "nbconvert_exporter": "python",
   "pygments_lexer": "ipython3",
   "version": "3.7.2"
  }
 },
 "nbformat": 4,
 "nbformat_minor": 4
}
